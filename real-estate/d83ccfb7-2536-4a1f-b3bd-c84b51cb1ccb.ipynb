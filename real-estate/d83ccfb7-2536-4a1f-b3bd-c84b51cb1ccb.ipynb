{
 "cells": [
  {
   "cell_type": "markdown",
   "metadata": {},
   "source": [
    "<div class=\"alert alert-success\">\n",
    "<b>Комментарий ревьюера v 2.0 ✔️:</b> Отлично, Иван! Ты здорово поработал над всеми комментариями и теперь твой проект принят.\n",
    "    \n",
    "Спасибо за работу и успехов в следующих проектах!)"
   ]
  },
  {
   "cell_type": "markdown",
   "metadata": {},
   "source": [
    "<div style=\"border:solid green 2px; padding: 20px\">\n",
    "<b>Привет!</b>\n",
    "\n",
    "Меня зовут Михаленко Дмитрий, и я буду проверять твой проект. Предлагаю общаться на «ты» :) Но если это не удобно - дай знать, и мы перейдем на \"вы\". \n",
    "\n",
    "Моя основная цель — не указать на совершенные тобою ошибки, а поделиться своим опытом и помочь тебе стать аналитиком данных. Ты уже проделал большую работу над проектом, но давай сделаем его еще лучше. Ниже ты найдешь мои комментарии - **пожалуйста, не перемещай, не изменяй и не удаляй их**. Увидев у тебя ошибку, в первый раз я лишь укажу на ее наличие и дам тебе возможность самому найти и исправить ее. На реальной работе твой начальник будет поступать так же, а я пытаюсь подготовить тебя именно к работе аналитиком. Но если ты пока не справишься с такой задачей - при следующей проверке я дам более точную подсказку. Я буду использовать цветовую разметку:\n",
    "\n",
    "<div class=\"alert alert-danger\">\n",
    "<b>Комментарий ревьюера ❌:</b> Так выделены самые важные замечания. Без их отработки проект не будет принят. </div>\n",
    "\n",
    "<div class=\"alert alert-warning\">\n",
    "<b>Комментарий ревьюера ⚠️:</b> Так выделены небольшие замечания. Я надеюсь, что их ты тоже учтешь - твой проект от этого станет только лучше. Но настаивать на их отработке не буду.\n",
    "\n",
    "</div>\n",
    "\n",
    "<div class=\"alert alert-success\">\n",
    "<b>Комментарий ревьюера ✔️:</b> Так я выделяю все остальные комментарии.</div>\n",
    "\n",
    "Давай работать над проектом в диалоге: **если ты что-то меняешь в проекте или отвечаешь на мои комментарии — пиши об этом.** Мне будет легче отследить изменения, если ты выделишь свои комментарии:\n",
    "<div class=\"alert alert-info\"> <b>Комментарий студента:</b> Например, вот так.</div>\n",
    "\n",
    "Всё это поможет выполнить повторную проверку твоего проекта оперативнее. "
   ]
  },
  {
   "cell_type": "markdown",
   "metadata": {},
   "source": [
    "# Исследование объявлений о продаже квартир\n",
    "\n",
    "В вашем распоряжении данные сервиса Яндекс.Недвижимость — архив объявлений о продаже квартир в Санкт-Петербурге и соседних населённых пунктов за несколько лет. Нужно научиться определять рыночную стоимость объектов недвижимости. Ваша задача — установить параметры. Это позволит построить автоматизированную систему: она отследит аномалии и мошенническую деятельность. \n",
    "\n",
    "По каждой квартире на продажу доступны два вида данных. Первые вписаны пользователем, вторые — получены автоматически на основе картографических данных. Например, расстояние до центра, аэропорта, ближайшего парка и водоёма. "
   ]
  },
  {
   "cell_type": "markdown",
   "metadata": {},
   "source": [
    "<div class=\"alert alert-success\">\n",
    "<b>Комментарий ревьюера ✔️:</b> Объёмная и творческая аналитическая задача, тем интереснее будет с ней справиться! </div>"
   ]
  },
  {
   "cell_type": "markdown",
   "metadata": {},
   "source": [
    "### Откройте файл с данными и изучите общую информацию. "
   ]
  },
  {
   "cell_type": "code",
   "execution_count": 313,
   "metadata": {
    "scrolled": true
   },
   "outputs": [
    {
     "data": {
      "text/html": [
       "<div>\n",
       "<style scoped>\n",
       "    .dataframe tbody tr th:only-of-type {\n",
       "        vertical-align: middle;\n",
       "    }\n",
       "\n",
       "    .dataframe tbody tr th {\n",
       "        vertical-align: top;\n",
       "    }\n",
       "\n",
       "    .dataframe thead th {\n",
       "        text-align: right;\n",
       "    }\n",
       "</style>\n",
       "<table border=\"1\" class=\"dataframe\">\n",
       "  <thead>\n",
       "    <tr style=\"text-align: right;\">\n",
       "      <th></th>\n",
       "      <th>total_images</th>\n",
       "      <th>last_price</th>\n",
       "      <th>total_area</th>\n",
       "      <th>first_day_exposition</th>\n",
       "      <th>rooms</th>\n",
       "      <th>ceiling_height</th>\n",
       "      <th>floors_total</th>\n",
       "      <th>living_area</th>\n",
       "      <th>floor</th>\n",
       "      <th>is_apartment</th>\n",
       "      <th>...</th>\n",
       "      <th>kitchen_area</th>\n",
       "      <th>balcony</th>\n",
       "      <th>locality_name</th>\n",
       "      <th>airports_nearest</th>\n",
       "      <th>cityCenters_nearest</th>\n",
       "      <th>parks_around3000</th>\n",
       "      <th>parks_nearest</th>\n",
       "      <th>ponds_around3000</th>\n",
       "      <th>ponds_nearest</th>\n",
       "      <th>days_exposition</th>\n",
       "    </tr>\n",
       "  </thead>\n",
       "  <tbody>\n",
       "    <tr>\n",
       "      <th>0</th>\n",
       "      <td>20</td>\n",
       "      <td>13000000.0</td>\n",
       "      <td>108.0</td>\n",
       "      <td>2019-03-07T00:00:00</td>\n",
       "      <td>3</td>\n",
       "      <td>2.70</td>\n",
       "      <td>16.0</td>\n",
       "      <td>51.0</td>\n",
       "      <td>8</td>\n",
       "      <td>NaN</td>\n",
       "      <td>...</td>\n",
       "      <td>25.0</td>\n",
       "      <td>NaN</td>\n",
       "      <td>Санкт-Петербург</td>\n",
       "      <td>18863.0</td>\n",
       "      <td>16028.0</td>\n",
       "      <td>1.0</td>\n",
       "      <td>482.0</td>\n",
       "      <td>2.0</td>\n",
       "      <td>755.0</td>\n",
       "      <td>NaN</td>\n",
       "    </tr>\n",
       "    <tr>\n",
       "      <th>1</th>\n",
       "      <td>7</td>\n",
       "      <td>3350000.0</td>\n",
       "      <td>40.4</td>\n",
       "      <td>2018-12-04T00:00:00</td>\n",
       "      <td>1</td>\n",
       "      <td>NaN</td>\n",
       "      <td>11.0</td>\n",
       "      <td>18.6</td>\n",
       "      <td>1</td>\n",
       "      <td>NaN</td>\n",
       "      <td>...</td>\n",
       "      <td>11.0</td>\n",
       "      <td>2.0</td>\n",
       "      <td>посёлок Шушары</td>\n",
       "      <td>12817.0</td>\n",
       "      <td>18603.0</td>\n",
       "      <td>0.0</td>\n",
       "      <td>NaN</td>\n",
       "      <td>0.0</td>\n",
       "      <td>NaN</td>\n",
       "      <td>81.0</td>\n",
       "    </tr>\n",
       "    <tr>\n",
       "      <th>2</th>\n",
       "      <td>10</td>\n",
       "      <td>5196000.0</td>\n",
       "      <td>56.0</td>\n",
       "      <td>2015-08-20T00:00:00</td>\n",
       "      <td>2</td>\n",
       "      <td>NaN</td>\n",
       "      <td>5.0</td>\n",
       "      <td>34.3</td>\n",
       "      <td>4</td>\n",
       "      <td>NaN</td>\n",
       "      <td>...</td>\n",
       "      <td>8.3</td>\n",
       "      <td>0.0</td>\n",
       "      <td>Санкт-Петербург</td>\n",
       "      <td>21741.0</td>\n",
       "      <td>13933.0</td>\n",
       "      <td>1.0</td>\n",
       "      <td>90.0</td>\n",
       "      <td>2.0</td>\n",
       "      <td>574.0</td>\n",
       "      <td>558.0</td>\n",
       "    </tr>\n",
       "    <tr>\n",
       "      <th>3</th>\n",
       "      <td>0</td>\n",
       "      <td>64900000.0</td>\n",
       "      <td>159.0</td>\n",
       "      <td>2015-07-24T00:00:00</td>\n",
       "      <td>3</td>\n",
       "      <td>NaN</td>\n",
       "      <td>14.0</td>\n",
       "      <td>NaN</td>\n",
       "      <td>9</td>\n",
       "      <td>NaN</td>\n",
       "      <td>...</td>\n",
       "      <td>NaN</td>\n",
       "      <td>0.0</td>\n",
       "      <td>Санкт-Петербург</td>\n",
       "      <td>28098.0</td>\n",
       "      <td>6800.0</td>\n",
       "      <td>2.0</td>\n",
       "      <td>84.0</td>\n",
       "      <td>3.0</td>\n",
       "      <td>234.0</td>\n",
       "      <td>424.0</td>\n",
       "    </tr>\n",
       "    <tr>\n",
       "      <th>4</th>\n",
       "      <td>2</td>\n",
       "      <td>10000000.0</td>\n",
       "      <td>100.0</td>\n",
       "      <td>2018-06-19T00:00:00</td>\n",
       "      <td>2</td>\n",
       "      <td>3.03</td>\n",
       "      <td>14.0</td>\n",
       "      <td>32.0</td>\n",
       "      <td>13</td>\n",
       "      <td>NaN</td>\n",
       "      <td>...</td>\n",
       "      <td>41.0</td>\n",
       "      <td>NaN</td>\n",
       "      <td>Санкт-Петербург</td>\n",
       "      <td>31856.0</td>\n",
       "      <td>8098.0</td>\n",
       "      <td>2.0</td>\n",
       "      <td>112.0</td>\n",
       "      <td>1.0</td>\n",
       "      <td>48.0</td>\n",
       "      <td>121.0</td>\n",
       "    </tr>\n",
       "  </tbody>\n",
       "</table>\n",
       "<p>5 rows × 22 columns</p>\n",
       "</div>"
      ],
      "text/plain": [
       "   total_images  last_price  total_area first_day_exposition  rooms  \\\n",
       "0            20  13000000.0       108.0  2019-03-07T00:00:00      3   \n",
       "1             7   3350000.0        40.4  2018-12-04T00:00:00      1   \n",
       "2            10   5196000.0        56.0  2015-08-20T00:00:00      2   \n",
       "3             0  64900000.0       159.0  2015-07-24T00:00:00      3   \n",
       "4             2  10000000.0       100.0  2018-06-19T00:00:00      2   \n",
       "\n",
       "   ceiling_height  floors_total  living_area  floor is_apartment  ...  \\\n",
       "0            2.70          16.0         51.0      8          NaN  ...   \n",
       "1             NaN          11.0         18.6      1          NaN  ...   \n",
       "2             NaN           5.0         34.3      4          NaN  ...   \n",
       "3             NaN          14.0          NaN      9          NaN  ...   \n",
       "4            3.03          14.0         32.0     13          NaN  ...   \n",
       "\n",
       "   kitchen_area  balcony    locality_name  airports_nearest  \\\n",
       "0          25.0      NaN  Санкт-Петербург           18863.0   \n",
       "1          11.0      2.0   посёлок Шушары           12817.0   \n",
       "2           8.3      0.0  Санкт-Петербург           21741.0   \n",
       "3           NaN      0.0  Санкт-Петербург           28098.0   \n",
       "4          41.0      NaN  Санкт-Петербург           31856.0   \n",
       "\n",
       "  cityCenters_nearest  parks_around3000  parks_nearest  ponds_around3000  \\\n",
       "0             16028.0               1.0          482.0               2.0   \n",
       "1             18603.0               0.0            NaN               0.0   \n",
       "2             13933.0               1.0           90.0               2.0   \n",
       "3              6800.0               2.0           84.0               3.0   \n",
       "4              8098.0               2.0          112.0               1.0   \n",
       "\n",
       "   ponds_nearest  days_exposition  \n",
       "0          755.0              NaN  \n",
       "1            NaN             81.0  \n",
       "2          574.0            558.0  \n",
       "3          234.0            424.0  \n",
       "4           48.0            121.0  \n",
       "\n",
       "[5 rows x 22 columns]"
      ]
     },
     "execution_count": 313,
     "metadata": {},
     "output_type": "execute_result"
    }
   ],
   "source": [
    "import pandas as pd\n",
    "import matplotlib.pyplot as plt\n",
    "df = pd.read_csv('/datasets/real_estate_data.csv', sep='\\t')\n",
    "df.head()"
   ]
  },
  {
   "cell_type": "code",
   "execution_count": 314,
   "metadata": {},
   "outputs": [
    {
     "data": {
      "text/html": [
       "<div>\n",
       "<style scoped>\n",
       "    .dataframe tbody tr th:only-of-type {\n",
       "        vertical-align: middle;\n",
       "    }\n",
       "\n",
       "    .dataframe tbody tr th {\n",
       "        vertical-align: top;\n",
       "    }\n",
       "\n",
       "    .dataframe thead th {\n",
       "        text-align: right;\n",
       "    }\n",
       "</style>\n",
       "<table border=\"1\" class=\"dataframe\">\n",
       "  <thead>\n",
       "    <tr style=\"text-align: right;\">\n",
       "      <th></th>\n",
       "      <th>total_images</th>\n",
       "      <th>last_price</th>\n",
       "      <th>total_area</th>\n",
       "      <th>rooms</th>\n",
       "      <th>ceiling_height</th>\n",
       "      <th>floors_total</th>\n",
       "      <th>living_area</th>\n",
       "      <th>floor</th>\n",
       "      <th>kitchen_area</th>\n",
       "      <th>balcony</th>\n",
       "      <th>airports_nearest</th>\n",
       "      <th>cityCenters_nearest</th>\n",
       "      <th>parks_around3000</th>\n",
       "      <th>parks_nearest</th>\n",
       "      <th>ponds_around3000</th>\n",
       "      <th>ponds_nearest</th>\n",
       "      <th>days_exposition</th>\n",
       "    </tr>\n",
       "  </thead>\n",
       "  <tbody>\n",
       "    <tr>\n",
       "      <th>count</th>\n",
       "      <td>23699.000000</td>\n",
       "      <td>2.369900e+04</td>\n",
       "      <td>23699.000000</td>\n",
       "      <td>23699.000000</td>\n",
       "      <td>14504.000000</td>\n",
       "      <td>23613.000000</td>\n",
       "      <td>21796.000000</td>\n",
       "      <td>23699.000000</td>\n",
       "      <td>21421.000000</td>\n",
       "      <td>12180.000000</td>\n",
       "      <td>18157.000000</td>\n",
       "      <td>18180.000000</td>\n",
       "      <td>18181.000000</td>\n",
       "      <td>8079.000000</td>\n",
       "      <td>18181.000000</td>\n",
       "      <td>9110.000000</td>\n",
       "      <td>20518.000000</td>\n",
       "    </tr>\n",
       "    <tr>\n",
       "      <th>mean</th>\n",
       "      <td>9.858475</td>\n",
       "      <td>6.541549e+06</td>\n",
       "      <td>60.348651</td>\n",
       "      <td>2.070636</td>\n",
       "      <td>2.771499</td>\n",
       "      <td>10.673824</td>\n",
       "      <td>34.457852</td>\n",
       "      <td>5.892358</td>\n",
       "      <td>10.569807</td>\n",
       "      <td>1.150082</td>\n",
       "      <td>28793.672193</td>\n",
       "      <td>14191.277833</td>\n",
       "      <td>0.611408</td>\n",
       "      <td>490.804555</td>\n",
       "      <td>0.770255</td>\n",
       "      <td>517.980900</td>\n",
       "      <td>180.888634</td>\n",
       "    </tr>\n",
       "    <tr>\n",
       "      <th>std</th>\n",
       "      <td>5.682529</td>\n",
       "      <td>1.088701e+07</td>\n",
       "      <td>35.654083</td>\n",
       "      <td>1.078405</td>\n",
       "      <td>1.261056</td>\n",
       "      <td>6.597173</td>\n",
       "      <td>22.030445</td>\n",
       "      <td>4.885249</td>\n",
       "      <td>5.905438</td>\n",
       "      <td>1.071300</td>\n",
       "      <td>12630.880622</td>\n",
       "      <td>8608.386210</td>\n",
       "      <td>0.802074</td>\n",
       "      <td>342.317995</td>\n",
       "      <td>0.938346</td>\n",
       "      <td>277.720643</td>\n",
       "      <td>219.727988</td>\n",
       "    </tr>\n",
       "    <tr>\n",
       "      <th>min</th>\n",
       "      <td>0.000000</td>\n",
       "      <td>1.219000e+04</td>\n",
       "      <td>12.000000</td>\n",
       "      <td>0.000000</td>\n",
       "      <td>1.000000</td>\n",
       "      <td>1.000000</td>\n",
       "      <td>2.000000</td>\n",
       "      <td>1.000000</td>\n",
       "      <td>1.300000</td>\n",
       "      <td>0.000000</td>\n",
       "      <td>0.000000</td>\n",
       "      <td>181.000000</td>\n",
       "      <td>0.000000</td>\n",
       "      <td>1.000000</td>\n",
       "      <td>0.000000</td>\n",
       "      <td>13.000000</td>\n",
       "      <td>1.000000</td>\n",
       "    </tr>\n",
       "    <tr>\n",
       "      <th>25%</th>\n",
       "      <td>6.000000</td>\n",
       "      <td>3.400000e+06</td>\n",
       "      <td>40.000000</td>\n",
       "      <td>1.000000</td>\n",
       "      <td>2.520000</td>\n",
       "      <td>5.000000</td>\n",
       "      <td>18.600000</td>\n",
       "      <td>2.000000</td>\n",
       "      <td>7.000000</td>\n",
       "      <td>0.000000</td>\n",
       "      <td>18585.000000</td>\n",
       "      <td>9238.000000</td>\n",
       "      <td>0.000000</td>\n",
       "      <td>288.000000</td>\n",
       "      <td>0.000000</td>\n",
       "      <td>294.000000</td>\n",
       "      <td>45.000000</td>\n",
       "    </tr>\n",
       "    <tr>\n",
       "      <th>50%</th>\n",
       "      <td>9.000000</td>\n",
       "      <td>4.650000e+06</td>\n",
       "      <td>52.000000</td>\n",
       "      <td>2.000000</td>\n",
       "      <td>2.650000</td>\n",
       "      <td>9.000000</td>\n",
       "      <td>30.000000</td>\n",
       "      <td>4.000000</td>\n",
       "      <td>9.100000</td>\n",
       "      <td>1.000000</td>\n",
       "      <td>26726.000000</td>\n",
       "      <td>13098.500000</td>\n",
       "      <td>0.000000</td>\n",
       "      <td>455.000000</td>\n",
       "      <td>1.000000</td>\n",
       "      <td>502.000000</td>\n",
       "      <td>95.000000</td>\n",
       "    </tr>\n",
       "    <tr>\n",
       "      <th>75%</th>\n",
       "      <td>14.000000</td>\n",
       "      <td>6.800000e+06</td>\n",
       "      <td>69.900000</td>\n",
       "      <td>3.000000</td>\n",
       "      <td>2.800000</td>\n",
       "      <td>16.000000</td>\n",
       "      <td>42.300000</td>\n",
       "      <td>8.000000</td>\n",
       "      <td>12.000000</td>\n",
       "      <td>2.000000</td>\n",
       "      <td>37273.000000</td>\n",
       "      <td>16293.000000</td>\n",
       "      <td>1.000000</td>\n",
       "      <td>612.000000</td>\n",
       "      <td>1.000000</td>\n",
       "      <td>729.000000</td>\n",
       "      <td>232.000000</td>\n",
       "    </tr>\n",
       "    <tr>\n",
       "      <th>max</th>\n",
       "      <td>50.000000</td>\n",
       "      <td>7.630000e+08</td>\n",
       "      <td>900.000000</td>\n",
       "      <td>19.000000</td>\n",
       "      <td>100.000000</td>\n",
       "      <td>60.000000</td>\n",
       "      <td>409.700000</td>\n",
       "      <td>33.000000</td>\n",
       "      <td>112.000000</td>\n",
       "      <td>5.000000</td>\n",
       "      <td>84869.000000</td>\n",
       "      <td>65968.000000</td>\n",
       "      <td>3.000000</td>\n",
       "      <td>3190.000000</td>\n",
       "      <td>3.000000</td>\n",
       "      <td>1344.000000</td>\n",
       "      <td>1580.000000</td>\n",
       "    </tr>\n",
       "  </tbody>\n",
       "</table>\n",
       "</div>"
      ],
      "text/plain": [
       "       total_images    last_price    total_area         rooms  ceiling_height  \\\n",
       "count  23699.000000  2.369900e+04  23699.000000  23699.000000    14504.000000   \n",
       "mean       9.858475  6.541549e+06     60.348651      2.070636        2.771499   \n",
       "std        5.682529  1.088701e+07     35.654083      1.078405        1.261056   \n",
       "min        0.000000  1.219000e+04     12.000000      0.000000        1.000000   \n",
       "25%        6.000000  3.400000e+06     40.000000      1.000000        2.520000   \n",
       "50%        9.000000  4.650000e+06     52.000000      2.000000        2.650000   \n",
       "75%       14.000000  6.800000e+06     69.900000      3.000000        2.800000   \n",
       "max       50.000000  7.630000e+08    900.000000     19.000000      100.000000   \n",
       "\n",
       "       floors_total   living_area         floor  kitchen_area       balcony  \\\n",
       "count  23613.000000  21796.000000  23699.000000  21421.000000  12180.000000   \n",
       "mean      10.673824     34.457852      5.892358     10.569807      1.150082   \n",
       "std        6.597173     22.030445      4.885249      5.905438      1.071300   \n",
       "min        1.000000      2.000000      1.000000      1.300000      0.000000   \n",
       "25%        5.000000     18.600000      2.000000      7.000000      0.000000   \n",
       "50%        9.000000     30.000000      4.000000      9.100000      1.000000   \n",
       "75%       16.000000     42.300000      8.000000     12.000000      2.000000   \n",
       "max       60.000000    409.700000     33.000000    112.000000      5.000000   \n",
       "\n",
       "       airports_nearest  cityCenters_nearest  parks_around3000  parks_nearest  \\\n",
       "count      18157.000000         18180.000000      18181.000000    8079.000000   \n",
       "mean       28793.672193         14191.277833          0.611408     490.804555   \n",
       "std        12630.880622          8608.386210          0.802074     342.317995   \n",
       "min            0.000000           181.000000          0.000000       1.000000   \n",
       "25%        18585.000000          9238.000000          0.000000     288.000000   \n",
       "50%        26726.000000         13098.500000          0.000000     455.000000   \n",
       "75%        37273.000000         16293.000000          1.000000     612.000000   \n",
       "max        84869.000000         65968.000000          3.000000    3190.000000   \n",
       "\n",
       "       ponds_around3000  ponds_nearest  days_exposition  \n",
       "count      18181.000000    9110.000000     20518.000000  \n",
       "mean           0.770255     517.980900       180.888634  \n",
       "std            0.938346     277.720643       219.727988  \n",
       "min            0.000000      13.000000         1.000000  \n",
       "25%            0.000000     294.000000        45.000000  \n",
       "50%            1.000000     502.000000        95.000000  \n",
       "75%            1.000000     729.000000       232.000000  \n",
       "max            3.000000    1344.000000      1580.000000  "
      ]
     },
     "execution_count": 314,
     "metadata": {},
     "output_type": "execute_result"
    }
   ],
   "source": [
    "df.describe()"
   ]
  },
  {
   "cell_type": "code",
   "execution_count": 315,
   "metadata": {},
   "outputs": [
    {
     "name": "stdout",
     "output_type": "stream",
     "text": [
      "<class 'pandas.core.frame.DataFrame'>\n",
      "RangeIndex: 23699 entries, 0 to 23698\n",
      "Data columns (total 22 columns):\n",
      " #   Column                Non-Null Count  Dtype  \n",
      "---  ------                --------------  -----  \n",
      " 0   total_images          23699 non-null  int64  \n",
      " 1   last_price            23699 non-null  float64\n",
      " 2   total_area            23699 non-null  float64\n",
      " 3   first_day_exposition  23699 non-null  object \n",
      " 4   rooms                 23699 non-null  int64  \n",
      " 5   ceiling_height        14504 non-null  float64\n",
      " 6   floors_total          23613 non-null  float64\n",
      " 7   living_area           21796 non-null  float64\n",
      " 8   floor                 23699 non-null  int64  \n",
      " 9   is_apartment          2775 non-null   object \n",
      " 10  studio                23699 non-null  bool   \n",
      " 11  open_plan             23699 non-null  bool   \n",
      " 12  kitchen_area          21421 non-null  float64\n",
      " 13  balcony               12180 non-null  float64\n",
      " 14  locality_name         23650 non-null  object \n",
      " 15  airports_nearest      18157 non-null  float64\n",
      " 16  cityCenters_nearest   18180 non-null  float64\n",
      " 17  parks_around3000      18181 non-null  float64\n",
      " 18  parks_nearest         8079 non-null   float64\n",
      " 19  ponds_around3000      18181 non-null  float64\n",
      " 20  ponds_nearest         9110 non-null   float64\n",
      " 21  days_exposition       20518 non-null  float64\n",
      "dtypes: bool(2), float64(14), int64(3), object(3)\n",
      "memory usage: 3.7+ MB\n"
     ]
    }
   ],
   "source": [
    "df.info()"
   ]
  },
  {
   "cell_type": "code",
   "execution_count": 316,
   "metadata": {
    "scrolled": true
   },
   "outputs": [
    {
     "data": {
      "text/plain": [
       "array([[<AxesSubplot:title={'center':'total_images'}>,\n",
       "        <AxesSubplot:title={'center':'last_price'}>,\n",
       "        <AxesSubplot:title={'center':'total_area'}>,\n",
       "        <AxesSubplot:title={'center':'rooms'}>],\n",
       "       [<AxesSubplot:title={'center':'ceiling_height'}>,\n",
       "        <AxesSubplot:title={'center':'floors_total'}>,\n",
       "        <AxesSubplot:title={'center':'living_area'}>,\n",
       "        <AxesSubplot:title={'center':'floor'}>],\n",
       "       [<AxesSubplot:title={'center':'kitchen_area'}>,\n",
       "        <AxesSubplot:title={'center':'balcony'}>,\n",
       "        <AxesSubplot:title={'center':'airports_nearest'}>,\n",
       "        <AxesSubplot:title={'center':'cityCenters_nearest'}>],\n",
       "       [<AxesSubplot:title={'center':'parks_around3000'}>,\n",
       "        <AxesSubplot:title={'center':'parks_nearest'}>,\n",
       "        <AxesSubplot:title={'center':'ponds_around3000'}>,\n",
       "        <AxesSubplot:title={'center':'ponds_nearest'}>],\n",
       "       [<AxesSubplot:title={'center':'days_exposition'}>, <AxesSubplot:>,\n",
       "        <AxesSubplot:>, <AxesSubplot:>]], dtype=object)"
      ]
     },
     "execution_count": 316,
     "metadata": {},
     "output_type": "execute_result"
    },
    {
     "data": {
      "image/png": "[encoded data removed]",
      "text/plain": [
       "<Figure size 1080x1440 with 20 Axes>"
      ]
     },
     "metadata": {
      "needs_background": "light"
     },
     "output_type": "display_data"
    }
   ],
   "source": [
    "df.hist(figsize=(15,20))"
   ]
  },
  {
   "cell_type": "markdown",
   "metadata": {},
   "source": [
    "<div class=\"alert alert-success\">\n",
    "<b>Комментарий ревьюера ✔️:</b> Хорошее начало, так держать. </div>"
   ]
  },
  {
   "cell_type": "markdown",
   "metadata": {},
   "source": [
    "### Предобработка данных"
   ]
  },
  {
   "cell_type": "markdown",
   "metadata": {},
   "source": [
    "Считаем пропуски"
   ]
  },
  {
   "cell_type": "code",
   "execution_count": 317,
   "metadata": {},
   "outputs": [
    {
     "data": {
      "text/plain": [
       "total_images                0\n",
       "last_price                  0\n",
       "total_area                  0\n",
       "first_day_exposition        0\n",
       "rooms                       0\n",
       "ceiling_height           9195\n",
       "floors_total               86\n",
       "living_area              1903\n",
       "floor                       0\n",
       "is_apartment            20924\n",
       "studio                      0\n",
       "open_plan                   0\n",
       "kitchen_area             2278\n",
       "balcony                 11519\n",
       "locality_name              49\n",
       "airports_nearest         5542\n",
       "cityCenters_nearest      5519\n",
       "parks_around3000         5518\n",
       "parks_nearest           15620\n",
       "ponds_around3000         5518\n",
       "ponds_nearest           14589\n",
       "days_exposition          3181\n",
       "dtype: int64"
      ]
     },
     "execution_count": 317,
     "metadata": {},
     "output_type": "execute_result"
    }
   ],
   "source": [
    "df.isna().sum()"
   ]
  },
  {
   "cell_type": "markdown",
   "metadata": {},
   "source": [
    "#### ceiling_height"
   ]
  },
  {
   "cell_type": "markdown",
   "metadata": {},
   "source": [
    "посмотрим как респределена высота потолков и заменим пропуски в ceiling_height медианным значением:"
   ]
  },
  {
   "cell_type": "code",
   "execution_count": 318,
   "metadata": {},
   "outputs": [
    {
     "data": {
      "text/plain": [
       "<AxesSubplot:>"
      ]
     },
     "execution_count": 318,
     "metadata": {},
     "output_type": "execute_result"
    },
    {
     "data": {
      "image/png": "[encoded data removed]",
      "text/plain": [
       "<Figure size 432x288 with 1 Axes>"
      ]
     },
     "metadata": {
      "needs_background": "light"
     },
     "output_type": "display_data"
    }
   ],
   "source": [
    "df['ceiling_height'].hist(bins=30)"
   ]
  },
  {
   "cell_type": "markdown",
   "metadata": {},
   "source": [
    "Видим, что есть вбросы, отреже слишком нереалистичную высоту потолков, которая вне диапазона от 2 до 5 метров"
   ]
  },
  {
   "cell_type": "code",
   "execution_count": 319,
   "metadata": {},
   "outputs": [
    {
     "data": {
      "text/plain": [
       "<AxesSubplot:>"
      ]
     },
     "execution_count": 319,
     "metadata": {},
     "output_type": "execute_result"
    },
    {
     "data": {
      "image/png": "[encoded data removed]",
      "text/plain": [
       "<Figure size 432x288 with 1 Axes>"
      ]
     },
     "metadata": {
      "needs_background": "light"
     },
     "output_type": "display_data"
    }
   ],
   "source": [
    "good_df = df[df['ceiling_height'] < 5]\n",
    "good_df = good_df[good_df['ceiling_height'] > 2]\n",
    "good_df['ceiling_height'].hist(bins=30)"
   ]
  },
  {
   "cell_type": "markdown",
   "metadata": {},
   "source": [
    "<div class=\"alert alert-success\">\n",
    "<b>Комментарий ревьюера ✔️:</b> Отличная обработка ceiling_height  </div>"
   ]
  },
  {
   "cell_type": "markdown",
   "metadata": {},
   "source": [
    "Видим, что теперь распределение выглядит более реалистично. Вбросы могли быть из-за ошибок при выгрузке или путаницы в единицах измерения, количество записей не сильно изменилось, поэтому избевление от таких записей не сильно повлияет на результат. Завершим работу с высотой потолков, заполнив пропуски медианным значением."
   ]
  },
  {
   "cell_type": "code",
   "execution_count": 320,
   "metadata": {},
   "outputs": [
    {
     "data": {
      "text/plain": [
       "<AxesSubplot:>"
      ]
     },
     "execution_count": 320,
     "metadata": {},
     "output_type": "execute_result"
    },
    {
     "data": {
      "image/png": "[encoded data removed]",
      "text/plain": [
       "<Figure size 432x288 with 1 Axes>"
      ]
     },
     "metadata": {
      "needs_background": "light"
     },
     "output_type": "display_data"
    }
   ],
   "source": [
    "good_df['ceiling_height'].fillna(good_df['ceiling_height'].median())\n",
    "good_df['ceiling_height'].hist(bins=30)"
   ]
  },
  {
   "cell_type": "markdown",
   "metadata": {},
   "source": [
    "<div class=\"alert alert-warning\">\n",
    "<b>Комментарий ревьюера ⚠️:</b> Могу посоветовать посмотреть данные материалы, чтобы научиться оформлять графики еще лучше:\n",
    "\n",
    "[Здесь](https://pyprog.pro/mpl/mpl_title.html)\n",
    "  \n",
    "[И здесь](https://pyprog.pro/mpl/mpl_axis_signatures.html)\n",
    "    \n",
    "   "
   ]
  },
  {
   "cell_type": "markdown",
   "metadata": {},
   "source": [
    "<div class=\"alert alert-info\"> <b>Комментарий студента:</b> Спасибо! 🙏</div>"
   ]
  },
  {
   "cell_type": "markdown",
   "metadata": {},
   "source": [
    "<div class=\"alert alert-success\">\n",
    "<b>Комментарий ревьюера v 2.0 ✔️:</b> Рад помочь) </div>"
   ]
  },
  {
   "cell_type": "markdown",
   "metadata": {},
   "source": [
    "#### floors_total"
   ]
  },
  {
   "cell_type": "markdown",
   "metadata": {},
   "source": [
    "Количество записей, где не указана высота дома, сравнительно неболшое, поэтому мы их просто удалим"
   ]
  },
  {
   "cell_type": "code",
   "execution_count": 321,
   "metadata": {},
   "outputs": [],
   "source": [
    "good_df = good_df.dropna(subset=['floors_total'])"
   ]
  },
  {
   "cell_type": "markdown",
   "metadata": {},
   "source": [
    "<div class=\"alert alert-success\">\n",
    "<b>Комментарий ревьюера ✔️:</b> Да, их можно просто отбросить </div>"
   ]
  },
  {
   "cell_type": "markdown",
   "metadata": {},
   "source": [
    "Посмотрим как распределена этажность:"
   ]
  },
  {
   "cell_type": "code",
   "execution_count": 322,
   "metadata": {},
   "outputs": [
    {
     "data": {
      "text/plain": [
       "<AxesSubplot:>"
      ]
     },
     "execution_count": 322,
     "metadata": {},
     "output_type": "execute_result"
    },
    {
     "data": {
      "image/png": "[encoded data removed]",
      "text/plain": [
       "<Figure size 432x288 with 1 Axes>"
      ]
     },
     "metadata": {
      "needs_background": "light"
     },
     "output_type": "display_data"
    }
   ],
   "source": [
    "good_df['floors_total'].hist(bins=30)"
   ]
  },
  {
   "cell_type": "markdown",
   "metadata": {},
   "source": [
    "Поиск в гугл говорит, что в Санкт-Петербурге самое высокое здание - 88 этажей, поэтому не будем удалять сликом большие значения этажности"
   ]
  },
  {
   "cell_type": "markdown",
   "metadata": {},
   "source": [
    "<div class=\"alert alert-warning\">\n",
    "<b>Комментарий ревьюера ⚠️:</b> На самом деле самое высокое <b>жилое</b> здание все же гораздо ниже) </div>"
   ]
  },
  {
   "cell_type": "markdown",
   "metadata": {},
   "source": [
    "<div class=\"alert alert-info\"> <b>Комментарий студента:</b> Значит, удалим: </div>"
   ]
  },
  {
   "cell_type": "code",
   "execution_count": 323,
   "metadata": {},
   "outputs": [
    {
     "data": {
      "text/plain": [
       "<AxesSubplot:>"
      ]
     },
     "execution_count": 323,
     "metadata": {},
     "output_type": "execute_result"
    },
    {
     "data": {
      "image/png": "[encoded data removed]",
      "text/plain": [
       "<Figure size 432x288 with 1 Axes>"
      ]
     },
     "metadata": {
      "needs_background": "light"
     },
     "output_type": "display_data"
    }
   ],
   "source": [
    "good_df = good_df[good_df['floors_total'] < 30]\n",
    "good_df['floors_total'].hist(bins=30)"
   ]
  },
  {
   "cell_type": "markdown",
   "metadata": {},
   "source": [
    "<div class=\"alert alert-info\"> <b>Комментарий студента:</b> Считаем, что нет жилых домов больше 30 этажей </div>"
   ]
  },
  {
   "cell_type": "markdown",
   "metadata": {},
   "source": [
    "<div class=\"alert alert-success\">\n",
    "<b>Комментарий ревьюера v 2.0 ✔️:</b> Хорошо </div>"
   ]
  },
  {
   "cell_type": "code",
   "execution_count": null,
   "metadata": {},
   "outputs": [],
   "source": []
  },
  {
   "cell_type": "markdown",
   "metadata": {},
   "source": [
    "#### living_area и kitchen_area"
   ]
  },
  {
   "cell_type": "markdown",
   "metadata": {},
   "source": [
    "Мы не можем заменить нулевые значения на обычную медиану, так как жилая площать и площадь кухни зависят от общей площадить. Для этого мы найдем процент, сколько примерно составляет кухня и жилая комната от общей площади, и уже установим значения living_area и kitchen_area пропорционально общей площади конкретных квартир."
   ]
  },
  {
   "cell_type": "code",
   "execution_count": 324,
   "metadata": {},
   "outputs": [],
   "source": [
    "has_kitchen_info = good_df[~good_df['kitchen_area'].isnull()]\n",
    "has_living_area_info = has_kitchen_info[~has_kitchen_info['living_area'].isnull()]"
   ]
  },
  {
   "cell_type": "code",
   "execution_count": 325,
   "metadata": {},
   "outputs": [
    {
     "data": {
      "text/plain": [
       "0.16666666666666669"
      ]
     },
     "execution_count": 325,
     "metadata": {},
     "output_type": "execute_result"
    }
   ],
   "source": [
    "has_living_area_info = has_living_area_info.copy(); \n",
    "has_living_area_info.loc[:,'kitchen_percentage'] = has_living_area_info['kitchen_area'] / has_living_area_info['total_area']\n",
    "kitchen_median_percentage = has_living_area_info.loc[:,'kitchen_percentage'].median()\n",
    "kitchen_median_percentage"
   ]
  },
  {
   "cell_type": "code",
   "execution_count": 326,
   "metadata": {},
   "outputs": [
    {
     "data": {
      "text/plain": [
       "0.573134328358209"
      ]
     },
     "execution_count": 326,
     "metadata": {},
     "output_type": "execute_result"
    }
   ],
   "source": [
    "has_living_area_info.loc[:,'living_percentage'] = has_living_area_info['living_area'] / has_living_area_info['total_area']\n",
    "living_median_percentage = has_living_area_info.loc[:,'living_percentage'].median()\n",
    "living_median_percentage"
   ]
  },
  {
   "cell_type": "markdown",
   "metadata": {},
   "source": [
    "<div class=\"alert alert-success\">\n",
    "<b>Комментарий ревьюера ✔️:</b> Использование коэффициента тут хорошее решение"
   ]
  },
  {
   "cell_type": "code",
   "execution_count": 327,
   "metadata": {},
   "outputs": [],
   "source": [
    "good_df['kitchen_area'] = good_df['kitchen_area'].where(~good_df['kitchen_area'].isnull(),kitchen_median_percentage * good_df['total_area'])"
   ]
  },
  {
   "cell_type": "code",
   "execution_count": 328,
   "metadata": {
    "scrolled": true
   },
   "outputs": [],
   "source": [
    "good_df['living_area'] = good_df['living_area'].where(~good_df['living_area'].isnull(),living_median_percentage * good_df['total_area'])"
   ]
  },
  {
   "cell_type": "code",
   "execution_count": 329,
   "metadata": {},
   "outputs": [
    {
     "data": {
      "text/plain": [
       "<AxesSubplot:>"
      ]
     },
     "execution_count": 329,
     "metadata": {},
     "output_type": "execute_result"
    },
    {
     "data": {
      "image/png": "[encoded data removed]",
      "text/plain": [
       "<Figure size 432x288 with 1 Axes>"
      ]
     },
     "metadata": {
      "needs_background": "light"
     },
     "output_type": "display_data"
    }
   ],
   "source": [
    "good_df['kitchen_area'].hist()"
   ]
  },
  {
   "cell_type": "code",
   "execution_count": 330,
   "metadata": {},
   "outputs": [
    {
     "data": {
      "text/plain": [
       "<AxesSubplot:>"
      ]
     },
     "execution_count": 330,
     "metadata": {},
     "output_type": "execute_result"
    },
    {
     "data": {
      "image/png": "[encoded data removed]",
      "text/plain": [
       "<Figure size 432x288 with 1 Axes>"
      ]
     },
     "metadata": {
      "needs_background": "light"
     },
     "output_type": "display_data"
    }
   ],
   "source": [
    "good_df['living_area'].hist()"
   ]
  },
  {
   "cell_type": "markdown",
   "metadata": {},
   "source": [
    "#### balcony"
   ]
  },
  {
   "cell_type": "code",
   "execution_count": 331,
   "metadata": {},
   "outputs": [],
   "source": [
    "good_df['balcony'] = good_df['balcony'].fillna(0)"
   ]
  },
  {
   "cell_type": "markdown",
   "metadata": {},
   "source": [
    "<div class=\"alert alert-success\">\n",
    "<b>Комментарий ревьюера ✔️:</b> Да, пропуски можно заполнить нулями"
   ]
  },
  {
   "cell_type": "markdown",
   "metadata": {},
   "source": [
    "<div class=\"alert alert-danger\">\n",
    "<b>Комментарий ревьюера ❌:</b> Но стоит оставить хотя бы небольшой комментарий)"
   ]
  },
  {
   "cell_type": "markdown",
   "metadata": {},
   "source": [
    "<div class=\"alert alert-info\"> <b>Комментарий студента:</b> Заполним нулями, так как если информация о балконе не указана, то его, скорее всего, нет. Обычно наличие балкона считается плюсом, поэтому в объявлениях их обязательно указывают, если балконы есть</div>"
   ]
  },
  {
   "cell_type": "markdown",
   "metadata": {},
   "source": [
    "<div class=\"alert alert-success\">\n",
    "<b>Комментарий ревьюера v 2.0 ✔️:</b> Верно </div>"
   ]
  },
  {
   "cell_type": "code",
   "execution_count": null,
   "metadata": {},
   "outputs": [],
   "source": []
  },
  {
   "cell_type": "markdown",
   "metadata": {},
   "source": [
    "#### is_apartment"
   ]
  },
  {
   "cell_type": "code",
   "execution_count": 332,
   "metadata": {},
   "outputs": [],
   "source": [
    "good_df['is_apartment'] = good_df['is_apartment'].fillna(False)"
   ]
  },
  {
   "cell_type": "markdown",
   "metadata": {},
   "source": [
    "<div class=\"alert alert-info\"> <b>Комментарий студента:</b> Дальше в исследование эта информация никак не используется, поэтому заполнить можно любыми значениями. Мы заполним False, так как, скоре всего, если не указали, что это аппартаменты, значит, скорее всего, это не они</div>"
   ]
  },
  {
   "cell_type": "markdown",
   "metadata": {},
   "source": [
    "#### locality_name "
   ]
  },
  {
   "cell_type": "code",
   "execution_count": 333,
   "metadata": {},
   "outputs": [],
   "source": [
    "good_df = good_df[~good_df['locality_name'].isnull()]"
   ]
  },
  {
   "cell_type": "markdown",
   "metadata": {},
   "source": [
    "<div class=\"alert alert-info\"> <b>Комментарий студента:</b> Дальше в исследовании мы будем разбивать на группы по названию места, где находится квартира, поэтому названия нам нужны. Удалим записи без названий</div>"
   ]
  },
  {
   "cell_type": "markdown",
   "metadata": {},
   "source": [
    "#### airports_nearest        "
   ]
  },
  {
   "cell_type": "code",
   "execution_count": 334,
   "metadata": {
    "scrolled": true
   },
   "outputs": [
    {
     "data": {
      "text/plain": [
       "0        18863.0\n",
       "4        31856.0\n",
       "9        50898.0\n",
       "10       38357.0\n",
       "13       37868.0\n",
       "          ...   \n",
       "23691    19424.0\n",
       "23693    45602.0\n",
       "23694    24665.0\n",
       "23697    39140.0\n",
       "23698        NaN\n",
       "Name: airports_nearest, Length: 14418, dtype: float64"
      ]
     },
     "execution_count": 334,
     "metadata": {},
     "output_type": "execute_result"
    }
   ],
   "source": [
    "good_df['airports_nearest']"
   ]
  },
  {
   "cell_type": "markdown",
   "metadata": {},
   "source": [
    "<div class=\"alert alert-info\"> <b>Комментарий студента:</b> С этим, скорее всего, ничего не сделать.</div>"
   ]
  },
  {
   "cell_type": "markdown",
   "metadata": {},
   "source": [
    "<div class=\"alert alert-danger\">\n",
    "<b>Комментарий ревьюера ❌:</b> Также логичная обработка, но все же тут и далее нужны хотя бы какие-то комментарии)"
   ]
  },
  {
   "cell_type": "markdown",
   "metadata": {},
   "source": [
    "<div class=\"alert alert-success\">\n",
    "<b>Комментарий ревьюера v 2.0 ✔️:</b> Здорово добавил везде небольшие комментарии </div>"
   ]
  },
  {
   "cell_type": "code",
   "execution_count": 335,
   "metadata": {
    "scrolled": false
   },
   "outputs": [
    {
     "data": {
      "text/plain": [
       "total_images              int64\n",
       "last_price              float64\n",
       "total_area              float64\n",
       "first_day_exposition     object\n",
       "rooms                     int64\n",
       "ceiling_height          float64\n",
       "floors_total            float64\n",
       "living_area             float64\n",
       "floor                     int64\n",
       "is_apartment               bool\n",
       "studio                     bool\n",
       "open_plan                  bool\n",
       "kitchen_area            float64\n",
       "balcony                 float64\n",
       "locality_name            object\n",
       "airports_nearest        float64\n",
       "cityCenters_nearest     float64\n",
       "parks_around3000        float64\n",
       "parks_nearest           float64\n",
       "ponds_around3000        float64\n",
       "ponds_nearest           float64\n",
       "days_exposition         float64\n",
       "dtype: object"
      ]
     },
     "execution_count": 335,
     "metadata": {},
     "output_type": "execute_result"
    }
   ],
   "source": [
    "good_df.dtypes"
   ]
  },
  {
   "cell_type": "code",
   "execution_count": 336,
   "metadata": {},
   "outputs": [],
   "source": [
    "good_df['first_day_exposition'] = pd.to_datetime(good_df['first_day_exposition'], format='%Y-%m-%dT%H:%M:%S')"
   ]
  },
  {
   "cell_type": "code",
   "execution_count": 337,
   "metadata": {},
   "outputs": [],
   "source": [
    "good_df['first_day_exposition'] = good_df['first_day_exposition'].dt.round('1D')"
   ]
  },
  {
   "cell_type": "code",
   "execution_count": 338,
   "metadata": {},
   "outputs": [],
   "source": [
    "good_df['floors_total'] = good_df['floors_total'].astype('int')\n",
    "good_df['ponds_around3000'] = good_df['ponds_around3000'].fillna(0)\n",
    "good_df['ponds_around3000'] = good_df['ponds_around3000'].astype('int')\n",
    "good_df['parks_around3000'] = good_df['parks_around3000'].fillna(0)\n",
    "good_df['parks_around3000'] = good_df['parks_around3000'].astype('int')\n",
    "good_df['last_price'] = good_df['last_price'].astype('int')"
   ]
  },
  {
   "cell_type": "markdown",
   "metadata": {},
   "source": [
    "<div class=\"alert alert-success\">\n",
    "<b>Комментарий ревьюера ✔️:</b> Такие типы данных тут смотрятся логичнее"
   ]
  },
  {
   "cell_type": "code",
   "execution_count": 339,
   "metadata": {},
   "outputs": [
    {
     "data": {
      "text/plain": [
       "count    11981.000000\n",
       "mean       190.304232\n",
       "std        228.674332\n",
       "min          1.000000\n",
       "25%         45.000000\n",
       "50%        103.000000\n",
       "75%        247.000000\n",
       "max       1580.000000\n",
       "Name: days_exposition, dtype: float64"
      ]
     },
     "execution_count": 339,
     "metadata": {},
     "output_type": "execute_result"
    }
   ],
   "source": [
    "good_df=good_df.dropna(subset=['days_exposition'])\n",
    "good_df['days_exposition'].describe()"
   ]
  },
  {
   "cell_type": "markdown",
   "metadata": {},
   "source": [
    "<div class=\"alert alert-danger\">\n",
    "<b>Комментарий ревьюера ❌:</b> Не соглашусь с удалением пропусков в days_exposition. Обрати внимание, какое количество данных мы теряем при такой фильтрации, имеет-ли она смысл при таком количестве удалений значений"
   ]
  },
  {
   "cell_type": "markdown",
   "metadata": {},
   "source": [
    "<div class=\"alert alert-info\"> <b>Комментарий студента:</b> Честно, не знаю как тут лучше сделать. С одной стороны данные должны по-любому быть, так как данный тип вводит не сам пользователь, а система сама может определить, сколько висело объявление. Во-вторых, если этих значений нет, то скорее всего квартиры либо до сих пор не проданы, либо объявления, может быть, были заблокированы еще до размещения. В общем, мне кажется, что лучше не учитывать такие записи, ведь мы совсем ничего не знаем о природе ошибок.</div>"
   ]
  },
  {
   "cell_type": "markdown",
   "metadata": {},
   "source": [
    "<div class=\"alert alert-warning\">\n",
    "<b>Комментарий ревьюера v 2.0 ⚠️:</b> Это ведь совсе необязательно ошибка) Попробуй например посмотреть на пропуски в days_exposition по годам из first_day_exposition, ты заметишь, что пропусков больше всего к актуальной дате, значит вероятнее всего это просто еще неснятые объявления. Также ведь если там пропуск это совсем не значит, что это априори ошибка.\n",
    "\n",
    "Но впрочем не буду считать это как недочет, объяснил свое решение ты хорошо)</div>"
   ]
  },
  {
   "cell_type": "code",
   "execution_count": 340,
   "metadata": {},
   "outputs": [
    {
     "name": "stdout",
     "output_type": "stream",
     "text": [
      "Процент, удаления: 0.19731241131792004 %\n"
     ]
    }
   ],
   "source": [
    "print('Процент, удаления:', len(good_df[good_df['cityCenters_nearest'].isna()])/len(good_df['cityCenters_nearest']),'%')\n"
   ]
  },
  {
   "cell_type": "markdown",
   "metadata": {},
   "source": [
    "<div class=\"alert alert-danger\">\n",
    "<b>Комментарий ревьюера ❌:</b> Тут также посмотри пожалуйста, сколько процентов данных мы удаляем"
   ]
  },
  {
   "cell_type": "markdown",
   "metadata": {},
   "source": [
    "<div class=\"alert alert-info\"> <b>Комментарий студента:</b> Действительно, много. Тогда не будем удалять, а заполним медианой</div>"
   ]
  },
  {
   "cell_type": "markdown",
   "metadata": {},
   "source": [
    "<div class=\"alert alert-success\">\n",
    "<b>Комментарий ревьюера v 2.0 ✔️:</b> Ок </div>"
   ]
  },
  {
   "cell_type": "code",
   "execution_count": 341,
   "metadata": {},
   "outputs": [],
   "source": [
    "good_df['cityCenters_nearest'] = good_df['cityCenters_nearest'].fillna(good_df['cityCenters_nearest'].median())"
   ]
  },
  {
   "cell_type": "code",
   "execution_count": 342,
   "metadata": {},
   "outputs": [
    {
     "data": {
      "text/plain": [
       "total_images               0\n",
       "last_price                 0\n",
       "total_area                 0\n",
       "first_day_exposition       0\n",
       "rooms                      0\n",
       "ceiling_height             0\n",
       "floors_total               0\n",
       "living_area                0\n",
       "floor                      0\n",
       "is_apartment               0\n",
       "studio                     0\n",
       "open_plan                  0\n",
       "kitchen_area               0\n",
       "balcony                    0\n",
       "locality_name              0\n",
       "airports_nearest        2383\n",
       "cityCenters_nearest        0\n",
       "parks_around3000           0\n",
       "parks_nearest           7648\n",
       "ponds_around3000           0\n",
       "ponds_nearest           7277\n",
       "days_exposition            0\n",
       "dtype: int64"
      ]
     },
     "execution_count": 342,
     "metadata": {},
     "output_type": "execute_result"
    }
   ],
   "source": [
    "good_df.isna().sum()"
   ]
  },
  {
   "cell_type": "code",
   "execution_count": 343,
   "metadata": {},
   "outputs": [],
   "source": [
    "good_df['locality_name'] = good_df['locality_name'].str.replace('ё','е')\n",
    "good_df['locality_name'] = good_df['locality_name'].str.replace(' городского типа ',' ')\n",
    "good_df['locality_name'] = good_df['locality_name'].str.replace('городской поселок ','поселок ')\n",
    "good_df['locality_name'] = good_df['locality_name'].str.replace('поселок при железнодорожной станции ','поселок станции ')"
   ]
  },
  {
   "cell_type": "markdown",
   "metadata": {},
   "source": [
    "<div class=\"alert alert-success\">\n",
    "<b>Комментарий ревьюера ✔️:</b> Молодец, что поработал с неявными дубликатами"
   ]
  },
  {
   "cell_type": "code",
   "execution_count": 344,
   "metadata": {},
   "outputs": [
    {
     "data": {
      "text/plain": [
       "array(['Бокситогорск', 'Волосово', 'Волхов', 'Всеволожск', 'Выборг',\n",
       "       'Высоцк', 'Гатчина', 'Зеленогорск', 'Ивангород', 'Каменногорск',\n",
       "       'Кингисепп', 'Кириши', 'Кировск', 'Колпино', 'Коммунар',\n",
       "       'Красное Село', 'Кронштадт', 'Кудрово', 'Лодейное Поле',\n",
       "       'Ломоносов', 'Луга', 'Любань', 'Никольское', 'Новая Ладога',\n",
       "       'Отрадное', 'Павловск', 'Петергоф', 'Пикалево', 'Подпорожье',\n",
       "       'Приморск', 'Приозерск', 'Пушкин', 'Санкт-Петербург', 'Светогорск',\n",
       "       'Сертолово', 'Сестрорецк', 'Сланцы', 'Сосновый Бор', 'Сясьстрой',\n",
       "       'Тихвин', 'Тосно', 'Шлиссельбург', 'деревня Агалатово',\n",
       "       'деревня Батово', 'деревня Бегуницы', 'деревня Белогорка',\n",
       "       'деревня Большая Вруда', 'деревня Большая Пустомержа',\n",
       "       'деревня Большие Колпаны', 'деревня Бор', 'деревня Борисова Грива',\n",
       "       'деревня Ваганово', 'деревня Вартемяги', 'деревня Вахнова Кара',\n",
       "       'деревня Гарболово', 'деревня Глинка', 'деревня Горбунки',\n",
       "       'деревня Гостилицы', 'деревня Заневка', 'деревня Зимитицы',\n",
       "       'деревня Калитино', 'деревня Кальтино', 'деревня Камышовка',\n",
       "       'деревня Каськово', 'деревня Келози', 'деревня Кипень',\n",
       "       'деревня Кисельня', 'деревня Колтуши', 'деревня Кудрово',\n",
       "       'деревня Кузьмолово', 'деревня Куттузи', 'деревня Лаголово',\n",
       "       'деревня Лампово', 'деревня Лесколово', 'деревня Лопухинка',\n",
       "       'деревня Малое Верево', 'деревня Малое Карлино',\n",
       "       'деревня Малые Колпаны', 'деревня Мистолово', 'деревня Ненимяки',\n",
       "       'деревня Низино', 'деревня Новое Девяткино', 'деревня Нурма',\n",
       "       'деревня Оржицы', 'деревня Парицы', 'деревня Пеники',\n",
       "       'деревня Пудомяги', 'деревня Рабитицы', 'деревня Разбегаево',\n",
       "       'деревня Разметелево', 'деревня Рапполово', 'деревня Старая',\n",
       "       'деревня Старая Пустошь', 'деревня Старосиверская',\n",
       "       'деревня Суоранда', 'деревня Сяськелево', 'деревня Тарасово',\n",
       "       'деревня Торосово', 'деревня Фалилеево', 'деревня Федоровское',\n",
       "       'деревня Хапо-Ое', 'деревня Хязельки', 'деревня Шпаньково',\n",
       "       'деревня Юкки', 'деревня Ялгино', 'деревня Яльгелево',\n",
       "       'коттеджный поселок Кивеннапа Север', 'коттеджный поселок Счастье',\n",
       "       'поселок Александровская', 'поселок Аннино', 'поселок Барышево',\n",
       "       'поселок Большая Ижора', 'поселок Бугры', 'поселок Будогощь',\n",
       "       'поселок Виллози', 'поселок Возрождение', 'поселок Войсковицы',\n",
       "       'поселок Вырица', 'поселок Гаврилово', 'поселок Гарболово',\n",
       "       'поселок Гладкое', 'поселок Глажево', 'поселок Глебычево',\n",
       "       'поселок Гончарово', 'поселок Громово', 'поселок Дружная Горка',\n",
       "       'поселок Дружноселье', 'поселок Дубровка', 'поселок Елизаветино',\n",
       "       'поселок Ефимовский', 'поселок Жилгородок', 'поселок Жилпоселок',\n",
       "       'поселок Житково', 'поселок Запорожское', 'поселок Зимитицы',\n",
       "       'поселок Ильичево', 'поселок Кикерино', 'поселок Кобралово',\n",
       "       'поселок Коммунары', 'поселок Кондратьево', 'поселок Коробицыно',\n",
       "       'поселок Красная Долина', 'поселок Красный Бор',\n",
       "       'поселок Кузнечное', 'поселок Кузьмоловский', 'поселок Лебяжье',\n",
       "       'поселок Лисий Нос', 'поселок Любань', 'поселок Мга',\n",
       "       'поселок Мельниково', 'поселок Металлострой',\n",
       "       'поселок Мичуринское', 'поселок Молодежное', 'поселок Молодцово',\n",
       "       'поселок Мурино', 'поселок Назия', 'поселок Никольский',\n",
       "       'поселок Новогорелово', 'поселок Новоселье', 'поселок Новый Свет',\n",
       "       'поселок Новый Учхоз', 'поселок Оредеж', 'поселок Павлово',\n",
       "       'поселок Пансионат Зеленый Бор', 'поселок Парголово',\n",
       "       'поселок Первомайское', 'поселок Перово', 'поселок Песочный',\n",
       "       'поселок Петровское', 'поселок Платформа 69-й километр',\n",
       "       'поселок Плодовое', 'поселок Победа', 'поселок Поляны',\n",
       "       'поселок Понтонный', 'поселок Починок', 'поселок Пригородный',\n",
       "       'поселок Приладожский', 'поселок Пудость', 'поселок Пушное',\n",
       "       'поселок Рахья', 'поселок Репино', 'поселок Романовка',\n",
       "       'поселок Ромашки', 'поселок Ропша', 'поселок Рощино',\n",
       "       'поселок Рябово', 'поселок Саперное', 'поселок Саперный',\n",
       "       'поселок Свирьстрой', 'поселок Сельцо', 'поселок Семрино',\n",
       "       'поселок Серебрянский', 'поселок Сиверский', 'поселок Синявино',\n",
       "       'поселок Советский', 'поселок Совхозный', 'поселок Сосново',\n",
       "       'поселок Старая Малукса', 'поселок Стеклянный', 'поселок Стрельна',\n",
       "       'поселок Суйда', 'поселок Сумино', 'поселок Суходолье',\n",
       "       'поселок Тайцы', 'поселок Тельмана', 'поселок Терволово',\n",
       "       'поселок Токсово', 'поселок Торковичи', 'поселок Торфяное',\n",
       "       'поселок Углово', 'поселок Ульяновка', 'поселок Ушаки',\n",
       "       'поселок Федоровское', 'поселок Шушары', 'поселок Щеглово',\n",
       "       'поселок Янино-1', 'поселок имени Морозова',\n",
       "       'поселок имени Свердлова', 'поселок станции Вещево',\n",
       "       'поселок станции Громово', 'поселок станции Приветнинское',\n",
       "       'садовое товарищество Рахья', 'село Копорье', 'село Павлово',\n",
       "       'село Путилово', 'село Русско-Высоцкое'], dtype=object)"
      ]
     },
     "execution_count": 344,
     "metadata": {},
     "output_type": "execute_result"
    }
   ],
   "source": [
    "good_df['locality_name'].sort_values().unique()"
   ]
  },
  {
   "cell_type": "markdown",
   "metadata": {},
   "source": [
    "<div class=\"alert alert-danger\">\n",
    "<b>Комментарий ревьюера ❌:</b> В разделе \"Предобработка данных\" было проведено так много анализа и работы, все же стоит написать по нему хотя бы короткий вывод"
   ]
  },
  {
   "cell_type": "markdown",
   "metadata": {},
   "source": [
    "<div class=\"alert alert-info\"> <b>Комментарий студента:</b> Вывод. Данные изначально были не в очень хорошем состоянии, но после предобработки осталось достаточно много объявлений, чтобы дальше проводить исследование</div>"
   ]
  },
  {
   "cell_type": "markdown",
   "metadata": {},
   "source": [
    "<div class=\"alert alert-success\">\n",
    "<b>Комментарий ревьюера v 2.0 ✔️:</b> Так раздел стал выглядеть целостнее </div>"
   ]
  },
  {
   "cell_type": "markdown",
   "metadata": {},
   "source": [
    "### Посчитайте и добавьте в таблицу новые столбцы"
   ]
  },
  {
   "cell_type": "code",
   "execution_count": 345,
   "metadata": {
    "scrolled": true
   },
   "outputs": [
    {
     "data": {
      "text/html": [
       "<div>\n",
       "<style scoped>\n",
       "    .dataframe tbody tr th:only-of-type {\n",
       "        vertical-align: middle;\n",
       "    }\n",
       "\n",
       "    .dataframe tbody tr th {\n",
       "        vertical-align: top;\n",
       "    }\n",
       "\n",
       "    .dataframe thead th {\n",
       "        text-align: right;\n",
       "    }\n",
       "</style>\n",
       "<table border=\"1\" class=\"dataframe\">\n",
       "  <thead>\n",
       "    <tr style=\"text-align: right;\">\n",
       "      <th></th>\n",
       "      <th>total_images</th>\n",
       "      <th>last_price</th>\n",
       "      <th>total_area</th>\n",
       "      <th>first_day_exposition</th>\n",
       "      <th>rooms</th>\n",
       "      <th>ceiling_height</th>\n",
       "      <th>floors_total</th>\n",
       "      <th>living_area</th>\n",
       "      <th>floor</th>\n",
       "      <th>is_apartment</th>\n",
       "      <th>...</th>\n",
       "      <th>balcony</th>\n",
       "      <th>locality_name</th>\n",
       "      <th>airports_nearest</th>\n",
       "      <th>cityCenters_nearest</th>\n",
       "      <th>parks_around3000</th>\n",
       "      <th>parks_nearest</th>\n",
       "      <th>ponds_around3000</th>\n",
       "      <th>ponds_nearest</th>\n",
       "      <th>days_exposition</th>\n",
       "      <th>one_square_meter_price</th>\n",
       "    </tr>\n",
       "  </thead>\n",
       "  <tbody>\n",
       "    <tr>\n",
       "      <th>4</th>\n",
       "      <td>2</td>\n",
       "      <td>10000000</td>\n",
       "      <td>100.0</td>\n",
       "      <td>2018-06-19</td>\n",
       "      <td>2</td>\n",
       "      <td>3.03</td>\n",
       "      <td>14</td>\n",
       "      <td>32.0</td>\n",
       "      <td>13</td>\n",
       "      <td>False</td>\n",
       "      <td>...</td>\n",
       "      <td>0.0</td>\n",
       "      <td>Санкт-Петербург</td>\n",
       "      <td>31856.0</td>\n",
       "      <td>8098.0</td>\n",
       "      <td>2</td>\n",
       "      <td>112.0</td>\n",
       "      <td>1</td>\n",
       "      <td>48.0</td>\n",
       "      <td>121.0</td>\n",
       "      <td>100000</td>\n",
       "    </tr>\n",
       "    <tr>\n",
       "      <th>9</th>\n",
       "      <td>18</td>\n",
       "      <td>5400000</td>\n",
       "      <td>61.0</td>\n",
       "      <td>2017-02-26</td>\n",
       "      <td>3</td>\n",
       "      <td>2.50</td>\n",
       "      <td>9</td>\n",
       "      <td>43.6</td>\n",
       "      <td>7</td>\n",
       "      <td>False</td>\n",
       "      <td>...</td>\n",
       "      <td>2.0</td>\n",
       "      <td>Санкт-Петербург</td>\n",
       "      <td>50898.0</td>\n",
       "      <td>15008.0</td>\n",
       "      <td>0</td>\n",
       "      <td>NaN</td>\n",
       "      <td>0</td>\n",
       "      <td>NaN</td>\n",
       "      <td>289.0</td>\n",
       "      <td>88524</td>\n",
       "    </tr>\n",
       "    <tr>\n",
       "      <th>10</th>\n",
       "      <td>5</td>\n",
       "      <td>5050000</td>\n",
       "      <td>39.6</td>\n",
       "      <td>2017-11-16</td>\n",
       "      <td>1</td>\n",
       "      <td>2.67</td>\n",
       "      <td>12</td>\n",
       "      <td>20.3</td>\n",
       "      <td>3</td>\n",
       "      <td>False</td>\n",
       "      <td>...</td>\n",
       "      <td>0.0</td>\n",
       "      <td>Санкт-Петербург</td>\n",
       "      <td>38357.0</td>\n",
       "      <td>13878.0</td>\n",
       "      <td>1</td>\n",
       "      <td>310.0</td>\n",
       "      <td>2</td>\n",
       "      <td>553.0</td>\n",
       "      <td>137.0</td>\n",
       "      <td>127525</td>\n",
       "    </tr>\n",
       "    <tr>\n",
       "      <th>13</th>\n",
       "      <td>20</td>\n",
       "      <td>3550000</td>\n",
       "      <td>42.8</td>\n",
       "      <td>2017-07-01</td>\n",
       "      <td>2</td>\n",
       "      <td>2.56</td>\n",
       "      <td>5</td>\n",
       "      <td>27.0</td>\n",
       "      <td>5</td>\n",
       "      <td>False</td>\n",
       "      <td>...</td>\n",
       "      <td>1.0</td>\n",
       "      <td>Петергоф</td>\n",
       "      <td>37868.0</td>\n",
       "      <td>33058.0</td>\n",
       "      <td>1</td>\n",
       "      <td>294.0</td>\n",
       "      <td>3</td>\n",
       "      <td>298.0</td>\n",
       "      <td>366.0</td>\n",
       "      <td>82943</td>\n",
       "    </tr>\n",
       "    <tr>\n",
       "      <th>16</th>\n",
       "      <td>11</td>\n",
       "      <td>6700000</td>\n",
       "      <td>82.0</td>\n",
       "      <td>2017-11-23</td>\n",
       "      <td>3</td>\n",
       "      <td>3.05</td>\n",
       "      <td>5</td>\n",
       "      <td>55.6</td>\n",
       "      <td>1</td>\n",
       "      <td>False</td>\n",
       "      <td>...</td>\n",
       "      <td>0.0</td>\n",
       "      <td>Санкт-Петербург</td>\n",
       "      <td>22108.0</td>\n",
       "      <td>10698.0</td>\n",
       "      <td>3</td>\n",
       "      <td>420.0</td>\n",
       "      <td>0</td>\n",
       "      <td>NaN</td>\n",
       "      <td>397.0</td>\n",
       "      <td>81707</td>\n",
       "    </tr>\n",
       "  </tbody>\n",
       "</table>\n",
       "<p>5 rows × 23 columns</p>\n",
       "</div>"
      ],
      "text/plain": [
       "    total_images  last_price  total_area first_day_exposition  rooms  \\\n",
       "4              2    10000000       100.0           2018-06-19      2   \n",
       "9             18     5400000        61.0           2017-02-26      3   \n",
       "10             5     5050000        39.6           2017-11-16      1   \n",
       "13            20     3550000        42.8           2017-07-01      2   \n",
       "16            11     6700000        82.0           2017-11-23      3   \n",
       "\n",
       "    ceiling_height  floors_total  living_area  floor  is_apartment  ...  \\\n",
       "4             3.03            14         32.0     13         False  ...   \n",
       "9             2.50             9         43.6      7         False  ...   \n",
       "10            2.67            12         20.3      3         False  ...   \n",
       "13            2.56             5         27.0      5         False  ...   \n",
       "16            3.05             5         55.6      1         False  ...   \n",
       "\n",
       "    balcony    locality_name  airports_nearest  cityCenters_nearest  \\\n",
       "4       0.0  Санкт-Петербург           31856.0               8098.0   \n",
       "9       2.0  Санкт-Петербург           50898.0              15008.0   \n",
       "10      0.0  Санкт-Петербург           38357.0              13878.0   \n",
       "13      1.0         Петергоф           37868.0              33058.0   \n",
       "16      0.0  Санкт-Петербург           22108.0              10698.0   \n",
       "\n",
       "   parks_around3000  parks_nearest  ponds_around3000  ponds_nearest  \\\n",
       "4                 2          112.0                 1           48.0   \n",
       "9                 0            NaN                 0            NaN   \n",
       "10                1          310.0                 2          553.0   \n",
       "13                1          294.0                 3          298.0   \n",
       "16                3          420.0                 0            NaN   \n",
       "\n",
       "    days_exposition  one_square_meter_price  \n",
       "4             121.0                  100000  \n",
       "9             289.0                   88524  \n",
       "10            137.0                  127525  \n",
       "13            366.0                   82943  \n",
       "16            397.0                   81707  \n",
       "\n",
       "[5 rows x 23 columns]"
      ]
     },
     "execution_count": 345,
     "metadata": {},
     "output_type": "execute_result"
    }
   ],
   "source": [
    "good_df['one_square_meter_price'] = good_df['last_price'] / good_df['total_area']\n",
    "good_df['one_square_meter_price'] = good_df['one_square_meter_price'].astype('int')\n",
    "good_df.head(5)"
   ]
  },
  {
   "cell_type": "markdown",
   "metadata": {},
   "source": [
    "Удалим из выборки квартиры с неправдоподобно низкими ценами и высокими ценами"
   ]
  },
  {
   "cell_type": "code",
   "execution_count": 346,
   "metadata": {},
   "outputs": [],
   "source": [
    "good_df = good_df[good_df['one_square_meter_price'] > 40_000]\n",
    "good_df = good_df[good_df['one_square_meter_price'] < 800_000]"
   ]
  },
  {
   "cell_type": "markdown",
   "metadata": {},
   "source": [
    "<div class=\"alert alert-success\">\n",
    "<b>Комментарий ревьюера ✔️:</b> Да, это действительно похоже на аномалии"
   ]
  },
  {
   "cell_type": "code",
   "execution_count": 347,
   "metadata": {},
   "outputs": [
    {
     "data": {
      "text/html": [
       "<div>\n",
       "<style scoped>\n",
       "    .dataframe tbody tr th:only-of-type {\n",
       "        vertical-align: middle;\n",
       "    }\n",
       "\n",
       "    .dataframe tbody tr th {\n",
       "        vertical-align: top;\n",
       "    }\n",
       "\n",
       "    .dataframe thead th {\n",
       "        text-align: right;\n",
       "    }\n",
       "</style>\n",
       "<table border=\"1\" class=\"dataframe\">\n",
       "  <thead>\n",
       "    <tr style=\"text-align: right;\">\n",
       "      <th></th>\n",
       "      <th>total_images</th>\n",
       "      <th>last_price</th>\n",
       "      <th>total_area</th>\n",
       "      <th>first_day_exposition</th>\n",
       "      <th>rooms</th>\n",
       "      <th>ceiling_height</th>\n",
       "      <th>floors_total</th>\n",
       "      <th>living_area</th>\n",
       "      <th>floor</th>\n",
       "      <th>is_apartment</th>\n",
       "      <th>...</th>\n",
       "      <th>locality_name</th>\n",
       "      <th>airports_nearest</th>\n",
       "      <th>cityCenters_nearest</th>\n",
       "      <th>parks_around3000</th>\n",
       "      <th>parks_nearest</th>\n",
       "      <th>ponds_around3000</th>\n",
       "      <th>ponds_nearest</th>\n",
       "      <th>days_exposition</th>\n",
       "      <th>one_square_meter_price</th>\n",
       "      <th>weekday_exposition</th>\n",
       "    </tr>\n",
       "  </thead>\n",
       "  <tbody>\n",
       "    <tr>\n",
       "      <th>4</th>\n",
       "      <td>2</td>\n",
       "      <td>10000000</td>\n",
       "      <td>100.0</td>\n",
       "      <td>2018-06-19</td>\n",
       "      <td>2</td>\n",
       "      <td>3.03</td>\n",
       "      <td>14</td>\n",
       "      <td>32.0</td>\n",
       "      <td>13</td>\n",
       "      <td>False</td>\n",
       "      <td>...</td>\n",
       "      <td>Санкт-Петербург</td>\n",
       "      <td>31856.0</td>\n",
       "      <td>8098.0</td>\n",
       "      <td>2</td>\n",
       "      <td>112.0</td>\n",
       "      <td>1</td>\n",
       "      <td>48.0</td>\n",
       "      <td>121.0</td>\n",
       "      <td>100000</td>\n",
       "      <td>1</td>\n",
       "    </tr>\n",
       "    <tr>\n",
       "      <th>9</th>\n",
       "      <td>18</td>\n",
       "      <td>5400000</td>\n",
       "      <td>61.0</td>\n",
       "      <td>2017-02-26</td>\n",
       "      <td>3</td>\n",
       "      <td>2.50</td>\n",
       "      <td>9</td>\n",
       "      <td>43.6</td>\n",
       "      <td>7</td>\n",
       "      <td>False</td>\n",
       "      <td>...</td>\n",
       "      <td>Санкт-Петербург</td>\n",
       "      <td>50898.0</td>\n",
       "      <td>15008.0</td>\n",
       "      <td>0</td>\n",
       "      <td>NaN</td>\n",
       "      <td>0</td>\n",
       "      <td>NaN</td>\n",
       "      <td>289.0</td>\n",
       "      <td>88524</td>\n",
       "      <td>6</td>\n",
       "    </tr>\n",
       "    <tr>\n",
       "      <th>10</th>\n",
       "      <td>5</td>\n",
       "      <td>5050000</td>\n",
       "      <td>39.6</td>\n",
       "      <td>2017-11-16</td>\n",
       "      <td>1</td>\n",
       "      <td>2.67</td>\n",
       "      <td>12</td>\n",
       "      <td>20.3</td>\n",
       "      <td>3</td>\n",
       "      <td>False</td>\n",
       "      <td>...</td>\n",
       "      <td>Санкт-Петербург</td>\n",
       "      <td>38357.0</td>\n",
       "      <td>13878.0</td>\n",
       "      <td>1</td>\n",
       "      <td>310.0</td>\n",
       "      <td>2</td>\n",
       "      <td>553.0</td>\n",
       "      <td>137.0</td>\n",
       "      <td>127525</td>\n",
       "      <td>3</td>\n",
       "    </tr>\n",
       "    <tr>\n",
       "      <th>13</th>\n",
       "      <td>20</td>\n",
       "      <td>3550000</td>\n",
       "      <td>42.8</td>\n",
       "      <td>2017-07-01</td>\n",
       "      <td>2</td>\n",
       "      <td>2.56</td>\n",
       "      <td>5</td>\n",
       "      <td>27.0</td>\n",
       "      <td>5</td>\n",
       "      <td>False</td>\n",
       "      <td>...</td>\n",
       "      <td>Петергоф</td>\n",
       "      <td>37868.0</td>\n",
       "      <td>33058.0</td>\n",
       "      <td>1</td>\n",
       "      <td>294.0</td>\n",
       "      <td>3</td>\n",
       "      <td>298.0</td>\n",
       "      <td>366.0</td>\n",
       "      <td>82943</td>\n",
       "      <td>5</td>\n",
       "    </tr>\n",
       "    <tr>\n",
       "      <th>16</th>\n",
       "      <td>11</td>\n",
       "      <td>6700000</td>\n",
       "      <td>82.0</td>\n",
       "      <td>2017-11-23</td>\n",
       "      <td>3</td>\n",
       "      <td>3.05</td>\n",
       "      <td>5</td>\n",
       "      <td>55.6</td>\n",
       "      <td>1</td>\n",
       "      <td>False</td>\n",
       "      <td>...</td>\n",
       "      <td>Санкт-Петербург</td>\n",
       "      <td>22108.0</td>\n",
       "      <td>10698.0</td>\n",
       "      <td>3</td>\n",
       "      <td>420.0</td>\n",
       "      <td>0</td>\n",
       "      <td>NaN</td>\n",
       "      <td>397.0</td>\n",
       "      <td>81707</td>\n",
       "      <td>3</td>\n",
       "    </tr>\n",
       "  </tbody>\n",
       "</table>\n",
       "<p>5 rows × 24 columns</p>\n",
       "</div>"
      ],
      "text/plain": [
       "    total_images  last_price  total_area first_day_exposition  rooms  \\\n",
       "4              2    10000000       100.0           2018-06-19      2   \n",
       "9             18     5400000        61.0           2017-02-26      3   \n",
       "10             5     5050000        39.6           2017-11-16      1   \n",
       "13            20     3550000        42.8           2017-07-01      2   \n",
       "16            11     6700000        82.0           2017-11-23      3   \n",
       "\n",
       "    ceiling_height  floors_total  living_area  floor  is_apartment  ...  \\\n",
       "4             3.03            14         32.0     13         False  ...   \n",
       "9             2.50             9         43.6      7         False  ...   \n",
       "10            2.67            12         20.3      3         False  ...   \n",
       "13            2.56             5         27.0      5         False  ...   \n",
       "16            3.05             5         55.6      1         False  ...   \n",
       "\n",
       "      locality_name  airports_nearest  cityCenters_nearest  parks_around3000  \\\n",
       "4   Санкт-Петербург           31856.0               8098.0                 2   \n",
       "9   Санкт-Петербург           50898.0              15008.0                 0   \n",
       "10  Санкт-Петербург           38357.0              13878.0                 1   \n",
       "13         Петергоф           37868.0              33058.0                 1   \n",
       "16  Санкт-Петербург           22108.0              10698.0                 3   \n",
       "\n",
       "   parks_nearest  ponds_around3000  ponds_nearest  days_exposition  \\\n",
       "4          112.0                 1           48.0            121.0   \n",
       "9            NaN                 0            NaN            289.0   \n",
       "10         310.0                 2          553.0            137.0   \n",
       "13         294.0                 3          298.0            366.0   \n",
       "16         420.0                 0            NaN            397.0   \n",
       "\n",
       "    one_square_meter_price  weekday_exposition  \n",
       "4                   100000                   1  \n",
       "9                    88524                   6  \n",
       "10                  127525                   3  \n",
       "13                   82943                   5  \n",
       "16                   81707                   3  \n",
       "\n",
       "[5 rows x 24 columns]"
      ]
     },
     "execution_count": 347,
     "metadata": {},
     "output_type": "execute_result"
    }
   ],
   "source": [
    "good_df['weekday_exposition'] = good_df['first_day_exposition'].dt.weekday\n",
    "good_df.head(5)"
   ]
  },
  {
   "cell_type": "code",
   "execution_count": 348,
   "metadata": {},
   "outputs": [
    {
     "data": {
      "text/html": [
       "<div>\n",
       "<style scoped>\n",
       "    .dataframe tbody tr th:only-of-type {\n",
       "        vertical-align: middle;\n",
       "    }\n",
       "\n",
       "    .dataframe tbody tr th {\n",
       "        vertical-align: top;\n",
       "    }\n",
       "\n",
       "    .dataframe thead th {\n",
       "        text-align: right;\n",
       "    }\n",
       "</style>\n",
       "<table border=\"1\" class=\"dataframe\">\n",
       "  <thead>\n",
       "    <tr style=\"text-align: right;\">\n",
       "      <th></th>\n",
       "      <th>total_images</th>\n",
       "      <th>last_price</th>\n",
       "      <th>total_area</th>\n",
       "      <th>first_day_exposition</th>\n",
       "      <th>rooms</th>\n",
       "      <th>ceiling_height</th>\n",
       "      <th>floors_total</th>\n",
       "      <th>living_area</th>\n",
       "      <th>floor</th>\n",
       "      <th>is_apartment</th>\n",
       "      <th>...</th>\n",
       "      <th>airports_nearest</th>\n",
       "      <th>cityCenters_nearest</th>\n",
       "      <th>parks_around3000</th>\n",
       "      <th>parks_nearest</th>\n",
       "      <th>ponds_around3000</th>\n",
       "      <th>ponds_nearest</th>\n",
       "      <th>days_exposition</th>\n",
       "      <th>one_square_meter_price</th>\n",
       "      <th>weekday_exposition</th>\n",
       "      <th>month_exposition</th>\n",
       "    </tr>\n",
       "  </thead>\n",
       "  <tbody>\n",
       "    <tr>\n",
       "      <th>4</th>\n",
       "      <td>2</td>\n",
       "      <td>10000000</td>\n",
       "      <td>100.0</td>\n",
       "      <td>2018-06-19</td>\n",
       "      <td>2</td>\n",
       "      <td>3.03</td>\n",
       "      <td>14</td>\n",
       "      <td>32.0</td>\n",
       "      <td>13</td>\n",
       "      <td>False</td>\n",
       "      <td>...</td>\n",
       "      <td>31856.0</td>\n",
       "      <td>8098.0</td>\n",
       "      <td>2</td>\n",
       "      <td>112.0</td>\n",
       "      <td>1</td>\n",
       "      <td>48.0</td>\n",
       "      <td>121.0</td>\n",
       "      <td>100000</td>\n",
       "      <td>1</td>\n",
       "      <td>6</td>\n",
       "    </tr>\n",
       "    <tr>\n",
       "      <th>9</th>\n",
       "      <td>18</td>\n",
       "      <td>5400000</td>\n",
       "      <td>61.0</td>\n",
       "      <td>2017-02-26</td>\n",
       "      <td>3</td>\n",
       "      <td>2.50</td>\n",
       "      <td>9</td>\n",
       "      <td>43.6</td>\n",
       "      <td>7</td>\n",
       "      <td>False</td>\n",
       "      <td>...</td>\n",
       "      <td>50898.0</td>\n",
       "      <td>15008.0</td>\n",
       "      <td>0</td>\n",
       "      <td>NaN</td>\n",
       "      <td>0</td>\n",
       "      <td>NaN</td>\n",
       "      <td>289.0</td>\n",
       "      <td>88524</td>\n",
       "      <td>6</td>\n",
       "      <td>2</td>\n",
       "    </tr>\n",
       "    <tr>\n",
       "      <th>10</th>\n",
       "      <td>5</td>\n",
       "      <td>5050000</td>\n",
       "      <td>39.6</td>\n",
       "      <td>2017-11-16</td>\n",
       "      <td>1</td>\n",
       "      <td>2.67</td>\n",
       "      <td>12</td>\n",
       "      <td>20.3</td>\n",
       "      <td>3</td>\n",
       "      <td>False</td>\n",
       "      <td>...</td>\n",
       "      <td>38357.0</td>\n",
       "      <td>13878.0</td>\n",
       "      <td>1</td>\n",
       "      <td>310.0</td>\n",
       "      <td>2</td>\n",
       "      <td>553.0</td>\n",
       "      <td>137.0</td>\n",
       "      <td>127525</td>\n",
       "      <td>3</td>\n",
       "      <td>11</td>\n",
       "    </tr>\n",
       "    <tr>\n",
       "      <th>13</th>\n",
       "      <td>20</td>\n",
       "      <td>3550000</td>\n",
       "      <td>42.8</td>\n",
       "      <td>2017-07-01</td>\n",
       "      <td>2</td>\n",
       "      <td>2.56</td>\n",
       "      <td>5</td>\n",
       "      <td>27.0</td>\n",
       "      <td>5</td>\n",
       "      <td>False</td>\n",
       "      <td>...</td>\n",
       "      <td>37868.0</td>\n",
       "      <td>33058.0</td>\n",
       "      <td>1</td>\n",
       "      <td>294.0</td>\n",
       "      <td>3</td>\n",
       "      <td>298.0</td>\n",
       "      <td>366.0</td>\n",
       "      <td>82943</td>\n",
       "      <td>5</td>\n",
       "      <td>7</td>\n",
       "    </tr>\n",
       "    <tr>\n",
       "      <th>16</th>\n",
       "      <td>11</td>\n",
       "      <td>6700000</td>\n",
       "      <td>82.0</td>\n",
       "      <td>2017-11-23</td>\n",
       "      <td>3</td>\n",
       "      <td>3.05</td>\n",
       "      <td>5</td>\n",
       "      <td>55.6</td>\n",
       "      <td>1</td>\n",
       "      <td>False</td>\n",
       "      <td>...</td>\n",
       "      <td>22108.0</td>\n",
       "      <td>10698.0</td>\n",
       "      <td>3</td>\n",
       "      <td>420.0</td>\n",
       "      <td>0</td>\n",
       "      <td>NaN</td>\n",
       "      <td>397.0</td>\n",
       "      <td>81707</td>\n",
       "      <td>3</td>\n",
       "      <td>11</td>\n",
       "    </tr>\n",
       "  </tbody>\n",
       "</table>\n",
       "<p>5 rows × 25 columns</p>\n",
       "</div>"
      ],
      "text/plain": [
       "    total_images  last_price  total_area first_day_exposition  rooms  \\\n",
       "4              2    10000000       100.0           2018-06-19      2   \n",
       "9             18     5400000        61.0           2017-02-26      3   \n",
       "10             5     5050000        39.6           2017-11-16      1   \n",
       "13            20     3550000        42.8           2017-07-01      2   \n",
       "16            11     6700000        82.0           2017-11-23      3   \n",
       "\n",
       "    ceiling_height  floors_total  living_area  floor  is_apartment  ...  \\\n",
       "4             3.03            14         32.0     13         False  ...   \n",
       "9             2.50             9         43.6      7         False  ...   \n",
       "10            2.67            12         20.3      3         False  ...   \n",
       "13            2.56             5         27.0      5         False  ...   \n",
       "16            3.05             5         55.6      1         False  ...   \n",
       "\n",
       "    airports_nearest  cityCenters_nearest  parks_around3000  parks_nearest  \\\n",
       "4            31856.0               8098.0                 2          112.0   \n",
       "9            50898.0              15008.0                 0            NaN   \n",
       "10           38357.0              13878.0                 1          310.0   \n",
       "13           37868.0              33058.0                 1          294.0   \n",
       "16           22108.0              10698.0                 3          420.0   \n",
       "\n",
       "   ponds_around3000  ponds_nearest  days_exposition  one_square_meter_price  \\\n",
       "4                 1           48.0            121.0                  100000   \n",
       "9                 0            NaN            289.0                   88524   \n",
       "10                2          553.0            137.0                  127525   \n",
       "13                3          298.0            366.0                   82943   \n",
       "16                0            NaN            397.0                   81707   \n",
       "\n",
       "    weekday_exposition  month_exposition  \n",
       "4                    1                 6  \n",
       "9                    6                 2  \n",
       "10                   3                11  \n",
       "13                   5                 7  \n",
       "16                   3                11  \n",
       "\n",
       "[5 rows x 25 columns]"
      ]
     },
     "execution_count": 348,
     "metadata": {},
     "output_type": "execute_result"
    }
   ],
   "source": [
    "good_df['month_exposition'] = good_df['first_day_exposition'].dt.month\n",
    "good_df.head(5)"
   ]
  },
  {
   "cell_type": "code",
   "execution_count": 349,
   "metadata": {},
   "outputs": [
    {
     "data": {
      "text/html": [
       "<div>\n",
       "<style scoped>\n",
       "    .dataframe tbody tr th:only-of-type {\n",
       "        vertical-align: middle;\n",
       "    }\n",
       "\n",
       "    .dataframe tbody tr th {\n",
       "        vertical-align: top;\n",
       "    }\n",
       "\n",
       "    .dataframe thead th {\n",
       "        text-align: right;\n",
       "    }\n",
       "</style>\n",
       "<table border=\"1\" class=\"dataframe\">\n",
       "  <thead>\n",
       "    <tr style=\"text-align: right;\">\n",
       "      <th></th>\n",
       "      <th>total_images</th>\n",
       "      <th>last_price</th>\n",
       "      <th>total_area</th>\n",
       "      <th>first_day_exposition</th>\n",
       "      <th>rooms</th>\n",
       "      <th>ceiling_height</th>\n",
       "      <th>floors_total</th>\n",
       "      <th>living_area</th>\n",
       "      <th>floor</th>\n",
       "      <th>is_apartment</th>\n",
       "      <th>...</th>\n",
       "      <th>cityCenters_nearest</th>\n",
       "      <th>parks_around3000</th>\n",
       "      <th>parks_nearest</th>\n",
       "      <th>ponds_around3000</th>\n",
       "      <th>ponds_nearest</th>\n",
       "      <th>days_exposition</th>\n",
       "      <th>one_square_meter_price</th>\n",
       "      <th>weekday_exposition</th>\n",
       "      <th>month_exposition</th>\n",
       "      <th>year_exposition</th>\n",
       "    </tr>\n",
       "  </thead>\n",
       "  <tbody>\n",
       "    <tr>\n",
       "      <th>4</th>\n",
       "      <td>2</td>\n",
       "      <td>10000000</td>\n",
       "      <td>100.0</td>\n",
       "      <td>2018-06-19</td>\n",
       "      <td>2</td>\n",
       "      <td>3.03</td>\n",
       "      <td>14</td>\n",
       "      <td>32.0</td>\n",
       "      <td>13</td>\n",
       "      <td>False</td>\n",
       "      <td>...</td>\n",
       "      <td>8098.0</td>\n",
       "      <td>2</td>\n",
       "      <td>112.0</td>\n",
       "      <td>1</td>\n",
       "      <td>48.0</td>\n",
       "      <td>121.0</td>\n",
       "      <td>100000</td>\n",
       "      <td>1</td>\n",
       "      <td>6</td>\n",
       "      <td>2018</td>\n",
       "    </tr>\n",
       "    <tr>\n",
       "      <th>9</th>\n",
       "      <td>18</td>\n",
       "      <td>5400000</td>\n",
       "      <td>61.0</td>\n",
       "      <td>2017-02-26</td>\n",
       "      <td>3</td>\n",
       "      <td>2.50</td>\n",
       "      <td>9</td>\n",
       "      <td>43.6</td>\n",
       "      <td>7</td>\n",
       "      <td>False</td>\n",
       "      <td>...</td>\n",
       "      <td>15008.0</td>\n",
       "      <td>0</td>\n",
       "      <td>NaN</td>\n",
       "      <td>0</td>\n",
       "      <td>NaN</td>\n",
       "      <td>289.0</td>\n",
       "      <td>88524</td>\n",
       "      <td>6</td>\n",
       "      <td>2</td>\n",
       "      <td>2017</td>\n",
       "    </tr>\n",
       "    <tr>\n",
       "      <th>10</th>\n",
       "      <td>5</td>\n",
       "      <td>5050000</td>\n",
       "      <td>39.6</td>\n",
       "      <td>2017-11-16</td>\n",
       "      <td>1</td>\n",
       "      <td>2.67</td>\n",
       "      <td>12</td>\n",
       "      <td>20.3</td>\n",
       "      <td>3</td>\n",
       "      <td>False</td>\n",
       "      <td>...</td>\n",
       "      <td>13878.0</td>\n",
       "      <td>1</td>\n",
       "      <td>310.0</td>\n",
       "      <td>2</td>\n",
       "      <td>553.0</td>\n",
       "      <td>137.0</td>\n",
       "      <td>127525</td>\n",
       "      <td>3</td>\n",
       "      <td>11</td>\n",
       "      <td>2017</td>\n",
       "    </tr>\n",
       "    <tr>\n",
       "      <th>13</th>\n",
       "      <td>20</td>\n",
       "      <td>3550000</td>\n",
       "      <td>42.8</td>\n",
       "      <td>2017-07-01</td>\n",
       "      <td>2</td>\n",
       "      <td>2.56</td>\n",
       "      <td>5</td>\n",
       "      <td>27.0</td>\n",
       "      <td>5</td>\n",
       "      <td>False</td>\n",
       "      <td>...</td>\n",
       "      <td>33058.0</td>\n",
       "      <td>1</td>\n",
       "      <td>294.0</td>\n",
       "      <td>3</td>\n",
       "      <td>298.0</td>\n",
       "      <td>366.0</td>\n",
       "      <td>82943</td>\n",
       "      <td>5</td>\n",
       "      <td>7</td>\n",
       "      <td>2017</td>\n",
       "    </tr>\n",
       "    <tr>\n",
       "      <th>16</th>\n",
       "      <td>11</td>\n",
       "      <td>6700000</td>\n",
       "      <td>82.0</td>\n",
       "      <td>2017-11-23</td>\n",
       "      <td>3</td>\n",
       "      <td>3.05</td>\n",
       "      <td>5</td>\n",
       "      <td>55.6</td>\n",
       "      <td>1</td>\n",
       "      <td>False</td>\n",
       "      <td>...</td>\n",
       "      <td>10698.0</td>\n",
       "      <td>3</td>\n",
       "      <td>420.0</td>\n",
       "      <td>0</td>\n",
       "      <td>NaN</td>\n",
       "      <td>397.0</td>\n",
       "      <td>81707</td>\n",
       "      <td>3</td>\n",
       "      <td>11</td>\n",
       "      <td>2017</td>\n",
       "    </tr>\n",
       "  </tbody>\n",
       "</table>\n",
       "<p>5 rows × 26 columns</p>\n",
       "</div>"
      ],
      "text/plain": [
       "    total_images  last_price  total_area first_day_exposition  rooms  \\\n",
       "4              2    10000000       100.0           2018-06-19      2   \n",
       "9             18     5400000        61.0           2017-02-26      3   \n",
       "10             5     5050000        39.6           2017-11-16      1   \n",
       "13            20     3550000        42.8           2017-07-01      2   \n",
       "16            11     6700000        82.0           2017-11-23      3   \n",
       "\n",
       "    ceiling_height  floors_total  living_area  floor  is_apartment  ...  \\\n",
       "4             3.03            14         32.0     13         False  ...   \n",
       "9             2.50             9         43.6      7         False  ...   \n",
       "10            2.67            12         20.3      3         False  ...   \n",
       "13            2.56             5         27.0      5         False  ...   \n",
       "16            3.05             5         55.6      1         False  ...   \n",
       "\n",
       "    cityCenters_nearest  parks_around3000  parks_nearest  ponds_around3000  \\\n",
       "4                8098.0                 2          112.0                 1   \n",
       "9               15008.0                 0            NaN                 0   \n",
       "10              13878.0                 1          310.0                 2   \n",
       "13              33058.0                 1          294.0                 3   \n",
       "16              10698.0                 3          420.0                 0   \n",
       "\n",
       "   ponds_nearest  days_exposition  one_square_meter_price  weekday_exposition  \\\n",
       "4           48.0            121.0                  100000                   1   \n",
       "9            NaN            289.0                   88524                   6   \n",
       "10         553.0            137.0                  127525                   3   \n",
       "13         298.0            366.0                   82943                   5   \n",
       "16           NaN            397.0                   81707                   3   \n",
       "\n",
       "    month_exposition  year_exposition  \n",
       "4                  6             2018  \n",
       "9                  2             2017  \n",
       "10                11             2017  \n",
       "13                 7             2017  \n",
       "16                11             2017  \n",
       "\n",
       "[5 rows x 26 columns]"
      ]
     },
     "execution_count": 349,
     "metadata": {},
     "output_type": "execute_result"
    }
   ],
   "source": [
    "good_df['year_exposition'] = good_df['first_day_exposition'].dt.year\n",
    "good_df.head(5)"
   ]
  },
  {
   "cell_type": "code",
   "execution_count": 350,
   "metadata": {},
   "outputs": [],
   "source": [
    "def stage_category(current, total):\n",
    "    if current == 1:\n",
    "        return 'первый'\n",
    "    if current == total:\n",
    "        return 'последний'\n",
    "    return 'другой'"
   ]
  },
  {
   "cell_type": "markdown",
   "metadata": {},
   "source": [
    "<div class=\"alert alert-success\">\n",
    "<b>Комментарий ревьюера ✔️:</b> Рабочая функция"
   ]
  },
  {
   "cell_type": "code",
   "execution_count": 351,
   "metadata": {
    "scrolled": true
   },
   "outputs": [
    {
     "data": {
      "text/html": [
       "<div>\n",
       "<style scoped>\n",
       "    .dataframe tbody tr th:only-of-type {\n",
       "        vertical-align: middle;\n",
       "    }\n",
       "\n",
       "    .dataframe tbody tr th {\n",
       "        vertical-align: top;\n",
       "    }\n",
       "\n",
       "    .dataframe thead th {\n",
       "        text-align: right;\n",
       "    }\n",
       "</style>\n",
       "<table border=\"1\" class=\"dataframe\">\n",
       "  <thead>\n",
       "    <tr style=\"text-align: right;\">\n",
       "      <th></th>\n",
       "      <th>total_images</th>\n",
       "      <th>last_price</th>\n",
       "      <th>total_area</th>\n",
       "      <th>first_day_exposition</th>\n",
       "      <th>rooms</th>\n",
       "      <th>ceiling_height</th>\n",
       "      <th>floors_total</th>\n",
       "      <th>living_area</th>\n",
       "      <th>floor</th>\n",
       "      <th>is_apartment</th>\n",
       "      <th>...</th>\n",
       "      <th>parks_around3000</th>\n",
       "      <th>parks_nearest</th>\n",
       "      <th>ponds_around3000</th>\n",
       "      <th>ponds_nearest</th>\n",
       "      <th>days_exposition</th>\n",
       "      <th>one_square_meter_price</th>\n",
       "      <th>weekday_exposition</th>\n",
       "      <th>month_exposition</th>\n",
       "      <th>year_exposition</th>\n",
       "      <th>floor_category</th>\n",
       "    </tr>\n",
       "  </thead>\n",
       "  <tbody>\n",
       "    <tr>\n",
       "      <th>4</th>\n",
       "      <td>2</td>\n",
       "      <td>10000000</td>\n",
       "      <td>100.0</td>\n",
       "      <td>2018-06-19</td>\n",
       "      <td>2</td>\n",
       "      <td>3.03</td>\n",
       "      <td>14</td>\n",
       "      <td>32.0</td>\n",
       "      <td>13</td>\n",
       "      <td>False</td>\n",
       "      <td>...</td>\n",
       "      <td>2</td>\n",
       "      <td>112.0</td>\n",
       "      <td>1</td>\n",
       "      <td>48.0</td>\n",
       "      <td>121.0</td>\n",
       "      <td>100000</td>\n",
       "      <td>1</td>\n",
       "      <td>6</td>\n",
       "      <td>2018</td>\n",
       "      <td>другой</td>\n",
       "    </tr>\n",
       "    <tr>\n",
       "      <th>9</th>\n",
       "      <td>18</td>\n",
       "      <td>5400000</td>\n",
       "      <td>61.0</td>\n",
       "      <td>2017-02-26</td>\n",
       "      <td>3</td>\n",
       "      <td>2.50</td>\n",
       "      <td>9</td>\n",
       "      <td>43.6</td>\n",
       "      <td>7</td>\n",
       "      <td>False</td>\n",
       "      <td>...</td>\n",
       "      <td>0</td>\n",
       "      <td>NaN</td>\n",
       "      <td>0</td>\n",
       "      <td>NaN</td>\n",
       "      <td>289.0</td>\n",
       "      <td>88524</td>\n",
       "      <td>6</td>\n",
       "      <td>2</td>\n",
       "      <td>2017</td>\n",
       "      <td>другой</td>\n",
       "    </tr>\n",
       "    <tr>\n",
       "      <th>10</th>\n",
       "      <td>5</td>\n",
       "      <td>5050000</td>\n",
       "      <td>39.6</td>\n",
       "      <td>2017-11-16</td>\n",
       "      <td>1</td>\n",
       "      <td>2.67</td>\n",
       "      <td>12</td>\n",
       "      <td>20.3</td>\n",
       "      <td>3</td>\n",
       "      <td>False</td>\n",
       "      <td>...</td>\n",
       "      <td>1</td>\n",
       "      <td>310.0</td>\n",
       "      <td>2</td>\n",
       "      <td>553.0</td>\n",
       "      <td>137.0</td>\n",
       "      <td>127525</td>\n",
       "      <td>3</td>\n",
       "      <td>11</td>\n",
       "      <td>2017</td>\n",
       "      <td>другой</td>\n",
       "    </tr>\n",
       "    <tr>\n",
       "      <th>13</th>\n",
       "      <td>20</td>\n",
       "      <td>3550000</td>\n",
       "      <td>42.8</td>\n",
       "      <td>2017-07-01</td>\n",
       "      <td>2</td>\n",
       "      <td>2.56</td>\n",
       "      <td>5</td>\n",
       "      <td>27.0</td>\n",
       "      <td>5</td>\n",
       "      <td>False</td>\n",
       "      <td>...</td>\n",
       "      <td>1</td>\n",
       "      <td>294.0</td>\n",
       "      <td>3</td>\n",
       "      <td>298.0</td>\n",
       "      <td>366.0</td>\n",
       "      <td>82943</td>\n",
       "      <td>5</td>\n",
       "      <td>7</td>\n",
       "      <td>2017</td>\n",
       "      <td>последний</td>\n",
       "    </tr>\n",
       "    <tr>\n",
       "      <th>16</th>\n",
       "      <td>11</td>\n",
       "      <td>6700000</td>\n",
       "      <td>82.0</td>\n",
       "      <td>2017-11-23</td>\n",
       "      <td>3</td>\n",
       "      <td>3.05</td>\n",
       "      <td>5</td>\n",
       "      <td>55.6</td>\n",
       "      <td>1</td>\n",
       "      <td>False</td>\n",
       "      <td>...</td>\n",
       "      <td>3</td>\n",
       "      <td>420.0</td>\n",
       "      <td>0</td>\n",
       "      <td>NaN</td>\n",
       "      <td>397.0</td>\n",
       "      <td>81707</td>\n",
       "      <td>3</td>\n",
       "      <td>11</td>\n",
       "      <td>2017</td>\n",
       "      <td>первый</td>\n",
       "    </tr>\n",
       "  </tbody>\n",
       "</table>\n",
       "<p>5 rows × 27 columns</p>\n",
       "</div>"
      ],
      "text/plain": [
       "    total_images  last_price  total_area first_day_exposition  rooms  \\\n",
       "4              2    10000000       100.0           2018-06-19      2   \n",
       "9             18     5400000        61.0           2017-02-26      3   \n",
       "10             5     5050000        39.6           2017-11-16      1   \n",
       "13            20     3550000        42.8           2017-07-01      2   \n",
       "16            11     6700000        82.0           2017-11-23      3   \n",
       "\n",
       "    ceiling_height  floors_total  living_area  floor  is_apartment  ...  \\\n",
       "4             3.03            14         32.0     13         False  ...   \n",
       "9             2.50             9         43.6      7         False  ...   \n",
       "10            2.67            12         20.3      3         False  ...   \n",
       "13            2.56             5         27.0      5         False  ...   \n",
       "16            3.05             5         55.6      1         False  ...   \n",
       "\n",
       "    parks_around3000  parks_nearest  ponds_around3000  ponds_nearest  \\\n",
       "4                  2          112.0                 1           48.0   \n",
       "9                  0            NaN                 0            NaN   \n",
       "10                 1          310.0                 2          553.0   \n",
       "13                 1          294.0                 3          298.0   \n",
       "16                 3          420.0                 0            NaN   \n",
       "\n",
       "   days_exposition  one_square_meter_price  weekday_exposition  \\\n",
       "4            121.0                  100000                   1   \n",
       "9            289.0                   88524                   6   \n",
       "10           137.0                  127525                   3   \n",
       "13           366.0                   82943                   5   \n",
       "16           397.0                   81707                   3   \n",
       "\n",
       "    month_exposition  year_exposition  floor_category  \n",
       "4                  6             2018          другой  \n",
       "9                  2             2017          другой  \n",
       "10                11             2017          другой  \n",
       "13                 7             2017       последний  \n",
       "16                11             2017          первый  \n",
       "\n",
       "[5 rows x 27 columns]"
      ]
     },
     "execution_count": 351,
     "metadata": {},
     "output_type": "execute_result"
    }
   ],
   "source": [
    "good_df['floor_category'] = good_df[['floor','floors_total']].apply(lambda x: stage_category(*x), axis=1)\n",
    "good_df.head(5)"
   ]
  },
  {
   "cell_type": "code",
   "execution_count": 352,
   "metadata": {},
   "outputs": [
    {
     "data": {
      "text/html": [
       "<div>\n",
       "<style scoped>\n",
       "    .dataframe tbody tr th:only-of-type {\n",
       "        vertical-align: middle;\n",
       "    }\n",
       "\n",
       "    .dataframe tbody tr th {\n",
       "        vertical-align: top;\n",
       "    }\n",
       "\n",
       "    .dataframe thead th {\n",
       "        text-align: right;\n",
       "    }\n",
       "</style>\n",
       "<table border=\"1\" class=\"dataframe\">\n",
       "  <thead>\n",
       "    <tr style=\"text-align: right;\">\n",
       "      <th></th>\n",
       "      <th>total_images</th>\n",
       "      <th>last_price</th>\n",
       "      <th>total_area</th>\n",
       "      <th>first_day_exposition</th>\n",
       "      <th>rooms</th>\n",
       "      <th>ceiling_height</th>\n",
       "      <th>floors_total</th>\n",
       "      <th>living_area</th>\n",
       "      <th>floor</th>\n",
       "      <th>is_apartment</th>\n",
       "      <th>...</th>\n",
       "      <th>parks_nearest</th>\n",
       "      <th>ponds_around3000</th>\n",
       "      <th>ponds_nearest</th>\n",
       "      <th>days_exposition</th>\n",
       "      <th>one_square_meter_price</th>\n",
       "      <th>weekday_exposition</th>\n",
       "      <th>month_exposition</th>\n",
       "      <th>year_exposition</th>\n",
       "      <th>floor_category</th>\n",
       "      <th>cityCenters_nearest_km</th>\n",
       "    </tr>\n",
       "  </thead>\n",
       "  <tbody>\n",
       "    <tr>\n",
       "      <th>4</th>\n",
       "      <td>2</td>\n",
       "      <td>10000000</td>\n",
       "      <td>100.0</td>\n",
       "      <td>2018-06-19</td>\n",
       "      <td>2</td>\n",
       "      <td>3.03</td>\n",
       "      <td>14</td>\n",
       "      <td>32.0</td>\n",
       "      <td>13</td>\n",
       "      <td>False</td>\n",
       "      <td>...</td>\n",
       "      <td>112.0</td>\n",
       "      <td>1</td>\n",
       "      <td>48.0</td>\n",
       "      <td>121.0</td>\n",
       "      <td>100000</td>\n",
       "      <td>1</td>\n",
       "      <td>6</td>\n",
       "      <td>2018</td>\n",
       "      <td>другой</td>\n",
       "      <td>8</td>\n",
       "    </tr>\n",
       "    <tr>\n",
       "      <th>9</th>\n",
       "      <td>18</td>\n",
       "      <td>5400000</td>\n",
       "      <td>61.0</td>\n",
       "      <td>2017-02-26</td>\n",
       "      <td>3</td>\n",
       "      <td>2.50</td>\n",
       "      <td>9</td>\n",
       "      <td>43.6</td>\n",
       "      <td>7</td>\n",
       "      <td>False</td>\n",
       "      <td>...</td>\n",
       "      <td>NaN</td>\n",
       "      <td>0</td>\n",
       "      <td>NaN</td>\n",
       "      <td>289.0</td>\n",
       "      <td>88524</td>\n",
       "      <td>6</td>\n",
       "      <td>2</td>\n",
       "      <td>2017</td>\n",
       "      <td>другой</td>\n",
       "      <td>15</td>\n",
       "    </tr>\n",
       "    <tr>\n",
       "      <th>10</th>\n",
       "      <td>5</td>\n",
       "      <td>5050000</td>\n",
       "      <td>39.6</td>\n",
       "      <td>2017-11-16</td>\n",
       "      <td>1</td>\n",
       "      <td>2.67</td>\n",
       "      <td>12</td>\n",
       "      <td>20.3</td>\n",
       "      <td>3</td>\n",
       "      <td>False</td>\n",
       "      <td>...</td>\n",
       "      <td>310.0</td>\n",
       "      <td>2</td>\n",
       "      <td>553.0</td>\n",
       "      <td>137.0</td>\n",
       "      <td>127525</td>\n",
       "      <td>3</td>\n",
       "      <td>11</td>\n",
       "      <td>2017</td>\n",
       "      <td>другой</td>\n",
       "      <td>13</td>\n",
       "    </tr>\n",
       "    <tr>\n",
       "      <th>13</th>\n",
       "      <td>20</td>\n",
       "      <td>3550000</td>\n",
       "      <td>42.8</td>\n",
       "      <td>2017-07-01</td>\n",
       "      <td>2</td>\n",
       "      <td>2.56</td>\n",
       "      <td>5</td>\n",
       "      <td>27.0</td>\n",
       "      <td>5</td>\n",
       "      <td>False</td>\n",
       "      <td>...</td>\n",
       "      <td>294.0</td>\n",
       "      <td>3</td>\n",
       "      <td>298.0</td>\n",
       "      <td>366.0</td>\n",
       "      <td>82943</td>\n",
       "      <td>5</td>\n",
       "      <td>7</td>\n",
       "      <td>2017</td>\n",
       "      <td>последний</td>\n",
       "      <td>33</td>\n",
       "    </tr>\n",
       "    <tr>\n",
       "      <th>16</th>\n",
       "      <td>11</td>\n",
       "      <td>6700000</td>\n",
       "      <td>82.0</td>\n",
       "      <td>2017-11-23</td>\n",
       "      <td>3</td>\n",
       "      <td>3.05</td>\n",
       "      <td>5</td>\n",
       "      <td>55.6</td>\n",
       "      <td>1</td>\n",
       "      <td>False</td>\n",
       "      <td>...</td>\n",
       "      <td>420.0</td>\n",
       "      <td>0</td>\n",
       "      <td>NaN</td>\n",
       "      <td>397.0</td>\n",
       "      <td>81707</td>\n",
       "      <td>3</td>\n",
       "      <td>11</td>\n",
       "      <td>2017</td>\n",
       "      <td>первый</td>\n",
       "      <td>10</td>\n",
       "    </tr>\n",
       "  </tbody>\n",
       "</table>\n",
       "<p>5 rows × 28 columns</p>\n",
       "</div>"
      ],
      "text/plain": [
       "    total_images  last_price  total_area first_day_exposition  rooms  \\\n",
       "4              2    10000000       100.0           2018-06-19      2   \n",
       "9             18     5400000        61.0           2017-02-26      3   \n",
       "10             5     5050000        39.6           2017-11-16      1   \n",
       "13            20     3550000        42.8           2017-07-01      2   \n",
       "16            11     6700000        82.0           2017-11-23      3   \n",
       "\n",
       "    ceiling_height  floors_total  living_area  floor  is_apartment  ...  \\\n",
       "4             3.03            14         32.0     13         False  ...   \n",
       "9             2.50             9         43.6      7         False  ...   \n",
       "10            2.67            12         20.3      3         False  ...   \n",
       "13            2.56             5         27.0      5         False  ...   \n",
       "16            3.05             5         55.6      1         False  ...   \n",
       "\n",
       "    parks_nearest  ponds_around3000  ponds_nearest  days_exposition  \\\n",
       "4           112.0                 1           48.0            121.0   \n",
       "9             NaN                 0            NaN            289.0   \n",
       "10          310.0                 2          553.0            137.0   \n",
       "13          294.0                 3          298.0            366.0   \n",
       "16          420.0                 0            NaN            397.0   \n",
       "\n",
       "   one_square_meter_price  weekday_exposition  month_exposition  \\\n",
       "4                  100000                   1                 6   \n",
       "9                   88524                   6                 2   \n",
       "10                 127525                   3                11   \n",
       "13                  82943                   5                 7   \n",
       "16                  81707                   3                11   \n",
       "\n",
       "    year_exposition  floor_category  cityCenters_nearest_km  \n",
       "4              2018          другой                       8  \n",
       "9              2017          другой                      15  \n",
       "10             2017          другой                      13  \n",
       "13             2017       последний                      33  \n",
       "16             2017          первый                      10  \n",
       "\n",
       "[5 rows x 28 columns]"
      ]
     },
     "execution_count": 352,
     "metadata": {},
     "output_type": "execute_result"
    }
   ],
   "source": [
    "good_df['cityCenters_nearest_km'] = good_df['cityCenters_nearest'].apply(lambda x: int(x/1000))\n",
    "good_df.head(5)"
   ]
  },
  {
   "cell_type": "markdown",
   "metadata": {},
   "source": [
    "<div class=\"alert alert-success\">\n",
    "<b>Комментарий ревьюера ✔️:</b> Великолепно, все пункты задания выполнены в полном объёме"
   ]
  },
  {
   "cell_type": "markdown",
   "metadata": {},
   "source": [
    "### Проведите исследовательский анализ данных"
   ]
  },
  {
   "cell_type": "markdown",
   "metadata": {},
   "source": [
    "#### Изучим следующие параметры объектов:"
   ]
  },
  {
   "cell_type": "markdown",
   "metadata": {},
   "source": [
    "##### общая площадь;"
   ]
  },
  {
   "cell_type": "code",
   "execution_count": 353,
   "metadata": {
    "scrolled": false
   },
   "outputs": [
    {
     "data": {
      "text/plain": [
       "<AxesSubplot:>"
      ]
     },
     "execution_count": 353,
     "metadata": {},
     "output_type": "execute_result"
    },
    {
     "data": {
      "image/png": "[encoded data removed]",
      "text/plain": [
       "<Figure size 432x288 with 1 Axes>"
      ]
     },
     "metadata": {
      "needs_background": "light"
     },
     "output_type": "display_data"
    }
   ],
   "source": [
    "good_df['total_area'].hist(bins=200)"
   ]
  },
  {
   "cell_type": "markdown",
   "metadata": {},
   "source": [
    "видим, что большинство квартир от имеют площадь до 300 кв. метром, поэтому на всякий случай исключим слишком большие квартиры, чтобы они не повлияли на результат исследования"
   ]
  },
  {
   "cell_type": "markdown",
   "metadata": {},
   "source": [
    "<div class=\"alert alert-success\">\n",
    "<b>Комментарий ревьюера ✔️:</b> В целом, такая фильтрация допустима"
   ]
  },
  {
   "cell_type": "code",
   "execution_count": 354,
   "metadata": {},
   "outputs": [],
   "source": [
    "good_df = good_df[good_df['total_area'] < 300]"
   ]
  },
  {
   "cell_type": "code",
   "execution_count": 355,
   "metadata": {
    "scrolled": true
   },
   "outputs": [
    {
     "data": {
      "text/plain": [
       "<AxesSubplot:>"
      ]
     },
     "execution_count": 355,
     "metadata": {},
     "output_type": "execute_result"
    },
    {
     "data": {
      "image/png": "[encoded data removed]",
      "text/plain": [
       "<Figure size 432x288 with 1 Axes>"
      ]
     },
     "metadata": {
      "needs_background": "light"
     },
     "output_type": "display_data"
    }
   ],
   "source": [
    "good_df['total_area'].hist(bins=200)"
   ]
  },
  {
   "cell_type": "markdown",
   "metadata": {},
   "source": [
    "гистограма скошена влево, распределение похоже на распределение Пуассона"
   ]
  },
  {
   "cell_type": "markdown",
   "metadata": {},
   "source": [
    "##### жилая площадь;\n"
   ]
  },
  {
   "cell_type": "code",
   "execution_count": 356,
   "metadata": {},
   "outputs": [
    {
     "data": {
      "text/plain": [
       "<AxesSubplot:>"
      ]
     },
     "execution_count": 356,
     "metadata": {},
     "output_type": "execute_result"
    },
    {
     "data": {
      "image/png": "[encoded data removed]",
      "text/plain": [
       "<Figure size 432x288 with 1 Axes>"
      ]
     },
     "metadata": {
      "needs_background": "light"
     },
     "output_type": "display_data"
    }
   ],
   "source": [
    "good_df['living_area'].hist(bins=100)"
   ]
  },
  {
   "cell_type": "markdown",
   "metadata": {},
   "source": [
    "Здесь видим 2 пика"
   ]
  },
  {
   "cell_type": "markdown",
   "metadata": {},
   "source": [
    "<div class=\"alert alert-success\">\n",
    "<b>Комментарий ревьюера ✔️:</b> Хорошо"
   ]
  },
  {
   "cell_type": "markdown",
   "metadata": {},
   "source": [
    "##### площадь кухни;\n"
   ]
  },
  {
   "cell_type": "code",
   "execution_count": 357,
   "metadata": {},
   "outputs": [
    {
     "data": {
      "text/plain": [
       "<AxesSubplot:>"
      ]
     },
     "execution_count": 357,
     "metadata": {},
     "output_type": "execute_result"
    },
    {
     "data": {
      "image/png": "[encoded data removed]",
      "text/plain": [
       "<Figure size 432x288 with 1 Axes>"
      ]
     },
     "metadata": {
      "needs_background": "light"
     },
     "output_type": "display_data"
    }
   ],
   "source": [
    "good_df['kitchen_area'].hist(bins=100)"
   ]
  },
  {
   "cell_type": "markdown",
   "metadata": {},
   "source": [
    "Тоже похоже на распределение Пуассона"
   ]
  },
  {
   "cell_type": "markdown",
   "metadata": {},
   "source": [
    "##### цена объекта;\n"
   ]
  },
  {
   "cell_type": "code",
   "execution_count": 358,
   "metadata": {},
   "outputs": [
    {
     "data": {
      "text/plain": [
       "<AxesSubplot:>"
      ]
     },
     "execution_count": 358,
     "metadata": {},
     "output_type": "execute_result"
    },
    {
     "data": {
      "image/png": "[encoded data removed]",
      "text/plain": [
       "<Figure size 432x288 with 1 Axes>"
      ]
     },
     "metadata": {
      "needs_background": "light"
     },
     "output_type": "display_data"
    }
   ],
   "source": [
    "good_df['last_price'].hist(bins=30)"
   ]
  },
  {
   "cell_type": "markdown",
   "metadata": {},
   "source": [
    "Видим, что в выборке присутствуют отдельные очень дорогие квартиры"
   ]
  },
  {
   "cell_type": "markdown",
   "metadata": {},
   "source": [
    "<div class=\"alert alert-warning\">\n",
    "<b>Комментарий ревьюера ⚠️:</b> Хорошо бы здесь поработать над range)"
   ]
  },
  {
   "cell_type": "markdown",
   "metadata": {},
   "source": [
    "##### количество комнат;\n"
   ]
  },
  {
   "cell_type": "code",
   "execution_count": 359,
   "metadata": {},
   "outputs": [
    {
     "data": {
      "text/plain": [
       "<AxesSubplot:>"
      ]
     },
     "execution_count": 359,
     "metadata": {},
     "output_type": "execute_result"
    },
    {
     "data": {
      "image/png": "[encoded data removed]",
      "text/plain": [
       "<Figure size 432x288 with 1 Axes>"
      ]
     },
     "metadata": {
      "needs_background": "light"
     },
     "output_type": "display_data"
    }
   ],
   "source": [
    "good_df['rooms'].hist(bins=30)"
   ]
  },
  {
   "cell_type": "markdown",
   "metadata": {},
   "source": [
    "Больше всего однокомнатных и двухкомнатных"
   ]
  },
  {
   "cell_type": "markdown",
   "metadata": {},
   "source": [
    "<div class=\"alert alert-success\">\n",
    "<b>Комментарий ревьюера ✔️:</b> Логично"
   ]
  },
  {
   "cell_type": "markdown",
   "metadata": {},
   "source": [
    "##### высота потолков;\n"
   ]
  },
  {
   "cell_type": "code",
   "execution_count": 360,
   "metadata": {},
   "outputs": [
    {
     "data": {
      "text/plain": [
       "<AxesSubplot:>"
      ]
     },
     "execution_count": 360,
     "metadata": {},
     "output_type": "execute_result"
    },
    {
     "data": {
      "image/png": "[encoded data removed]",
      "text/plain": [
       "<Figure size 432x288 with 1 Axes>"
      ]
     },
     "metadata": {
      "needs_background": "light"
     },
     "output_type": "display_data"
    }
   ],
   "source": [
    "good_df['ceiling_height'].hist(bins=50)"
   ]
  },
  {
   "cell_type": "markdown",
   "metadata": {},
   "source": [
    "Больше всего квартир с потолками около 2.5 метров"
   ]
  },
  {
   "cell_type": "markdown",
   "metadata": {},
   "source": [
    "##### этаж квартиры;\n"
   ]
  },
  {
   "cell_type": "code",
   "execution_count": 361,
   "metadata": {},
   "outputs": [
    {
     "data": {
      "text/plain": [
       "<AxesSubplot:>"
      ]
     },
     "execution_count": 361,
     "metadata": {},
     "output_type": "execute_result"
    },
    {
     "data": {
      "image/png": "[encoded data removed]",
      "text/plain": [
       "<Figure size 432x288 with 1 Axes>"
      ]
     },
     "metadata": {
      "needs_background": "light"
     },
     "output_type": "display_data"
    }
   ],
   "source": [
    "good_df['floor'].hist(bins=20)"
   ]
  },
  {
   "cell_type": "markdown",
   "metadata": {},
   "source": [
    "На низких этажах квартиры продают чаще. Наверное, потому что в Санкт-Петербурге не так много многоэтажек с этажностью больше 10"
   ]
  },
  {
   "cell_type": "markdown",
   "metadata": {},
   "source": [
    "<div class=\"alert alert-success\">\n",
    "<b>Комментарий ревьюера ✔️:</b> Да, в основном застройка низкоэтажная"
   ]
  },
  {
   "cell_type": "markdown",
   "metadata": {},
   "source": [
    "##### тип этажа квартиры («первый», «последний», «другой»);\n"
   ]
  },
  {
   "cell_type": "code",
   "execution_count": 362,
   "metadata": {},
   "outputs": [
    {
     "data": {
      "text/plain": [
       "<AxesSubplot:>"
      ]
     },
     "execution_count": 362,
     "metadata": {},
     "output_type": "execute_result"
    },
    {
     "data": {
      "image/png": "[encoded data removed]",
      "text/plain": [
       "<Figure size 432x288 with 1 Axes>"
      ]
     },
     "metadata": {
      "needs_background": "light"
     },
     "output_type": "display_data"
    }
   ],
   "source": [
    "good_df['floor_category'].hist(bins=3)"
   ]
  },
  {
   "cell_type": "markdown",
   "metadata": {},
   "source": [
    "Видим, что и первый и последний этажи составляют примерно по 1/7 или 15% от других"
   ]
  },
  {
   "cell_type": "markdown",
   "metadata": {},
   "source": [
    "##### общее количество этажей в доме;\n"
   ]
  },
  {
   "cell_type": "code",
   "execution_count": 363,
   "metadata": {},
   "outputs": [
    {
     "data": {
      "text/plain": [
       "<AxesSubplot:>"
      ]
     },
     "execution_count": 363,
     "metadata": {},
     "output_type": "execute_result"
    },
    {
     "data": {
      "image/png": "[encoded data removed]",
      "text/plain": [
       "<Figure size 432x288 with 1 Axes>"
      ]
     },
     "metadata": {
      "needs_background": "light"
     },
     "output_type": "display_data"
    }
   ],
   "source": [
    "good_df['floors_total'].hist(bins=30)"
   ]
  },
  {
   "cell_type": "markdown",
   "metadata": {},
   "source": [
    "Большинство многоэтажек до 10 этажей, но встречаются и очень высокие дома"
   ]
  },
  {
   "cell_type": "markdown",
   "metadata": {},
   "source": [
    "<div class=\"alert alert-success\">\n",
    "<b>Комментарий ревьюера ✔️:</b> Типовые дома выделяются"
   ]
  },
  {
   "cell_type": "markdown",
   "metadata": {},
   "source": [
    "##### расстояние до центра города в километрах;\n"
   ]
  },
  {
   "cell_type": "code",
   "execution_count": 364,
   "metadata": {},
   "outputs": [
    {
     "data": {
      "text/plain": [
       "<AxesSubplot:>"
      ]
     },
     "execution_count": 364,
     "metadata": {},
     "output_type": "execute_result"
    },
    {
     "data": {
      "image/png": "[encoded data removed]",
      "text/plain": [
       "<Figure size 432x288 with 1 Axes>"
      ]
     },
     "metadata": {
      "needs_background": "light"
     },
     "output_type": "display_data"
    }
   ],
   "source": [
    "good_df['cityCenters_nearest_km'].hist(bins=60)"
   ]
  },
  {
   "cell_type": "markdown",
   "metadata": {},
   "source": [
    "Большинство квартир не в самом центра, а на расстоянии около 15 км от него"
   ]
  },
  {
   "cell_type": "markdown",
   "metadata": {},
   "source": [
    "##### расстояние до ближайшего аэропорта;\n"
   ]
  },
  {
   "cell_type": "code",
   "execution_count": 365,
   "metadata": {},
   "outputs": [
    {
     "data": {
      "text/plain": [
       "<AxesSubplot:>"
      ]
     },
     "execution_count": 365,
     "metadata": {},
     "output_type": "execute_result"
    },
    {
     "data": {
      "image/png": "[encoded data removed]",
      "text/plain": [
       "<Figure size 432x288 with 1 Axes>"
      ]
     },
     "metadata": {
      "needs_background": "light"
     },
     "output_type": "display_data"
    }
   ],
   "source": [
    "good_df['airports_nearest'].hist(bins=100)"
   ]
  },
  {
   "cell_type": "markdown",
   "metadata": {},
   "source": [
    "Рядом с аэропортом почти нет квартир. Наверное, там нельзя строить"
   ]
  },
  {
   "cell_type": "markdown",
   "metadata": {},
   "source": [
    "##### расстояние до ближайшего парка;\n"
   ]
  },
  {
   "cell_type": "code",
   "execution_count": 366,
   "metadata": {},
   "outputs": [
    {
     "data": {
      "text/plain": [
       "<AxesSubplot:>"
      ]
     },
     "execution_count": 366,
     "metadata": {},
     "output_type": "execute_result"
    },
    {
     "data": {
      "image/png": "[encoded data removed]",
      "text/plain": [
       "<Figure size 432x288 with 1 Axes>"
      ]
     },
     "metadata": {
      "needs_background": "light"
     },
     "output_type": "display_data"
    }
   ],
   "source": [
    "good_df['parks_nearest'].hist(bins=30)"
   ]
  },
  {
   "cell_type": "markdown",
   "metadata": {},
   "source": [
    "Есть квартиры прям у парка, но большинство находится в пределах одного километра от парка"
   ]
  },
  {
   "cell_type": "markdown",
   "metadata": {},
   "source": [
    "<div class=\"alert alert-success\">\n",
    "<b>Комментарий ревьюера ✔️:</b> Все параметры удаленности разобраны"
   ]
  },
  {
   "cell_type": "markdown",
   "metadata": {},
   "source": [
    "##### день и месяц публикации объявления.\n"
   ]
  },
  {
   "cell_type": "code",
   "execution_count": 367,
   "metadata": {
    "scrolled": true
   },
   "outputs": [
    {
     "data": {
      "text/plain": [
       "<AxesSubplot:>"
      ]
     },
     "execution_count": 367,
     "metadata": {},
     "output_type": "execute_result"
    },
    {
     "data": {
      "image/png": "[encoded data removed]",
      "text/plain": [
       "<Figure size 432x288 with 1 Axes>"
      ]
     },
     "metadata": {
      "needs_background": "light"
     },
     "output_type": "display_data"
    }
   ],
   "source": [
    "good_df['weekday_exposition'].hist(bins=7)"
   ]
  },
  {
   "cell_type": "markdown",
   "metadata": {},
   "source": [
    "Реже всего размещают объявления в воскресенье"
   ]
  },
  {
   "cell_type": "code",
   "execution_count": 368,
   "metadata": {
    "scrolled": false
   },
   "outputs": [
    {
     "data": {
      "text/plain": [
       "<AxesSubplot:>"
      ]
     },
     "execution_count": 368,
     "metadata": {},
     "output_type": "execute_result"
    },
    {
     "data": {
      "image/png": "[encoded data removed]",
      "text/plain": [
       "<Figure size 432x288 with 1 Axes>"
      ]
     },
     "metadata": {
      "needs_background": "light"
     },
     "output_type": "display_data"
    }
   ],
   "source": [
    "good_df['month_exposition'].hist(bins=12)"
   ]
  },
  {
   "cell_type": "markdown",
   "metadata": {},
   "source": [
    "В феврале чаще всего размещают объявления. Реже всего в мае"
   ]
  },
  {
   "cell_type": "markdown",
   "metadata": {},
   "source": [
    "<div class=\"alert alert-success\">\n",
    "<b>Комментарий ревьюера ✔️:</b> Временные показатели также проанализированы"
   ]
  },
  {
   "cell_type": "markdown",
   "metadata": {},
   "source": [
    "#### Изучим, как быстро продавались квартиры (столбец days_exposition). Этот параметр показывает, сколько дней было размещено каждое объявление."
   ]
  },
  {
   "cell_type": "code",
   "execution_count": 369,
   "metadata": {
    "scrolled": true
   },
   "outputs": [
    {
     "data": {
      "text/html": [
       "<div>\n",
       "<style scoped>\n",
       "    .dataframe tbody tr th:only-of-type {\n",
       "        vertical-align: middle;\n",
       "    }\n",
       "\n",
       "    .dataframe tbody tr th {\n",
       "        vertical-align: top;\n",
       "    }\n",
       "\n",
       "    .dataframe thead th {\n",
       "        text-align: right;\n",
       "    }\n",
       "</style>\n",
       "<table border=\"1\" class=\"dataframe\">\n",
       "  <thead>\n",
       "    <tr style=\"text-align: right;\">\n",
       "      <th></th>\n",
       "      <th>total_images</th>\n",
       "      <th>last_price</th>\n",
       "      <th>total_area</th>\n",
       "      <th>first_day_exposition</th>\n",
       "      <th>rooms</th>\n",
       "      <th>ceiling_height</th>\n",
       "      <th>floors_total</th>\n",
       "      <th>living_area</th>\n",
       "      <th>floor</th>\n",
       "      <th>is_apartment</th>\n",
       "      <th>...</th>\n",
       "      <th>parks_nearest</th>\n",
       "      <th>ponds_around3000</th>\n",
       "      <th>ponds_nearest</th>\n",
       "      <th>days_exposition</th>\n",
       "      <th>one_square_meter_price</th>\n",
       "      <th>weekday_exposition</th>\n",
       "      <th>month_exposition</th>\n",
       "      <th>year_exposition</th>\n",
       "      <th>floor_category</th>\n",
       "      <th>cityCenters_nearest_km</th>\n",
       "    </tr>\n",
       "  </thead>\n",
       "  <tbody>\n",
       "    <tr>\n",
       "      <th>4</th>\n",
       "      <td>2</td>\n",
       "      <td>10000000</td>\n",
       "      <td>100.0</td>\n",
       "      <td>2018-06-19</td>\n",
       "      <td>2</td>\n",
       "      <td>3.03</td>\n",
       "      <td>14</td>\n",
       "      <td>32.0</td>\n",
       "      <td>13</td>\n",
       "      <td>False</td>\n",
       "      <td>...</td>\n",
       "      <td>112.0</td>\n",
       "      <td>1</td>\n",
       "      <td>48.0</td>\n",
       "      <td>121.0</td>\n",
       "      <td>100000</td>\n",
       "      <td>1</td>\n",
       "      <td>6</td>\n",
       "      <td>2018</td>\n",
       "      <td>другой</td>\n",
       "      <td>8</td>\n",
       "    </tr>\n",
       "    <tr>\n",
       "      <th>9</th>\n",
       "      <td>18</td>\n",
       "      <td>5400000</td>\n",
       "      <td>61.0</td>\n",
       "      <td>2017-02-26</td>\n",
       "      <td>3</td>\n",
       "      <td>2.50</td>\n",
       "      <td>9</td>\n",
       "      <td>43.6</td>\n",
       "      <td>7</td>\n",
       "      <td>False</td>\n",
       "      <td>...</td>\n",
       "      <td>NaN</td>\n",
       "      <td>0</td>\n",
       "      <td>NaN</td>\n",
       "      <td>289.0</td>\n",
       "      <td>88524</td>\n",
       "      <td>6</td>\n",
       "      <td>2</td>\n",
       "      <td>2017</td>\n",
       "      <td>другой</td>\n",
       "      <td>15</td>\n",
       "    </tr>\n",
       "    <tr>\n",
       "      <th>10</th>\n",
       "      <td>5</td>\n",
       "      <td>5050000</td>\n",
       "      <td>39.6</td>\n",
       "      <td>2017-11-16</td>\n",
       "      <td>1</td>\n",
       "      <td>2.67</td>\n",
       "      <td>12</td>\n",
       "      <td>20.3</td>\n",
       "      <td>3</td>\n",
       "      <td>False</td>\n",
       "      <td>...</td>\n",
       "      <td>310.0</td>\n",
       "      <td>2</td>\n",
       "      <td>553.0</td>\n",
       "      <td>137.0</td>\n",
       "      <td>127525</td>\n",
       "      <td>3</td>\n",
       "      <td>11</td>\n",
       "      <td>2017</td>\n",
       "      <td>другой</td>\n",
       "      <td>13</td>\n",
       "    </tr>\n",
       "    <tr>\n",
       "      <th>13</th>\n",
       "      <td>20</td>\n",
       "      <td>3550000</td>\n",
       "      <td>42.8</td>\n",
       "      <td>2017-07-01</td>\n",
       "      <td>2</td>\n",
       "      <td>2.56</td>\n",
       "      <td>5</td>\n",
       "      <td>27.0</td>\n",
       "      <td>5</td>\n",
       "      <td>False</td>\n",
       "      <td>...</td>\n",
       "      <td>294.0</td>\n",
       "      <td>3</td>\n",
       "      <td>298.0</td>\n",
       "      <td>366.0</td>\n",
       "      <td>82943</td>\n",
       "      <td>5</td>\n",
       "      <td>7</td>\n",
       "      <td>2017</td>\n",
       "      <td>последний</td>\n",
       "      <td>33</td>\n",
       "    </tr>\n",
       "    <tr>\n",
       "      <th>16</th>\n",
       "      <td>11</td>\n",
       "      <td>6700000</td>\n",
       "      <td>82.0</td>\n",
       "      <td>2017-11-23</td>\n",
       "      <td>3</td>\n",
       "      <td>3.05</td>\n",
       "      <td>5</td>\n",
       "      <td>55.6</td>\n",
       "      <td>1</td>\n",
       "      <td>False</td>\n",
       "      <td>...</td>\n",
       "      <td>420.0</td>\n",
       "      <td>0</td>\n",
       "      <td>NaN</td>\n",
       "      <td>397.0</td>\n",
       "      <td>81707</td>\n",
       "      <td>3</td>\n",
       "      <td>11</td>\n",
       "      <td>2017</td>\n",
       "      <td>первый</td>\n",
       "      <td>10</td>\n",
       "    </tr>\n",
       "  </tbody>\n",
       "</table>\n",
       "<p>5 rows × 28 columns</p>\n",
       "</div>"
      ],
      "text/plain": [
       "    total_images  last_price  total_area first_day_exposition  rooms  \\\n",
       "4              2    10000000       100.0           2018-06-19      2   \n",
       "9             18     5400000        61.0           2017-02-26      3   \n",
       "10             5     5050000        39.6           2017-11-16      1   \n",
       "13            20     3550000        42.8           2017-07-01      2   \n",
       "16            11     6700000        82.0           2017-11-23      3   \n",
       "\n",
       "    ceiling_height  floors_total  living_area  floor  is_apartment  ...  \\\n",
       "4             3.03            14         32.0     13         False  ...   \n",
       "9             2.50             9         43.6      7         False  ...   \n",
       "10            2.67            12         20.3      3         False  ...   \n",
       "13            2.56             5         27.0      5         False  ...   \n",
       "16            3.05             5         55.6      1         False  ...   \n",
       "\n",
       "    parks_nearest  ponds_around3000  ponds_nearest  days_exposition  \\\n",
       "4           112.0                 1           48.0            121.0   \n",
       "9             NaN                 0            NaN            289.0   \n",
       "10          310.0                 2          553.0            137.0   \n",
       "13          294.0                 3          298.0            366.0   \n",
       "16          420.0                 0            NaN            397.0   \n",
       "\n",
       "   one_square_meter_price  weekday_exposition  month_exposition  \\\n",
       "4                  100000                   1                 6   \n",
       "9                   88524                   6                 2   \n",
       "10                 127525                   3                11   \n",
       "13                  82943                   5                 7   \n",
       "16                  81707                   3                11   \n",
       "\n",
       "    year_exposition  floor_category  cityCenters_nearest_km  \n",
       "4              2018          другой                       8  \n",
       "9              2017          другой                      15  \n",
       "10             2017          другой                      13  \n",
       "13             2017       последний                      33  \n",
       "16             2017          первый                      10  \n",
       "\n",
       "[5 rows x 28 columns]"
      ]
     },
     "execution_count": 369,
     "metadata": {},
     "output_type": "execute_result"
    }
   ],
   "source": [
    "good_df.head()"
   ]
  },
  {
   "cell_type": "code",
   "execution_count": 370,
   "metadata": {},
   "outputs": [
    {
     "data": {
      "text/plain": [
       "<AxesSubplot:>"
      ]
     },
     "execution_count": 370,
     "metadata": {},
     "output_type": "execute_result"
    },
    {
     "data": {
      "image/png": "[encoded data removed]",
      "text/plain": [
       "<Figure size 432x288 with 1 Axes>"
      ]
     },
     "metadata": {
      "needs_background": "light"
     },
     "output_type": "display_data"
    }
   ],
   "source": [
    "good_df['days_exposition'].hist(bins=20)"
   ]
  },
  {
   "cell_type": "code",
   "execution_count": 371,
   "metadata": {
    "scrolled": true
   },
   "outputs": [
    {
     "data": {
      "text/plain": [
       "count    11514.000000\n",
       "mean       189.413323\n",
       "std        228.829198\n",
       "min          1.000000\n",
       "25%         45.000000\n",
       "50%        103.000000\n",
       "75%        244.000000\n",
       "max       1580.000000\n",
       "Name: days_exposition, dtype: float64"
      ]
     },
     "execution_count": 371,
     "metadata": {},
     "output_type": "execute_result"
    }
   ],
   "source": [
    "good_df['days_exposition'].describe()"
   ]
  },
  {
   "cell_type": "code",
   "execution_count": 372,
   "metadata": {
    "scrolled": true
   },
   "outputs": [
    {
     "data": {
      "text/plain": [
       "<AxesSubplot:>"
      ]
     },
     "execution_count": 372,
     "metadata": {},
     "output_type": "execute_result"
    },
    {
     "data": {
      "image/png": "[encoded data removed]",
      "text/plain": [
       "<Figure size 432x288 with 1 Axes>"
      ]
     },
     "metadata": {
      "needs_background": "light"
     },
     "output_type": "display_data"
    }
   ],
   "source": [
    "\n",
    "good_df.boxplot(column='days_exposition')"
   ]
  },
  {
   "cell_type": "markdown",
   "metadata": {},
   "source": [
    "Продажа квартиры обычно занмиает 101 день. Быстрыми продажами можно назвать те, которые совершены меньше, чем за 101 день. Необычно долгие продажи - те, срок которых превышает 241 день. "
   ]
  },
  {
   "cell_type": "markdown",
   "metadata": {},
   "source": [
    "<div class=\"alert alert-success\">\n",
    "<b>Комментарий ревьюера ✔️:</b> Отлично, границы days_exposition установлены"
   ]
  },
  {
   "cell_type": "markdown",
   "metadata": {},
   "source": [
    "#### Какие факторы больше всего влияют на общую (полную) стоимость объекта?\n",
    "Изучите, зависит ли цена от:"
   ]
  },
  {
   "cell_type": "markdown",
   "metadata": {},
   "source": [
    "общей площади;"
   ]
  },
  {
   "cell_type": "code",
   "execution_count": 373,
   "metadata": {
    "scrolled": false
   },
   "outputs": [
    {
     "data": {
      "text/plain": [
       "<AxesSubplot:xlabel='total_area', ylabel='last_price'>"
      ]
     },
     "execution_count": 373,
     "metadata": {},
     "output_type": "execute_result"
    },
    {
     "data": {
      "image/png": "[encoded data removed]",
      "text/plain": [
       "<Figure size 432x288 with 1 Axes>"
      ]
     },
     "metadata": {
      "needs_background": "light"
     },
     "output_type": "display_data"
    }
   ],
   "source": [
    "good_df.plot(x='total_area',y='last_price', kind='scatter')"
   ]
  },
  {
   "cell_type": "code",
   "execution_count": 374,
   "metadata": {},
   "outputs": [
    {
     "data": {
      "text/plain": [
       "0.7415358628295061"
      ]
     },
     "execution_count": 374,
     "metadata": {},
     "output_type": "execute_result"
    }
   ],
   "source": [
    "good_df['total_area'].corr(good_df['last_price'])"
   ]
  },
  {
   "cell_type": "markdown",
   "metadata": {},
   "source": [
    "<div class=\"alert alert-success\">\n",
    "<b>Комментарий ревьюера ✔️:</b> Здорово, что анализируешь как линейную, так и нелинейную зависимость"
   ]
  },
  {
   "cell_type": "markdown",
   "metadata": {},
   "source": [
    "жилой площади;"
   ]
  },
  {
   "cell_type": "code",
   "execution_count": 375,
   "metadata": {},
   "outputs": [
    {
     "data": {
      "text/plain": [
       "<AxesSubplot:xlabel='living_area', ylabel='last_price'>"
      ]
     },
     "execution_count": 375,
     "metadata": {},
     "output_type": "execute_result"
    },
    {
     "data": {
      "image/png": "[encoded data removed]",
      "text/plain": [
       "<Figure size 432x288 with 1 Axes>"
      ]
     },
     "metadata": {
      "needs_background": "light"
     },
     "output_type": "display_data"
    }
   ],
   "source": [
    "good_df.plot(x='living_area',y='last_price', kind='scatter')"
   ]
  },
  {
   "cell_type": "code",
   "execution_count": 376,
   "metadata": {},
   "outputs": [
    {
     "data": {
      "text/plain": [
       "0.6541197310617448"
      ]
     },
     "execution_count": 376,
     "metadata": {},
     "output_type": "execute_result"
    }
   ],
   "source": [
    "good_df['living_area'].corr(good_df['last_price'])"
   ]
  },
  {
   "cell_type": "markdown",
   "metadata": {},
   "source": [
    "<div class=\"alert alert-success\">\n",
    "<b>Комментарий ревьюера ✔️:</b> Хорошо"
   ]
  },
  {
   "cell_type": "markdown",
   "metadata": {},
   "source": [
    "площади кухни;"
   ]
  },
  {
   "cell_type": "code",
   "execution_count": 377,
   "metadata": {},
   "outputs": [
    {
     "data": {
      "text/plain": [
       "<AxesSubplot:xlabel='kitchen_area', ylabel='last_price'>"
      ]
     },
     "execution_count": 377,
     "metadata": {},
     "output_type": "execute_result"
    },
    {
     "data": {
      "image/png": "[encoded data removed]",
      "text/plain": [
       "<Figure size 432x288 with 1 Axes>"
      ]
     },
     "metadata": {
      "needs_background": "light"
     },
     "output_type": "display_data"
    }
   ],
   "source": [
    "good_df.plot(x='kitchen_area',y='last_price', kind='scatter')"
   ]
  },
  {
   "cell_type": "code",
   "execution_count": 378,
   "metadata": {},
   "outputs": [
    {
     "data": {
      "text/plain": [
       "0.5612055668575985"
      ]
     },
     "execution_count": 378,
     "metadata": {},
     "output_type": "execute_result"
    }
   ],
   "source": [
    "good_df['kitchen_area'].corr(good_df['last_price'])"
   ]
  },
  {
   "cell_type": "markdown",
   "metadata": {},
   "source": [
    "количества комнат;"
   ]
  },
  {
   "cell_type": "code",
   "execution_count": 379,
   "metadata": {
    "scrolled": true
   },
   "outputs": [
    {
     "data": {
      "image/png": "[encoded data removed]",
      "text/plain": [
       "<Figure size 432x288 with 1 Axes>"
      ]
     },
     "metadata": {
      "needs_background": "light"
     },
     "output_type": "display_data"
    }
   ],
   "source": [
    "ax = good_df.groupby('rooms').mean()['last_price'].plot(kind='bar')\n",
    "ax.set_xlabel('количество комнат')\n",
    "ax.set_ylabel('средняя цена')\n",
    "\n",
    "plt.show()"
   ]
  },
  {
   "cell_type": "markdown",
   "metadata": {},
   "source": [
    "<div class=\"alert alert-info\"> <b>Комментарий студента:</b> Чем больше комнат, тем в среднем дороже квартира, что логично, но когда комнат много (бошьше 6) то на цену больше влияют, скорее, другие параметры</div>"
   ]
  },
  {
   "cell_type": "markdown",
   "metadata": {},
   "source": [
    "<div class=\"alert alert-success\">\n",
    "<b>Комментарий ревьюера v 2.0 ✔️:</b> Отлично </div>"
   ]
  },
  {
   "cell_type": "code",
   "execution_count": 380,
   "metadata": {
    "scrolled": true
   },
   "outputs": [
    {
     "data": {
      "text/plain": [
       "<AxesSubplot:ylabel='last_price'>"
      ]
     },
     "execution_count": 380,
     "metadata": {},
     "output_type": "execute_result"
    },
    {
     "data": {
      "image/png": "[encoded data removed]",
      "text/plain": [
       "<Figure size 432x288 with 1 Axes>"
      ]
     },
     "metadata": {},
     "output_type": "display_data"
    }
   ],
   "source": [
    "good_df.groupby('rooms').count()['last_price'].plot(kind='pie')"
   ]
  },
  {
   "cell_type": "markdown",
   "metadata": {},
   "source": [
    "<div class=\"alert alert-info\"> <b>Комментарий студента:</b> Больше всего объявлений с однушками и двушками</div>"
   ]
  },
  {
   "cell_type": "code",
   "execution_count": 381,
   "metadata": {},
   "outputs": [
    {
     "data": {
      "text/plain": [
       "0.4564512929348961"
      ]
     },
     "execution_count": 381,
     "metadata": {},
     "output_type": "execute_result"
    }
   ],
   "source": [
    "good_df['rooms'].corr(good_df['last_price'])"
   ]
  },
  {
   "cell_type": "markdown",
   "metadata": {},
   "source": [
    "<div class=\"alert alert-danger\">\n",
    "<b>Комментарий ревьюера ❌:</b> Но для комнат и всех следующих показателей диаграмма рассеяния не лучшее решение, ведь это дискретные и категорийные параметры. По ним стоит построить линейные графики"
   ]
  },
  {
   "cell_type": "markdown",
   "metadata": {},
   "source": [
    "этажа, на котором расположена квартира (первый, последний, другой);"
   ]
  },
  {
   "cell_type": "code",
   "execution_count": 382,
   "metadata": {
    "scrolled": true
   },
   "outputs": [
    {
     "data": {
      "text/plain": [
       "<AxesSubplot:ylabel='last_price'>"
      ]
     },
     "execution_count": 382,
     "metadata": {},
     "output_type": "execute_result"
    },
    {
     "data": {
      "image/png": "[encoded data removed]",
      "text/plain": [
       "<Figure size 432x288 with 1 Axes>"
      ]
     },
     "metadata": {},
     "output_type": "display_data"
    }
   ],
   "source": [
    "good_df.groupby('floor_category').count()['last_price'].plot(kind='pie')"
   ]
  },
  {
   "cell_type": "markdown",
   "metadata": {},
   "source": [
    "<div class=\"alert alert-info\"> <b>Комментарий студента:</b> На последнем этаже квартир продается больше, чем на первом</div>"
   ]
  },
  {
   "cell_type": "code",
   "execution_count": 383,
   "metadata": {},
   "outputs": [
    {
     "data": {
      "image/png": "[encoded data removed]",
      "text/plain": [
       "<Figure size 432x288 with 1 Axes>"
      ]
     },
     "metadata": {
      "needs_background": "light"
     },
     "output_type": "display_data"
    }
   ],
   "source": [
    "ax = good_df.groupby('floor_category').mean()['last_price'].plot(kind='bar')\n",
    "ax.set_xlabel('категория этажа')\n",
    "ax.set_ylabel('средняя цена')\n",
    "\n",
    "plt.show()"
   ]
  },
  {
   "cell_type": "markdown",
   "metadata": {},
   "source": [
    "<div class=\"alert alert-info\"> <b>Комментарий студента:</b> На первом этаже квартиры в среднем дешевле</div>"
   ]
  },
  {
   "cell_type": "markdown",
   "metadata": {},
   "source": [
    "<div class=\"alert alert-success\">\n",
    "<b>Комментарий ревьюера v 2.0 ✔️:</b> Довольно логично </div>"
   ]
  },
  {
   "cell_type": "markdown",
   "metadata": {},
   "source": [
    "даты размещения (день недели)."
   ]
  },
  {
   "cell_type": "code",
   "execution_count": 384,
   "metadata": {},
   "outputs": [
    {
     "data": {
      "image/png": "[encoded data removed]",
      "text/plain": [
       "<Figure size 432x288 with 1 Axes>"
      ]
     },
     "metadata": {
      "needs_background": "light"
     },
     "output_type": "display_data"
    }
   ],
   "source": [
    "ax = good_df.groupby('weekday_exposition').mean()['last_price'].plot(kind='bar')\n",
    "ax.set_xlabel('номер дня недели от 0-понедельник, 6-воскресенье')\n",
    "ax.set_ylabel('средняя цена')\n",
    "\n",
    "plt.show()"
   ]
  },
  {
   "cell_type": "markdown",
   "metadata": {},
   "source": [
    "<div class=\"alert alert-info\"> <b>Комментарий студента:</b> В среднем на цену квартиры не так сильно влияет день недели, когда квартиры были размещены</div>"
   ]
  },
  {
   "cell_type": "code",
   "execution_count": 385,
   "metadata": {},
   "outputs": [
    {
     "data": {
      "text/plain": [
       "-0.0012495112943635013"
      ]
     },
     "execution_count": 385,
     "metadata": {},
     "output_type": "execute_result"
    }
   ],
   "source": [
    "good_df['weekday_exposition'].corr(good_df['last_price'])"
   ]
  },
  {
   "cell_type": "markdown",
   "metadata": {},
   "source": [
    "даты размещения (месяц)."
   ]
  },
  {
   "cell_type": "code",
   "execution_count": 386,
   "metadata": {},
   "outputs": [
    {
     "data": {
      "image/png": "[encoded data removed]",
      "text/plain": [
       "<Figure size 432x288 with 1 Axes>"
      ]
     },
     "metadata": {
      "needs_background": "light"
     },
     "output_type": "display_data"
    }
   ],
   "source": [
    "ax = good_df.groupby('month_exposition').mean()['last_price'].plot(kind='bar')\n",
    "ax.set_xlabel('номер дня недели от 0-понедельник, 6-воскресенье')\n",
    "ax.set_ylabel('средняя цена')\n",
    "\n",
    "plt.show()"
   ]
  },
  {
   "cell_type": "markdown",
   "metadata": {},
   "source": [
    "<div class=\"alert alert-info\"> <b>Комментарий студента:</b> В среднем на цену квартиры не так сильно влияет месяц, когда квартиры были размещены</div>"
   ]
  },
  {
   "cell_type": "code",
   "execution_count": 387,
   "metadata": {},
   "outputs": [
    {
     "data": {
      "text/plain": [
       "0.010037367038250335"
      ]
     },
     "execution_count": 387,
     "metadata": {},
     "output_type": "execute_result"
    }
   ],
   "source": [
    "good_df['month_exposition'].corr(good_df['last_price'])"
   ]
  },
  {
   "cell_type": "markdown",
   "metadata": {},
   "source": [
    "даты размещения (год)."
   ]
  },
  {
   "cell_type": "code",
   "execution_count": 388,
   "metadata": {
    "scrolled": true
   },
   "outputs": [
    {
     "data": {
      "image/png": "[encoded data removed]",
      "text/plain": [
       "<Figure size 432x288 with 1 Axes>"
      ]
     },
     "metadata": {
      "needs_background": "light"
     },
     "output_type": "display_data"
    }
   ],
   "source": [
    "ax = good_df.groupby('year_exposition').mean()['last_price'].plot(kind='bar')\n",
    "ax.set_xlabel('номер дня недели от 0-понедельник, 6-воскресенье')\n",
    "ax.set_ylabel('средняя цена')\n",
    "\n",
    "plt.show()"
   ]
  },
  {
   "cell_type": "markdown",
   "metadata": {},
   "source": [
    "<div class=\"alert alert-info\"> <b>Комментарий студента:</b> Раньше (в 2014 году) размещали в среднем более дорогие квартиры. Сейчас, наверное, больше строят очень маленькие и дешевые, которые уменьшают среднюю цену</div>"
   ]
  },
  {
   "cell_type": "markdown",
   "metadata": {},
   "source": [
    "<div class=\"alert alert-success\">\n",
    "<b>Комментарий ревьюера v 2.0 ✔️:</b> Ко всем временным показателям также добавлены комментарии </div>"
   ]
  },
  {
   "cell_type": "code",
   "execution_count": 389,
   "metadata": {},
   "outputs": [
    {
     "data": {
      "text/plain": [
       "-0.09663767877798528"
      ]
     },
     "execution_count": 389,
     "metadata": {},
     "output_type": "execute_result"
    }
   ],
   "source": [
    "good_df['year_exposition'].corr(good_df['last_price'])"
   ]
  },
  {
   "cell_type": "markdown",
   "metadata": {},
   "source": [
    "<div class=\"alert alert-danger\">\n",
    "<b>Комментарий ревьюера ❌:</b> Также у каждого изучения связи должен быть хотя бы короткий комментарий в качестве описания, сейчас добавлены только графики"
   ]
  },
  {
   "cell_type": "code",
   "execution_count": 390,
   "metadata": {},
   "outputs": [
    {
     "data": {
      "text/plain": [
       "array([[<AxesSubplot:xlabel='total_area', ylabel='total_area'>,\n",
       "        <AxesSubplot:xlabel='living_area', ylabel='total_area'>,\n",
       "        <AxesSubplot:xlabel='kitchen_area', ylabel='total_area'>,\n",
       "        <AxesSubplot:xlabel='rooms', ylabel='total_area'>,\n",
       "        <AxesSubplot:xlabel='cityCenters_nearest_km', ylabel='total_area'>,\n",
       "        <AxesSubplot:xlabel='last_price', ylabel='total_area'>],\n",
       "       [<AxesSubplot:xlabel='total_area', ylabel='living_area'>,\n",
       "        <AxesSubplot:xlabel='living_area', ylabel='living_area'>,\n",
       "        <AxesSubplot:xlabel='kitchen_area', ylabel='living_area'>,\n",
       "        <AxesSubplot:xlabel='rooms', ylabel='living_area'>,\n",
       "        <AxesSubplot:xlabel='cityCenters_nearest_km', ylabel='living_area'>,\n",
       "        <AxesSubplot:xlabel='last_price', ylabel='living_area'>],\n",
       "       [<AxesSubplot:xlabel='total_area', ylabel='kitchen_area'>,\n",
       "        <AxesSubplot:xlabel='living_area', ylabel='kitchen_area'>,\n",
       "        <AxesSubplot:xlabel='kitchen_area', ylabel='kitchen_area'>,\n",
       "        <AxesSubplot:xlabel='rooms', ylabel='kitchen_area'>,\n",
       "        <AxesSubplot:xlabel='cityCenters_nearest_km', ylabel='kitchen_area'>,\n",
       "        <AxesSubplot:xlabel='last_price', ylabel='kitchen_area'>],\n",
       "       [<AxesSubplot:xlabel='total_area', ylabel='rooms'>,\n",
       "        <AxesSubplot:xlabel='living_area', ylabel='rooms'>,\n",
       "        <AxesSubplot:xlabel='kitchen_area', ylabel='rooms'>,\n",
       "        <AxesSubplot:xlabel='rooms', ylabel='rooms'>,\n",
       "        <AxesSubplot:xlabel='cityCenters_nearest_km', ylabel='rooms'>,\n",
       "        <AxesSubplot:xlabel='last_price', ylabel='rooms'>],\n",
       "       [<AxesSubplot:xlabel='total_area', ylabel='cityCenters_nearest_km'>,\n",
       "        <AxesSubplot:xlabel='living_area', ylabel='cityCenters_nearest_km'>,\n",
       "        <AxesSubplot:xlabel='kitchen_area', ylabel='cityCenters_nearest_km'>,\n",
       "        <AxesSubplot:xlabel='rooms', ylabel='cityCenters_nearest_km'>,\n",
       "        <AxesSubplot:xlabel='cityCenters_nearest_km', ylabel='cityCenters_nearest_km'>,\n",
       "        <AxesSubplot:xlabel='last_price', ylabel='cityCenters_nearest_km'>],\n",
       "       [<AxesSubplot:xlabel='total_area', ylabel='last_price'>,\n",
       "        <AxesSubplot:xlabel='living_area', ylabel='last_price'>,\n",
       "        <AxesSubplot:xlabel='kitchen_area', ylabel='last_price'>,\n",
       "        <AxesSubplot:xlabel='rooms', ylabel='last_price'>,\n",
       "        <AxesSubplot:xlabel='cityCenters_nearest_km', ylabel='last_price'>,\n",
       "        <AxesSubplot:xlabel='last_price', ylabel='last_price'>]],\n",
       "      dtype=object)"
      ]
     },
     "execution_count": 390,
     "metadata": {},
     "output_type": "execute_result"
    },
    {
     "data": {
      "image/png": "[encoded data removed]",
      "text/plain": [
       "<Figure size 864x720 with 36 Axes>"
      ]
     },
     "metadata": {
      "needs_background": "light"
     },
     "output_type": "display_data"
    }
   ],
   "source": [
    "df_for_matrix = good_df[['total_area','living_area', 'kitchen_area', 'rooms', 'cityCenters_nearest_km', 'last_price']]\n",
    "pd.plotting.scatter_matrix(df_for_matrix, figsize=(12,10))"
   ]
  },
  {
   "cell_type": "markdown",
   "metadata": {},
   "source": [
    "#### Посчитайте среднюю цену одного квадратного метра в 10 населённых пунктах с наибольшим числом объявлений. Выделите населённые пункты с самой высокой и низкой стоимостью квадратного метра. Эти данные можно найти по имени в столбце locality_name."
   ]
  },
  {
   "cell_type": "code",
   "execution_count": 391,
   "metadata": {},
   "outputs": [
    {
     "data": {
      "text/html": [
       "<div>\n",
       "<style scoped>\n",
       "    .dataframe tbody tr th:only-of-type {\n",
       "        vertical-align: middle;\n",
       "    }\n",
       "\n",
       "    .dataframe tbody tr th {\n",
       "        vertical-align: top;\n",
       "    }\n",
       "\n",
       "    .dataframe thead th {\n",
       "        text-align: right;\n",
       "    }\n",
       "</style>\n",
       "<table border=\"1\" class=\"dataframe\">\n",
       "  <thead>\n",
       "    <tr style=\"text-align: right;\">\n",
       "      <th></th>\n",
       "      <th>count</th>\n",
       "      <th>mean</th>\n",
       "      <th>median</th>\n",
       "      <th>max</th>\n",
       "      <th>min</th>\n",
       "    </tr>\n",
       "    <tr>\n",
       "      <th>locality_name</th>\n",
       "      <th></th>\n",
       "      <th></th>\n",
       "      <th></th>\n",
       "      <th></th>\n",
       "      <th></th>\n",
       "    </tr>\n",
       "  </thead>\n",
       "  <tbody>\n",
       "    <tr>\n",
       "      <th>Санкт-Петербург</th>\n",
       "      <td>8328</td>\n",
       "      <td>112011.962056</td>\n",
       "      <td>103503.0</td>\n",
       "      <td>660000</td>\n",
       "      <td>41025</td>\n",
       "    </tr>\n",
       "    <tr>\n",
       "      <th>Всеволожск</th>\n",
       "      <td>220</td>\n",
       "      <td>66859.022727</td>\n",
       "      <td>65598.5</td>\n",
       "      <td>133333</td>\n",
       "      <td>44111</td>\n",
       "    </tr>\n",
       "    <tr>\n",
       "      <th>поселок Мурино</th>\n",
       "      <td>211</td>\n",
       "      <td>87105.928910</td>\n",
       "      <td>86042.0</td>\n",
       "      <td>138580</td>\n",
       "      <td>53133</td>\n",
       "    </tr>\n",
       "    <tr>\n",
       "      <th>поселок Шушары</th>\n",
       "      <td>189</td>\n",
       "      <td>78378.978836</td>\n",
       "      <td>77358.0</td>\n",
       "      <td>126666</td>\n",
       "      <td>54237</td>\n",
       "    </tr>\n",
       "    <tr>\n",
       "      <th>Пушкин</th>\n",
       "      <td>187</td>\n",
       "      <td>101940.385027</td>\n",
       "      <td>97315.0</td>\n",
       "      <td>256521</td>\n",
       "      <td>59836</td>\n",
       "    </tr>\n",
       "    <tr>\n",
       "      <th>Колпино</th>\n",
       "      <td>179</td>\n",
       "      <td>75062.156425</td>\n",
       "      <td>73333.0</td>\n",
       "      <td>125000</td>\n",
       "      <td>53333</td>\n",
       "    </tr>\n",
       "    <tr>\n",
       "      <th>Петергоф</th>\n",
       "      <td>126</td>\n",
       "      <td>83801.976190</td>\n",
       "      <td>81322.5</td>\n",
       "      <td>135970</td>\n",
       "      <td>64024</td>\n",
       "    </tr>\n",
       "    <tr>\n",
       "      <th>Гатчина</th>\n",
       "      <td>123</td>\n",
       "      <td>69927.902439</td>\n",
       "      <td>69354.0</td>\n",
       "      <td>103076</td>\n",
       "      <td>49295</td>\n",
       "    </tr>\n",
       "    <tr>\n",
       "      <th>деревня Кудрово</th>\n",
       "      <td>122</td>\n",
       "      <td>90777.565574</td>\n",
       "      <td>91291.5</td>\n",
       "      <td>125949</td>\n",
       "      <td>54160</td>\n",
       "    </tr>\n",
       "    <tr>\n",
       "      <th>поселок Парголово</th>\n",
       "      <td>120</td>\n",
       "      <td>89669.991667</td>\n",
       "      <td>90442.5</td>\n",
       "      <td>138522</td>\n",
       "      <td>48543</td>\n",
       "    </tr>\n",
       "  </tbody>\n",
       "</table>\n",
       "</div>"
      ],
      "text/plain": [
       "                   count           mean    median     max    min\n",
       "locality_name                                                   \n",
       "Санкт-Петербург     8328  112011.962056  103503.0  660000  41025\n",
       "Всеволожск           220   66859.022727   65598.5  133333  44111\n",
       "поселок Мурино       211   87105.928910   86042.0  138580  53133\n",
       "поселок Шушары       189   78378.978836   77358.0  126666  54237\n",
       "Пушкин               187  101940.385027   97315.0  256521  59836\n",
       "Колпино              179   75062.156425   73333.0  125000  53333\n",
       "Петергоф             126   83801.976190   81322.5  135970  64024\n",
       "Гатчина              123   69927.902439   69354.0  103076  49295\n",
       "деревня Кудрово      122   90777.565574   91291.5  125949  54160\n",
       "поселок Парголово    120   89669.991667   90442.5  138522  48543"
      ]
     },
     "execution_count": 391,
     "metadata": {},
     "output_type": "execute_result"
    }
   ],
   "source": [
    "df_locality = good_df.pivot_table(index='locality_name', values='one_square_meter_price', aggfunc=['count','mean','median','max','min'])\n",
    "df_locality.columns = ['count','mean','median','max','min']\n",
    "df_locality_ten = df_locality.sort_values(by='count', ascending=False).head(10)\n",
    "df_locality_ten"
   ]
  },
  {
   "cell_type": "markdown",
   "metadata": {},
   "source": [
    "Больше всего объявлений в Санкт-Петербурге. Медиана не сильно отличается от среднего. Значит, скорее всего, имеющиеся вбросы не сильно будут влиять на исследование"
   ]
  },
  {
   "cell_type": "markdown",
   "metadata": {},
   "source": [
    "<div class=\"alert alert-success\">\n",
    "<b>Комментарий ревьюера ✔️:</b> Код для решения задания правильный"
   ]
  },
  {
   "cell_type": "code",
   "execution_count": 392,
   "metadata": {},
   "outputs": [
    {
     "data": {
      "text/plain": [
       "locality_name\n",
       "Санкт-Петербург      41025\n",
       "Всеволожск           44111\n",
       "поселок Парголово    48543\n",
       "Гатчина              49295\n",
       "поселок Мурино       53133\n",
       "Колпино              53333\n",
       "деревня Кудрово      54160\n",
       "поселок Шушары       54237\n",
       "Пушкин               59836\n",
       "Петергоф             64024\n",
       "Name: min, dtype: int64"
      ]
     },
     "execution_count": 392,
     "metadata": {},
     "output_type": "execute_result"
    }
   ],
   "source": [
    "df_locality_ten.sort_values(by='min')['min']"
   ]
  },
  {
   "cell_type": "code",
   "execution_count": 393,
   "metadata": {},
   "outputs": [
    {
     "data": {
      "text/plain": [
       "locality_name\n",
       "Санкт-Петербург      660000\n",
       "Пушкин               256521\n",
       "поселок Мурино       138580\n",
       "поселок Парголово    138522\n",
       "Петергоф             135970\n",
       "Всеволожск           133333\n",
       "поселок Шушары       126666\n",
       "деревня Кудрово      125949\n",
       "Колпино              125000\n",
       "Гатчина              103076\n",
       "Name: max, dtype: int64"
      ]
     },
     "execution_count": 393,
     "metadata": {},
     "output_type": "execute_result"
    }
   ],
   "source": [
    "df_locality_ten.sort_values(by='max', ascending=False)['max']"
   ]
  },
  {
   "cell_type": "markdown",
   "metadata": {},
   "source": [
    "#### Ранее вы посчитали расстояние до центра в километрах. Теперь выделите квартиры в Санкт-Петербурге с помощью столбца locality_name и вычислите среднюю цену каждого километра. Опишите, как стоимость объектов зависит от расстояния до центра города."
   ]
  },
  {
   "cell_type": "code",
   "execution_count": 394,
   "metadata": {},
   "outputs": [
    {
     "data": {
      "text/html": [
       "<div>\n",
       "<style scoped>\n",
       "    .dataframe tbody tr th:only-of-type {\n",
       "        vertical-align: middle;\n",
       "    }\n",
       "\n",
       "    .dataframe tbody tr th {\n",
       "        vertical-align: top;\n",
       "    }\n",
       "\n",
       "    .dataframe thead th {\n",
       "        text-align: right;\n",
       "    }\n",
       "</style>\n",
       "<table border=\"1\" class=\"dataframe\">\n",
       "  <thead>\n",
       "    <tr style=\"text-align: right;\">\n",
       "      <th></th>\n",
       "      <th>mean_price</th>\n",
       "    </tr>\n",
       "    <tr>\n",
       "      <th>cityCenters_nearest_km</th>\n",
       "      <th></th>\n",
       "    </tr>\n",
       "  </thead>\n",
       "  <tbody>\n",
       "    <tr>\n",
       "      <th>0</th>\n",
       "      <td>16276642</td>\n",
       "    </tr>\n",
       "    <tr>\n",
       "      <th>1</th>\n",
       "      <td>15738097</td>\n",
       "    </tr>\n",
       "    <tr>\n",
       "      <th>2</th>\n",
       "      <td>14265205</td>\n",
       "    </tr>\n",
       "    <tr>\n",
       "      <th>3</th>\n",
       "      <td>11100125</td>\n",
       "    </tr>\n",
       "    <tr>\n",
       "      <th>4</th>\n",
       "      <td>12862834</td>\n",
       "    </tr>\n",
       "    <tr>\n",
       "      <th>5</th>\n",
       "      <td>12620899</td>\n",
       "    </tr>\n",
       "    <tr>\n",
       "      <th>6</th>\n",
       "      <td>11768201</td>\n",
       "    </tr>\n",
       "    <tr>\n",
       "      <th>7</th>\n",
       "      <td>9796393</td>\n",
       "    </tr>\n",
       "    <tr>\n",
       "      <th>8</th>\n",
       "      <td>8379226</td>\n",
       "    </tr>\n",
       "    <tr>\n",
       "      <th>9</th>\n",
       "      <td>6367711</td>\n",
       "    </tr>\n",
       "    <tr>\n",
       "      <th>10</th>\n",
       "      <td>6515954</td>\n",
       "    </tr>\n",
       "    <tr>\n",
       "      <th>11</th>\n",
       "      <td>5815164</td>\n",
       "    </tr>\n",
       "    <tr>\n",
       "      <th>12</th>\n",
       "      <td>5842130</td>\n",
       "    </tr>\n",
       "    <tr>\n",
       "      <th>13</th>\n",
       "      <td>6000916</td>\n",
       "    </tr>\n",
       "    <tr>\n",
       "      <th>14</th>\n",
       "      <td>5505991</td>\n",
       "    </tr>\n",
       "    <tr>\n",
       "      <th>15</th>\n",
       "      <td>5448820</td>\n",
       "    </tr>\n",
       "    <tr>\n",
       "      <th>16</th>\n",
       "      <td>5180174</td>\n",
       "    </tr>\n",
       "    <tr>\n",
       "      <th>17</th>\n",
       "      <td>4834833</td>\n",
       "    </tr>\n",
       "    <tr>\n",
       "      <th>18</th>\n",
       "      <td>5022879</td>\n",
       "    </tr>\n",
       "    <tr>\n",
       "      <th>19</th>\n",
       "      <td>4559982</td>\n",
       "    </tr>\n",
       "    <tr>\n",
       "      <th>20</th>\n",
       "      <td>5689308</td>\n",
       "    </tr>\n",
       "    <tr>\n",
       "      <th>21</th>\n",
       "      <td>4977656</td>\n",
       "    </tr>\n",
       "    <tr>\n",
       "      <th>22</th>\n",
       "      <td>4893924</td>\n",
       "    </tr>\n",
       "    <tr>\n",
       "      <th>23</th>\n",
       "      <td>4232857</td>\n",
       "    </tr>\n",
       "    <tr>\n",
       "      <th>24</th>\n",
       "      <td>4648000</td>\n",
       "    </tr>\n",
       "    <tr>\n",
       "      <th>25</th>\n",
       "      <td>4073200</td>\n",
       "    </tr>\n",
       "    <tr>\n",
       "      <th>26</th>\n",
       "      <td>4062500</td>\n",
       "    </tr>\n",
       "    <tr>\n",
       "      <th>27</th>\n",
       "      <td>14350000</td>\n",
       "    </tr>\n",
       "    <tr>\n",
       "      <th>28</th>\n",
       "      <td>5556666</td>\n",
       "    </tr>\n",
       "    <tr>\n",
       "      <th>29</th>\n",
       "      <td>3325000</td>\n",
       "    </tr>\n",
       "  </tbody>\n",
       "</table>\n",
       "</div>"
      ],
      "text/plain": [
       "                        mean_price\n",
       "cityCenters_nearest_km            \n",
       "0                         16276642\n",
       "1                         15738097\n",
       "2                         14265205\n",
       "3                         11100125\n",
       "4                         12862834\n",
       "5                         12620899\n",
       "6                         11768201\n",
       "7                          9796393\n",
       "8                          8379226\n",
       "9                          6367711\n",
       "10                         6515954\n",
       "11                         5815164\n",
       "12                         5842130\n",
       "13                         6000916\n",
       "14                         5505991\n",
       "15                         5448820\n",
       "16                         5180174\n",
       "17                         4834833\n",
       "18                         5022879\n",
       "19                         4559982\n",
       "20                         5689308\n",
       "21                         4977656\n",
       "22                         4893924\n",
       "23                         4232857\n",
       "24                         4648000\n",
       "25                         4073200\n",
       "26                         4062500\n",
       "27                        14350000\n",
       "28                         5556666\n",
       "29                         3325000"
      ]
     },
     "execution_count": 394,
     "metadata": {},
     "output_type": "execute_result"
    }
   ],
   "source": [
    "spb_df = good_df[good_df['locality_name'] == 'Санкт-Петербург']\n",
    "spb_km = spb_df.pivot_table(index='cityCenters_nearest_km', values='last_price', aggfunc='mean')\n",
    "spb_km.columns = ['mean_price']\n",
    "spb_km['mean_price'] = spb_km['mean_price'].astype('int')\n",
    "spb_km"
   ]
  },
  {
   "cell_type": "markdown",
   "metadata": {},
   "source": [
    "<div class=\"alert alert-success\">\n",
    "<b>Комментарий ревьюера ✔️:</b> Хорошо составил таблицу со средними ценами"
   ]
  },
  {
   "cell_type": "code",
   "execution_count": 395,
   "metadata": {
    "scrolled": false
   },
   "outputs": [
    {
     "data": {
      "image/png": "[encoded data removed]",
      "text/plain": [
       "<Figure size 720x216 with 1 Axes>"
      ]
     },
     "metadata": {
      "needs_background": "light"
     },
     "output_type": "display_data"
    }
   ],
   "source": [
    "ax = spb_km.plot(style='*-', y='mean_price',figsize=(10,3), grid=True)\n",
    "ax.set_xlabel('расстояние до центра')\n",
    "ax.set_ylabel('средняя цена за кв. м')\n",
    "\n",
    "plt.show()"
   ]
  },
  {
   "cell_type": "markdown",
   "metadata": {},
   "source": [
    "Видим, что в центре квартиры намного дороже, причем зависимость нелинейная (похоже на экспоненциальную). Кроме того, на расстоянии от 26 до 29 км от центра средняя цена квартир также высокая. Возможно, там находится элитный район"
   ]
  },
  {
   "cell_type": "markdown",
   "metadata": {},
   "source": [
    "<div class=\"alert alert-success\">\n",
    "<b>Комментарий ревьюера ✔️:</b> И график как раз в этом случае подобрал наиболее подходящий, отлично"
   ]
  },
  {
   "cell_type": "code",
   "execution_count": 396,
   "metadata": {
    "scrolled": true
   },
   "outputs": [
    {
     "data": {
      "image/png": "[encoded data removed]",
      "text/plain": [
       "<Figure size 432x288 with 1 Axes>"
      ]
     },
     "metadata": {
      "needs_background": "light"
     },
     "output_type": "display_data"
    }
   ],
   "source": [
    "good_df['month_sell'] = good_df['first_day_exposition'] + pd.to_timedelta(good_df['days_exposition'],'D')\n",
    "good_df['month_sell'] = good_df['month_sell'].dt.month\n",
    "ax = good_df.groupby('month_sell').count()['last_price'].plot(kind='bar')\n",
    "ax.set_xlabel('номер месяца')\n",
    "ax.set_ylabel('количество проданных квартир')\n",
    "\n",
    "plt.show()"
   ]
  },
  {
   "cell_type": "markdown",
   "metadata": {},
   "source": [
    "<div class=\"alert alert-info\"> <b>Новый дополнительный вывод:</b> Больше всего сделок с квартирами в апреле. Летом квартиры покупают и продают реже</div>"
   ]
  },
  {
   "cell_type": "markdown",
   "metadata": {},
   "source": [
    "### Общий вывод"
   ]
  },
  {
   "cell_type": "markdown",
   "metadata": {},
   "source": [
    "Больше всего на общую стоимость квартир влияет их общая площадь. А на стоимость одного квадратного метра - расстояние от центра города."
   ]
  },
  {
   "cell_type": "markdown",
   "metadata": {},
   "source": [
    "<div class=\"alert alert-danger\">\n",
    "<b>Комментарий ревьюера ❌:</b> Но все же во всей работе мы не только проводили исследование зависимости цена-параметр, было много всего другого) Общий вывод стоит дополнить"
   ]
  },
  {
   "cell_type": "markdown",
   "metadata": {},
   "source": [
    "<div class=\"alert alert-success\">\n",
    "<b>Комментарий ревьюера ✔️:</b> Иван, проект отличный! У тебя очень сильные аналитические навыки и владение инструментами для проведения исследования. Но всё же в проекте есть несколько замечаний и я попрошу тебя исправить их, чтобы он стал еще лучше! </div>"
   ]
  },
  {
   "cell_type": "markdown",
   "metadata": {},
   "source": [
    "<div class=\"alert alert-success\">\n",
    "<b>Комментарий ревьюера v 2.0 ✔️:</b> И хорошо дополнил общий вывод </div>"
   ]
  },
  {
   "cell_type": "markdown",
   "metadata": {},
   "source": [
    "<div class=\"alert alert-info\"> <b>Вывод:</b> С полученными данными можно работать. В результате анализа было выявлено несколько интересных результатов\n",
    "<ul>\n",
    "    <li>\n",
    "        Больше всего на общую стоимость квартир влияет их общая площадь.\n",
    "    </li>\n",
    "        <li>\n",
    "        Больше всего на общую стоимость квартир влияет их общая площадь.\n",
    "    </li>\n",
    "    <li>\n",
    "        Типовыми домами являются 5-ти и 9-ти этажки.\n",
    "    </li>\n",
    "    <li>\n",
    "        Застройка в Петербурге в основном низкоэтажная.\n",
    "    </li>\n",
    "    <li>\n",
    "        В феврале чаще всего размещают объявления. Реже всего в мае.\n",
    "    </li>\n",
    "    <li>\n",
    "        Большинство квартир не в самом центра, а на расстоянии около 15 км от него.\n",
    "    </li>\n",
    "    <li>\n",
    "        Больше всего квартир с потолками около 2.5 метров.\n",
    "    </li>\n",
    "    <li>\n",
    "        Продажа квартиры обычно занмиает 101 день.\n",
    "    </li>\n",
    "    <li>\n",
    "        Когда комнат много (бошьше 6) то на цену больше влияют, скорее, другие параметры.\n",
    "    </li>\n",
    "    <li>\n",
    "        На первом этаже квартиры в среднем дешевле.\n",
    "    </li>    \n",
    "    <li>\n",
    "        Средняя цена на квартиру в центре Санкт-Петербурга в радиусе до 6 км находится в диапазоне от 100 до 150. \n",
    "    </li>  \n",
    "    <li>\n",
    "        Больше всего сделок с квартирами в апреле. Летом квартиры покупают и продают реже\n",
    "    </li>  \n",
    "</ul>\n",
    "</div>"
   ]
  },
  {
   "cell_type": "markdown",
   "metadata": {},
   "source": [
    "**Чек-лист готовности проекта**\n",
    "\n",
    "Поставьте 'x' в выполненных пунктах. Далее нажмите Shift+Enter."
   ]
  },
  {
   "cell_type": "markdown",
   "metadata": {},
   "source": [
    "- [x]  открыт файл\n",
    "- [x]  файлы изучены (выведены первые строки, метод `info()`, гистограммы и т.д.)\n",
    "- [x]  определены пропущенные значения\n",
    "- [x]  заполнены пропущенные значения там, где это возможно\n",
    "- [x]  есть пояснение, какие пропущенные значения обнаружены\n",
    "- [x]  изменены типы данных\n",
    "- [x]  есть пояснение, в каких столбцах изменены типы и почему\n",
    "- [x]  устранены неявные дубликаты в названиях населённых пунктов\n",
    "- [x]  устранены редкие и выбивающиеся значения (аномалии) во всех столбцах\n",
    "- [x]  посчитано и добавлено в таблицу: цена одного квадратного метра\n",
    "- [x]  посчитано и добавлено в таблицу: день публикации объявления (0 - понедельник, 1 - вторник и т.д.)\n",
    "- [x]  посчитано и добавлено в таблицу: месяц публикации объявления\n",
    "- [x]  посчитано и добавлено в таблицу: год публикации объявления\n",
    "- [x]  посчитано и добавлено в таблицу: тип этажа квартиры (значения — «первый», «последний», «другой»)\n",
    "- [x]  посчитано и добавлено в таблицу: расстояние в км до центра города\n",
    "- [x]  изучены и описаны следующие параметры:\n",
    "        - общая площадь;\n",
    "        - жилая площадь;\n",
    "        - площадь кухни;\n",
    "        - цена объекта;\n",
    "        - количество комнат;\n",
    "        - высота потолков;\n",
    "        - этаж квартиры;\n",
    "        - тип этажа квартиры («первый», «последний», «другой»);\n",
    "        - общее количество этажей в доме;\n",
    "        - расстояние до центра города в метрах;\n",
    "        - расстояние до ближайшего аэропорта;\n",
    "        - расстояние до ближайшего парка;\n",
    "        - день и месяц публикации объявления\n",
    "- [x]  построены гистограммы для каждого параметра\n",
    "- [x]  выполнено задание: \"Изучите, как быстро продавались квартиры (столбец days_exposition). Этот параметр показывает, сколько дней «висело» каждое объявление.\n",
    "    - Постройте гистограмму.\n",
    "    - Посчитайте среднее и медиану.\n",
    "    - В ячейке типа markdown опишите, сколько обычно занимает продажа. Какие продажи можно считать быстрыми, а какие — необычно долгими?\"\n",
    "- [x]  выполнено задание: \"Какие факторы больше всего влияют на общую (полную) стоимость объекта? Постройте графики, которые покажут зависимость цены от указанных ниже параметров. Для подготовки данных перед визуализацией вы можете использовать сводные таблицы.\"\n",
    "        - общей площади;\n",
    "        - жилой площади;\n",
    "        - площади кухни;\n",
    "        - количество комнат;\n",
    "        - типа этажа, на котором расположена квартира (первый, последний, другой);\n",
    "        - даты размещения (день недели, месяц, год);\n",
    "- [x]  выполнено задание: \"Посчитайте среднюю цену одного квадратного метра в 10 населённых пунктах с наибольшим числом объявлений. Выделите населённые пункты с самой высокой и низкой стоимостью квадратного метра. Эти данные можно найти по имени в столбце `locality_name`.\"\n",
    "- [x]  выполнено задание: \"Ранее вы посчитали расстояние до центра в километрах. Теперь выделите квартиры в Санкт-Петербурге с помощью столбца `locality_name` и вычислите среднюю цену каждого километра. Опишите, как стоимость объектов зависит от расстояния до центра города.\"\n",
    "- [x]  в каждом этапе есть промежуточные выводы\n",
    "- [x]  есть общий вывод"
   ]
  },
  {
   "cell_type": "markdown",
   "metadata": {},
   "source": [
    "<div class=\"alert alert-info\"> <h1> Спасибо за проверку! 🙏 </h1> </div>"
   ]
  },
  {
   "cell_type": "code",
   "execution_count": null,
   "metadata": {},
   "outputs": [],
   "source": []
  }
 ],
 "metadata": {
  "ExecuteTimeLog": [
   {
    "duration": 117,
    "start_time": "2022-10-02T20:13:25.065Z"
   },
   {
    "duration": 72,
    "start_time": "2022-10-02T20:13:44.274Z"
   },
   {
    "duration": 1854,
    "start_time": "2022-10-02T20:13:51.912Z"
   },
   {
    "duration": 10,
    "start_time": "2022-10-02T20:14:26.260Z"
   },
   {
    "duration": 2,
    "start_time": "2022-10-02T20:14:59.037Z"
   },
   {
    "duration": 10,
    "start_time": "2022-10-02T20:15:09.030Z"
   },
   {
    "duration": 143,
    "start_time": "2022-10-02T20:16:04.175Z"
   },
   {
    "duration": 7,
    "start_time": "2022-10-02T20:17:04.661Z"
   },
   {
    "duration": 142,
    "start_time": "2022-10-02T20:17:29.135Z"
   },
   {
    "duration": 171,
    "start_time": "2022-10-02T20:20:20.157Z"
   },
   {
    "duration": 491,
    "start_time": "2022-10-02T20:20:32.131Z"
   },
   {
    "duration": 1659,
    "start_time": "2022-10-02T20:20:42.481Z"
   },
   {
    "duration": 172,
    "start_time": "2022-10-02T20:20:52.434Z"
   },
   {
    "duration": 170,
    "start_time": "2022-10-02T20:21:30.497Z"
   },
   {
    "duration": 80,
    "start_time": "2022-10-02T20:24:20.533Z"
   },
   {
    "duration": 45,
    "start_time": "2022-10-02T20:25:32.139Z"
   },
   {
    "duration": 6,
    "start_time": "2022-10-02T20:26:16.089Z"
   },
   {
    "duration": 168,
    "start_time": "2022-10-02T20:26:58.324Z"
   },
   {
    "duration": 7,
    "start_time": "2022-10-02T20:27:49.675Z"
   },
   {
    "duration": 78,
    "start_time": "2022-10-02T20:31:05.359Z"
   },
   {
    "duration": 43,
    "start_time": "2022-10-02T21:16:09.038Z"
   },
   {
    "duration": 5,
    "start_time": "2022-10-02T21:16:33.626Z"
   },
   {
    "duration": 7,
    "start_time": "2022-10-02T21:17:19.191Z"
   },
   {
    "duration": 43,
    "start_time": "2022-10-02T21:17:24.910Z"
   },
   {
    "duration": 5,
    "start_time": "2022-10-02T21:19:38.678Z"
   },
   {
    "duration": 5,
    "start_time": "2022-10-02T21:30:53.843Z"
   },
   {
    "duration": 99,
    "start_time": "2022-10-02T21:33:40.007Z"
   },
   {
    "duration": 68,
    "start_time": "2022-10-02T21:33:59.922Z"
   },
   {
    "duration": 93,
    "start_time": "2022-10-02T21:34:45.017Z"
   },
   {
    "duration": 102,
    "start_time": "2022-10-02T21:34:55.339Z"
   },
   {
    "duration": 12,
    "start_time": "2022-10-02T21:35:03.935Z"
   },
   {
    "duration": 168,
    "start_time": "2022-10-02T21:36:19.220Z"
   },
   {
    "duration": 5,
    "start_time": "2022-10-02T21:36:34.580Z"
   },
   {
    "duration": 5,
    "start_time": "2022-10-02T21:36:49.513Z"
   },
   {
    "duration": 6,
    "start_time": "2022-10-02T21:39:47.961Z"
   },
   {
    "duration": 7,
    "start_time": "2022-10-02T21:39:52.474Z"
   },
   {
    "duration": 6,
    "start_time": "2022-10-02T21:40:02.712Z"
   },
   {
    "duration": 10,
    "start_time": "2022-10-02T21:40:16.621Z"
   },
   {
    "duration": 7,
    "start_time": "2022-10-02T21:40:49.234Z"
   },
   {
    "duration": 8,
    "start_time": "2022-10-02T21:47:34.246Z"
   },
   {
    "duration": 8,
    "start_time": "2022-10-02T21:47:43.334Z"
   },
   {
    "duration": 6,
    "start_time": "2022-10-02T21:47:57.739Z"
   },
   {
    "duration": 7,
    "start_time": "2022-10-02T21:49:15.383Z"
   },
   {
    "duration": 7,
    "start_time": "2022-10-02T21:49:39.089Z"
   },
   {
    "duration": 41,
    "start_time": "2022-10-02T21:50:00.750Z"
   },
   {
    "duration": 7,
    "start_time": "2022-10-02T21:51:16.186Z"
   },
   {
    "duration": 5,
    "start_time": "2022-10-02T21:51:29.880Z"
   },
   {
    "duration": 10,
    "start_time": "2022-10-02T21:52:54.668Z"
   },
   {
    "duration": 8,
    "start_time": "2022-10-02T21:53:05.828Z"
   },
   {
    "duration": 7,
    "start_time": "2022-10-02T21:53:06.636Z"
   },
   {
    "duration": 6,
    "start_time": "2022-10-02T21:53:32.421Z"
   },
   {
    "duration": 5,
    "start_time": "2022-10-02T21:53:32.977Z"
   },
   {
    "duration": 121,
    "start_time": "2022-10-02T21:54:16.087Z"
   },
   {
    "duration": 5,
    "start_time": "2022-10-02T21:54:29.994Z"
   },
   {
    "duration": 133,
    "start_time": "2022-10-02T21:54:47.890Z"
   },
   {
    "duration": 6,
    "start_time": "2022-10-02T21:54:53.892Z"
   },
   {
    "duration": 7,
    "start_time": "2022-10-02T21:55:03.304Z"
   },
   {
    "duration": 116,
    "start_time": "2022-10-02T21:55:13.420Z"
   },
   {
    "duration": 7,
    "start_time": "2022-10-02T21:55:35.726Z"
   },
   {
    "duration": 6,
    "start_time": "2022-10-02T21:57:50.428Z"
   },
   {
    "duration": 6,
    "start_time": "2022-10-02T21:57:59.845Z"
   },
   {
    "duration": 4,
    "start_time": "2022-10-02T21:58:05.850Z"
   },
   {
    "duration": 6,
    "start_time": "2022-10-02T21:58:09.015Z"
   },
   {
    "duration": 5,
    "start_time": "2022-10-02T21:59:11.420Z"
   },
   {
    "duration": 5,
    "start_time": "2022-10-02T21:59:20.921Z"
   },
   {
    "duration": 7,
    "start_time": "2022-10-02T21:59:33.447Z"
   },
   {
    "duration": 5,
    "start_time": "2022-10-02T21:59:43.026Z"
   },
   {
    "duration": 6,
    "start_time": "2022-10-02T22:00:57.889Z"
   },
   {
    "duration": 9,
    "start_time": "2022-10-02T22:01:21.589Z"
   },
   {
    "duration": 10,
    "start_time": "2022-10-02T22:01:25.684Z"
   },
   {
    "duration": 12,
    "start_time": "2022-10-02T22:01:30.250Z"
   },
   {
    "duration": 12,
    "start_time": "2022-10-02T22:01:33.779Z"
   },
   {
    "duration": 6,
    "start_time": "2022-10-02T22:11:38.291Z"
   },
   {
    "duration": 42,
    "start_time": "2022-10-02T22:11:44.276Z"
   },
   {
    "duration": 9,
    "start_time": "2022-10-02T22:11:59.674Z"
   },
   {
    "duration": 9,
    "start_time": "2022-10-02T22:12:05.722Z"
   },
   {
    "duration": 7,
    "start_time": "2022-10-02T22:12:31.143Z"
   },
   {
    "duration": 6,
    "start_time": "2022-10-02T22:16:05.823Z"
   },
   {
    "duration": 5,
    "start_time": "2022-10-02T22:40:16.384Z"
   },
   {
    "duration": 6,
    "start_time": "2022-10-02T22:40:22.547Z"
   },
   {
    "duration": 6,
    "start_time": "2022-10-02T23:59:20.839Z"
   },
   {
    "duration": 7,
    "start_time": "2022-10-03T00:01:42.453Z"
   },
   {
    "duration": 6,
    "start_time": "2022-10-03T00:01:47.012Z"
   },
   {
    "duration": 8,
    "start_time": "2022-10-03T00:02:25.235Z"
   },
   {
    "duration": 6,
    "start_time": "2022-10-03T00:02:36.825Z"
   },
   {
    "duration": 6,
    "start_time": "2022-10-03T00:02:49.911Z"
   },
   {
    "duration": 6,
    "start_time": "2022-10-03T00:03:35.523Z"
   },
   {
    "duration": 5,
    "start_time": "2022-10-03T00:03:45.890Z"
   },
   {
    "duration": 7,
    "start_time": "2022-10-03T00:03:49.225Z"
   },
   {
    "duration": 6,
    "start_time": "2022-10-03T00:03:52.701Z"
   },
   {
    "duration": 5,
    "start_time": "2022-10-03T00:04:20.911Z"
   },
   {
    "duration": 6,
    "start_time": "2022-10-03T00:04:32.215Z"
   },
   {
    "duration": 4,
    "start_time": "2022-10-03T00:04:43.104Z"
   },
   {
    "duration": 5,
    "start_time": "2022-10-03T00:04:45.942Z"
   },
   {
    "duration": 6,
    "start_time": "2022-10-03T00:05:23.505Z"
   },
   {
    "duration": 13,
    "start_time": "2022-10-03T00:05:34.256Z"
   },
   {
    "duration": 5,
    "start_time": "2022-10-03T00:06:09.214Z"
   },
   {
    "duration": 9,
    "start_time": "2022-10-03T00:06:28.084Z"
   },
   {
    "duration": 12,
    "start_time": "2022-10-03T00:08:05.133Z"
   },
   {
    "duration": 8,
    "start_time": "2022-10-03T00:09:42.413Z"
   },
   {
    "duration": 7,
    "start_time": "2022-10-03T00:10:04.772Z"
   },
   {
    "duration": 9,
    "start_time": "2022-10-03T00:15:28.369Z"
   },
   {
    "duration": 10,
    "start_time": "2022-10-03T00:16:39.341Z"
   },
   {
    "duration": 10,
    "start_time": "2022-10-03T00:16:46.734Z"
   },
   {
    "duration": 8,
    "start_time": "2022-10-03T00:16:57.927Z"
   },
   {
    "duration": 17,
    "start_time": "2022-10-03T00:22:33.222Z"
   },
   {
    "duration": 55,
    "start_time": "2022-10-03T21:14:58.768Z"
   },
   {
    "duration": 746,
    "start_time": "2022-10-03T21:15:03.476Z"
   },
   {
    "duration": 67,
    "start_time": "2022-10-03T21:15:04.761Z"
   },
   {
    "duration": 14,
    "start_time": "2022-10-03T21:15:04.969Z"
   },
   {
    "duration": 2161,
    "start_time": "2022-10-03T21:15:05.158Z"
   },
   {
    "duration": 11,
    "start_time": "2022-10-03T21:15:13.574Z"
   },
   {
    "duration": 203,
    "start_time": "2022-10-03T21:15:14.374Z"
   },
   {
    "duration": 141,
    "start_time": "2022-10-03T21:15:14.648Z"
   },
   {
    "duration": 132,
    "start_time": "2022-10-03T21:15:14.987Z"
   },
   {
    "duration": 7,
    "start_time": "2022-10-03T21:15:15.547Z"
   },
   {
    "duration": 146,
    "start_time": "2022-10-03T21:15:16.230Z"
   },
   {
    "duration": 8,
    "start_time": "2022-10-03T21:15:17.115Z"
   },
   {
    "duration": 9,
    "start_time": "2022-10-03T21:15:17.340Z"
   },
   {
    "duration": 7,
    "start_time": "2022-10-03T21:15:17.533Z"
   },
   {
    "duration": 5,
    "start_time": "2022-10-03T21:15:17.703Z"
   },
   {
    "duration": 6,
    "start_time": "2022-10-03T21:15:17.868Z"
   },
   {
    "duration": 108,
    "start_time": "2022-10-03T21:15:18.038Z"
   },
   {
    "duration": 196,
    "start_time": "2022-10-03T21:15:18.248Z"
   },
   {
    "duration": 4,
    "start_time": "2022-10-03T21:15:18.626Z"
   },
   {
    "duration": 6,
    "start_time": "2022-10-03T21:15:18.802Z"
   },
   {
    "duration": 5,
    "start_time": "2022-10-03T21:15:19.144Z"
   },
   {
    "duration": 6,
    "start_time": "2022-10-03T21:15:19.480Z"
   },
   {
    "duration": 6,
    "start_time": "2022-10-03T21:15:19.822Z"
   },
   {
    "duration": 4,
    "start_time": "2022-10-03T21:15:20.145Z"
   },
   {
    "duration": 6,
    "start_time": "2022-10-03T21:15:20.304Z"
   },
   {
    "duration": 4,
    "start_time": "2022-10-03T21:15:20.465Z"
   },
   {
    "duration": 9,
    "start_time": "2022-10-03T21:15:20.625Z"
   },
   {
    "duration": 9,
    "start_time": "2022-10-03T21:15:20.786Z"
   },
   {
    "duration": 8,
    "start_time": "2022-10-03T21:15:21.102Z"
   },
   {
    "duration": 8,
    "start_time": "2022-10-03T21:15:21.632Z"
   },
   {
    "duration": 720,
    "start_time": "2022-10-03T21:23:37.328Z"
   },
   {
    "duration": 80,
    "start_time": "2022-10-03T21:23:39.265Z"
   },
   {
    "duration": 15,
    "start_time": "2022-10-03T21:23:40.028Z"
   },
   {
    "duration": 2247,
    "start_time": "2022-10-03T21:23:40.581Z"
   },
   {
    "duration": 11,
    "start_time": "2022-10-03T21:23:43.309Z"
   },
   {
    "duration": 171,
    "start_time": "2022-10-03T21:23:44.454Z"
   },
   {
    "duration": 130,
    "start_time": "2022-10-03T21:23:45.296Z"
   },
   {
    "duration": 132,
    "start_time": "2022-10-03T21:23:46.119Z"
   },
   {
    "duration": 9,
    "start_time": "2022-10-03T21:23:47.314Z"
   },
   {
    "duration": 160,
    "start_time": "2022-10-03T21:23:48.120Z"
   },
   {
    "duration": 10,
    "start_time": "2022-10-03T21:23:49.825Z"
   },
   {
    "duration": 8,
    "start_time": "2022-10-03T21:23:50.120Z"
   },
   {
    "duration": 8,
    "start_time": "2022-10-03T21:23:50.344Z"
   },
   {
    "duration": 6,
    "start_time": "2022-10-03T21:23:50.542Z"
   },
   {
    "duration": 8,
    "start_time": "2022-10-03T21:23:50.739Z"
   },
   {
    "duration": 133,
    "start_time": "2022-10-03T21:23:50.934Z"
   },
   {
    "duration": 194,
    "start_time": "2022-10-03T21:23:51.128Z"
   },
   {
    "duration": 4,
    "start_time": "2022-10-03T21:23:51.558Z"
   },
   {
    "duration": 6,
    "start_time": "2022-10-03T21:23:51.762Z"
   },
   {
    "duration": 5,
    "start_time": "2022-10-03T21:23:52.535Z"
   },
   {
    "duration": 7,
    "start_time": "2022-10-03T21:23:52.939Z"
   },
   {
    "duration": 7,
    "start_time": "2022-10-03T21:23:53.486Z"
   },
   {
    "duration": 6,
    "start_time": "2022-10-03T21:23:53.926Z"
   },
   {
    "duration": 7,
    "start_time": "2022-10-03T21:23:54.175Z"
   },
   {
    "duration": 5,
    "start_time": "2022-10-03T21:23:54.746Z"
   },
   {
    "duration": 10,
    "start_time": "2022-10-03T21:23:54.956Z"
   },
   {
    "duration": 9,
    "start_time": "2022-10-03T21:23:55.197Z"
   },
   {
    "duration": 9,
    "start_time": "2022-10-03T21:23:55.920Z"
   },
   {
    "duration": 9,
    "start_time": "2022-10-03T21:23:56.483Z"
   },
   {
    "duration": 13,
    "start_time": "2022-10-03T21:24:42.795Z"
   },
   {
    "duration": 12,
    "start_time": "2022-10-03T21:32:34.259Z"
   },
   {
    "duration": 13,
    "start_time": "2022-10-03T21:32:37.266Z"
   },
   {
    "duration": 14,
    "start_time": "2022-10-03T21:34:17.520Z"
   },
   {
    "duration": 13,
    "start_time": "2022-10-03T21:34:18.574Z"
   },
   {
    "duration": 25,
    "start_time": "2022-10-03T21:35:23.461Z"
   },
   {
    "duration": 19,
    "start_time": "2022-10-03T21:35:23.954Z"
   },
   {
    "duration": 31,
    "start_time": "2022-10-03T21:37:24.700Z"
   },
   {
    "duration": 13,
    "start_time": "2022-10-03T21:37:25.229Z"
   },
   {
    "duration": 4,
    "start_time": "2022-10-03T21:39:41.551Z"
   },
   {
    "duration": 7,
    "start_time": "2022-10-03T21:39:56.357Z"
   },
   {
    "duration": 27,
    "start_time": "2022-10-03T21:40:05.054Z"
   },
   {
    "duration": 13,
    "start_time": "2022-10-03T21:40:23.674Z"
   },
   {
    "duration": 9,
    "start_time": "2022-10-03T21:41:03.519Z"
   },
   {
    "duration": 18,
    "start_time": "2022-10-03T21:41:13.420Z"
   },
   {
    "duration": 29,
    "start_time": "2022-10-03T21:42:28.048Z"
   },
   {
    "duration": 30,
    "start_time": "2022-10-03T21:42:52.997Z"
   },
   {
    "duration": 96,
    "start_time": "2022-10-03T21:45:05.559Z"
   },
   {
    "duration": 24,
    "start_time": "2022-10-03T21:45:12.609Z"
   },
   {
    "duration": 610,
    "start_time": "2022-10-03T21:46:17.124Z"
   },
   {
    "duration": 9,
    "start_time": "2022-10-03T21:46:36.712Z"
   },
   {
    "duration": 8,
    "start_time": "2022-10-03T21:46:42.397Z"
   },
   {
    "duration": 40,
    "start_time": "2022-10-03T21:46:46.485Z"
   },
   {
    "duration": 51,
    "start_time": "2022-10-03T21:47:16.024Z"
   },
   {
    "duration": 3,
    "start_time": "2022-10-03T21:49:08.580Z"
   },
   {
    "duration": 144,
    "start_time": "2022-10-03T21:51:59.342Z"
   },
   {
    "duration": 196,
    "start_time": "2022-10-03T21:52:12.698Z"
   },
   {
    "duration": 188,
    "start_time": "2022-10-03T21:52:21.874Z"
   },
   {
    "duration": 123,
    "start_time": "2022-10-03T21:52:52.177Z"
   },
   {
    "duration": 104,
    "start_time": "2022-10-03T21:58:48.962Z"
   },
   {
    "duration": 350,
    "start_time": "2022-10-03T22:00:58.105Z"
   },
   {
    "duration": 21,
    "start_time": "2022-10-03T22:01:09.972Z"
   },
   {
    "duration": 14,
    "start_time": "2022-10-03T22:01:22.089Z"
   },
   {
    "duration": 17,
    "start_time": "2022-10-03T22:01:34.737Z"
   },
   {
    "duration": 109,
    "start_time": "2022-10-03T22:01:42.160Z"
   },
   {
    "duration": 319,
    "start_time": "2022-10-03T22:01:49.443Z"
   },
   {
    "duration": 7,
    "start_time": "2022-10-03T22:03:52.394Z"
   },
   {
    "duration": 9,
    "start_time": "2022-10-03T22:03:53.237Z"
   },
   {
    "duration": 29,
    "start_time": "2022-10-03T22:04:05.533Z"
   },
   {
    "duration": 121,
    "start_time": "2022-10-03T22:04:14.200Z"
   },
   {
    "duration": 137,
    "start_time": "2022-10-03T22:04:20.050Z"
   },
   {
    "duration": 73,
    "start_time": "2022-10-03T22:04:20.826Z"
   },
   {
    "duration": 14,
    "start_time": "2022-10-03T22:04:21.315Z"
   },
   {
    "duration": 1765,
    "start_time": "2022-10-03T22:04:21.734Z"
   },
   {
    "duration": 9,
    "start_time": "2022-10-03T22:04:23.922Z"
   },
   {
    "duration": 215,
    "start_time": "2022-10-03T22:04:24.838Z"
   },
   {
    "duration": 128,
    "start_time": "2022-10-03T22:04:25.446Z"
   },
   {
    "duration": 134,
    "start_time": "2022-10-03T22:04:25.905Z"
   },
   {
    "duration": 7,
    "start_time": "2022-10-03T22:04:26.428Z"
   },
   {
    "duration": 169,
    "start_time": "2022-10-03T22:04:26.901Z"
   },
   {
    "duration": 6,
    "start_time": "2022-10-03T22:04:27.695Z"
   },
   {
    "duration": 8,
    "start_time": "2022-10-03T22:04:27.896Z"
   },
   {
    "duration": 8,
    "start_time": "2022-10-03T22:04:28.114Z"
   },
   {
    "duration": 6,
    "start_time": "2022-10-03T22:04:28.337Z"
   },
   {
    "duration": 5,
    "start_time": "2022-10-03T22:04:28.560Z"
   },
   {
    "duration": 107,
    "start_time": "2022-10-03T22:04:28.832Z"
   },
   {
    "duration": 114,
    "start_time": "2022-10-03T22:04:29.089Z"
   },
   {
    "duration": 4,
    "start_time": "2022-10-03T22:04:29.586Z"
   },
   {
    "duration": 6,
    "start_time": "2022-10-03T22:04:29.846Z"
   },
   {
    "duration": 6,
    "start_time": "2022-10-03T22:04:30.357Z"
   },
   {
    "duration": 7,
    "start_time": "2022-10-03T22:04:30.865Z"
   },
   {
    "duration": 6,
    "start_time": "2022-10-03T22:04:31.356Z"
   },
   {
    "duration": 6,
    "start_time": "2022-10-03T22:04:31.840Z"
   },
   {
    "duration": 8,
    "start_time": "2022-10-03T22:04:32.069Z"
   },
   {
    "duration": 4,
    "start_time": "2022-10-03T22:04:32.326Z"
   },
   {
    "duration": 7,
    "start_time": "2022-10-03T22:04:32.576Z"
   },
   {
    "duration": 11,
    "start_time": "2022-10-03T22:04:32.828Z"
   },
   {
    "duration": 7,
    "start_time": "2022-10-03T22:04:33.075Z"
   },
   {
    "duration": 8,
    "start_time": "2022-10-03T22:04:33.307Z"
   },
   {
    "duration": 29,
    "start_time": "2022-10-03T22:04:33.564Z"
   },
   {
    "duration": 10,
    "start_time": "2022-10-03T22:04:33.811Z"
   },
   {
    "duration": 23,
    "start_time": "2022-10-03T22:04:34.275Z"
   },
   {
    "duration": 33,
    "start_time": "2022-10-03T22:04:34.478Z"
   },
   {
    "duration": 22,
    "start_time": "2022-10-03T22:04:34.721Z"
   },
   {
    "duration": 28,
    "start_time": "2022-10-03T22:04:34.945Z"
   },
   {
    "duration": 3,
    "start_time": "2022-10-03T22:04:35.175Z"
   },
   {
    "duration": 89,
    "start_time": "2022-10-03T22:04:35.388Z"
   },
   {
    "duration": 25,
    "start_time": "2022-10-03T22:04:36.107Z"
   },
   {
    "duration": 14,
    "start_time": "2022-10-03T22:07:47.675Z"
   },
   {
    "duration": 6,
    "start_time": "2022-10-03T22:07:50.557Z"
   },
   {
    "duration": 8,
    "start_time": "2022-10-03T22:07:51.230Z"
   },
   {
    "duration": 30,
    "start_time": "2022-10-03T22:07:51.649Z"
   },
   {
    "duration": 8,
    "start_time": "2022-10-03T22:07:52.189Z"
   },
   {
    "duration": 21,
    "start_time": "2022-10-03T22:07:52.757Z"
   },
   {
    "duration": 21,
    "start_time": "2022-10-03T22:07:52.982Z"
   },
   {
    "duration": 21,
    "start_time": "2022-10-03T22:07:53.239Z"
   },
   {
    "duration": 22,
    "start_time": "2022-10-03T22:07:53.591Z"
   },
   {
    "duration": 4,
    "start_time": "2022-10-03T22:07:53.807Z"
   },
   {
    "duration": 108,
    "start_time": "2022-10-03T22:07:54.002Z"
   },
   {
    "duration": 25,
    "start_time": "2022-10-03T22:07:54.213Z"
   },
   {
    "duration": 699,
    "start_time": "2022-10-08T13:56:26.156Z"
   },
   {
    "duration": 66,
    "start_time": "2022-10-08T13:56:26.856Z"
   },
   {
    "duration": 13,
    "start_time": "2022-10-08T13:56:26.923Z"
   },
   {
    "duration": 2235,
    "start_time": "2022-10-08T13:56:26.938Z"
   },
   {
    "duration": 9,
    "start_time": "2022-10-08T13:56:29.175Z"
   },
   {
    "duration": 136,
    "start_time": "2022-10-08T13:56:29.482Z"
   },
   {
    "duration": 134,
    "start_time": "2022-10-08T13:56:29.969Z"
   },
   {
    "duration": 130,
    "start_time": "2022-10-08T13:56:30.376Z"
   },
   {
    "duration": 7,
    "start_time": "2022-10-08T13:56:31.055Z"
   },
   {
    "duration": 146,
    "start_time": "2022-10-08T13:56:31.448Z"
   },
   {
    "duration": 8,
    "start_time": "2022-10-08T13:56:32.232Z"
   },
   {
    "duration": 8,
    "start_time": "2022-10-08T13:56:32.420Z"
   },
   {
    "duration": 8,
    "start_time": "2022-10-08T13:56:32.612Z"
   },
   {
    "duration": 6,
    "start_time": "2022-10-08T13:56:32.783Z"
   },
   {
    "duration": 5,
    "start_time": "2022-10-08T13:56:32.960Z"
   },
   {
    "duration": 116,
    "start_time": "2022-10-08T13:56:33.125Z"
   },
   {
    "duration": 174,
    "start_time": "2022-10-08T13:56:33.294Z"
   },
   {
    "duration": 3,
    "start_time": "2022-10-08T13:56:33.603Z"
   },
   {
    "duration": 6,
    "start_time": "2022-10-08T13:56:33.771Z"
   },
   {
    "duration": 5,
    "start_time": "2022-10-08T13:56:34.092Z"
   },
   {
    "duration": 7,
    "start_time": "2022-10-08T13:56:34.435Z"
   },
   {
    "duration": 6,
    "start_time": "2022-10-08T13:56:34.807Z"
   },
   {
    "duration": 5,
    "start_time": "2022-10-08T13:56:35.160Z"
   },
   {
    "duration": 7,
    "start_time": "2022-10-08T13:56:35.350Z"
   },
   {
    "duration": 4,
    "start_time": "2022-10-08T13:56:35.551Z"
   },
   {
    "duration": 9,
    "start_time": "2022-10-08T13:56:35.715Z"
   },
   {
    "duration": 11,
    "start_time": "2022-10-08T13:56:35.900Z"
   },
   {
    "duration": 6,
    "start_time": "2022-10-08T13:56:36.102Z"
   },
   {
    "duration": 6,
    "start_time": "2022-10-08T13:56:36.273Z"
   },
   {
    "duration": 24,
    "start_time": "2022-10-08T13:56:36.456Z"
   },
   {
    "duration": 10,
    "start_time": "2022-10-08T13:56:36.647Z"
   },
   {
    "duration": 23,
    "start_time": "2022-10-08T13:56:37.042Z"
   },
   {
    "duration": 23,
    "start_time": "2022-10-08T13:56:37.251Z"
   },
   {
    "duration": 26,
    "start_time": "2022-10-08T13:56:37.532Z"
   },
   {
    "duration": 21,
    "start_time": "2022-10-08T13:56:37.846Z"
   },
   {
    "duration": 3,
    "start_time": "2022-10-08T13:56:38.134Z"
   },
   {
    "duration": 81,
    "start_time": "2022-10-08T13:56:38.398Z"
   },
   {
    "duration": 27,
    "start_time": "2022-10-08T13:56:38.655Z"
   },
   {
    "duration": 54,
    "start_time": "2022-10-08T14:03:38.327Z"
   },
   {
    "duration": 6,
    "start_time": "2022-10-08T14:03:44.730Z"
   },
   {
    "duration": 105,
    "start_time": "2022-10-08T14:03:48.441Z"
   },
   {
    "duration": 243,
    "start_time": "2022-10-08T14:18:12.453Z"
   },
   {
    "duration": 210,
    "start_time": "2022-10-08T14:18:38.491Z"
   },
   {
    "duration": 226,
    "start_time": "2022-10-08T14:19:00.762Z"
   },
   {
    "duration": 26,
    "start_time": "2022-10-08T14:19:45.312Z"
   },
   {
    "duration": 208,
    "start_time": "2022-10-08T14:23:40.451Z"
   },
   {
    "duration": 159,
    "start_time": "2022-10-08T14:23:47.662Z"
   },
   {
    "duration": 358,
    "start_time": "2022-10-08T14:23:57.432Z"
   },
   {
    "duration": 5,
    "start_time": "2022-10-08T14:26:08.596Z"
   },
   {
    "duration": 304,
    "start_time": "2022-10-08T14:26:31.371Z"
   },
   {
    "duration": 82,
    "start_time": "2022-10-08T14:28:11.700Z"
   },
   {
    "duration": 111,
    "start_time": "2022-10-08T14:28:19.289Z"
   },
   {
    "duration": 160,
    "start_time": "2022-10-08T14:28:26.332Z"
   },
   {
    "duration": 205,
    "start_time": "2022-10-08T14:29:19.706Z"
   },
   {
    "duration": 284,
    "start_time": "2022-10-08T14:30:14.443Z"
   },
   {
    "duration": 93,
    "start_time": "2022-10-08T14:30:27.419Z"
   },
   {
    "duration": 201,
    "start_time": "2022-10-08T14:30:57.352Z"
   },
   {
    "duration": 1263,
    "start_time": "2022-10-08T14:31:11.667Z"
   },
   {
    "duration": 116,
    "start_time": "2022-10-08T14:31:35.292Z"
   },
   {
    "duration": 150,
    "start_time": "2022-10-08T14:31:42.574Z"
   },
   {
    "duration": 156,
    "start_time": "2022-10-08T14:31:52.276Z"
   },
   {
    "duration": 67,
    "start_time": "2022-10-08T14:32:39.011Z"
   },
   {
    "duration": 153,
    "start_time": "2022-10-08T14:33:52.204Z"
   },
   {
    "duration": 135,
    "start_time": "2022-10-08T14:35:03.947Z"
   },
   {
    "duration": 165,
    "start_time": "2022-10-08T14:35:19.244Z"
   },
   {
    "duration": 136,
    "start_time": "2022-10-08T14:36:10.465Z"
   },
   {
    "duration": 156,
    "start_time": "2022-10-08T14:36:21.592Z"
   },
   {
    "duration": 544,
    "start_time": "2022-10-08T14:36:27.701Z"
   },
   {
    "duration": 316,
    "start_time": "2022-10-08T14:36:32.762Z"
   },
   {
    "duration": 126,
    "start_time": "2022-10-08T14:36:35.086Z"
   },
   {
    "duration": 42,
    "start_time": "2022-10-08T14:37:42.362Z"
   },
   {
    "duration": 83,
    "start_time": "2022-10-08T14:38:58.195Z"
   },
   {
    "duration": 127,
    "start_time": "2022-10-08T14:39:09.297Z"
   },
   {
    "duration": 103,
    "start_time": "2022-10-08T14:39:13.611Z"
   },
   {
    "duration": 101,
    "start_time": "2022-10-08T14:39:27.784Z"
   },
   {
    "duration": 103,
    "start_time": "2022-10-08T14:39:33.373Z"
   },
   {
    "duration": 100,
    "start_time": "2022-10-08T14:39:40.098Z"
   },
   {
    "duration": 4,
    "start_time": "2022-10-08T14:40:51.653Z"
   },
   {
    "duration": 4,
    "start_time": "2022-10-08T14:40:55.035Z"
   },
   {
    "duration": 130,
    "start_time": "2022-10-08T14:41:30.159Z"
   },
   {
    "duration": 150,
    "start_time": "2022-10-08T14:42:39.019Z"
   },
   {
    "duration": 46,
    "start_time": "2022-10-08T14:43:20.290Z"
   },
   {
    "duration": 160,
    "start_time": "2022-10-08T14:43:43.009Z"
   },
   {
    "duration": 137,
    "start_time": "2022-10-08T14:44:12.231Z"
   },
   {
    "duration": 195,
    "start_time": "2022-10-08T14:44:25.219Z"
   },
   {
    "duration": 144,
    "start_time": "2022-10-08T14:45:19.554Z"
   },
   {
    "duration": 308,
    "start_time": "2022-10-08T15:03:31.689Z"
   },
   {
    "duration": 109,
    "start_time": "2022-10-08T15:03:43.939Z"
   },
   {
    "duration": 121,
    "start_time": "2022-10-08T15:04:37.008Z"
   },
   {
    "duration": 134,
    "start_time": "2022-10-08T15:06:22.710Z"
   },
   {
    "duration": 116,
    "start_time": "2022-10-08T15:06:28.282Z"
   },
   {
    "duration": 123,
    "start_time": "2022-10-08T15:06:38.642Z"
   },
   {
    "duration": 132,
    "start_time": "2022-10-08T15:06:43.806Z"
   },
   {
    "duration": 33,
    "start_time": "2022-10-08T17:14:49.631Z"
   },
   {
    "duration": 22,
    "start_time": "2022-10-08T17:14:59.595Z"
   },
   {
    "duration": 6,
    "start_time": "2022-10-08T17:17:21.166Z"
   },
   {
    "duration": 169,
    "start_time": "2022-10-08T17:17:32.715Z"
   },
   {
    "duration": 216,
    "start_time": "2022-10-08T17:17:44.633Z"
   },
   {
    "duration": 7,
    "start_time": "2022-10-08T17:20:08.542Z"
   },
   {
    "duration": 10,
    "start_time": "2022-10-08T17:22:58.834Z"
   },
   {
    "duration": 8,
    "start_time": "2022-10-08T17:23:06.207Z"
   },
   {
    "duration": 7,
    "start_time": "2022-10-08T17:23:11.860Z"
   },
   {
    "duration": 492,
    "start_time": "2022-10-08T17:23:33.699Z"
   },
   {
    "duration": 104,
    "start_time": "2022-10-08T17:24:45.028Z"
   },
   {
    "duration": 1120,
    "start_time": "2022-10-08T17:29:05.069Z"
   },
   {
    "duration": 642,
    "start_time": "2022-10-08T17:29:23.693Z"
   },
   {
    "duration": 127,
    "start_time": "2022-10-08T17:29:29.768Z"
   },
   {
    "duration": 185,
    "start_time": "2022-10-08T17:29:39.082Z"
   },
   {
    "duration": 109,
    "start_time": "2022-10-08T17:29:47.240Z"
   },
   {
    "duration": 144,
    "start_time": "2022-10-08T17:29:55.499Z"
   },
   {
    "duration": 37,
    "start_time": "2022-10-08T18:02:35.083Z"
   },
   {
    "duration": 45,
    "start_time": "2022-10-08T18:03:08.389Z"
   },
   {
    "duration": 8,
    "start_time": "2022-10-08T18:03:52.003Z"
   },
   {
    "duration": 24929,
    "start_time": "2022-10-08T18:03:59.503Z"
   },
   {
    "duration": 32,
    "start_time": "2022-10-08T18:04:37.596Z"
   },
   {
    "duration": 840,
    "start_time": "2022-10-08T18:06:07.658Z"
   },
   {
    "duration": 141,
    "start_time": "2022-10-08T18:06:30.214Z"
   },
   {
    "duration": 218,
    "start_time": "2022-10-08T18:07:25.084Z"
   },
   {
    "duration": 190,
    "start_time": "2022-10-08T18:07:40.330Z"
   },
   {
    "duration": 205,
    "start_time": "2022-10-08T18:07:45.269Z"
   },
   {
    "duration": 160,
    "start_time": "2022-10-08T18:07:48.648Z"
   },
   {
    "duration": 185,
    "start_time": "2022-10-08T18:07:57.074Z"
   },
   {
    "duration": 142,
    "start_time": "2022-10-08T18:08:01.724Z"
   },
   {
    "duration": 9,
    "start_time": "2022-10-08T18:08:24.820Z"
   },
   {
    "duration": 45,
    "start_time": "2022-10-08T18:08:29.441Z"
   },
   {
    "duration": 7,
    "start_time": "2022-10-08T18:09:32.175Z"
   },
   {
    "duration": 5,
    "start_time": "2022-10-08T18:09:37.883Z"
   },
   {
    "duration": 10,
    "start_time": "2022-10-08T18:11:35.966Z"
   },
   {
    "duration": 16,
    "start_time": "2022-10-08T18:11:42.969Z"
   },
   {
    "duration": 10,
    "start_time": "2022-10-08T18:11:49.764Z"
   },
   {
    "duration": 3,
    "start_time": "2022-10-08T18:14:05.536Z"
   },
   {
    "duration": 319,
    "start_time": "2022-10-08T18:14:27.376Z"
   },
   {
    "duration": 334,
    "start_time": "2022-10-08T18:14:56.882Z"
   },
   {
    "duration": 401,
    "start_time": "2022-10-08T18:15:01.910Z"
   },
   {
    "duration": 2345,
    "start_time": "2022-10-08T18:17:03.027Z"
   },
   {
    "duration": 2288,
    "start_time": "2022-10-08T18:17:15.242Z"
   },
   {
    "duration": 1726,
    "start_time": "2022-10-08T18:18:05.243Z"
   },
   {
    "duration": 2333,
    "start_time": "2022-10-08T18:19:15.606Z"
   },
   {
    "duration": 2423,
    "start_time": "2022-10-08T18:21:10.587Z"
   },
   {
    "duration": 135,
    "start_time": "2022-10-08T18:24:17.565Z"
   },
   {
    "duration": 146,
    "start_time": "2022-10-08T18:24:35.155Z"
   },
   {
    "duration": 143,
    "start_time": "2022-10-08T18:24:44.998Z"
   },
   {
    "duration": 123,
    "start_time": "2022-10-08T18:25:18.692Z"
   },
   {
    "duration": 173,
    "start_time": "2022-10-08T18:26:47.098Z"
   },
   {
    "duration": 186,
    "start_time": "2022-10-08T18:26:52.576Z"
   },
   {
    "duration": 143,
    "start_time": "2022-10-08T18:27:00.227Z"
   },
   {
    "duration": 7,
    "start_time": "2022-10-08T18:27:37.488Z"
   },
   {
    "duration": 5,
    "start_time": "2022-10-08T18:28:46.475Z"
   },
   {
    "duration": 5,
    "start_time": "2022-10-08T18:28:58.347Z"
   },
   {
    "duration": 6,
    "start_time": "2022-10-08T18:29:07.750Z"
   },
   {
    "duration": 152,
    "start_time": "2022-10-08T18:29:24.136Z"
   },
   {
    "duration": 12,
    "start_time": "2022-10-08T18:30:50.379Z"
   },
   {
    "duration": 5,
    "start_time": "2022-10-08T18:31:45.669Z"
   },
   {
    "duration": 141,
    "start_time": "2022-10-08T18:32:34.033Z"
   },
   {
    "duration": 863,
    "start_time": "2022-10-08T18:32:41.105Z"
   },
   {
    "duration": 5,
    "start_time": "2022-10-08T18:32:44.500Z"
   },
   {
    "duration": 1064,
    "start_time": "2022-10-08T18:32:51.560Z"
   },
   {
    "duration": 148,
    "start_time": "2022-10-08T18:32:55.449Z"
   },
   {
    "duration": 5,
    "start_time": "2022-10-08T18:33:33.289Z"
   },
   {
    "duration": 131,
    "start_time": "2022-10-08T18:33:39.507Z"
   },
   {
    "duration": 105,
    "start_time": "2022-10-08T18:34:02.809Z"
   },
   {
    "duration": 129,
    "start_time": "2022-10-08T18:34:09.067Z"
   },
   {
    "duration": 5,
    "start_time": "2022-10-08T18:34:18.609Z"
   },
   {
    "duration": 3206,
    "start_time": "2022-10-08T18:38:53.530Z"
   },
   {
    "duration": 163,
    "start_time": "2022-10-08T18:39:42.553Z"
   },
   {
    "duration": 139,
    "start_time": "2022-10-08T18:40:09.805Z"
   },
   {
    "duration": 123,
    "start_time": "2022-10-08T18:40:16.171Z"
   },
   {
    "duration": 172,
    "start_time": "2022-10-08T18:40:21.974Z"
   },
   {
    "duration": 13,
    "start_time": "2022-10-08T18:41:34.696Z"
   },
   {
    "duration": 22,
    "start_time": "2022-10-08T18:41:50.201Z"
   },
   {
    "duration": 19,
    "start_time": "2022-10-08T18:42:07.407Z"
   },
   {
    "duration": 26,
    "start_time": "2022-10-08T18:42:22.036Z"
   },
   {
    "duration": 22,
    "start_time": "2022-10-08T18:43:28.300Z"
   },
   {
    "duration": 26,
    "start_time": "2022-10-08T18:43:43.540Z"
   },
   {
    "duration": 28,
    "start_time": "2022-10-08T18:44:01.073Z"
   },
   {
    "duration": 19,
    "start_time": "2022-10-08T19:43:45.140Z"
   },
   {
    "duration": 25,
    "start_time": "2022-10-08T19:44:18.673Z"
   },
   {
    "duration": 25,
    "start_time": "2022-10-08T19:44:32.210Z"
   },
   {
    "duration": 53,
    "start_time": "2022-10-08T19:45:37.211Z"
   },
   {
    "duration": 20,
    "start_time": "2022-10-08T19:45:46.672Z"
   },
   {
    "duration": 9,
    "start_time": "2022-10-08T19:46:10.590Z"
   },
   {
    "duration": 23,
    "start_time": "2022-10-08T19:47:55.161Z"
   },
   {
    "duration": 7,
    "start_time": "2022-10-08T19:48:54.276Z"
   },
   {
    "duration": 6,
    "start_time": "2022-10-08T19:49:33.513Z"
   },
   {
    "duration": 20,
    "start_time": "2022-10-08T19:49:42.464Z"
   },
   {
    "duration": 8,
    "start_time": "2022-10-08T19:49:43.017Z"
   },
   {
    "duration": 934,
    "start_time": "2022-10-08T19:50:27.520Z"
   },
   {
    "duration": 940,
    "start_time": "2022-10-08T19:50:41.903Z"
   },
   {
    "duration": 31,
    "start_time": "2022-10-08T19:50:53.198Z"
   },
   {
    "duration": 22,
    "start_time": "2022-10-08T19:51:23.742Z"
   },
   {
    "duration": 23,
    "start_time": "2022-10-08T19:52:30.471Z"
   },
   {
    "duration": 21,
    "start_time": "2022-10-08T19:53:28.537Z"
   },
   {
    "duration": 24,
    "start_time": "2022-10-08T19:53:36.957Z"
   },
   {
    "duration": 19,
    "start_time": "2022-10-08T19:53:46.241Z"
   },
   {
    "duration": 6,
    "start_time": "2022-10-08T19:54:59.697Z"
   },
   {
    "duration": 7,
    "start_time": "2022-10-08T19:55:06.334Z"
   },
   {
    "duration": 104,
    "start_time": "2022-10-08T19:55:18.318Z"
   },
   {
    "duration": 20,
    "start_time": "2022-10-08T19:55:40.888Z"
   },
   {
    "duration": 7,
    "start_time": "2022-10-08T19:55:41.382Z"
   },
   {
    "duration": 13,
    "start_time": "2022-10-08T19:55:48.766Z"
   },
   {
    "duration": 8,
    "start_time": "2022-10-08T19:56:10.743Z"
   },
   {
    "duration": 7,
    "start_time": "2022-10-08T19:56:31.733Z"
   },
   {
    "duration": 5,
    "start_time": "2022-10-08T19:56:36.929Z"
   },
   {
    "duration": 5,
    "start_time": "2022-10-08T19:56:57.865Z"
   },
   {
    "duration": 6,
    "start_time": "2022-10-08T19:57:02.075Z"
   },
   {
    "duration": 221,
    "start_time": "2022-10-08T19:57:26.718Z"
   },
   {
    "duration": 24,
    "start_time": "2022-10-08T19:57:40.772Z"
   },
   {
    "duration": 5,
    "start_time": "2022-10-08T19:57:41.637Z"
   },
   {
    "duration": 5,
    "start_time": "2022-10-08T19:57:42.228Z"
   },
   {
    "duration": 31,
    "start_time": "2022-10-08T19:58:01.922Z"
   },
   {
    "duration": 27,
    "start_time": "2022-10-08T19:58:27.211Z"
   },
   {
    "duration": 36,
    "start_time": "2022-10-08T19:58:35.639Z"
   },
   {
    "duration": 7,
    "start_time": "2022-10-08T20:00:02.031Z"
   },
   {
    "duration": 7,
    "start_time": "2022-10-08T20:00:02.529Z"
   },
   {
    "duration": 12,
    "start_time": "2022-10-08T20:01:07.914Z"
   },
   {
    "duration": 39,
    "start_time": "2022-10-08T20:01:37.681Z"
   },
   {
    "duration": 38,
    "start_time": "2022-10-08T20:01:40.860Z"
   },
   {
    "duration": 26,
    "start_time": "2022-10-08T20:02:29.930Z"
   },
   {
    "duration": 20,
    "start_time": "2022-10-08T20:02:49.802Z"
   },
   {
    "duration": 18,
    "start_time": "2022-10-08T20:03:04.831Z"
   },
   {
    "duration": 182,
    "start_time": "2022-10-08T20:03:36.388Z"
   },
   {
    "duration": 11,
    "start_time": "2022-10-08T20:04:48.163Z"
   },
   {
    "duration": 17,
    "start_time": "2022-10-08T20:04:55.729Z"
   },
   {
    "duration": 17,
    "start_time": "2022-10-08T20:06:01.442Z"
   },
   {
    "duration": 987,
    "start_time": "2022-10-08T20:07:36.594Z"
   },
   {
    "duration": 783,
    "start_time": "2022-10-08T20:07:41.029Z"
   },
   {
    "duration": 145,
    "start_time": "2022-10-08T20:07:49.101Z"
   },
   {
    "duration": 129,
    "start_time": "2022-10-08T20:08:22.980Z"
   },
   {
    "duration": 129,
    "start_time": "2022-10-08T20:08:27.384Z"
   },
   {
    "duration": 129,
    "start_time": "2022-10-08T20:08:40.952Z"
   },
   {
    "duration": 142,
    "start_time": "2022-10-08T20:09:10.735Z"
   },
   {
    "duration": 136,
    "start_time": "2022-10-08T20:09:17.164Z"
   },
   {
    "duration": 119,
    "start_time": "2022-10-08T20:13:20.796Z"
   },
   {
    "duration": 69,
    "start_time": "2022-10-08T20:13:20.986Z"
   },
   {
    "duration": 13,
    "start_time": "2022-10-08T20:13:21.231Z"
   },
   {
    "duration": 1779,
    "start_time": "2022-10-08T20:13:21.749Z"
   },
   {
    "duration": 1721,
    "start_time": "2022-10-08T20:13:43.901Z"
   },
   {
    "duration": 8,
    "start_time": "2022-10-08T20:13:47.158Z"
   },
   {
    "duration": 147,
    "start_time": "2022-10-08T20:13:48.316Z"
   },
   {
    "duration": 133,
    "start_time": "2022-10-08T20:13:49.278Z"
   },
   {
    "duration": 133,
    "start_time": "2022-10-08T20:13:50.568Z"
   },
   {
    "duration": 6,
    "start_time": "2022-10-08T20:13:51.658Z"
   },
   {
    "duration": 144,
    "start_time": "2022-10-08T20:13:52.353Z"
   },
   {
    "duration": 7,
    "start_time": "2022-10-08T20:13:54.343Z"
   },
   {
    "duration": 8,
    "start_time": "2022-10-08T20:13:54.683Z"
   },
   {
    "duration": 7,
    "start_time": "2022-10-08T20:13:54.977Z"
   },
   {
    "duration": 5,
    "start_time": "2022-10-08T20:13:55.263Z"
   },
   {
    "duration": 6,
    "start_time": "2022-10-08T20:13:55.611Z"
   },
   {
    "duration": 109,
    "start_time": "2022-10-08T20:13:55.929Z"
   },
   {
    "duration": 120,
    "start_time": "2022-10-08T20:13:56.317Z"
   },
   {
    "duration": 3,
    "start_time": "2022-10-08T20:13:57.097Z"
   },
   {
    "duration": 5,
    "start_time": "2022-10-08T20:13:57.372Z"
   },
   {
    "duration": 4,
    "start_time": "2022-10-08T20:13:58.001Z"
   },
   {
    "duration": 6,
    "start_time": "2022-10-08T20:13:58.594Z"
   },
   {
    "duration": 6,
    "start_time": "2022-10-08T20:13:59.187Z"
   },
   {
    "duration": 5,
    "start_time": "2022-10-08T20:13:59.737Z"
   },
   {
    "duration": 7,
    "start_time": "2022-10-08T20:13:59.983Z"
   },
   {
    "duration": 4,
    "start_time": "2022-10-08T20:14:00.240Z"
   },
   {
    "duration": 9,
    "start_time": "2022-10-08T20:14:00.487Z"
   },
   {
    "duration": 11,
    "start_time": "2022-10-08T20:14:00.731Z"
   },
   {
    "duration": 6,
    "start_time": "2022-10-08T20:14:00.981Z"
   },
   {
    "duration": 9,
    "start_time": "2022-10-08T20:14:01.198Z"
   },
   {
    "duration": 23,
    "start_time": "2022-10-08T20:14:01.414Z"
   },
   {
    "duration": 10,
    "start_time": "2022-10-08T20:14:01.642Z"
   },
   {
    "duration": 26,
    "start_time": "2022-10-08T20:14:02.064Z"
   },
   {
    "duration": 6,
    "start_time": "2022-10-08T20:14:02.497Z"
   },
   {
    "duration": 26,
    "start_time": "2022-10-08T20:14:02.940Z"
   },
   {
    "duration": 23,
    "start_time": "2022-10-08T20:14:03.159Z"
   },
   {
    "duration": 21,
    "start_time": "2022-10-08T20:14:03.387Z"
   },
   {
    "duration": 3,
    "start_time": "2022-10-08T20:14:03.608Z"
   },
   {
    "duration": 84,
    "start_time": "2022-10-08T20:14:03.831Z"
   },
   {
    "duration": 27,
    "start_time": "2022-10-08T20:14:04.070Z"
   },
   {
    "duration": 310,
    "start_time": "2022-10-08T20:14:05.989Z"
   },
   {
    "duration": 7,
    "start_time": "2022-10-08T20:14:07.234Z"
   },
   {
    "duration": 298,
    "start_time": "2022-10-08T20:14:07.496Z"
   },
   {
    "duration": 202,
    "start_time": "2022-10-08T20:14:08.863Z"
   },
   {
    "duration": 221,
    "start_time": "2022-10-08T20:14:10.381Z"
   },
   {
    "duration": 159,
    "start_time": "2022-10-08T20:14:11.494Z"
   },
   {
    "duration": 144,
    "start_time": "2022-10-08T20:14:13.912Z"
   },
   {
    "duration": 145,
    "start_time": "2022-10-08T20:14:16.287Z"
   },
   {
    "duration": 145,
    "start_time": "2022-10-08T20:14:18.158Z"
   },
   {
    "duration": 100,
    "start_time": "2022-10-08T20:14:19.643Z"
   },
   {
    "duration": 135,
    "start_time": "2022-10-08T20:14:21.461Z"
   },
   {
    "duration": 170,
    "start_time": "2022-10-08T20:14:24.356Z"
   },
   {
    "duration": 233,
    "start_time": "2022-10-08T20:14:25.866Z"
   },
   {
    "duration": 149,
    "start_time": "2022-10-08T20:14:27.449Z"
   },
   {
    "duration": 121,
    "start_time": "2022-10-08T20:14:28.952Z"
   },
   {
    "duration": 114,
    "start_time": "2022-10-08T20:14:30.301Z"
   },
   {
    "duration": 19,
    "start_time": "2022-10-08T20:14:40.752Z"
   },
   {
    "duration": 147,
    "start_time": "2022-10-08T20:14:41.300Z"
   },
   {
    "duration": 8,
    "start_time": "2022-10-08T20:14:42.110Z"
   },
   {
    "duration": 107,
    "start_time": "2022-10-08T20:14:43.345Z"
   },
   {
    "duration": 156,
    "start_time": "2022-10-08T20:14:46.006Z"
   },
   {
    "duration": 6,
    "start_time": "2022-10-08T20:14:46.703Z"
   },
   {
    "duration": 146,
    "start_time": "2022-10-08T20:14:47.481Z"
   },
   {
    "duration": 5,
    "start_time": "2022-10-08T20:14:47.822Z"
   },
   {
    "duration": 140,
    "start_time": "2022-10-08T20:14:48.517Z"
   },
   {
    "duration": 6,
    "start_time": "2022-10-08T20:14:48.854Z"
   },
   {
    "duration": 155,
    "start_time": "2022-10-08T20:14:49.531Z"
   },
   {
    "duration": 4,
    "start_time": "2022-10-08T20:14:49.871Z"
   },
   {
    "duration": 135,
    "start_time": "2022-10-08T20:14:50.548Z"
   },
   {
    "duration": 147,
    "start_time": "2022-10-08T20:14:51.820Z"
   },
   {
    "duration": 6,
    "start_time": "2022-10-08T20:14:52.211Z"
   },
   {
    "duration": 145,
    "start_time": "2022-10-08T20:14:53.095Z"
   },
   {
    "duration": 4,
    "start_time": "2022-10-08T20:14:53.976Z"
   },
   {
    "duration": 149,
    "start_time": "2022-10-08T20:14:55.006Z"
   },
   {
    "duration": 4,
    "start_time": "2022-10-08T20:14:55.692Z"
   },
   {
    "duration": 2360,
    "start_time": "2022-10-08T20:14:56.881Z"
   },
   {
    "duration": 39,
    "start_time": "2022-10-08T20:14:59.243Z"
   },
   {
    "duration": 5,
    "start_time": "2022-10-08T20:14:59.284Z"
   },
   {
    "duration": 5,
    "start_time": "2022-10-08T20:14:59.635Z"
   },
   {
    "duration": 18,
    "start_time": "2022-10-08T20:15:00.926Z"
   },
   {
    "duration": 141,
    "start_time": "2022-10-08T20:15:01.575Z"
   },
   {
    "duration": 753,
    "start_time": "2022-10-09T09:15:51.217Z"
   },
   {
    "duration": 72,
    "start_time": "2022-10-09T09:15:51.971Z"
   },
   {
    "duration": 14,
    "start_time": "2022-10-09T09:15:52.044Z"
   },
   {
    "duration": 2226,
    "start_time": "2022-10-09T09:15:52.134Z"
   },
   {
    "duration": 9,
    "start_time": "2022-10-09T09:15:54.362Z"
   },
   {
    "duration": 146,
    "start_time": "2022-10-09T09:15:56.055Z"
   },
   {
    "duration": 175,
    "start_time": "2022-10-09T09:15:56.460Z"
   },
   {
    "duration": 146,
    "start_time": "2022-10-09T09:15:57.293Z"
   },
   {
    "duration": 7,
    "start_time": "2022-10-09T09:15:58.292Z"
   },
   {
    "duration": 147,
    "start_time": "2022-10-09T09:15:58.938Z"
   },
   {
    "duration": 14,
    "start_time": "2022-10-09T09:16:00.308Z"
   },
   {
    "duration": 8,
    "start_time": "2022-10-09T09:16:00.566Z"
   },
   {
    "duration": 7,
    "start_time": "2022-10-09T09:16:00.843Z"
   },
   {
    "duration": 15,
    "start_time": "2022-10-09T09:16:01.608Z"
   },
   {
    "duration": 4,
    "start_time": "2022-10-09T09:16:01.951Z"
   },
   {
    "duration": 115,
    "start_time": "2022-10-09T09:16:02.233Z"
   },
   {
    "duration": 182,
    "start_time": "2022-10-09T09:16:02.501Z"
   },
   {
    "duration": 4,
    "start_time": "2022-10-09T09:16:03.050Z"
   },
   {
    "duration": 5,
    "start_time": "2022-10-09T09:16:03.872Z"
   },
   {
    "duration": 9,
    "start_time": "2022-10-09T09:16:04.434Z"
   },
   {
    "duration": 7,
    "start_time": "2022-10-09T09:16:05.136Z"
   },
   {
    "duration": 7,
    "start_time": "2022-10-09T09:16:06.352Z"
   },
   {
    "duration": 5,
    "start_time": "2022-10-09T09:16:07.370Z"
   },
   {
    "duration": 6,
    "start_time": "2022-10-09T09:16:09.101Z"
   },
   {
    "duration": 5,
    "start_time": "2022-10-09T09:16:09.530Z"
   },
   {
    "duration": 19,
    "start_time": "2022-10-09T09:16:09.903Z"
   },
   {
    "duration": 13,
    "start_time": "2022-10-09T09:16:10.667Z"
   },
   {
    "duration": 7,
    "start_time": "2022-10-09T09:16:11.781Z"
   },
   {
    "duration": 6,
    "start_time": "2022-10-09T09:16:12.167Z"
   },
   {
    "duration": 21,
    "start_time": "2022-10-09T09:16:13.078Z"
   },
   {
    "duration": 14,
    "start_time": "2022-10-09T09:16:14.927Z"
   },
   {
    "duration": 50,
    "start_time": "2022-10-09T09:16:40.332Z"
   },
   {
    "duration": 779,
    "start_time": "2022-10-10T00:15:59.014Z"
   },
   {
    "duration": 66,
    "start_time": "2022-10-10T00:16:00.657Z"
   },
   {
    "duration": 14,
    "start_time": "2022-10-10T00:16:01.319Z"
   },
   {
    "duration": 2189,
    "start_time": "2022-10-10T00:16:01.932Z"
   },
   {
    "duration": 10,
    "start_time": "2022-10-10T00:16:06.482Z"
   },
   {
    "duration": 138,
    "start_time": "2022-10-10T00:16:08.457Z"
   },
   {
    "duration": 136,
    "start_time": "2022-10-10T00:16:10.665Z"
   },
   {
    "duration": 130,
    "start_time": "2022-10-10T00:16:11.997Z"
   },
   {
    "duration": 7,
    "start_time": "2022-10-10T00:17:00.528Z"
   },
   {
    "duration": 171,
    "start_time": "2022-10-10T00:17:01.436Z"
   },
   {
    "duration": 8,
    "start_time": "2022-10-10T00:17:15.837Z"
   },
   {
    "duration": 10,
    "start_time": "2022-10-10T00:17:23.579Z"
   },
   {
    "duration": 7,
    "start_time": "2022-10-10T00:17:35.364Z"
   },
   {
    "duration": 6,
    "start_time": "2022-10-10T00:18:06.853Z"
   },
   {
    "duration": 5,
    "start_time": "2022-10-10T00:18:07.547Z"
   },
   {
    "duration": 120,
    "start_time": "2022-10-10T00:18:09.218Z"
   },
   {
    "duration": 194,
    "start_time": "2022-10-10T00:18:09.858Z"
   },
   {
    "duration": 3,
    "start_time": "2022-10-10T00:18:11.338Z"
   },
   {
    "duration": 8,
    "start_time": "2022-10-10T00:20:15.207Z"
   },
   {
    "duration": 152,
    "start_time": "2022-10-10T00:20:16.549Z"
   },
   {
    "duration": 136,
    "start_time": "2022-10-10T00:20:16.984Z"
   },
   {
    "duration": 126,
    "start_time": "2022-10-10T00:20:17.862Z"
   },
   {
    "duration": 7,
    "start_time": "2022-10-10T00:20:18.652Z"
   },
   {
    "duration": 143,
    "start_time": "2022-10-10T00:20:19.240Z"
   },
   {
    "duration": 7,
    "start_time": "2022-10-10T00:20:20.127Z"
   },
   {
    "duration": 7,
    "start_time": "2022-10-10T00:20:20.302Z"
   },
   {
    "duration": 7,
    "start_time": "2022-10-10T00:20:20.470Z"
   },
   {
    "duration": 5,
    "start_time": "2022-10-10T00:20:20.813Z"
   },
   {
    "duration": 5,
    "start_time": "2022-10-10T00:20:21.001Z"
   },
   {
    "duration": 114,
    "start_time": "2022-10-10T00:20:21.196Z"
   },
   {
    "duration": 131,
    "start_time": "2022-10-10T00:20:21.383Z"
   },
   {
    "duration": 3,
    "start_time": "2022-10-10T00:20:22.000Z"
   },
   {
    "duration": 6,
    "start_time": "2022-10-10T00:20:25.745Z"
   },
   {
    "duration": 5,
    "start_time": "2022-10-10T00:20:26.578Z"
   },
   {
    "duration": 8,
    "start_time": "2022-10-10T00:20:27.192Z"
   },
   {
    "duration": 6,
    "start_time": "2022-10-10T00:20:27.677Z"
   },
   {
    "duration": 66,
    "start_time": "2022-10-10T00:21:59.127Z"
   },
   {
    "duration": 7,
    "start_time": "2022-10-10T00:22:05.479Z"
   },
   {
    "duration": 5,
    "start_time": "2022-10-10T00:23:44.910Z"
   },
   {
    "duration": 5,
    "start_time": "2022-10-10T00:24:11.029Z"
   },
   {
    "duration": 6,
    "start_time": "2022-10-10T00:24:11.443Z"
   },
   {
    "duration": 4,
    "start_time": "2022-10-10T00:24:11.807Z"
   },
   {
    "duration": 10,
    "start_time": "2022-10-10T00:24:12.988Z"
   },
   {
    "duration": 12,
    "start_time": "2022-10-10T00:24:13.621Z"
   },
   {
    "duration": 6,
    "start_time": "2022-10-10T00:24:14.039Z"
   },
   {
    "duration": 5,
    "start_time": "2022-10-10T00:25:48.399Z"
   },
   {
    "duration": 10,
    "start_time": "2022-10-10T00:25:48.621Z"
   },
   {
    "duration": 5,
    "start_time": "2022-10-10T00:25:49.402Z"
   },
   {
    "duration": 6,
    "start_time": "2022-10-10T00:25:59.327Z"
   },
   {
    "duration": 11,
    "start_time": "2022-10-10T00:25:59.863Z"
   },
   {
    "duration": 8,
    "start_time": "2022-10-10T00:30:41.489Z"
   },
   {
    "duration": 82,
    "start_time": "2022-10-10T00:31:14.234Z"
   },
   {
    "duration": 8,
    "start_time": "2022-10-10T00:31:49.862Z"
   },
   {
    "duration": 10,
    "start_time": "2022-10-10T00:32:17.728Z"
   },
   {
    "duration": 8,
    "start_time": "2022-10-10T00:32:24.716Z"
   },
   {
    "duration": 133,
    "start_time": "2022-10-10T00:32:31.921Z"
   },
   {
    "duration": 81,
    "start_time": "2022-10-10T00:32:32.056Z"
   },
   {
    "duration": 22,
    "start_time": "2022-10-10T00:32:32.139Z"
   },
   {
    "duration": 2071,
    "start_time": "2022-10-10T00:32:32.163Z"
   },
   {
    "duration": 10,
    "start_time": "2022-10-10T00:32:34.236Z"
   },
   {
    "duration": 233,
    "start_time": "2022-10-10T00:32:34.248Z"
   },
   {
    "duration": 175,
    "start_time": "2022-10-10T00:32:34.483Z"
   },
   {
    "duration": 146,
    "start_time": "2022-10-10T00:32:34.660Z"
   },
   {
    "duration": 6,
    "start_time": "2022-10-10T00:32:34.808Z"
   },
   {
    "duration": 154,
    "start_time": "2022-10-10T00:32:35.208Z"
   },
   {
    "duration": 7,
    "start_time": "2022-10-10T00:32:36.038Z"
   },
   {
    "duration": 11,
    "start_time": "2022-10-10T00:32:36.234Z"
   },
   {
    "duration": 173,
    "start_time": "2022-10-10T00:33:21.373Z"
   },
   {
    "duration": 13,
    "start_time": "2022-10-10T00:33:21.550Z"
   },
   {
    "duration": 1671,
    "start_time": "2022-10-10T00:33:21.711Z"
   },
   {
    "duration": 11,
    "start_time": "2022-10-10T00:33:23.385Z"
   },
   {
    "duration": 171,
    "start_time": "2022-10-10T00:33:23.398Z"
   },
   {
    "duration": 151,
    "start_time": "2022-10-10T00:33:23.571Z"
   },
   {
    "duration": 277,
    "start_time": "2022-10-10T00:33:23.947Z"
   },
   {
    "duration": 47,
    "start_time": "2022-10-10T00:35:17.600Z"
   },
   {
    "duration": 6,
    "start_time": "2022-10-10T00:36:14.957Z"
   },
   {
    "duration": 173,
    "start_time": "2022-10-10T00:36:21.294Z"
   },
   {
    "duration": 73,
    "start_time": "2022-10-10T00:36:45.743Z"
   },
   {
    "duration": 151,
    "start_time": "2022-10-10T00:36:56.562Z"
   },
   {
    "duration": 141,
    "start_time": "2022-10-10T00:37:01.980Z"
   },
   {
    "duration": 7,
    "start_time": "2022-10-10T00:37:28.752Z"
   },
   {
    "duration": 8,
    "start_time": "2022-10-10T00:37:29.170Z"
   },
   {
    "duration": 7,
    "start_time": "2022-10-10T00:37:29.624Z"
   },
   {
    "duration": 5,
    "start_time": "2022-10-10T00:37:32.718Z"
   },
   {
    "duration": 4,
    "start_time": "2022-10-10T00:37:33.230Z"
   },
   {
    "duration": 112,
    "start_time": "2022-10-10T00:37:33.420Z"
   },
   {
    "duration": 121,
    "start_time": "2022-10-10T00:37:33.864Z"
   },
   {
    "duration": 3,
    "start_time": "2022-10-10T00:37:34.265Z"
   },
   {
    "duration": 6,
    "start_time": "2022-10-10T00:38:09.830Z"
   },
   {
    "duration": 4,
    "start_time": "2022-10-10T00:38:18.885Z"
   },
   {
    "duration": 6,
    "start_time": "2022-10-10T00:38:22.765Z"
   },
   {
    "duration": 6,
    "start_time": "2022-10-10T00:38:32.313Z"
   },
   {
    "duration": 5,
    "start_time": "2022-10-10T00:38:35.049Z"
   },
   {
    "duration": 7,
    "start_time": "2022-10-10T00:38:36.254Z"
   },
   {
    "duration": 4,
    "start_time": "2022-10-10T00:38:37.410Z"
   },
   {
    "duration": 9,
    "start_time": "2022-10-10T00:38:37.992Z"
   },
   {
    "duration": 13,
    "start_time": "2022-10-10T00:38:38.767Z"
   },
   {
    "duration": 9,
    "start_time": "2022-10-10T00:38:39.561Z"
   },
   {
    "duration": 7,
    "start_time": "2022-10-10T00:40:33.350Z"
   },
   {
    "duration": 110,
    "start_time": "2022-10-10T00:40:44.617Z"
   },
   {
    "duration": 65,
    "start_time": "2022-10-10T00:40:44.858Z"
   },
   {
    "duration": 13,
    "start_time": "2022-10-10T00:40:45.106Z"
   },
   {
    "duration": 1821,
    "start_time": "2022-10-10T00:40:45.423Z"
   },
   {
    "duration": 9,
    "start_time": "2022-10-10T00:40:47.246Z"
   },
   {
    "duration": 306,
    "start_time": "2022-10-10T00:40:47.283Z"
   },
   {
    "duration": 147,
    "start_time": "2022-10-10T00:40:47.891Z"
   },
   {
    "duration": 153,
    "start_time": "2022-10-10T00:40:48.731Z"
   },
   {
    "duration": 7,
    "start_time": "2022-10-10T00:40:50.056Z"
   },
   {
    "duration": 157,
    "start_time": "2022-10-10T00:40:50.617Z"
   },
   {
    "duration": 169,
    "start_time": "2022-10-10T00:40:51.397Z"
   },
   {
    "duration": 8,
    "start_time": "2022-10-10T00:40:52.516Z"
   },
   {
    "duration": 8,
    "start_time": "2022-10-10T00:40:52.745Z"
   },
   {
    "duration": 7,
    "start_time": "2022-10-10T00:40:52.981Z"
   },
   {
    "duration": 6,
    "start_time": "2022-10-10T00:40:53.543Z"
   },
   {
    "duration": 5,
    "start_time": "2022-10-10T00:40:53.962Z"
   },
   {
    "duration": 113,
    "start_time": "2022-10-10T00:40:54.345Z"
   },
   {
    "duration": 132,
    "start_time": "2022-10-10T00:40:54.731Z"
   },
   {
    "duration": 4,
    "start_time": "2022-10-10T00:40:55.882Z"
   },
   {
    "duration": 5,
    "start_time": "2022-10-10T00:40:58.113Z"
   },
   {
    "duration": 6,
    "start_time": "2022-10-10T00:40:58.626Z"
   },
   {
    "duration": 5,
    "start_time": "2022-10-10T00:40:59.144Z"
   },
   {
    "duration": 4,
    "start_time": "2022-10-10T00:40:59.662Z"
   },
   {
    "duration": 6,
    "start_time": "2022-10-10T00:41:00.061Z"
   },
   {
    "duration": 4,
    "start_time": "2022-10-10T00:41:01.118Z"
   },
   {
    "duration": 7,
    "start_time": "2022-10-10T00:41:01.327Z"
   },
   {
    "duration": 12,
    "start_time": "2022-10-10T00:41:01.693Z"
   },
   {
    "duration": 8,
    "start_time": "2022-10-10T00:41:02.239Z"
   },
   {
    "duration": 7,
    "start_time": "2022-10-10T00:41:04.181Z"
   },
   {
    "duration": 24,
    "start_time": "2022-10-10T00:41:04.879Z"
   },
   {
    "duration": 11,
    "start_time": "2022-10-10T00:41:07.980Z"
   },
   {
    "duration": 34,
    "start_time": "2022-10-10T00:43:05.192Z"
   },
   {
    "duration": 8,
    "start_time": "2022-10-10T00:43:06.314Z"
   },
   {
    "duration": 24,
    "start_time": "2022-10-10T00:43:08.848Z"
   },
   {
    "duration": 24,
    "start_time": "2022-10-10T00:43:09.220Z"
   },
   {
    "duration": 24,
    "start_time": "2022-10-10T00:43:09.656Z"
   },
   {
    "duration": 3,
    "start_time": "2022-10-10T00:43:10.039Z"
   },
   {
    "duration": 82,
    "start_time": "2022-10-10T00:43:12.306Z"
   },
   {
    "duration": 203,
    "start_time": "2022-10-10T00:43:12.682Z"
   },
   {
    "duration": 7,
    "start_time": "2022-10-10T00:45:17.768Z"
   },
   {
    "duration": 8,
    "start_time": "2022-10-10T00:45:30.209Z"
   },
   {
    "duration": 26,
    "start_time": "2022-10-10T00:45:30.381Z"
   },
   {
    "duration": 11,
    "start_time": "2022-10-10T00:45:30.709Z"
   },
   {
    "duration": 25,
    "start_time": "2022-10-10T00:45:31.379Z"
   },
   {
    "duration": 9,
    "start_time": "2022-10-10T00:45:31.733Z"
   },
   {
    "duration": 23,
    "start_time": "2022-10-10T00:45:32.100Z"
   },
   {
    "duration": 22,
    "start_time": "2022-10-10T00:45:32.273Z"
   },
   {
    "duration": 22,
    "start_time": "2022-10-10T00:45:32.441Z"
   },
   {
    "duration": 2,
    "start_time": "2022-10-10T00:45:32.614Z"
   },
   {
    "duration": 80,
    "start_time": "2022-10-10T00:45:33.004Z"
   },
   {
    "duration": 208,
    "start_time": "2022-10-10T00:45:33.183Z"
   },
   {
    "duration": 234,
    "start_time": "2022-10-10T00:45:39.106Z"
   },
   {
    "duration": 4,
    "start_time": "2022-10-10T00:45:55.305Z"
   },
   {
    "duration": 10,
    "start_time": "2022-10-10T00:45:56.187Z"
   },
   {
    "duration": 25,
    "start_time": "2022-10-10T00:46:00.364Z"
   },
   {
    "duration": 12,
    "start_time": "2022-10-10T00:46:01.291Z"
   },
   {
    "duration": 22,
    "start_time": "2022-10-10T00:46:03.102Z"
   },
   {
    "duration": 9,
    "start_time": "2022-10-10T00:46:03.705Z"
   },
   {
    "duration": 24,
    "start_time": "2022-10-10T00:46:04.411Z"
   },
   {
    "duration": 22,
    "start_time": "2022-10-10T00:46:04.697Z"
   },
   {
    "duration": 22,
    "start_time": "2022-10-10T00:46:04.967Z"
   },
   {
    "duration": 4,
    "start_time": "2022-10-10T00:46:05.255Z"
   },
   {
    "duration": 84,
    "start_time": "2022-10-10T00:46:05.921Z"
   },
   {
    "duration": 35,
    "start_time": "2022-10-10T00:46:06.229Z"
   },
   {
    "duration": 325,
    "start_time": "2022-10-10T00:46:08.511Z"
   },
   {
    "duration": 8,
    "start_time": "2022-10-10T00:46:14.478Z"
   },
   {
    "duration": 312,
    "start_time": "2022-10-10T00:46:14.939Z"
   },
   {
    "duration": 218,
    "start_time": "2022-10-10T00:46:16.432Z"
   },
   {
    "duration": 206,
    "start_time": "2022-10-10T00:46:17.952Z"
   },
   {
    "duration": 191,
    "start_time": "2022-10-10T00:46:19.651Z"
   },
   {
    "duration": 170,
    "start_time": "2022-10-10T00:46:40.823Z"
   },
   {
    "duration": 350,
    "start_time": "2022-10-10T00:46:43.469Z"
   },
   {
    "duration": 127,
    "start_time": "2022-10-10T00:46:44.655Z"
   },
   {
    "duration": 87,
    "start_time": "2022-10-10T00:46:54.968Z"
   },
   {
    "duration": 141,
    "start_time": "2022-10-10T00:47:01.603Z"
   },
   {
    "duration": 187,
    "start_time": "2022-10-10T00:47:09.735Z"
   },
   {
    "duration": 220,
    "start_time": "2022-10-10T00:47:21.327Z"
   },
   {
    "duration": 158,
    "start_time": "2022-10-10T00:47:24.073Z"
   },
   {
    "duration": 164,
    "start_time": "2022-10-10T00:47:26.292Z"
   },
   {
    "duration": 117,
    "start_time": "2022-10-10T00:47:27.989Z"
   },
   {
    "duration": 21,
    "start_time": "2022-10-10T00:47:34.853Z"
   },
   {
    "duration": 130,
    "start_time": "2022-10-10T00:47:36.545Z"
   },
   {
    "duration": 8,
    "start_time": "2022-10-10T00:47:37.311Z"
   },
   {
    "duration": 104,
    "start_time": "2022-10-10T00:47:37.940Z"
   },
   {
    "duration": 159,
    "start_time": "2022-10-10T00:47:47.667Z"
   },
   {
    "duration": 6,
    "start_time": "2022-10-10T00:47:48.317Z"
   },
   {
    "duration": 154,
    "start_time": "2022-10-10T00:48:28.430Z"
   },
   {
    "duration": 5,
    "start_time": "2022-10-10T00:48:29.099Z"
   },
   {
    "duration": 141,
    "start_time": "2022-10-10T00:48:33.297Z"
   },
   {
    "duration": 5,
    "start_time": "2022-10-10T00:48:34.047Z"
   },
   {
    "duration": 155,
    "start_time": "2022-10-10T00:48:34.631Z"
   },
   {
    "duration": 6,
    "start_time": "2022-10-10T00:48:35.546Z"
   },
   {
    "duration": 190,
    "start_time": "2022-10-10T00:50:04.743Z"
   },
   {
    "duration": 214,
    "start_time": "2022-10-10T00:50:41.986Z"
   },
   {
    "duration": 168,
    "start_time": "2022-10-10T00:50:48.141Z"
   },
   {
    "duration": 193,
    "start_time": "2022-10-10T00:51:38.231Z"
   },
   {
    "duration": 212044,
    "start_time": "2022-10-10T00:54:41.777Z"
   },
   {
    "duration": 145,
    "start_time": "2022-10-10T01:00:20.151Z"
   },
   {
    "duration": 131,
    "start_time": "2022-10-10T01:00:24.005Z"
   },
   {
    "duration": 796,
    "start_time": "2022-10-10T01:04:16.851Z"
   },
   {
    "duration": 140,
    "start_time": "2022-10-10T01:04:54.375Z"
   },
   {
    "duration": 899,
    "start_time": "2022-10-10T01:05:08.276Z"
   },
   {
    "duration": 139,
    "start_time": "2022-10-10T01:05:14.665Z"
   },
   {
    "duration": 124,
    "start_time": "2022-10-10T01:07:52.948Z"
   },
   {
    "duration": 115,
    "start_time": "2022-10-10T01:08:02.749Z"
   },
   {
    "duration": 113,
    "start_time": "2022-10-10T01:10:44.754Z"
   },
   {
    "duration": 144,
    "start_time": "2022-10-10T01:11:09.482Z"
   },
   {
    "duration": 144,
    "start_time": "2022-10-10T01:12:32.191Z"
   },
   {
    "duration": 148,
    "start_time": "2022-10-10T01:12:49.585Z"
   },
   {
    "duration": 137,
    "start_time": "2022-10-10T01:12:59.450Z"
   },
   {
    "duration": 141,
    "start_time": "2022-10-10T01:13:07.735Z"
   },
   {
    "duration": 66,
    "start_time": "2022-10-10T01:14:23.616Z"
   },
   {
    "duration": 128,
    "start_time": "2022-10-10T01:15:53.052Z"
   },
   {
    "duration": 111,
    "start_time": "2022-10-10T01:16:06.865Z"
   },
   {
    "duration": 107,
    "start_time": "2022-10-10T01:17:33.950Z"
   },
   {
    "duration": 124,
    "start_time": "2022-10-10T01:17:43.224Z"
   },
   {
    "duration": 6,
    "start_time": "2022-10-10T01:18:45.200Z"
   },
   {
    "duration": 142,
    "start_time": "2022-10-10T01:19:10.416Z"
   },
   {
    "duration": 6,
    "start_time": "2022-10-10T01:19:16.418Z"
   },
   {
    "duration": 6,
    "start_time": "2022-10-10T01:20:15.013Z"
   },
   {
    "duration": 137,
    "start_time": "2022-10-10T01:20:34.071Z"
   },
   {
    "duration": 119,
    "start_time": "2022-10-10T01:20:44.771Z"
   },
   {
    "duration": 5,
    "start_time": "2022-10-10T01:22:25.028Z"
   },
   {
    "duration": 376,
    "start_time": "2022-10-10T01:25:14.933Z"
   },
   {
    "duration": 6,
    "start_time": "2022-10-10T01:27:43.758Z"
   },
   {
    "duration": 6,
    "start_time": "2022-10-10T01:28:27.393Z"
   },
   {
    "duration": 143,
    "start_time": "2022-10-10T01:29:50.324Z"
   },
   {
    "duration": 9,
    "start_time": "2022-10-10T01:46:49.311Z"
   },
   {
    "duration": 8,
    "start_time": "2022-10-10T01:46:57.380Z"
   },
   {
    "duration": 7,
    "start_time": "2022-10-10T01:46:57.646Z"
   },
   {
    "duration": 122,
    "start_time": "2022-10-10T01:47:43.076Z"
   },
   {
    "duration": 93,
    "start_time": "2022-10-10T01:47:43.200Z"
   },
   {
    "duration": 13,
    "start_time": "2022-10-10T01:47:43.294Z"
   },
   {
    "duration": 1744,
    "start_time": "2022-10-10T01:47:43.309Z"
   },
   {
    "duration": 11,
    "start_time": "2022-10-10T01:47:45.056Z"
   },
   {
    "duration": 168,
    "start_time": "2022-10-10T01:47:45.068Z"
   },
   {
    "duration": 159,
    "start_time": "2022-10-10T01:47:45.238Z"
   },
   {
    "duration": 165,
    "start_time": "2022-10-10T01:47:45.399Z"
   },
   {
    "duration": 6,
    "start_time": "2022-10-10T01:47:45.566Z"
   },
   {
    "duration": 191,
    "start_time": "2022-10-10T01:47:45.575Z"
   },
   {
    "duration": 168,
    "start_time": "2022-10-10T01:47:45.767Z"
   },
   {
    "duration": 7,
    "start_time": "2022-10-10T01:47:45.937Z"
   },
   {
    "duration": 8,
    "start_time": "2022-10-10T01:47:45.945Z"
   },
   {
    "duration": 6,
    "start_time": "2022-10-10T01:47:45.955Z"
   },
   {
    "duration": 9,
    "start_time": "2022-10-10T01:47:45.962Z"
   },
   {
    "duration": 5,
    "start_time": "2022-10-10T01:47:45.972Z"
   },
   {
    "duration": 136,
    "start_time": "2022-10-10T01:47:45.979Z"
   },
   {
    "duration": 152,
    "start_time": "2022-10-10T01:47:46.117Z"
   },
   {
    "duration": 5,
    "start_time": "2022-10-10T01:47:46.271Z"
   },
   {
    "duration": 15,
    "start_time": "2022-10-10T01:47:46.278Z"
   },
   {
    "duration": 20,
    "start_time": "2022-10-10T01:47:46.296Z"
   },
   {
    "duration": 15,
    "start_time": "2022-10-10T01:47:46.318Z"
   },
   {
    "duration": 13,
    "start_time": "2022-10-10T01:47:46.336Z"
   },
   {
    "duration": 20,
    "start_time": "2022-10-10T01:47:46.350Z"
   },
   {
    "duration": 25,
    "start_time": "2022-10-10T01:47:46.372Z"
   },
   {
    "duration": 17,
    "start_time": "2022-10-10T01:47:46.400Z"
   },
   {
    "duration": 21,
    "start_time": "2022-10-10T01:47:46.421Z"
   },
   {
    "duration": 7,
    "start_time": "2022-10-10T01:47:46.447Z"
   },
   {
    "duration": 18,
    "start_time": "2022-10-10T01:47:46.456Z"
   },
   {
    "duration": 20,
    "start_time": "2022-10-10T01:47:46.476Z"
   },
   {
    "duration": 38,
    "start_time": "2022-10-10T01:47:46.498Z"
   },
   {
    "duration": 12,
    "start_time": "2022-10-10T01:47:46.537Z"
   },
   {
    "duration": 28,
    "start_time": "2022-10-10T01:47:46.551Z"
   },
   {
    "duration": 6,
    "start_time": "2022-10-10T01:47:46.581Z"
   },
   {
    "duration": 46,
    "start_time": "2022-10-10T01:47:46.588Z"
   },
   {
    "duration": 23,
    "start_time": "2022-10-10T01:47:46.636Z"
   },
   {
    "duration": 20,
    "start_time": "2022-10-10T01:47:46.660Z"
   },
   {
    "duration": 3,
    "start_time": "2022-10-10T01:47:46.682Z"
   },
   {
    "duration": 107,
    "start_time": "2022-10-10T01:47:46.686Z"
   },
   {
    "duration": 26,
    "start_time": "2022-10-10T01:47:46.794Z"
   },
   {
    "duration": 335,
    "start_time": "2022-10-10T01:47:46.834Z"
   },
   {
    "duration": 6,
    "start_time": "2022-10-10T01:47:47.171Z"
   },
   {
    "duration": 344,
    "start_time": "2022-10-10T01:47:47.179Z"
   },
   {
    "duration": 219,
    "start_time": "2022-10-10T01:47:47.524Z"
   },
   {
    "duration": 240,
    "start_time": "2022-10-10T01:47:47.745Z"
   },
   {
    "duration": 174,
    "start_time": "2022-10-10T01:47:47.986Z"
   },
   {
    "duration": 178,
    "start_time": "2022-10-10T01:47:48.162Z"
   },
   {
    "duration": 173,
    "start_time": "2022-10-10T01:47:48.342Z"
   },
   {
    "duration": 137,
    "start_time": "2022-10-10T01:47:48.517Z"
   },
   {
    "duration": 103,
    "start_time": "2022-10-10T01:47:48.656Z"
   },
   {
    "duration": 152,
    "start_time": "2022-10-10T01:47:48.760Z"
   },
   {
    "duration": 214,
    "start_time": "2022-10-10T01:47:48.914Z"
   },
   {
    "duration": 233,
    "start_time": "2022-10-10T01:47:49.133Z"
   },
   {
    "duration": 165,
    "start_time": "2022-10-10T01:47:49.368Z"
   },
   {
    "duration": 144,
    "start_time": "2022-10-10T01:47:49.535Z"
   },
   {
    "duration": 169,
    "start_time": "2022-10-10T01:47:49.681Z"
   },
   {
    "duration": 22,
    "start_time": "2022-10-10T01:47:49.852Z"
   },
   {
    "duration": 192,
    "start_time": "2022-10-10T01:47:49.876Z"
   },
   {
    "duration": 8,
    "start_time": "2022-10-10T01:47:50.070Z"
   },
   {
    "duration": 119,
    "start_time": "2022-10-10T01:47:50.079Z"
   },
   {
    "duration": 1590,
    "start_time": "2022-10-10T01:47:50.200Z"
   },
   {
    "duration": 4,
    "start_time": "2022-10-10T01:47:51.793Z"
   },
   {
    "duration": 158,
    "start_time": "2022-10-10T01:47:51.799Z"
   },
   {
    "duration": 5,
    "start_time": "2022-10-10T01:47:51.959Z"
   },
   {
    "duration": 174,
    "start_time": "2022-10-10T01:47:51.965Z"
   },
   {
    "duration": 7,
    "start_time": "2022-10-10T01:47:52.141Z"
   },
   {
    "duration": 183,
    "start_time": "2022-10-10T01:47:52.150Z"
   },
   {
    "duration": 132,
    "start_time": "2022-10-10T01:47:52.335Z"
   },
   {
    "duration": 6,
    "start_time": "2022-10-10T01:47:52.468Z"
   },
   {
    "duration": 84,
    "start_time": "2022-10-10T01:47:52.475Z"
   },
   {
    "duration": 112,
    "start_time": "2022-10-10T01:47:52.561Z"
   },
   {
    "duration": 132,
    "start_time": "2022-10-10T01:47:52.675Z"
   },
   {
    "duration": 5,
    "start_time": "2022-10-10T01:47:52.809Z"
   },
   {
    "duration": 161,
    "start_time": "2022-10-10T01:47:52.815Z"
   },
   {
    "duration": 4,
    "start_time": "2022-10-10T01:47:52.978Z"
   },
   {
    "duration": 151,
    "start_time": "2022-10-10T01:47:52.984Z"
   },
   {
    "duration": 5,
    "start_time": "2022-10-10T01:47:53.136Z"
   },
   {
    "duration": 2473,
    "start_time": "2022-10-10T01:47:53.143Z"
   },
   {
    "duration": 45,
    "start_time": "2022-10-10T01:47:55.617Z"
   },
   {
    "duration": 5,
    "start_time": "2022-10-10T01:47:55.664Z"
   },
   {
    "duration": 9,
    "start_time": "2022-10-10T01:47:55.670Z"
   },
   {
    "duration": 20,
    "start_time": "2022-10-10T01:47:55.684Z"
   },
   {
    "duration": 124,
    "start_time": "2022-10-10T01:48:27.047Z"
   },
   {
    "duration": 97,
    "start_time": "2022-10-10T01:48:27.173Z"
   },
   {
    "duration": 14,
    "start_time": "2022-10-10T01:48:27.272Z"
   },
   {
    "duration": 1842,
    "start_time": "2022-10-10T01:48:27.288Z"
   },
   {
    "duration": 11,
    "start_time": "2022-10-10T01:48:29.134Z"
   },
   {
    "duration": 182,
    "start_time": "2022-10-10T01:48:29.146Z"
   },
   {
    "duration": 143,
    "start_time": "2022-10-10T01:48:29.329Z"
   },
   {
    "duration": 143,
    "start_time": "2022-10-10T01:48:29.474Z"
   },
   {
    "duration": 13,
    "start_time": "2022-10-10T01:48:29.620Z"
   },
   {
    "duration": 189,
    "start_time": "2022-10-10T01:48:29.635Z"
   },
   {
    "duration": 162,
    "start_time": "2022-10-10T01:48:29.826Z"
   },
   {
    "duration": 8,
    "start_time": "2022-10-10T01:48:29.990Z"
   },
   {
    "duration": 16,
    "start_time": "2022-10-10T01:48:29.999Z"
   },
   {
    "duration": 20,
    "start_time": "2022-10-10T01:48:30.018Z"
   },
   {
    "duration": 14,
    "start_time": "2022-10-10T01:48:30.040Z"
   },
   {
    "duration": 24,
    "start_time": "2022-10-10T01:48:30.055Z"
   },
   {
    "duration": 126,
    "start_time": "2022-10-10T01:48:30.081Z"
   },
   {
    "duration": 153,
    "start_time": "2022-10-10T01:48:30.209Z"
   },
   {
    "duration": 3,
    "start_time": "2022-10-10T01:48:30.364Z"
   },
   {
    "duration": 25,
    "start_time": "2022-10-10T01:48:30.369Z"
   },
   {
    "duration": 35,
    "start_time": "2022-10-10T01:48:30.396Z"
   },
   {
    "duration": 10,
    "start_time": "2022-10-10T01:48:30.433Z"
   },
   {
    "duration": 14,
    "start_time": "2022-10-10T01:48:30.444Z"
   },
   {
    "duration": 18,
    "start_time": "2022-10-10T01:48:30.459Z"
   },
   {
    "duration": 24,
    "start_time": "2022-10-10T01:48:30.479Z"
   },
   {
    "duration": 23,
    "start_time": "2022-10-10T01:48:30.505Z"
   },
   {
    "duration": 15,
    "start_time": "2022-10-10T01:48:30.530Z"
   },
   {
    "duration": 16,
    "start_time": "2022-10-10T01:48:30.547Z"
   },
   {
    "duration": 18,
    "start_time": "2022-10-10T01:48:30.566Z"
   },
   {
    "duration": 18,
    "start_time": "2022-10-10T01:48:30.586Z"
   },
   {
    "duration": 38,
    "start_time": "2022-10-10T01:48:30.605Z"
   },
   {
    "duration": 22,
    "start_time": "2022-10-10T01:48:30.645Z"
   },
   {
    "duration": 38,
    "start_time": "2022-10-10T01:48:30.669Z"
   },
   {
    "duration": 7,
    "start_time": "2022-10-10T01:48:30.709Z"
   },
   {
    "duration": 44,
    "start_time": "2022-10-10T01:48:30.718Z"
   },
   {
    "duration": 26,
    "start_time": "2022-10-10T01:48:30.764Z"
   },
   {
    "duration": 43,
    "start_time": "2022-10-10T01:48:30.792Z"
   },
   {
    "duration": 11,
    "start_time": "2022-10-10T01:48:30.837Z"
   },
   {
    "duration": 141,
    "start_time": "2022-10-10T01:48:30.850Z"
   },
   {
    "duration": 27,
    "start_time": "2022-10-10T01:48:30.993Z"
   },
   {
    "duration": 389,
    "start_time": "2022-10-10T01:48:31.035Z"
   },
   {
    "duration": 13,
    "start_time": "2022-10-10T01:48:31.426Z"
   },
   {
    "duration": 370,
    "start_time": "2022-10-10T01:48:31.441Z"
   },
   {
    "duration": 228,
    "start_time": "2022-10-10T01:48:31.813Z"
   },
   {
    "duration": 240,
    "start_time": "2022-10-10T01:48:32.042Z"
   },
   {
    "duration": 172,
    "start_time": "2022-10-10T01:48:32.284Z"
   },
   {
    "duration": 181,
    "start_time": "2022-10-10T01:48:32.458Z"
   },
   {
    "duration": 185,
    "start_time": "2022-10-10T01:48:32.641Z"
   },
   {
    "duration": 132,
    "start_time": "2022-10-10T01:48:32.833Z"
   },
   {
    "duration": 105,
    "start_time": "2022-10-10T01:48:32.967Z"
   },
   {
    "duration": 163,
    "start_time": "2022-10-10T01:48:33.074Z"
   },
   {
    "duration": 200,
    "start_time": "2022-10-10T01:48:33.239Z"
   },
   {
    "duration": 282,
    "start_time": "2022-10-10T01:48:33.441Z"
   },
   {
    "duration": 234,
    "start_time": "2022-10-10T01:48:33.725Z"
   },
   {
    "duration": 192,
    "start_time": "2022-10-10T01:48:33.961Z"
   },
   {
    "duration": 148,
    "start_time": "2022-10-10T01:48:34.156Z"
   },
   {
    "duration": 28,
    "start_time": "2022-10-10T01:48:34.306Z"
   },
   {
    "duration": 138,
    "start_time": "2022-10-10T01:48:34.335Z"
   },
   {
    "duration": 8,
    "start_time": "2022-10-10T01:48:34.474Z"
   },
   {
    "duration": 127,
    "start_time": "2022-10-10T01:48:34.483Z"
   },
   {
    "duration": 167,
    "start_time": "2022-10-10T01:48:34.612Z"
   },
   {
    "duration": 6,
    "start_time": "2022-10-10T01:48:34.780Z"
   },
   {
    "duration": 172,
    "start_time": "2022-10-10T01:48:34.787Z"
   },
   {
    "duration": 5,
    "start_time": "2022-10-10T01:48:34.961Z"
   },
   {
    "duration": 172,
    "start_time": "2022-10-10T01:48:34.968Z"
   },
   {
    "duration": 5,
    "start_time": "2022-10-10T01:48:35.141Z"
   },
   {
    "duration": 156,
    "start_time": "2022-10-10T01:48:35.148Z"
   },
   {
    "duration": 121,
    "start_time": "2022-10-10T01:48:35.306Z"
   },
   {
    "duration": 8,
    "start_time": "2022-10-10T01:48:35.429Z"
   },
   {
    "duration": 70,
    "start_time": "2022-10-10T01:48:35.438Z"
   },
   {
    "duration": 147,
    "start_time": "2022-10-10T01:48:35.510Z"
   },
   {
    "duration": 132,
    "start_time": "2022-10-10T01:48:35.659Z"
   },
   {
    "duration": 5,
    "start_time": "2022-10-10T01:48:35.793Z"
   },
   {
    "duration": 161,
    "start_time": "2022-10-10T01:48:35.799Z"
   },
   {
    "duration": 6,
    "start_time": "2022-10-10T01:48:35.962Z"
   },
   {
    "duration": 134,
    "start_time": "2022-10-10T01:48:35.970Z"
   },
   {
    "duration": 6,
    "start_time": "2022-10-10T01:48:36.106Z"
   },
   {
    "duration": 2744,
    "start_time": "2022-10-10T01:48:36.114Z"
   },
   {
    "duration": 41,
    "start_time": "2022-10-10T01:48:38.860Z"
   },
   {
    "duration": 5,
    "start_time": "2022-10-10T01:48:38.902Z"
   },
   {
    "duration": 25,
    "start_time": "2022-10-10T01:48:38.909Z"
   },
   {
    "duration": 20,
    "start_time": "2022-10-10T01:48:38.935Z"
   },
   {
    "duration": 150,
    "start_time": "2022-10-10T01:48:38.956Z"
   },
   {
    "duration": 167,
    "start_time": "2022-10-10T01:48:39.108Z"
   },
   {
    "duration": 89,
    "start_time": "2022-10-10T01:50:45.286Z"
   },
   {
    "duration": 46,
    "start_time": "2022-10-10T01:50:51.496Z"
   },
   {
    "duration": 55,
    "start_time": "2022-10-10T01:51:08.206Z"
   },
   {
    "duration": 53,
    "start_time": "2022-10-10T01:51:17.663Z"
   }
  ],
  "kernelspec": {
   "display_name": "Python 3 (ipykernel)",
   "language": "python",
   "name": "python3"
  },
  "language_info": {
   "codemirror_mode": {
    "name": "ipython",
    "version": 3
   },
   "file_extension": ".py",
   "mimetype": "text/x-python",
   "name": "python",
   "nbconvert_exporter": "python",
   "pygments_lexer": "ipython3",
   "version": "3.9.7"
  },
  "toc": {
   "base_numbering": 1,
   "nav_menu": {},
   "number_sections": true,
   "sideBar": true,
   "skip_h1_title": true,
   "title_cell": "Table of Contents",
   "title_sidebar": "Contents",
   "toc_cell": false,
   "toc_position": {},
   "toc_section_display": true,
   "toc_window_display": false
  }
 },
 "nbformat": 4,
 "nbformat_minor": 2
}
