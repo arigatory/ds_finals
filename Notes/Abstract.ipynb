{
 "cells": [
  {
   "cell_type": "markdown",
   "id": "c69ed008",
   "metadata": {},
   "source": [
    "# Предобработка данных"
   ]
  },
  {
   "cell_type": "markdown",
   "id": "23de9f6b",
   "metadata": {},
   "source": [
    "#### Переименовать колонки"
   ]
  },
  {
   "cell_type": "code",
   "execution_count": 1,
   "id": "5ff91c3c",
   "metadata": {},
   "outputs": [],
   "source": [
    "import pandas as pd\n",
    "df = pd.read_csv('yandex_music_project.csv')\n",
    "\n",
    "df = df.rename(columns={'  userID':'user_id', 'Track':'track', '  City  ':'city', 'Day':'day'})"
   ]
  },
  {
   "cell_type": "markdown",
   "id": "9068177f",
   "metadata": {},
   "source": [
    "## Работа с пропусками"
   ]
  },
  {
   "cell_type": "markdown",
   "id": "1aae157e",
   "metadata": {},
   "source": [
    "### NaN и None"
   ]
  },
  {
   "cell_type": "markdown",
   "id": "c538902f",
   "metadata": {},
   "source": [
    "####  уникальные значения и количество их упоминаний"
   ]
  },
  {
   "cell_type": "code",
   "execution_count": 1,
   "id": "f177f51a",
   "metadata": {},
   "outputs": [
    {
     "name": "stdout",
     "output_type": "stream",
     "text": [
      "other      133834\n",
      "context     52032\n",
      "email       12279\n",
      "None         1674\n",
      "undef         181\n",
      "Name: source, dtype: int64\n"
     ]
    }
   ],
   "source": [
    "import pandas as pd\n",
    "logs = pd.read_csv('logs.csv')\n",
    "print(logs['source'].value_counts()) "
   ]
  },
  {
   "cell_type": "markdown",
   "id": "3936213b",
   "metadata": {},
   "source": [
    "#### Методом `isna()` найдём все строки с пропусками в столбце email и просмотрим первые пять."
   ]
  },
  {
   "cell_type": "code",
   "execution_count": 2,
   "id": "9825c8a4",
   "metadata": {
    "scrolled": true
   },
   "outputs": [
    {
     "name": "stdout",
     "output_type": "stream",
     "text": [
      "      user_id   source email  purchase\n",
      "0  7141786820    other   NaN         0\n",
      "2  1914055396  context   NaN         0\n",
      "3  4099355752    other   NaN         0\n",
      "4  6032477554  context   NaN         1\n",
      "5  5872473344    other   NaN         0\n"
     ]
    }
   ],
   "source": [
    "print(logs[logs['email'].isna()].head())"
   ]
  },
  {
   "cell_type": "markdown",
   "id": "b2fda3e0",
   "metadata": {},
   "source": [
    "#### сосчитать строки без email-адресов, вызовем функцию `len()`."
   ]
  },
  {
   "cell_type": "code",
   "execution_count": 3,
   "id": "54ba49ba",
   "metadata": {},
   "outputs": [
    {
     "name": "stdout",
     "output_type": "stream",
     "text": [
      "186047\n"
     ]
    }
   ],
   "source": [
    "print(len(logs[logs['email'].isna()]))"
   ]
  },
  {
   "cell_type": "markdown",
   "id": "4d65f556",
   "metadata": {},
   "source": [
    "#### заполнять пропуски в данных методом `fillna()`"
   ]
  },
  {
   "cell_type": "code",
   "execution_count": 5,
   "id": "7def23b0",
   "metadata": {},
   "outputs": [
    {
     "data": {
      "text/html": [
       "<div>\n",
       "<style scoped>\n",
       "    .dataframe tbody tr th:only-of-type {\n",
       "        vertical-align: middle;\n",
       "    }\n",
       "\n",
       "    .dataframe tbody tr th {\n",
       "        vertical-align: top;\n",
       "    }\n",
       "\n",
       "    .dataframe thead th {\n",
       "        text-align: right;\n",
       "    }\n",
       "</style>\n",
       "<table border=\"1\" class=\"dataframe\">\n",
       "  <thead>\n",
       "    <tr style=\"text-align: right;\">\n",
       "      <th></th>\n",
       "      <th>user_id</th>\n",
       "      <th>source</th>\n",
       "      <th>email</th>\n",
       "      <th>purchase</th>\n",
       "    </tr>\n",
       "  </thead>\n",
       "  <tbody>\n",
       "    <tr>\n",
       "      <th>0</th>\n",
       "      <td>7141786820</td>\n",
       "      <td>other</td>\n",
       "      <td>example@example.com</td>\n",
       "      <td>0</td>\n",
       "    </tr>\n",
       "    <tr>\n",
       "      <th>1</th>\n",
       "      <td>5644686960</td>\n",
       "      <td>email</td>\n",
       "      <td>c129aa540a</td>\n",
       "      <td>0</td>\n",
       "    </tr>\n",
       "    <tr>\n",
       "      <th>2</th>\n",
       "      <td>1914055396</td>\n",
       "      <td>context</td>\n",
       "      <td>example@example.com</td>\n",
       "      <td>0</td>\n",
       "    </tr>\n",
       "    <tr>\n",
       "      <th>3</th>\n",
       "      <td>4099355752</td>\n",
       "      <td>other</td>\n",
       "      <td>example@example.com</td>\n",
       "      <td>0</td>\n",
       "    </tr>\n",
       "    <tr>\n",
       "      <th>4</th>\n",
       "      <td>6032477554</td>\n",
       "      <td>context</td>\n",
       "      <td>example@example.com</td>\n",
       "      <td>1</td>\n",
       "    </tr>\n",
       "  </tbody>\n",
       "</table>\n",
       "</div>"
      ],
      "text/plain": [
       "      user_id   source                email  purchase\n",
       "0  7141786820    other  example@example.com         0\n",
       "1  5644686960    email           c129aa540a         0\n",
       "2  1914055396  context  example@example.com         0\n",
       "3  4099355752    other  example@example.com         0\n",
       "4  6032477554  context  example@example.com         1"
      ]
     },
     "execution_count": 5,
     "metadata": {},
     "output_type": "execute_result"
    }
   ],
   "source": [
    "logs.fillna('example@example.com').head() "
   ]
  },
  {
   "cell_type": "markdown",
   "id": "87259741",
   "metadata": {},
   "source": [
    "### Логические выражения в атрибуте loc"
   ]
  },
  {
   "cell_type": "markdown",
   "id": "3ec5366a",
   "metadata": {},
   "source": [
    "Если мы хотим изменить значения в таблице, подойдет только полная запись с `loc`."
   ]
  },
  {
   "cell_type": "code",
   "execution_count": 13,
   "id": "a220906b",
   "metadata": {},
   "outputs": [],
   "source": [
    "# import pandas as pd\n",
    "\n",
    "# data = pd.read_csv('/datasets/projects.csv')\n",
    "# rows = (data['Новая функция'] == '+') & (data['Роль'] == 'разработчик')\n",
    "# data.loc[rows, 'Новая функция'] = '-'\n",
    "# print(data)"
   ]
  },
  {
   "cell_type": "markdown",
   "id": "853013cd",
   "metadata": {},
   "source": [
    "### Работа с пропусками в категориальных переменных"
   ]
  },
  {
   "cell_type": "markdown",
   "id": "2fda3c28",
   "metadata": {},
   "source": [
    "Вызовем метод `agg()`, указывающий, какие именно функции применить к столбцу 'purchase'. Название столбца и сами функции запишем в особую структуру данных — словарь. Словарь состоит из ключа и значения:`\n",
    "{'purchase': ['count','sum']}`"
   ]
  },
  {
   "cell_type": "code",
   "execution_count": 8,
   "id": "185fa089",
   "metadata": {
    "scrolled": true
   },
   "outputs": [
    {
     "data": {
      "text/html": [
       "<div>\n",
       "<style scoped>\n",
       "    .dataframe tbody tr th:only-of-type {\n",
       "        vertical-align: middle;\n",
       "    }\n",
       "\n",
       "    .dataframe tbody tr th {\n",
       "        vertical-align: top;\n",
       "    }\n",
       "\n",
       "    .dataframe thead tr th {\n",
       "        text-align: left;\n",
       "    }\n",
       "\n",
       "    .dataframe thead tr:last-of-type th {\n",
       "        text-align: right;\n",
       "    }\n",
       "</style>\n",
       "<table border=\"1\" class=\"dataframe\">\n",
       "  <thead>\n",
       "    <tr>\n",
       "      <th></th>\n",
       "      <th colspan=\"2\" halign=\"left\">purchase</th>\n",
       "    </tr>\n",
       "    <tr>\n",
       "      <th></th>\n",
       "      <th>count</th>\n",
       "      <th>sum</th>\n",
       "    </tr>\n",
       "    <tr>\n",
       "      <th>source</th>\n",
       "      <th></th>\n",
       "      <th></th>\n",
       "    </tr>\n",
       "  </thead>\n",
       "  <tbody>\n",
       "    <tr>\n",
       "      <th>None</th>\n",
       "      <td>1674</td>\n",
       "      <td>108</td>\n",
       "    </tr>\n",
       "    <tr>\n",
       "      <th>context</th>\n",
       "      <td>52032</td>\n",
       "      <td>3029</td>\n",
       "    </tr>\n",
       "    <tr>\n",
       "      <th>email</th>\n",
       "      <td>12279</td>\n",
       "      <td>913</td>\n",
       "    </tr>\n",
       "    <tr>\n",
       "      <th>other</th>\n",
       "      <td>133834</td>\n",
       "      <td>8041</td>\n",
       "    </tr>\n",
       "    <tr>\n",
       "      <th>undef</th>\n",
       "      <td>181</td>\n",
       "      <td>12</td>\n",
       "    </tr>\n",
       "  </tbody>\n",
       "</table>\n",
       "</div>"
      ],
      "text/plain": [
       "        purchase      \n",
       "           count   sum\n",
       "source                \n",
       "None        1674   108\n",
       "context    52032  3029\n",
       "email      12279   913\n",
       "other     133834  8041\n",
       "undef        181    12"
      ]
     },
     "execution_count": 8,
     "metadata": {},
     "output_type": "execute_result"
    }
   ],
   "source": [
    "logs_grouped = logs.groupby('source').agg({'purchase': ['count', 'sum']}) \n",
    "logs_grouped "
   ]
  },
  {
   "cell_type": "markdown",
   "id": "6e6d919a",
   "metadata": {},
   "source": [
    "### Работа с пропусками в количественных переменных"
   ]
  },
  {
   "cell_type": "markdown",
   "id": "6874ca99",
   "metadata": {},
   "source": [
    "среднее время пребывания на сайте пользователей мобильных платформ."
   ]
  },
  {
   "cell_type": "code",
   "execution_count": 10,
   "id": "2b443704",
   "metadata": {},
   "outputs": [
    {
     "name": "stdout",
     "output_type": "stream",
     "text": [
      "41.15691239238949\n"
     ]
    }
   ],
   "source": [
    "import pandas as pd\n",
    "\n",
    "metrica = pd.read_csv('metrica_data.csv')\n",
    "mobile_data = metrica[metrica['device_type'] == 'mobile']\n",
    "#print(mobile_data.head(5))\n",
    "mobile_data_time_avg = mobile_data['time'].mean()\n",
    "print(mobile_data_time_avg)"
   ]
  },
  {
   "cell_type": "markdown",
   "id": "a29bc294",
   "metadata": {},
   "source": [
    "### Заполнение пропусков в количественных переменных по категориям"
   ]
  },
  {
   "cell_type": "code",
   "execution_count": 12,
   "id": "384037df",
   "metadata": {},
   "outputs": [
    {
     "name": "stdout",
     "output_type": "stream",
     "text": [
      "0\n"
     ]
    }
   ],
   "source": [
    "# импортируем библиотеку pandas\n",
    "import pandas as pd\n",
    "\n",
    "# создаём датафрейм metrica из CSV-файла\n",
    "metrica = pd.read_csv('metrica_data.csv')\n",
    "\n",
    "# перебираем каждый тип девайса в наборе уникальных значений столба device_type\n",
    "for d in metrica['device_type'].unique():\n",
    "    # на каждом шаге цикла с помощью атрибута loc выбираем строки,\n",
    "    # в которых в device_type текущий тип девайса (d) и есть пропуски в time \n",
    "    metrica.loc[(metrica['device_type'] == d) & (metrica['time'].isna()), 'time'] = \\\n",
    "    metrica.loc[(metrica['device_type'] == d), 'time'].mean()\n",
    "    # и записываем в них среднее значение time среди строк с текущим типом девайса (d)\n",
    "\n",
    "# проверяем, что все пропуски заполнены\n",
    "print(metrica['time'].isna().sum())"
   ]
  },
  {
   "cell_type": "markdown",
   "id": "1d3fdb43",
   "metadata": {},
   "source": [
    "## Изменение типов данных"
   ]
  },
  {
   "cell_type": "markdown",
   "id": "86c3c260",
   "metadata": {},
   "source": [
    "## Поиск дубликатов"
   ]
  },
  {
   "cell_type": "markdown",
   "id": "cc0fde99",
   "metadata": {},
   "source": [
    "## Категоризация данных"
   ]
  },
  {
   "cell_type": "markdown",
   "id": "cb319793",
   "metadata": {},
   "source": [
    "### Гистограмма частот"
   ]
  },
  {
   "cell_type": "markdown",
   "id": "0a72b738",
   "metadata": {},
   "source": [
    "# Исследовательский анализ данных"
   ]
  },
  {
   "cell_type": "markdown",
   "id": "c9179d7e",
   "metadata": {},
   "source": [
    "## Первые графики и выводы"
   ]
  },
  {
   "cell_type": "code",
   "execution_count": null,
   "id": "54bd3437",
   "metadata": {},
   "outputs": [],
   "source": []
  },
  {
   "cell_type": "markdown",
   "id": "3ff2628d",
   "metadata": {},
   "source": [
    "## Изучение срезов данных"
   ]
  },
  {
   "cell_type": "code",
   "execution_count": 2,
   "id": "d6e5dca8",
   "metadata": {},
   "outputs": [],
   "source": [
    "import pandas as pd\n",
    "df = pd.DataFrame(\n",
    "    {\n",
    "        'From': [\n",
    "            'Moscow',\n",
    "            'Moscow',\n",
    "            'St. Petersburg',\n",
    "            'St. Petersburg',\n",
    "            'St. Petersburg',\n",
    "        ],\n",
    "        'To': ['Rome', 'Rome', 'Rome', 'Barcelona', 'Barcelona'],\n",
    "        'Is_Direct': [False, True, False, False, True],\n",
    "        'Has_luggage': [True, False, False, True, False],\n",
    "        'Price': [21032, 19250, 19301, 20168, 31425],\n",
    "        'Date_From': [\n",
    "            '01.07.19',\n",
    "            '01.07.19',\n",
    "            '04.07.2019',\n",
    "            '03.07.2019',\n",
    "            '05.07.2019',\n",
    "        ],\n",
    "        'Date_To': [\n",
    "            '07.07.19',\n",
    "            '07.07.19',\n",
    "            '10.07.2019',\n",
    "            '09.07.2019',\n",
    "            '11.07.2019',\n",
    "        ],\n",
    "        'Airline': ['Belavia', 'S7', 'Finnair', 'Swiss', 'Rossiya'],\n",
    "        'Travel_time_from': [995, 230, 605, 365, 255],\n",
    "        'Travel_time_to': [350, 225, 720, 355, 250],\n",
    "    }\n",
    ")"
   ]
  },
  {
   "cell_type": "code",
   "execution_count": 3,
   "id": "e90fe931",
   "metadata": {},
   "outputs": [
    {
     "name": "stdout",
     "output_type": "stream",
     "text": [
      "     From    To  Is_Direct  Has_luggage  Price Date_From   Date_To  Airline  \\\n",
      "0  Moscow  Rome      False         True  21032  01.07.19  07.07.19  Belavia   \n",
      "1  Moscow  Rome       True        False  19250  01.07.19  07.07.19       S7   \n",
      "\n",
      "   Travel_time_from  Travel_time_to  \n",
      "0               995             350  \n",
      "1               230             225  \n"
     ]
    }
   ],
   "source": [
    "print(df[df['From'] == 'Moscow']) # передаём булев массив как индекс датафрейма"
   ]
  },
  {
   "cell_type": "code",
   "execution_count": 4,
   "id": "59bdb8a0",
   "metadata": {},
   "outputs": [
    {
     "data": {
      "text/html": [
       "<div>\n",
       "<style scoped>\n",
       "    .dataframe tbody tr th:only-of-type {\n",
       "        vertical-align: middle;\n",
       "    }\n",
       "\n",
       "    .dataframe tbody tr th {\n",
       "        vertical-align: top;\n",
       "    }\n",
       "\n",
       "    .dataframe thead th {\n",
       "        text-align: right;\n",
       "    }\n",
       "</style>\n",
       "<table border=\"1\" class=\"dataframe\">\n",
       "  <thead>\n",
       "    <tr style=\"text-align: right;\">\n",
       "      <th></th>\n",
       "      <th>From</th>\n",
       "      <th>To</th>\n",
       "      <th>Is_Direct</th>\n",
       "      <th>Has_luggage</th>\n",
       "      <th>Price</th>\n",
       "      <th>Date_From</th>\n",
       "      <th>Date_To</th>\n",
       "      <th>Airline</th>\n",
       "      <th>Travel_time_from</th>\n",
       "      <th>Travel_time_to</th>\n",
       "    </tr>\n",
       "  </thead>\n",
       "  <tbody>\n",
       "    <tr>\n",
       "      <th>1</th>\n",
       "      <td>Moscow</td>\n",
       "      <td>Rome</td>\n",
       "      <td>True</td>\n",
       "      <td>False</td>\n",
       "      <td>19250</td>\n",
       "      <td>01.07.19</td>\n",
       "      <td>07.07.19</td>\n",
       "      <td>S7</td>\n",
       "      <td>230</td>\n",
       "      <td>225</td>\n",
       "    </tr>\n",
       "    <tr>\n",
       "      <th>2</th>\n",
       "      <td>St. Petersburg</td>\n",
       "      <td>Rome</td>\n",
       "      <td>False</td>\n",
       "      <td>False</td>\n",
       "      <td>19301</td>\n",
       "      <td>04.07.2019</td>\n",
       "      <td>10.07.2019</td>\n",
       "      <td>Finnair</td>\n",
       "      <td>605</td>\n",
       "      <td>720</td>\n",
       "    </tr>\n",
       "    <tr>\n",
       "      <th>3</th>\n",
       "      <td>St. Petersburg</td>\n",
       "      <td>Barcelona</td>\n",
       "      <td>False</td>\n",
       "      <td>True</td>\n",
       "      <td>20168</td>\n",
       "      <td>03.07.2019</td>\n",
       "      <td>09.07.2019</td>\n",
       "      <td>Swiss</td>\n",
       "      <td>365</td>\n",
       "      <td>355</td>\n",
       "    </tr>\n",
       "  </tbody>\n",
       "</table>\n",
       "</div>"
      ],
      "text/plain": [
       "             From         To  Is_Direct  Has_luggage  Price   Date_From  \\\n",
       "1          Moscow       Rome       True        False  19250    01.07.19   \n",
       "2  St. Petersburg       Rome      False        False  19301  04.07.2019   \n",
       "3  St. Petersburg  Barcelona      False         True  20168  03.07.2019   \n",
       "\n",
       "      Date_To  Airline  Travel_time_from  Travel_time_to  \n",
       "1    07.07.19       S7               230             225  \n",
       "2  10.07.2019  Finnair               605             720  \n",
       "3  09.07.2019    Swiss               365             355  "
      ]
     },
     "execution_count": 4,
     "metadata": {},
     "output_type": "execute_result"
    }
   ],
   "source": [
    "df[df['Price'] < 21000]"
   ]
  },
  {
   "cell_type": "code",
   "execution_count": 5,
   "id": "fe3ece17",
   "metadata": {},
   "outputs": [
    {
     "data": {
      "text/html": [
       "<div>\n",
       "<style scoped>\n",
       "    .dataframe tbody tr th:only-of-type {\n",
       "        vertical-align: middle;\n",
       "    }\n",
       "\n",
       "    .dataframe tbody tr th {\n",
       "        vertical-align: top;\n",
       "    }\n",
       "\n",
       "    .dataframe thead th {\n",
       "        text-align: right;\n",
       "    }\n",
       "</style>\n",
       "<table border=\"1\" class=\"dataframe\">\n",
       "  <thead>\n",
       "    <tr style=\"text-align: right;\">\n",
       "      <th></th>\n",
       "      <th>From</th>\n",
       "      <th>To</th>\n",
       "      <th>Is_Direct</th>\n",
       "      <th>Has_luggage</th>\n",
       "      <th>Price</th>\n",
       "      <th>Date_From</th>\n",
       "      <th>Date_To</th>\n",
       "      <th>Airline</th>\n",
       "      <th>Travel_time_from</th>\n",
       "      <th>Travel_time_to</th>\n",
       "    </tr>\n",
       "  </thead>\n",
       "  <tbody>\n",
       "    <tr>\n",
       "      <th>2</th>\n",
       "      <td>St. Petersburg</td>\n",
       "      <td>Rome</td>\n",
       "      <td>False</td>\n",
       "      <td>False</td>\n",
       "      <td>19301</td>\n",
       "      <td>04.07.2019</td>\n",
       "      <td>10.07.2019</td>\n",
       "      <td>Finnair</td>\n",
       "      <td>605</td>\n",
       "      <td>720</td>\n",
       "    </tr>\n",
       "  </tbody>\n",
       "</table>\n",
       "</div>"
      ],
      "text/plain": [
       "             From    To  Is_Direct  Has_luggage  Price   Date_From  \\\n",
       "2  St. Petersburg  Rome      False        False  19301  04.07.2019   \n",
       "\n",
       "      Date_To  Airline  Travel_time_from  Travel_time_to  \n",
       "2  10.07.2019  Finnair               605             720  "
      ]
     },
     "execution_count": 5,
     "metadata": {},
     "output_type": "execute_result"
    }
   ],
   "source": [
    "df[df['Travel_time_to'] > df['Travel_time_from']]  "
   ]
  },
  {
   "cell_type": "code",
   "execution_count": 6,
   "id": "3684562a",
   "metadata": {},
   "outputs": [
    {
     "data": {
      "text/html": [
       "<div>\n",
       "<style scoped>\n",
       "    .dataframe tbody tr th:only-of-type {\n",
       "        vertical-align: middle;\n",
       "    }\n",
       "\n",
       "    .dataframe tbody tr th {\n",
       "        vertical-align: top;\n",
       "    }\n",
       "\n",
       "    .dataframe thead th {\n",
       "        text-align: right;\n",
       "    }\n",
       "</style>\n",
       "<table border=\"1\" class=\"dataframe\">\n",
       "  <thead>\n",
       "    <tr style=\"text-align: right;\">\n",
       "      <th></th>\n",
       "      <th>From</th>\n",
       "      <th>To</th>\n",
       "      <th>Is_Direct</th>\n",
       "      <th>Has_luggage</th>\n",
       "      <th>Price</th>\n",
       "      <th>Date_From</th>\n",
       "      <th>Date_To</th>\n",
       "      <th>Airline</th>\n",
       "      <th>Travel_time_from</th>\n",
       "      <th>Travel_time_to</th>\n",
       "    </tr>\n",
       "  </thead>\n",
       "  <tbody>\n",
       "    <tr>\n",
       "      <th>0</th>\n",
       "      <td>Moscow</td>\n",
       "      <td>Rome</td>\n",
       "      <td>False</td>\n",
       "      <td>True</td>\n",
       "      <td>21032</td>\n",
       "      <td>01.07.19</td>\n",
       "      <td>07.07.19</td>\n",
       "      <td>Belavia</td>\n",
       "      <td>995</td>\n",
       "      <td>350</td>\n",
       "    </tr>\n",
       "  </tbody>\n",
       "</table>\n",
       "</div>"
      ],
      "text/plain": [
       "     From    To  Is_Direct  Has_luggage  Price Date_From   Date_To  Airline  \\\n",
       "0  Moscow  Rome      False         True  21032  01.07.19  07.07.19  Belavia   \n",
       "\n",
       "   Travel_time_from  Travel_time_to  \n",
       "0               995             350  "
      ]
     },
     "execution_count": 6,
     "metadata": {},
     "output_type": "execute_result"
    }
   ],
   "source": [
    "df[1.5 * df['Travel_time_to'] < df['Travel_time_from']]"
   ]
  },
  {
   "cell_type": "code",
   "execution_count": 7,
   "id": "bdddbbb8",
   "metadata": {},
   "outputs": [
    {
     "data": {
      "text/html": [
       "<div>\n",
       "<style scoped>\n",
       "    .dataframe tbody tr th:only-of-type {\n",
       "        vertical-align: middle;\n",
       "    }\n",
       "\n",
       "    .dataframe tbody tr th {\n",
       "        vertical-align: top;\n",
       "    }\n",
       "\n",
       "    .dataframe thead th {\n",
       "        text-align: right;\n",
       "    }\n",
       "</style>\n",
       "<table border=\"1\" class=\"dataframe\">\n",
       "  <thead>\n",
       "    <tr style=\"text-align: right;\">\n",
       "      <th></th>\n",
       "      <th>From</th>\n",
       "      <th>To</th>\n",
       "      <th>Is_Direct</th>\n",
       "      <th>Has_luggage</th>\n",
       "      <th>Price</th>\n",
       "      <th>Date_From</th>\n",
       "      <th>Date_To</th>\n",
       "      <th>Airline</th>\n",
       "      <th>Travel_time_from</th>\n",
       "      <th>Travel_time_to</th>\n",
       "    </tr>\n",
       "  </thead>\n",
       "  <tbody>\n",
       "    <tr>\n",
       "      <th>2</th>\n",
       "      <td>St. Petersburg</td>\n",
       "      <td>Rome</td>\n",
       "      <td>False</td>\n",
       "      <td>False</td>\n",
       "      <td>19301</td>\n",
       "      <td>04.07.2019</td>\n",
       "      <td>10.07.2019</td>\n",
       "      <td>Finnair</td>\n",
       "      <td>605</td>\n",
       "      <td>720</td>\n",
       "    </tr>\n",
       "    <tr>\n",
       "      <th>4</th>\n",
       "      <td>St. Petersburg</td>\n",
       "      <td>Barcelona</td>\n",
       "      <td>True</td>\n",
       "      <td>False</td>\n",
       "      <td>31425</td>\n",
       "      <td>05.07.2019</td>\n",
       "      <td>11.07.2019</td>\n",
       "      <td>Rossiya</td>\n",
       "      <td>255</td>\n",
       "      <td>250</td>\n",
       "    </tr>\n",
       "  </tbody>\n",
       "</table>\n",
       "</div>"
      ],
      "text/plain": [
       "             From         To  Is_Direct  Has_luggage  Price   Date_From  \\\n",
       "2  St. Petersburg       Rome      False        False  19301  04.07.2019   \n",
       "4  St. Petersburg  Barcelona       True        False  31425  05.07.2019   \n",
       "\n",
       "      Date_To  Airline  Travel_time_from  Travel_time_to  \n",
       "2  10.07.2019  Finnair               605             720  \n",
       "4  11.07.2019  Rossiya               255             250  "
      ]
     },
     "execution_count": 7,
     "metadata": {},
     "output_type": "execute_result"
    }
   ],
   "source": [
    "df[df['Date_From'].isin(['04.07.2019', '05.07.2019'])] # находим элементы столбца Date_From, равные 4 или 5 июля "
   ]
  },
  {
   "cell_type": "markdown",
   "id": "855964cd",
   "metadata": {},
   "source": [
    "### query"
   ]
  },
  {
   "cell_type": "code",
   "execution_count": 8,
   "id": "2ccdf010",
   "metadata": {},
   "outputs": [
    {
     "name": "stdout",
     "output_type": "stream",
     "text": [
      "             From         To  Is_Direct  Has_luggage  Price   Date_From  \\\n",
      "0          Moscow       Rome      False         True  21032    01.07.19   \n",
      "1          Moscow       Rome       True        False  19250    01.07.19   \n",
      "3  St. Petersburg  Barcelona      False         True  20168  03.07.2019   \n",
      "4  St. Petersburg  Barcelona       True        False  31425  05.07.2019   \n",
      "\n",
      "      Date_To  Airline  Travel_time_from  Travel_time_to  \n",
      "0    07.07.19  Belavia               995             350  \n",
      "1    07.07.19       S7               230             225  \n",
      "3  09.07.2019    Swiss               365             355  \n",
      "4  11.07.2019  Rossiya               255             250  \n"
     ]
    }
   ],
   "source": [
    "print(df.query('Is_Direct == True or Has_luggage == True'))"
   ]
  },
  {
   "cell_type": "code",
   "execution_count": 9,
   "id": "08401900",
   "metadata": {
    "scrolled": false
   },
   "outputs": [
    {
     "data": {
      "text/html": [
       "<div>\n",
       "<style scoped>\n",
       "    .dataframe tbody tr th:only-of-type {\n",
       "        vertical-align: middle;\n",
       "    }\n",
       "\n",
       "    .dataframe tbody tr th {\n",
       "        vertical-align: top;\n",
       "    }\n",
       "\n",
       "    .dataframe thead th {\n",
       "        text-align: right;\n",
       "    }\n",
       "</style>\n",
       "<table border=\"1\" class=\"dataframe\">\n",
       "  <thead>\n",
       "    <tr style=\"text-align: right;\">\n",
       "      <th></th>\n",
       "      <th>From</th>\n",
       "      <th>To</th>\n",
       "      <th>Is_Direct</th>\n",
       "      <th>Has_luggage</th>\n",
       "      <th>Price</th>\n",
       "      <th>Date_From</th>\n",
       "      <th>Date_To</th>\n",
       "      <th>Airline</th>\n",
       "      <th>Travel_time_from</th>\n",
       "      <th>Travel_time_to</th>\n",
       "    </tr>\n",
       "  </thead>\n",
       "  <tbody>\n",
       "    <tr>\n",
       "      <th>1</th>\n",
       "      <td>Moscow</td>\n",
       "      <td>Rome</td>\n",
       "      <td>True</td>\n",
       "      <td>False</td>\n",
       "      <td>19250</td>\n",
       "      <td>01.07.19</td>\n",
       "      <td>07.07.19</td>\n",
       "      <td>S7</td>\n",
       "      <td>230</td>\n",
       "      <td>225</td>\n",
       "    </tr>\n",
       "    <tr>\n",
       "      <th>2</th>\n",
       "      <td>St. Petersburg</td>\n",
       "      <td>Rome</td>\n",
       "      <td>False</td>\n",
       "      <td>False</td>\n",
       "      <td>19301</td>\n",
       "      <td>04.07.2019</td>\n",
       "      <td>10.07.2019</td>\n",
       "      <td>Finnair</td>\n",
       "      <td>605</td>\n",
       "      <td>720</td>\n",
       "    </tr>\n",
       "    <tr>\n",
       "      <th>3</th>\n",
       "      <td>St. Petersburg</td>\n",
       "      <td>Barcelona</td>\n",
       "      <td>False</td>\n",
       "      <td>True</td>\n",
       "      <td>20168</td>\n",
       "      <td>03.07.2019</td>\n",
       "      <td>09.07.2019</td>\n",
       "      <td>Swiss</td>\n",
       "      <td>365</td>\n",
       "      <td>355</td>\n",
       "    </tr>\n",
       "    <tr>\n",
       "      <th>4</th>\n",
       "      <td>St. Petersburg</td>\n",
       "      <td>Barcelona</td>\n",
       "      <td>True</td>\n",
       "      <td>False</td>\n",
       "      <td>31425</td>\n",
       "      <td>05.07.2019</td>\n",
       "      <td>11.07.2019</td>\n",
       "      <td>Rossiya</td>\n",
       "      <td>255</td>\n",
       "      <td>250</td>\n",
       "    </tr>\n",
       "  </tbody>\n",
       "</table>\n",
       "</div>"
      ],
      "text/plain": [
       "             From         To  Is_Direct  Has_luggage  Price   Date_From  \\\n",
       "1          Moscow       Rome       True        False  19250    01.07.19   \n",
       "2  St. Petersburg       Rome      False        False  19301  04.07.2019   \n",
       "3  St. Petersburg  Barcelona      False         True  20168  03.07.2019   \n",
       "4  St. Petersburg  Barcelona       True        False  31425  05.07.2019   \n",
       "\n",
       "      Date_To  Airline  Travel_time_from  Travel_time_to  \n",
       "1    07.07.19       S7               230             225  \n",
       "2  10.07.2019  Finnair               605             720  \n",
       "3  09.07.2019    Swiss               365             355  \n",
       "4  11.07.2019  Rossiya               255             250  "
      ]
     },
     "execution_count": 9,
     "metadata": {},
     "output_type": "execute_result"
    }
   ],
   "source": [
    "df.query('Travel_time_from < 2 * Travel_time_to ')"
   ]
  },
  {
   "cell_type": "markdown",
   "id": "f9130520",
   "metadata": {},
   "source": [
    "методы"
   ]
  },
  {
   "cell_type": "code",
   "execution_count": 10,
   "id": "13be5df9",
   "metadata": {
    "scrolled": true
   },
   "outputs": [
    {
     "data": {
      "text/html": [
       "<div>\n",
       "<style scoped>\n",
       "    .dataframe tbody tr th:only-of-type {\n",
       "        vertical-align: middle;\n",
       "    }\n",
       "\n",
       "    .dataframe tbody tr th {\n",
       "        vertical-align: top;\n",
       "    }\n",
       "\n",
       "    .dataframe thead th {\n",
       "        text-align: right;\n",
       "    }\n",
       "</style>\n",
       "<table border=\"1\" class=\"dataframe\">\n",
       "  <thead>\n",
       "    <tr style=\"text-align: right;\">\n",
       "      <th></th>\n",
       "      <th>From</th>\n",
       "      <th>To</th>\n",
       "      <th>Is_Direct</th>\n",
       "      <th>Has_luggage</th>\n",
       "      <th>Price</th>\n",
       "      <th>Date_From</th>\n",
       "      <th>Date_To</th>\n",
       "      <th>Airline</th>\n",
       "      <th>Travel_time_from</th>\n",
       "      <th>Travel_time_to</th>\n",
       "    </tr>\n",
       "  </thead>\n",
       "  <tbody>\n",
       "    <tr>\n",
       "      <th>1</th>\n",
       "      <td>Moscow</td>\n",
       "      <td>Rome</td>\n",
       "      <td>True</td>\n",
       "      <td>False</td>\n",
       "      <td>19250</td>\n",
       "      <td>01.07.19</td>\n",
       "      <td>07.07.19</td>\n",
       "      <td>S7</td>\n",
       "      <td>230</td>\n",
       "      <td>225</td>\n",
       "    </tr>\n",
       "    <tr>\n",
       "      <th>3</th>\n",
       "      <td>St. Petersburg</td>\n",
       "      <td>Barcelona</td>\n",
       "      <td>False</td>\n",
       "      <td>True</td>\n",
       "      <td>20168</td>\n",
       "      <td>03.07.2019</td>\n",
       "      <td>09.07.2019</td>\n",
       "      <td>Swiss</td>\n",
       "      <td>365</td>\n",
       "      <td>355</td>\n",
       "    </tr>\n",
       "    <tr>\n",
       "      <th>4</th>\n",
       "      <td>St. Petersburg</td>\n",
       "      <td>Barcelona</td>\n",
       "      <td>True</td>\n",
       "      <td>False</td>\n",
       "      <td>31425</td>\n",
       "      <td>05.07.2019</td>\n",
       "      <td>11.07.2019</td>\n",
       "      <td>Rossiya</td>\n",
       "      <td>255</td>\n",
       "      <td>250</td>\n",
       "    </tr>\n",
       "  </tbody>\n",
       "</table>\n",
       "</div>"
      ],
      "text/plain": [
       "             From         To  Is_Direct  Has_luggage  Price   Date_From  \\\n",
       "1          Moscow       Rome       True        False  19250    01.07.19   \n",
       "3  St. Petersburg  Barcelona      False         True  20168  03.07.2019   \n",
       "4  St. Petersburg  Barcelona       True        False  31425  05.07.2019   \n",
       "\n",
       "      Date_To  Airline  Travel_time_from  Travel_time_to  \n",
       "1    07.07.19       S7               230             225  \n",
       "3  09.07.2019    Swiss               365             355  \n",
       "4  11.07.2019  Rossiya               255             250  "
      ]
     },
     "execution_count": 10,
     "metadata": {},
     "output_type": "execute_result"
    }
   ],
   "source": [
    "df.query('Travel_time_from < Travel_time_to.mean()')"
   ]
  },
  {
   "cell_type": "markdown",
   "id": "023a63f3",
   "metadata": {},
   "source": [
    "внешние переменные"
   ]
  },
  {
   "cell_type": "code",
   "execution_count": 11,
   "id": "e5dc9ae5",
   "metadata": {},
   "outputs": [
    {
     "data": {
      "text/html": [
       "<div>\n",
       "<style scoped>\n",
       "    .dataframe tbody tr th:only-of-type {\n",
       "        vertical-align: middle;\n",
       "    }\n",
       "\n",
       "    .dataframe tbody tr th {\n",
       "        vertical-align: top;\n",
       "    }\n",
       "\n",
       "    .dataframe thead th {\n",
       "        text-align: right;\n",
       "    }\n",
       "</style>\n",
       "<table border=\"1\" class=\"dataframe\">\n",
       "  <thead>\n",
       "    <tr style=\"text-align: right;\">\n",
       "      <th></th>\n",
       "      <th>From</th>\n",
       "      <th>To</th>\n",
       "      <th>Is_Direct</th>\n",
       "      <th>Has_luggage</th>\n",
       "      <th>Price</th>\n",
       "      <th>Date_From</th>\n",
       "      <th>Date_To</th>\n",
       "      <th>Airline</th>\n",
       "      <th>Travel_time_from</th>\n",
       "      <th>Travel_time_to</th>\n",
       "    </tr>\n",
       "  </thead>\n",
       "  <tbody>\n",
       "    <tr>\n",
       "      <th>1</th>\n",
       "      <td>Moscow</td>\n",
       "      <td>Rome</td>\n",
       "      <td>True</td>\n",
       "      <td>False</td>\n",
       "      <td>19250</td>\n",
       "      <td>01.07.19</td>\n",
       "      <td>07.07.19</td>\n",
       "      <td>S7</td>\n",
       "      <td>230</td>\n",
       "      <td>225</td>\n",
       "    </tr>\n",
       "    <tr>\n",
       "      <th>2</th>\n",
       "      <td>St. Petersburg</td>\n",
       "      <td>Rome</td>\n",
       "      <td>False</td>\n",
       "      <td>False</td>\n",
       "      <td>19301</td>\n",
       "      <td>04.07.2019</td>\n",
       "      <td>10.07.2019</td>\n",
       "      <td>Finnair</td>\n",
       "      <td>605</td>\n",
       "      <td>720</td>\n",
       "    </tr>\n",
       "  </tbody>\n",
       "</table>\n",
       "</div>"
      ],
      "text/plain": [
       "             From    To  Is_Direct  Has_luggage  Price   Date_From  \\\n",
       "1          Moscow  Rome       True        False  19250    01.07.19   \n",
       "2  St. Petersburg  Rome      False        False  19301  04.07.2019   \n",
       "\n",
       "      Date_To  Airline  Travel_time_from  Travel_time_to  \n",
       "1    07.07.19       S7               230             225  \n",
       "2  10.07.2019  Finnair               605             720  "
      ]
     },
     "execution_count": 11,
     "metadata": {},
     "output_type": "execute_result"
    }
   ],
   "source": [
    "maximum_price = 20000\n",
    "df.query('Price <= @maximum_price')"
   ]
  },
  {
   "cell_type": "code",
   "execution_count": 12,
   "id": "d92314b9",
   "metadata": {},
   "outputs": [
    {
     "name": "stdout",
     "output_type": "stream",
     "text": [
      "0   2011-03-01 18:00:00\n",
      "Name: time_rounded, dtype: datetime64[ns]\n"
     ]
    }
   ],
   "source": [
    "import pandas as pd \n",
    "\n",
    "df = pd.DataFrame({'time': ['2011-03-01 17:34']})\n",
    "df['time'] = pd.to_datetime(df['time'], format='%Y-%m-%d %H:%M')\n",
    "df['time_rounded'] = df['time'].dt.round('1H') # округляем до ближайшего значения с шагом в один час\n",
    "print(df['time_rounded'])"
   ]
  },
  {
   "cell_type": "code",
   "execution_count": 13,
   "id": "96ce9417",
   "metadata": {},
   "outputs": [
    {
     "name": "stdout",
     "output_type": "stream",
     "text": [
      "0   2011-03-01 17:00:00\n",
      "Name: time_rounded, dtype: datetime64[ns]\n"
     ]
    }
   ],
   "source": [
    "import pandas as pd\n",
    "\n",
    "df = pd.DataFrame({'time': ['2011-03-01 17:15']})\n",
    "df['time'] = pd.to_datetime(df['time'], format='%Y-%m-%d %H:%M')\n",
    "df['time_rounded'] = df['time'].dt.round('1H') # округляем до ближайшего значения с шагом в один час\n",
    "print(df['time_rounded'])"
   ]
  },
  {
   "cell_type": "code",
   "execution_count": 14,
   "id": "f8b4e59a",
   "metadata": {
    "scrolled": true
   },
   "outputs": [
    {
     "name": "stdout",
     "output_type": "stream",
     "text": [
      "Время, округлённое вверх 0   2011-03-01 18:00:00\n",
      "Name: ceil, dtype: datetime64[ns]\n",
      "Время, округлённое вниз 0   2011-03-01 17:00:00\n",
      "Name: floor, dtype: datetime64[ns]\n"
     ]
    }
   ],
   "source": [
    "import pandas as pd\n",
    "\n",
    "df = pd.DataFrame({'time': ['2011-03-01 17:15']})\n",
    "df['time'] = pd.to_datetime(df['time'], format='%Y-%m-%d %H:%M')\n",
    "df['ceil'] = df['time'].dt.ceil('1H') # округляем к потолку\n",
    "df['floor'] = df['time'].dt.floor('1H') # округляем к полу\n",
    "print('Время, округлённое вверх', df['ceil'])\n",
    "print('Время, округлённое вниз', df['floor'])"
   ]
  },
  {
   "cell_type": "code",
   "execution_count": 15,
   "id": "1ddf6497",
   "metadata": {},
   "outputs": [
    {
     "name": "stdout",
     "output_type": "stream",
     "text": [
      "0    0\n",
      "1    5\n",
      "Name: weekday, dtype: int64\n"
     ]
    }
   ],
   "source": [
    "import pandas as pd \n",
    "\n",
    "df = pd.DataFrame({'time': ['2011-03-07 17:15', '2011-04-02 17:15']}) # пн и сб\n",
    "df['time'] = pd.to_datetime(df['time'], format='%Y-%m-%d %H:%M')\n",
    "df['weekday'] = df['time'].dt.weekday\n",
    "print(df['weekday'])"
   ]
  },
  {
   "cell_type": "code",
   "execution_count": 16,
   "id": "cc36be5f",
   "metadata": {},
   "outputs": [
    {
     "name": "stdout",
     "output_type": "stream",
     "text": [
      "0   2011-03-08 02:15:00\n",
      "1   2011-05-02 19:20:00\n",
      "Name: petropavlovsk-kamchatsky_time, dtype: datetime64[ns]\n"
     ]
    }
   ],
   "source": [
    "import pandas as pd\n",
    "\n",
    "df = pd.DataFrame({'time': ['11-03-07 17:15', '11-05-02 10:20']})\n",
    "df['moscow_time'] = pd.to_datetime(df['time'], format='%y-%m-%d %H:%M')\n",
    "df['petropavlovsk-kamchatsky_time'] = df['moscow_time'] + pd.Timedelta(hours=9)\n",
    "print(df['petropavlovsk-kamchatsky_time'])"
   ]
  },
  {
   "cell_type": "markdown",
   "id": "7dfde376",
   "metadata": {},
   "source": [
    "### Графики"
   ]
  },
  {
   "cell_type": "code",
   "execution_count": 17,
   "id": "c1ea0689",
   "metadata": {
    "scrolled": false
   },
   "outputs": [
    {
     "name": "stdout",
     "output_type": "stream",
     "text": [
      "   a   b\n",
      "0  2   4\n",
      "1  3   9\n",
      "2  4  16\n",
      "3  5  25\n"
     ]
    },
    {
     "data": {
      "text/plain": [
       "<AxesSubplot:>"
      ]
     },
     "execution_count": 17,
     "metadata": {},
     "output_type": "execute_result"
    },
    {
     "data": {
      "image/png": "[encoded data removed]",
      "text/plain": [
       "<Figure size 432x288 with 1 Axes>"
      ]
     },
     "metadata": {
      "needs_background": "light"
     },
     "output_type": "display_data"
    }
   ],
   "source": [
    "df = pd.DataFrame({'a': [2, 3, 4, 5], 'b': [4, 9, 16, 25]})\n",
    "print(df)\n",
    "df.plot()"
   ]
  },
  {
   "cell_type": "code",
   "execution_count": 18,
   "id": "a049148a",
   "metadata": {
    "scrolled": true
   },
   "outputs": [
    {
     "data": {
      "text/plain": [
       "<AxesSubplot:title={'center':'A и B'}>"
      ]
     },
     "execution_count": 18,
     "metadata": {},
     "output_type": "execute_result"
    },
    {
     "data": {
      "image/png": "[encoded data removed]",
      "text/plain": [
       "<Figure size 432x288 with 1 Axes>"
      ]
     },
     "metadata": {
      "needs_background": "light"
     },
     "output_type": "display_data"
    }
   ],
   "source": [
    "df.plot(title='A и B')"
   ]
  },
  {
   "cell_type": "code",
   "execution_count": 19,
   "id": "80ef12a3",
   "metadata": {
    "scrolled": true
   },
   "outputs": [
    {
     "data": {
      "text/plain": [
       "<AxesSubplot:>"
      ]
     },
     "execution_count": 19,
     "metadata": {},
     "output_type": "execute_result"
    },
    {
     "data": {
      "image/png": "[encoded data removed]",
      "text/plain": [
       "<Figure size 432x288 with 1 Axes>"
      ]
     },
     "metadata": {
      "needs_background": "light"
     },
     "output_type": "display_data"
    }
   ],
   "source": [
    "df.plot(style='o') # 'o' похожа на кружок или точку, запомнить легко"
   ]
  },
  {
   "cell_type": "code",
   "execution_count": 20,
   "id": "19c0b967",
   "metadata": {
    "scrolled": true
   },
   "outputs": [
    {
     "data": {
      "text/plain": [
       "<AxesSubplot:>"
      ]
     },
     "execution_count": 20,
     "metadata": {},
     "output_type": "execute_result"
    },
    {
     "data": {
      "image/png": "[encoded data removed]",
      "text/plain": [
       "<Figure size 432x288 with 1 Axes>"
      ]
     },
     "metadata": {
      "needs_background": "light"
     },
     "output_type": "display_data"
    }
   ],
   "source": [
    "df.plot(style='x') # 'x' - точь-в-точь крестик"
   ]
  },
  {
   "cell_type": "code",
   "execution_count": 21,
   "id": "29e88954",
   "metadata": {
    "scrolled": true
   },
   "outputs": [
    {
     "data": {
      "text/plain": [
       "<AxesSubplot:>"
      ]
     },
     "execution_count": 21,
     "metadata": {},
     "output_type": "execute_result"
    },
    {
     "data": {
      "image/png": "[encoded data removed]",
      "text/plain": [
       "<Figure size 432x288 with 1 Axes>"
      ]
     },
     "metadata": {
      "needs_background": "light"
     },
     "output_type": "display_data"
    }
   ],
   "source": [
    "df.plot(style='o-') # 'o-' - кружок и линия"
   ]
  },
  {
   "cell_type": "code",
   "execution_count": 22,
   "id": "a97f6612",
   "metadata": {
    "scrolled": true
   },
   "outputs": [
    {
     "data": {
      "text/plain": [
       "<AxesSubplot:xlabel='b'>"
      ]
     },
     "execution_count": 22,
     "metadata": {},
     "output_type": "execute_result"
    },
    {
     "data": {
      "image/png": "[encoded data removed]",
      "text/plain": [
       "<Figure size 432x288 with 1 Axes>"
      ]
     },
     "metadata": {
      "needs_background": "light"
     },
     "output_type": "display_data"
    }
   ],
   "source": [
    "df.plot(x='b', y='a', style='o-')"
   ]
  },
  {
   "cell_type": "code",
   "execution_count": 23,
   "id": "f8244aeb",
   "metadata": {
    "scrolled": true
   },
   "outputs": [
    {
     "data": {
      "text/plain": [
       "<AxesSubplot:xlabel='b'>"
      ]
     },
     "execution_count": 23,
     "metadata": {},
     "output_type": "execute_result"
    },
    {
     "data": {
      "image/png": "[encoded data removed]",
      "text/plain": [
       "<Figure size 432x288 with 1 Axes>"
      ]
     },
     "metadata": {
      "needs_background": "light"
     },
     "output_type": "display_data"
    }
   ],
   "source": [
    "df.plot(x='b', y='a', style='o-', xlim=(0, 30))"
   ]
  },
  {
   "cell_type": "code",
   "execution_count": 24,
   "id": "e2b42193",
   "metadata": {
    "scrolled": true
   },
   "outputs": [
    {
     "data": {
      "text/plain": [
       "<AxesSubplot:xlabel='b'>"
      ]
     },
     "execution_count": 24,
     "metadata": {},
     "output_type": "execute_result"
    },
    {
     "data": {
      "image/png": "[encoded data removed]",
      "text/plain": [
       "<Figure size 432x288 with 1 Axes>"
      ]
     },
     "metadata": {
      "needs_background": "light"
     },
     "output_type": "display_data"
    }
   ],
   "source": [
    "df.plot(x='b', y='a', style='o-', xlim=(0, 30), grid=True)"
   ]
  },
  {
   "cell_type": "code",
   "execution_count": 25,
   "id": "399e472c",
   "metadata": {
    "scrolled": true
   },
   "outputs": [
    {
     "data": {
      "text/plain": [
       "<AxesSubplot:xlabel='b'>"
      ]
     },
     "execution_count": 25,
     "metadata": {},
     "output_type": "execute_result"
    },
    {
     "data": {
      "image/png": "[encoded data removed]",
      "text/plain": [
       "<Figure size 72x72 with 1 Axes>"
      ]
     },
     "metadata": {
      "needs_background": "light"
     },
     "output_type": "display_data"
    },
    {
     "data": {
      "image/png": "[encoded data removed]",
      "text/plain": [
       "<Figure size 720x216 with 1 Axes>"
      ]
     },
     "metadata": {
      "needs_background": "light"
     },
     "output_type": "display_data"
    }
   ],
   "source": [
    "# строим маленький график\n",
    "df.plot(x='b', y='a', style='o-', xlim=(0, 30), grid=True, figsize=(1, 1))\n",
    "\n",
    "# строим большой график\n",
    "df.plot(x='b', y='a', style='o-', xlim=(0, 30), grid=True, figsize=(10, 3))"
   ]
  },
  {
   "cell_type": "markdown",
   "id": "579c8ce1",
   "metadata": {},
   "source": [
    "### группировка с `pivot_table()`"
   ]
  },
  {
   "cell_type": "code",
   "execution_count": 28,
   "id": "e5cea0e4",
   "metadata": {},
   "outputs": [],
   "source": [
    "df['date_time'] = pd.to_datetime(\n",
    "    df['date_time'], format='%Y-%m-%dT%H:%M:%S'\n",
    ")\n",
    "df['local_time'] = df['date_time'] + pd.Timedelta(hours=3)\n",
    "df['date_hour'] = df['local_time'].dt.round('1H')\n",
    "(\n",
    "    data.query('id == \"3c1e4c52\"')\n",
    "    .pivot_table(index='date_hour', values='time_spent')\n",
    "    .plot(grid=True, figsize=(12, 5))\n",
    ")"
   ]
  },
  {
   "cell_type": "code",
   "execution_count": null,
   "id": "ad4fc718",
   "metadata": {},
   "outputs": [],
   "source": [
    "# превращаем двухэтажные названия в одноэтажные в датафрейме df\n",
    "# при этом переименовываем только второй столбец в 'column_2', \n",
    "# а первый оставляем со старым названием 'no_name'\n",
    "df.columns = ['no_name', 'column_2']"
   ]
  },
  {
   "cell_type": "markdown",
   "id": "ed5f447e",
   "metadata": {},
   "source": [
    "## Работа с несколькими источниками данных"
   ]
  },
  {
   "cell_type": "markdown",
   "id": "edf6d1ed",
   "metadata": {},
   "source": [
    "## Взаимосвязь данных"
   ]
  },
  {
   "cell_type": "markdown",
   "id": "8e134b76",
   "metadata": {},
   "source": [
    "## Валидация результатов"
   ]
  },
  {
   "cell_type": "markdown",
   "id": "396bddf4",
   "metadata": {},
   "source": [
    "# Статистический анализ данных"
   ]
  },
  {
   "cell_type": "markdown",
   "id": "2ff5b11c",
   "metadata": {},
   "source": [
    "## Описательная статистика"
   ]
  },
  {
   "cell_type": "markdown",
   "id": "c3c53e22",
   "metadata": {},
   "source": [
    "## Теория вероятностей"
   ]
  },
  {
   "cell_type": "markdown",
   "id": "78827b18",
   "metadata": {},
   "source": [
    "## Проверка гипотез"
   ]
  },
  {
   "cell_type": "code",
   "execution_count": 4,
   "id": "6ecb0e74",
   "metadata": {},
   "outputs": [
    {
     "data": {
      "text/plain": [
       "<AxesSubplot:>"
      ]
     },
     "execution_count": 4,
     "metadata": {},
     "output_type": "execute_result"
    },
    {
     "data": {
      "image/png": "[encoded data removed]",
      "text/plain": [
       "<Figure size 432x288 with 1 Axes>"
      ]
     },
     "metadata": {
      "needs_background": "light"
     },
     "output_type": "display_data"
    }
   ],
   "source": [
    "import pandas as pd\n",
    "\n",
    "data = pd.Series([11, 20, 22, 31, 32, 33, 41, 42, 43, 44, 51, 52, 53, 54, 55, 61, 62, 63, 64, 65, 66, 71, 72, 73, 74, 75, 76, 77, 81, 82, 83, 84, 85, 86, 87, 88, 91, 92, 93, 94, 95, 96, 97, 98, 99])\n",
    "\n",
    "data.hist(bins=4, alpha=0.5)  # строим гистограмму с 4 корзинами\n",
    "\n",
    "data.hist(\n",
    "    bins=[11, 20, 30, 40, 50, 60, 70, 80, 90, 99], alpha=0.7\n",
    ")  # строим гистограмму с 9 корзинами, границы которых перечислены в списке"
   ]
  },
  {
   "cell_type": "markdown",
   "id": "2008a2e8",
   "metadata": {},
   "source": [
    "## Обман гистограмм"
   ]
  },
  {
   "cell_type": "code",
   "execution_count": 5,
   "id": "33f2ad45",
   "metadata": {},
   "outputs": [
    {
     "data": {
      "text/plain": [
       "<AxesSubplot:>"
      ]
     },
     "execution_count": 5,
     "metadata": {},
     "output_type": "execute_result"
    },
    {
     "data": {
      "image/png": "[encoded data removed]",
      "text/plain": [
       "<Figure size 432x288 with 1 Axes>"
      ]
     },
     "metadata": {
      "needs_background": "light"
     },
     "output_type": "display_data"
    }
   ],
   "source": [
    "import pandas as pd\n",
    "\n",
    "# назовем датасет pur_time от англ. purchase time, «время покупки»\n",
    "pur_time = pd.Series([36, 44, 73, 32, 44, 29, 63, 60, 55, 74, 61, 26, 76, 40, 39, 28, 69, 61, 54, 58, 47, 41, 70, 51, 58, 36, 71, 47, 74, 59, 50, 78, 59, 48, 67, 53, 67, 52, 38, 55, 53, 53, 43, 77, 44, 63, 63, 54])\n",
    "\n",
    "pur_time.hist(\n",
    "    bins=[15, 35, 55, 75, 90], alpha=0.5\n",
    ")\n",
    "\n",
    "\n",
    "pur_time.hist(\n",
    "    bins=[15, 45, 55, 90], alpha=0.5\n",
    ")"
   ]
  },
  {
   "cell_type": "markdown",
   "id": "22ce07eb",
   "metadata": {},
   "source": [
    "# Статистика"
   ]
  },
  {
   "cell_type": "markdown",
   "id": "3dfb74b9",
   "metadata": {},
   "source": [
    "## Дисперсия"
   ]
  },
  {
   "cell_type": "markdown",
   "id": "e0ebba4d",
   "metadata": {},
   "source": [
    "Дисперсию совокупности рассчитывают методом **var()** (от англ. variance — «дисперсия»):"
   ]
  },
  {
   "cell_type": "code",
   "execution_count": 6,
   "id": "18d8fe8d",
   "metadata": {},
   "outputs": [
    {
     "name": "stdout",
     "output_type": "stream",
     "text": [
      "2.9166666666666665\n"
     ]
    }
   ],
   "source": [
    "import numpy as np\n",
    "\n",
    "x = [1, 2, 3, 4, 5, 6] # совокупность\n",
    "variance = np.var(x)\n",
    "print(variance)"
   ]
  },
  {
   "cell_type": "markdown",
   "id": "aa20d909",
   "metadata": {},
   "source": [
    "Если известно, что датасет — не вся совокупность, а выборка из неё, вместо дисперсии считают её оценку по имеющейся выборке (то есть s², а не σ²). Для этого в методе **var()** указывают параметр **ddof=1** :"
   ]
  },
  {
   "cell_type": "code",
   "execution_count": 8,
   "id": "0a7b0ab0",
   "metadata": {},
   "outputs": [
    {
     "name": "stdout",
     "output_type": "stream",
     "text": [
      "3.5\n"
     ]
    }
   ],
   "source": [
    "import numpy as np\n",
    "\n",
    "x = [1, 2, 3, 4, 5, 6] # выборка\n",
    "variance_estimate = np.var(x, ddof=1)\n",
    "print(variance_estimate)"
   ]
  },
  {
   "cell_type": "markdown",
   "id": "7e9b8899",
   "metadata": {},
   "source": [
    "Стандартное отклонение находят методом `std()` (от англ. standard deviation, «стандартное отклонение») из библиотеки NumPy:"
   ]
  },
  {
   "cell_type": "code",
   "execution_count": 9,
   "id": "767f160b",
   "metadata": {},
   "outputs": [
    {
     "name": "stdout",
     "output_type": "stream",
     "text": [
      "1.707825127659933\n"
     ]
    }
   ],
   "source": [
    "import numpy as np\n",
    "\n",
    "x = [1, 2, 3, 4, 5, 6]  # совокупность\n",
    "standard_deviation = np.std(x)\n",
    "print(standard_deviation)"
   ]
  },
  {
   "cell_type": "code",
   "execution_count": 10,
   "id": "2dd6cddf",
   "metadata": {},
   "outputs": [
    {
     "name": "stdout",
     "output_type": "stream",
     "text": [
      "1.8708286933869707\n"
     ]
    }
   ],
   "source": [
    "import numpy as np\n",
    "\n",
    "x = [1, 2, 3, 4, 5, 6] # выборка\n",
    "standard_deviation = np.std(x, ddof=1)\n",
    "print (standard_deviation)"
   ]
  },
  {
   "cell_type": "markdown",
   "id": "a6cdfe81",
   "metadata": {},
   "source": [
    "Если дисперсия известна заранее, можно применить метод `sqrt()` (от англ. square root, «квадратный корень») из библиотеки NumPy. Корень из дисперсии будет равен стандартному отклонению:"
   ]
  },
  {
   "cell_type": "code",
   "execution_count": 11,
   "id": "3e5e1f09",
   "metadata": {},
   "outputs": [
    {
     "name": "stdout",
     "output_type": "stream",
     "text": [
      "1.707825127659933\n"
     ]
    }
   ],
   "source": [
    "import numpy as np\n",
    "\n",
    "variance = 2.9166666666666665\n",
    "standard_deviation = np.sqrt(variance)\n",
    "print(standard_deviation)"
   ]
  },
  {
   "cell_type": "markdown",
   "id": "296ff265",
   "metadata": {},
   "source": [
    "# Теория вероятностей"
   ]
  },
  {
   "cell_type": "code",
   "execution_count": 2,
   "id": "3fdbe5cb",
   "metadata": {},
   "outputs": [
    {
     "name": "stdout",
     "output_type": "stream",
     "text": [
      "{2: 1, 3: 2, 4: 3, 5: 4, 6: 5, 7: 6, 8: 5, 9: 4, 10: 3, 11: 2, 12: 1}\n"
     ]
    }
   ],
   "source": [
    "import numpy as np\n",
    "spots = np.array([[2,3,4,5,6,7], # имя переменной spots по-английски значит «пятна»\n",
    "    [3,4,5,6,7,8], \n",
    "    [4,5,6,7,8,9], \n",
    "    [5,6,7,8,9,10], \n",
    "    [6,7,8,9,10,11],\n",
    "    [7,8,9,10,11,12]]) \n",
    "spot_counts = {}\n",
    "\n",
    "for i in range(0, 6):\n",
    "        for j in range(0, 6):\n",
    "                if spots[i][j] not in spot_counts.keys():\n",
    "                        spot_counts[spots[i][j]] = 1\n",
    "                else:\n",
    "                        spot_counts[spots[i][j]] += 1\n",
    "\n",
    "print(spot_counts) "
   ]
  },
  {
   "cell_type": "code",
   "execution_count": 3,
   "id": "56687163",
   "metadata": {
    "scrolled": true
   },
   "outputs": [
    {
     "name": "stdout",
     "output_type": "stream",
     "text": [
      "{2: 0.027777777777777776, 3: 0.05555555555555555, 4: 0.08333333333333333, 5: 0.1111111111111111, 6: 0.1388888888888889, 7: 0.16666666666666666, 8: 0.1388888888888889, 9: 0.1111111111111111, 10: 0.08333333333333333, 11: 0.05555555555555555, 12: 0.027777777777777776}\n"
     ]
    }
   ],
   "source": [
    "spot_probs={k:spot_counts[k]/36 for k in spot_counts}\n",
    "print(spot_probs) "
   ]
  },
  {
   "cell_type": "code",
   "execution_count": 4,
   "id": "1982a5b9",
   "metadata": {
    "scrolled": true
   },
   "outputs": [
    {
     "data": {
      "text/plain": [
       "<AxesSubplot:>"
      ]
     },
     "execution_count": 4,
     "metadata": {},
     "output_type": "execute_result"
    },
    {
     "data": {
      "image/png": "[encoded data removed]",
      "text/plain": [
       "<Figure size 432x288 with 1 Axes>"
      ]
     },
     "metadata": {
      "needs_background": "light"
     },
     "output_type": "display_data"
    }
   ],
   "source": [
    "import pandas as pd\n",
    "\n",
    "x = pd.Series([1, 2, 3, 4, 5, 6, 2, 4, 6, 8, 10, 12, 3, 6, 9, 12, 15, 18, 4, 8, 12, 16, 20, 24, 5, 10, 15, 20, 25, 30, 6, 12, 18, 24, 30, 36])\n",
    "x.hist(density=True, bins=36) "
   ]
  },
  {
   "cell_type": "markdown",
   "id": "4dcf8950",
   "metadata": {},
   "source": [
    "Аргумент *density* со значением *True* нужен для построения гистограммы плотности вероятностей. Количество корзин равно количеству значений — это значит, что по вертикальной оси будут вероятности для каждого значения."
   ]
  },
  {
   "cell_type": "markdown",
   "id": "82473bda",
   "metadata": {},
   "source": [
    "## Математическое ожидание"
   ]
  },
  {
   "cell_type": "code",
   "execution_count": 1,
   "id": "e4f23435",
   "metadata": {},
   "outputs": [
    {
     "name": "stdout",
     "output_type": "stream",
     "text": [
      "7.000000000000001\n"
     ]
    }
   ],
   "source": [
    "x_probs = {\n",
    "        '3': 0.1,\n",
    "        '4': 0.2,\n",
    "        '5' : 0.2,\n",
    "        '7' : 0.3,\n",
    "        '11' : 0.1,\n",
    "        '16' : 0.05,\n",
    "        '18': 0.05    \n",
    "}\n",
    "# E(X): для каждого элемента словаря вычисляем произведение вероятности и значения \n",
    "# случайной величины (целочисленное представление ключа словаря):\n",
    "expectation = sum([int(x_i)*x_probs[x_i] for x_i in x_probs]) \n",
    "print(expectation)"
   ]
  },
  {
   "cell_type": "code",
   "execution_count": 2,
   "id": "49b17202",
   "metadata": {},
   "outputs": [
    {
     "name": "stdout",
     "output_type": "stream",
     "text": [
      "15.899999999999991\n"
     ]
    }
   ],
   "source": [
    "\n",
    "x_probs = {\n",
    "    '3': 0.1,\n",
    "    '4': 0.2,\n",
    "    '5': 0.2,\n",
    "    '7': 0.3,\n",
    "    '11': 0.1,\n",
    "    '16': 0.05,\n",
    "    '18': 0.05\n",
    "}\n",
    "# E(X): для каждого элемента словаря вычисляем произведение вероятности и значения\n",
    "# случайной величины (целочисленное представление ключа словаря):\n",
    "expectation = sum([int(x_i) * x_probs[x_i] for x_i in x_probs])\n",
    "# (E(X))^2\n",
    "square_of_expectation = expectation ** 2\n",
    "# E(X^2)\n",
    "expectation_of_squares = sum(\n",
    "    [int(x_i) * int(x_i) * x_probs[x_i] for x_i in x_probs]\n",
    ")\n",
    "variance = expectation_of_squares - square_of_expectation\n",
    "print(variance)"
   ]
  },
  {
   "cell_type": "code",
   "execution_count": 5,
   "id": "19a13b49",
   "metadata": {
    "scrolled": true
   },
   "outputs": [
    {
     "data": {
      "text/plain": [
       "<BarContainer object of 6 artists>"
      ]
     },
     "execution_count": 5,
     "metadata": {},
     "output_type": "execute_result"
    },
    {
     "data": {
      "image/png": "[encoded data removed]",
      "text/plain": [
       "<Figure size 432x288 with 1 Axes>"
      ]
     },
     "metadata": {
      "needs_background": "light"
     },
     "output_type": "display_data"
    }
   ],
   "source": [
    "from matplotlib import pyplot as plt\n",
    "from math import factorial\n",
    "\n",
    "n = 5\n",
    "p = 0.5\n",
    "\n",
    "distr = []\n",
    "\n",
    "for k in range(0, n + 1):\n",
    "    choose = factorial(n) / (factorial(k) * factorial(n - k))\n",
    "    prob = choose * p ** k * (1 - p) ** (n - k)\n",
    "    distr.append(prob)\n",
    "\n",
    "plt.bar(range(0, n + 1), distr)"
   ]
  },
  {
   "cell_type": "code",
   "execution_count": 9,
   "id": "97b2750a",
   "metadata": {},
   "outputs": [
    {
     "name": "stdout",
     "output_type": "stream",
     "text": [
      "364.0\n"
     ]
    }
   ],
   "source": [
    "from math import factorial\n",
    "\n",
    "c = factorial(14) / (factorial(3) * factorial(11))\n",
    "print(c)"
   ]
  },
  {
   "cell_type": "code",
   "execution_count": 6,
   "id": "954ebfa2",
   "metadata": {
    "scrolled": true
   },
   "outputs": [
    {
     "data": {
      "text/plain": [
       "<BarContainer object of 26 artists>"
      ]
     },
     "execution_count": 6,
     "metadata": {},
     "output_type": "execute_result"
    },
    {
     "data": {
      "image/png": "[encoded data removed]",
      "text/plain": [
       "<Figure size 432x288 with 1 Axes>"
      ]
     },
     "metadata": {
      "needs_background": "light"
     },
     "output_type": "display_data"
    }
   ],
   "source": [
    "from matplotlib import pyplot as plt\n",
    "from math import factorial\n",
    "\n",
    "n = 25\n",
    "p = 0.5\n",
    "\n",
    "distr = []\n",
    "\n",
    "for k in range(0, n + 1):\n",
    "    choose = factorial(n) / (factorial(k) * factorial(n - k))\n",
    "    prob = choose * p ** k * (1 - p) ** (n - k)\n",
    "    distr.append(prob)\n",
    "\n",
    "plt.bar(range(0, n + 1), distr)"
   ]
  },
  {
   "cell_type": "code",
   "execution_count": 8,
   "id": "096b7fe9",
   "metadata": {
    "scrolled": true
   },
   "outputs": [
    {
     "data": {
      "text/plain": [
       "<BarContainer object of 31 artists>"
      ]
     },
     "execution_count": 8,
     "metadata": {},
     "output_type": "execute_result"
    },
    {
     "data": {
      "image/png": "[encoded data removed]",
      "text/plain": [
       "<Figure size 432x288 with 1 Axes>"
      ]
     },
     "metadata": {
      "needs_background": "light"
     },
     "output_type": "display_data"
    }
   ],
   "source": [
    "from matplotlib import pyplot as plt\n",
    "from math import factorial\n",
    "\n",
    "n = 30\n",
    "p = 0.07\n",
    "\n",
    "distr = []\n",
    "\n",
    "for k in range(0, n + 1):\n",
    "    choose = factorial(n) / (factorial(k) * factorial(n - k))\n",
    "    prob = choose * p ** k * (1 - p) ** (n - k)\n",
    "    distr.append(prob)\n",
    "\n",
    "plt.bar(range(0, n + 1), distr)"
   ]
  },
  {
   "cell_type": "markdown",
   "id": "56cd5441",
   "metadata": {},
   "source": [
    "## Нормальное распределение"
   ]
  },
  {
   "cell_type": "code",
   "execution_count": 10,
   "id": "e4791c1b",
   "metadata": {},
   "outputs": [
    {
     "name": "stdout",
     "output_type": "stream",
     "text": [
      "0.5\n"
     ]
    }
   ],
   "source": [
    "from scipy import stats as st\n",
    "\n",
    "# задаём нормальное распределение с математическим ожиданием 1000 \n",
    "# и стандартным отклонением 100\n",
    "distr = st.norm(1000, 100) \n",
    "\n",
    "x = 1000\n",
    "\n",
    "result = distr.cdf(x) # считаем вероятность получить значение x \n",
    "print(result)"
   ]
  },
  {
   "cell_type": "markdown",
   "id": "743a2d55",
   "metadata": {},
   "source": [
    "### найти вероятность попасть между значениями"
   ]
  },
  {
   "cell_type": "code",
   "execution_count": 11,
   "id": "73c0370e",
   "metadata": {},
   "outputs": [
    {
     "name": "stdout",
     "output_type": "stream",
     "text": [
      "0.6826894921370859\n"
     ]
    }
   ],
   "source": [
    "from scipy import stats as st\n",
    "\n",
    "distr = st.norm(1000, 100) \n",
    "\n",
    "x1 = 900\n",
    "x2 = 1100\n",
    "\n",
    "result = distr.cdf(x2) - distr.cdf(x1)\n",
    "print(result)#"
   ]
  },
  {
   "cell_type": "markdown",
   "id": "4a98404e",
   "metadata": {},
   "source": [
    "### значение по вероятности"
   ]
  },
  {
   "cell_type": "code",
   "execution_count": 12,
   "id": "d515e5f5",
   "metadata": {},
   "outputs": [
    {
     "name": "stdout",
     "output_type": "stream",
     "text": [
      "1099.999999971673\n"
     ]
    }
   ],
   "source": [
    "from scipy import stats as st\n",
    "\n",
    "distr = st.norm(1000, 100) \n",
    "\n",
    "p1 = 0.841344746\n",
    "\n",
    "result = distr.ppf(p1)\n",
    "print(result)"
   ]
  },
  {
   "cell_type": "markdown",
   "id": "8d7afbd6",
   "metadata": {},
   "source": [
    "### Сравним биномиальное с нормальным распределением"
   ]
  },
  {
   "cell_type": "code",
   "execution_count": 19,
   "id": "4223e61a",
   "metadata": {
    "scrolled": true
   },
   "outputs": [
    {
     "data": {
      "image/png": "[encoded data removed]",
      "text/plain": [
       "<Figure size 432x288 with 1 Axes>"
      ]
     },
     "metadata": {
      "needs_background": "light"
     },
     "output_type": "display_data"
    }
   ],
   "source": [
    "from matplotlib import pyplot as plt\n",
    "from math import factorial\n",
    "from scipy.stats import norm\n",
    "import scipy.stats\n",
    "\n",
    "# Биномиальное распределение\n",
    "p = 0.8\n",
    "n = 50\n",
    "\n",
    "binom = []\n",
    "for k in range(0,n+1):\n",
    "    choose = factorial(n)/(factorial(k) * factorial(n-k))\n",
    "    prob = choose * p**k * (1-p)**(n-k) \n",
    "    binom.append(prob)\n",
    "\n",
    "# Нормальное распределение\n",
    "mu = n * p\n",
    "var = n * p * (1-p)\n",
    "sigma = var ** .5\n",
    "\n",
    "x = range(25, n+1)\n",
    "  \n",
    "plt.bar(range(25, n + 1), binom[25:], alpha=0.3)\n",
    "plt.plot(x, scipy.stats.norm.pdf(x, mu, sigma))\n",
    "plt.show()"
   ]
  },
  {
   "cell_type": "markdown",
   "id": "fb22c133",
   "metadata": {},
   "source": [
    "### Найдём вероятность получить 715715 кликов или меньше, применив метод `cdf()`:"
   ]
  },
  {
   "cell_type": "code",
   "execution_count": 20,
   "id": "c3cea924",
   "metadata": {},
   "outputs": [
    {
     "name": "stdout",
     "output_type": "stream",
     "text": [
      "0.08284191945650154\n"
     ]
    },
    {
     "data": {
      "text/plain": [
       "0.08284191945650154"
      ]
     },
     "execution_count": 20,
     "metadata": {},
     "output_type": "execute_result"
    }
   ],
   "source": [
    "from scipy import stats as st\n",
    "import math as mt\n",
    "\n",
    "binom_n = 5000\n",
    "binom_p = 0.15\n",
    "\n",
    "bloger_clicks = 715\n",
    "\n",
    "mu = binom_n * binom_p\n",
    "sigma = mt.sqrt(binom_n * binom_p * (1 - binom_p))\n",
    "\n",
    "p_clicks = st.norm(mu, sigma).cdf(bloger_clicks)\n",
    "print(p_clicks)\n",
    "\n",
    "0.08284191945650154"
   ]
  },
  {
   "cell_type": "code",
   "execution_count": 14,
   "id": "2b07445f",
   "metadata": {},
   "outputs": [
    {
     "name": "stdout",
     "output_type": "stream",
     "text": [
      "p-значение: 0.00033528259973700724\n",
      "Отвергаем нулевую гипотезу\n"
     ]
    }
   ],
   "source": [
    "from scipy import stats as st\n",
    "import pandas as pd\n",
    "\n",
    "scooters = pd.Series([15, 31, 10, 21, 21, 32, 30, 25, 21,\n",
    "28, 25, 32, 38, 18, 33, 24, 26, 40, 24, 37, 20, 36, 28, 38,\n",
    "24, 35, 33, 21, 29, 26, 13, 25, 34, 38, 23, 37, 31, 28, 32,\n",
    "24, 25, 13, 38, 34, 48, 19, 20, 22, 38, 28, 31, 18, 21, 24,\n",
    "31, 21, 28, 29, 33, 40, 26, 33, 33,  6, 27, 24, 17, 28,  7,\n",
    "33, 25, 25, 29, 19, 30, 29, 22, 15, 28, 36, 25, 36, 25, 29,\n",
    "33, 19, 32, 32, 28, 26, 18, 48, 15, 27, 27, 27,  0, 28, 39,\n",
    "27, 25, 39, 28, 22, 33, 30, 35, 19, 20, 18, 31, 44, 20, 18,\n",
    "17, 28, 17, 44, 40, 33,])\n",
    "\n",
    "optimal_value = 30 # введите ваш код тут\n",
    "\n",
    "alpha = 0.05 # введите ваш код тут\n",
    "\n",
    "results =  st.ttest_1samp(scooters, optimal_value)  # введите ваш код тут\n",
    "\n",
    "print('p-значение:', results.pvalue) # введите ваш код тут)\n",
    "\n",
    "if results.pvalue < alpha :\n",
    "      print(\"Отвергаем нулевую гипотезу\")\n",
    "else:\n",
    "      print(\"Не получилось отвергнуть нулевую гипотезу\")"
   ]
  },
  {
   "cell_type": "code",
   "execution_count": null,
   "id": "aa97d63f",
   "metadata": {},
   "outputs": [],
   "source": []
  },
  {
   "cell_type": "code",
   "execution_count": 15,
   "id": "0155ae40",
   "metadata": {},
   "outputs": [
    {
     "name": "stdout",
     "output_type": "stream",
     "text": [
      "p-значение: 1.3358596895543794e-06\n",
      "Отвергаем нулевую гипотезу\n"
     ]
    }
   ],
   "source": [
    "from scipy import stats as st\n",
    "import pandas as pd\n",
    "\n",
    "screens = pd.Series([4, 2, 4, 5, 5, 4, 2, 3, 3, 5, 2, 5, 2, 2, 2, 3, 3, 4, 8, 3, 4, 3, 5, 5, 4, 2, 5, 2, 3, 7, 5, 5, 6,  5, 3, 4, 3, 6, 3, 4, 4, 3, 5, 4, 4, 8, 4, 7, 4, 5, 5, 3, 4, 6, 7, 2, 3, 6, 5, 6, 4, 4, 3, 4, 6, 4, 4, 6, 2, 6, 5, 3, 3, 3, 4, 5, 3, 5, 5, 4, 3, 3, 3, 1, 5, 4, 3, 4, 6, 3, 1, 3, 2, 7, 3, 6, 6, 6, 5, 5])\n",
    "\n",
    "prev_screens_value = 4.867\n",
    "\n",
    "alpha = .05 # уровень статистической значимости\n",
    "\n",
    "results = st.ttest_1samp(\n",
    "    screens, \n",
    "    prev_screens_value)\n",
    "\n",
    "# тест односторонний: p-value будет в два раза меньше\n",
    "print('p-значение:', results.pvalue / 2)\n",
    "\n",
    "# тест односторонний влево:\n",
    "# отвергаем гипотезу только тогда, когда выборочное среднее значимо меньше предполагаемого значения\n",
    "if (results.pvalue / 2 < alpha) and (screens.mean() < prev_screens_value):\n",
    "    print(\"Отвергаем нулевую гипотезу\")\n",
    "else:\n",
    "    print(\"Не отвергаем нулевую гипотезу\")"
   ]
  },
  {
   "cell_type": "code",
   "execution_count": null,
   "id": "c38a356a",
   "metadata": {},
   "outputs": [],
   "source": []
  },
  {
   "cell_type": "code",
   "execution_count": 1,
   "id": "2962e07e",
   "metadata": {},
   "outputs": [
    {
     "name": "stdout",
     "output_type": "stream",
     "text": [
      "p-значение: 0.1912450522572209\n",
      "Не получилось отвергнуть нулевую гипотезу\n"
     ]
    }
   ],
   "source": [
    "from scipy import stats as st\n",
    "import numpy as np\n",
    "\n",
    "sample_1 = [3071, 3636, 3454, 3151, 2185, 3259, 1727, 2263, 2015, \n",
    "            2582, 4815, 633, 3186, 887, 2028, 3589, 2564, 1422, 1785, \n",
    "            3180, 1770, 2716, 2546, 1848, 4644, 3134, 475, 2686, \n",
    "            1838, 3352]\n",
    "sample_2 = [1211, 1228, 2157, 3699, 600, 1898, 1688, 1420, 5048, 3007, \n",
    "            509, 3777, 5583, 3949, 121, 1674, 4300, 1338, 3066, \n",
    "            3562, 1010, 2311, 462, 863, 2021, 528, 1849, 255, \n",
    "            1740, 2596]\n",
    "\n",
    "alpha = .05 # критический уровень статистической значимости\n",
    "# если p-value окажется меньше него - отвергнем гипотезу\n",
    "\n",
    "results = st.ttest_ind(\n",
    "    sample_1, \n",
    "    sample_2)\n",
    "\n",
    "print('p-значение:', results.pvalue)\n",
    "\n",
    "if results.pvalue < alpha:\n",
    "    print(\"Отвергаем нулевую гипотезу\")\n",
    "else:\n",
    "    print(\"Не получилось отвергнуть нулевую гипотезу\")"
   ]
  },
  {
   "cell_type": "code",
   "execution_count": null,
   "id": "7f74b2cd",
   "metadata": {},
   "outputs": [],
   "source": []
  },
  {
   "cell_type": "code",
   "execution_count": 4,
   "id": "bf0f94da",
   "metadata": {},
   "outputs": [
    {
     "name": "stdout",
     "output_type": "stream",
     "text": [
      "p-значение:  0.005825972457958989\n",
      "Отвергаем нулевую гипотезу\n"
     ]
    }
   ],
   "source": [
    "from scipy import stats as st\n",
    "import numpy as np\n",
    "\n",
    "before = [157, 114, 152, 355, 155, 513, 299, 268, 164, 320, \n",
    "          192, 262, 506, 240, 364, 179, 246, 427, 187, 431, \n",
    "          320, 193, 313, 347, 312, 92, 177, 225, 242, 312]\n",
    "\n",
    "after = [282, 220, 162, 226, 296, 479, 248, 322, 298, 418, \n",
    "         552, 246, 251, 404, 368, 484, 358, 264, 359, 410, \n",
    "         382, 350, 406, 416, 438, 364, 283, 314, 420, 218]\n",
    "\n",
    "alpha = .05 # критический уровень статистической значимости\n",
    "\n",
    "results = st.ttest_rel(\n",
    "    before, \n",
    "    after)\n",
    "\n",
    "print('p-значение: ', results.pvalue)\n",
    "\n",
    "if results.pvalue < alpha:\n",
    "    print(\"Отвергаем нулевую гипотезу\")\n",
    "else:\n",
    "    print(\"Не получилось отвергнуть нулевую гипотезу\")"
   ]
  },
  {
   "cell_type": "markdown",
   "id": "a0c3855e",
   "metadata": {},
   "source": [
    "# Калькулятор"
   ]
  },
  {
   "cell_type": "code",
   "execution_count": 3,
   "id": "80886b66",
   "metadata": {},
   "outputs": [],
   "source": [
    "p=0.75\n",
    "q=1-p"
   ]
  },
  {
   "cell_type": "code",
   "execution_count": 4,
   "id": "bea84e94",
   "metadata": {},
   "outputs": [
    {
     "data": {
      "text/plain": [
       "0.0625"
      ]
     },
     "execution_count": 4,
     "metadata": {},
     "output_type": "execute_result"
    }
   ],
   "source": [
    "q*q"
   ]
  },
  {
   "cell_type": "code",
   "execution_count": 1,
   "id": "a9342c9b",
   "metadata": {},
   "outputs": [],
   "source": [
    "\n",
    "from math import factorial\n",
    "import pandas as pd"
   ]
  },
  {
   "cell_type": "code",
   "execution_count": 10,
   "id": "64196fab",
   "metadata": {},
   "outputs": [
    {
     "data": {
      "image/png": "[encoded data removed]",
      "text/plain": [
       "<Figure size 432x288 with 1 Axes>"
      ]
     },
     "metadata": {},
     "output_type": "display_data"
    }
   ],
   "source": [
    "from matplotlib import pyplot as plt\n",
    "\n",
    "data = {\n",
    "    'закончили':1,\n",
    "    'не закончили':2\n",
    "}\n",
    "\n",
    "labels = []\n",
    "sizes = []\n",
    "\n",
    "for x, y in data.items():\n",
    "    labels.append(x)\n",
    "    sizes.append(y)\n",
    "\n",
    "plt.pie(sizes, labels=labels)\n",
    "\n",
    "plt.axis('equal')\n",
    "plt.show()"
   ]
  },
  {
   "cell_type": "code",
   "execution_count": 16,
   "id": "9a68d9d9",
   "metadata": {},
   "outputs": [
    {
     "data": {
      "image/png": "[encoded data removed]",
      "text/plain": [
       "<Figure size 432x216 with 1 Axes>"
      ]
     },
     "metadata": {},
     "output_type": "display_data"
    }
   ],
   "source": [
    "import numpy as np\n",
    "import matplotlib.pyplot as plt\n",
    "\n",
    "fig, ax = plt.subplots(figsize=(6, 3), subplot_kw=dict(aspect=\"equal\"))\n",
    "\n",
    "finish = [\"закончили\",\n",
    "          \"не закончили\"]\n",
    "\n",
    "data = [1,2]\n",
    "\n",
    "\n",
    "def func(pct, allvals):\n",
    "    absolute = int(np.round(pct/100.*np.sum(allvals)))\n",
    "    return \"{:.1f}%\".format(pct, absolute)\n",
    "\n",
    "\n",
    "wedges, texts, autotexts = ax.pie(data, autopct=lambda pct: func(pct, data),\n",
    "                                  textprops=dict(color=\"w\"))\n",
    "\n",
    "ax.legend(wedges, finish,\n",
    "          title=\"Обозначения\",\n",
    "          loc=\"center left\",\n",
    "          bbox_to_anchor=(1, 0, 0.5, 1))\n",
    "\n",
    "plt.setp(autotexts, size=8, weight=\"bold\")\n",
    "\n",
    "ax.set_title(\"Прохождение курса: Алгоритмы и структуры данных\")\n",
    "\n",
    "plt.show()"
   ]
  },
  {
   "cell_type": "code",
   "execution_count": 1,
   "id": "57971d77",
   "metadata": {},
   "outputs": [
    {
     "name": "stdout",
     "output_type": "stream",
     "text": [
      "[84.61; 95.19]\n"
     ]
    }
   ],
   "source": [
    "from scipy import stats\n",
    "from math import sqrt\n",
    "\n",
    "mean = 89.9\n",
    "sd = 11.3\n",
    "n = 20\n",
    "# степень свободы\n",
    "df = n - 1\n",
    "# 95% доверительный интервал\n",
    "p = 0.95\n",
    "alpha = 1-p\n",
    "# стандартная ошибка\n",
    "se = sd/sqrt(n)\n",
    "\n",
    "# ppf - Percent point function\n",
    "# делим на два, так как по умолчанию функция считает для одного конца, а нам надо для двух\n",
    "t_value = stats.t(df).ppf(1-(alpha/2))\n",
    "\n",
    "# доверительный интервал \n",
    "сonfidence_interval = (mean-t_value*se, mean+t_value*se)\n",
    "print('[%.2f; %.2f]' % сonfidence_interval)"
   ]
  },
  {
   "cell_type": "code",
   "execution_count": 2,
   "id": "d83a6b74",
   "metadata": {},
   "outputs": [
    {
     "name": "stdout",
     "output_type": "stream",
     "text": [
      "t-value: 8.176235608718828\n",
      "p-value for the 95.0% confidence interval: 1.9720174778338955\n",
      "\n",
      "rejecting the null hypothesis\n"
     ]
    }
   ],
   "source": [
    "import scipy.stats as st\n",
    "import math\n",
    "import numpy as np\n",
    "\n",
    "x_men_bar = 45\n",
    "sd_men = 9\n",
    "\n",
    "x_w_bar = 34\n",
    "sd_w = 10\n",
    "\n",
    "n = 100\n",
    "alpha = 0.95\n",
    "\n",
    "se = math.sqrt(sd_men**2 / n + sd_w**2 / n)\n",
    "t = (x_men_bar - x_w_bar) / se\n",
    "\n",
    "df = n + n - 2\n",
    "\n",
    "p_value = np.abs(st.t.ppf((1 - alpha) / 2, df))\n",
    "\n",
    "print(f\"\"\"t-value: {t}\n",
    "p-value for the {alpha * 100}% confidence interval: {p_value}\n",
    "\"\"\")\n",
    "if t > p_value: \n",
    "    print(\"rejecting the null hypothesis\")\n",
    "elif t < p_value:\n",
    "    print(\"acepting the null hypothesis\")"
   ]
  },
  {
   "cell_type": "code",
   "execution_count": null,
   "id": "28993bed",
   "metadata": {},
   "outputs": [],
   "source": []
  }
 ],
 "metadata": {
  "kernelspec": {
   "display_name": "Python 3 (ipykernel)",
   "language": "python",
   "name": "python3"
  },
  "language_info": {
   "codemirror_mode": {
    "name": "ipython",
    "version": 3
   },
   "file_extension": ".py",
   "mimetype": "text/x-python",
   "name": "python",
   "nbconvert_exporter": "python",
   "pygments_lexer": "ipython3",
   "version": "3.9.7"
  },
  "vscode": {
   "interpreter": {
    "hash": "04b185ba4f3bb7278e7c09b6c9ec55b8d96a0005212ef7e1f266500e35c99d9c"
   }
  }
 },
 "nbformat": 4,
 "nbformat_minor": 5
}
