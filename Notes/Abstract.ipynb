{
 "cells": [
  {
   "cell_type": "markdown",
   "id": "c69ed008",
   "metadata": {},
   "source": [
    "# Конспект"
   ]
  },
  {
   "cell_type": "markdown",
   "id": "cb319793",
   "metadata": {},
   "source": [
    "### Гистограмма частот"
   ]
  },
  {
   "cell_type": "code",
   "execution_count": 4,
   "id": "6ecb0e74",
   "metadata": {},
   "outputs": [
    {
     "data": {
      "text/plain": [
       "<AxesSubplot:>"
      ]
     },
     "execution_count": 4,
     "metadata": {},
     "output_type": "execute_result"
    },
    {
     "data": {
      "image/png": "[encoded data removed]",
      "text/plain": [
       "<Figure size 432x288 with 1 Axes>"
      ]
     },
     "metadata": {
      "needs_background": "light"
     },
     "output_type": "display_data"
    }
   ],
   "source": [
    "import pandas as pd\n",
    "\n",
    "data = pd.Series([11, 20, 22, 31, 32, 33, 41, 42, 43, 44, 51, 52, 53, 54, 55, 61, 62, 63, 64, 65, 66, 71, 72, 73, 74, 75, 76, 77, 81, 82, 83, 84, 85, 86, 87, 88, 91, 92, 93, 94, 95, 96, 97, 98, 99])\n",
    "\n",
    "data.hist(bins=4, alpha=0.5)  # строим гистограмму с 4 корзинами\n",
    "\n",
    "data.hist(\n",
    "    bins=[11, 20, 30, 40, 50, 60, 70, 80, 90, 99], alpha=0.7\n",
    ")  # строим гистограмму с 9 корзинами, границы которых перечислены в списке"
   ]
  },
  {
   "cell_type": "markdown",
   "id": "2008a2e8",
   "metadata": {},
   "source": [
    "## Обман гистограмм"
   ]
  },
  {
   "cell_type": "code",
   "execution_count": 5,
   "id": "33f2ad45",
   "metadata": {},
   "outputs": [
    {
     "data": {
      "text/plain": [
       "<AxesSubplot:>"
      ]
     },
     "execution_count": 5,
     "metadata": {},
     "output_type": "execute_result"
    },
    {
     "data": {
      "image/png": "[encoded data removed]",
      "text/plain": [
       "<Figure size 432x288 with 1 Axes>"
      ]
     },
     "metadata": {
      "needs_background": "light"
     },
     "output_type": "display_data"
    }
   ],
   "source": [
    "import pandas as pd\n",
    "\n",
    "# назовем датасет pur_time от англ. purchase time, «время покупки»\n",
    "pur_time = pd.Series([36, 44, 73, 32, 44, 29, 63, 60, 55, 74, 61, 26, 76, 40, 39, 28, 69, 61, 54, 58, 47, 41, 70, 51, 58, 36, 71, 47, 74, 59, 50, 78, 59, 48, 67, 53, 67, 52, 38, 55, 53, 53, 43, 77, 44, 63, 63, 54])\n",
    "\n",
    "pur_time.hist(\n",
    "    bins=[15, 35, 55, 75, 90], alpha=0.5\n",
    ")\n",
    "\n",
    "\n",
    "pur_time.hist(\n",
    "    bins=[15, 45, 55, 90], alpha=0.5\n",
    ")"
   ]
  },
  {
   "cell_type": "markdown",
   "id": "22ce07eb",
   "metadata": {},
   "source": [
    "# Статистика"
   ]
  },
  {
   "cell_type": "markdown",
   "id": "3dfb74b9",
   "metadata": {},
   "source": [
    "## Дисперсия"
   ]
  },
  {
   "cell_type": "markdown",
   "id": "e0ebba4d",
   "metadata": {},
   "source": [
    "Дисперсию совокупности рассчитывают методом **var()** (от англ. variance — «дисперсия»):"
   ]
  },
  {
   "cell_type": "code",
   "execution_count": 6,
   "id": "18d8fe8d",
   "metadata": {},
   "outputs": [
    {
     "name": "stdout",
     "output_type": "stream",
     "text": [
      "2.9166666666666665\n"
     ]
    }
   ],
   "source": [
    "import numpy as np\n",
    "\n",
    "x = [1, 2, 3, 4, 5, 6] # совокупность\n",
    "variance = np.var(x)\n",
    "print(variance)"
   ]
  },
  {
   "cell_type": "markdown",
   "id": "aa20d909",
   "metadata": {},
   "source": [
    "Если известно, что датасет — не вся совокупность, а выборка из неё, вместо дисперсии считают её оценку по имеющейся выборке (то есть s², а не σ²). Для этого в методе **var()** указывают параметр **ddof=1** :"
   ]
  },
  {
   "cell_type": "code",
   "execution_count": 8,
   "id": "0a7b0ab0",
   "metadata": {},
   "outputs": [
    {
     "name": "stdout",
     "output_type": "stream",
     "text": [
      "3.5\n"
     ]
    }
   ],
   "source": [
    "import numpy as np\n",
    "\n",
    "x = [1, 2, 3, 4, 5, 6] # выборка\n",
    "variance_estimate = np.var(x, ddof=1)\n",
    "print(variance_estimate)"
   ]
  },
  {
   "cell_type": "markdown",
   "id": "7e9b8899",
   "metadata": {},
   "source": [
    "Стандартное отклонение находят методом `std()` (от англ. standard deviation, «стандартное отклонение») из библиотеки NumPy:"
   ]
  },
  {
   "cell_type": "code",
   "execution_count": 9,
   "id": "767f160b",
   "metadata": {},
   "outputs": [
    {
     "name": "stdout",
     "output_type": "stream",
     "text": [
      "1.707825127659933\n"
     ]
    }
   ],
   "source": [
    "import numpy as np\n",
    "\n",
    "x = [1, 2, 3, 4, 5, 6]  # совокупность\n",
    "standard_deviation = np.std(x)\n",
    "print(standard_deviation)"
   ]
  },
  {
   "cell_type": "code",
   "execution_count": 10,
   "id": "2dd6cddf",
   "metadata": {},
   "outputs": [
    {
     "name": "stdout",
     "output_type": "stream",
     "text": [
      "1.8708286933869707\n"
     ]
    }
   ],
   "source": [
    "import numpy as np\n",
    "\n",
    "x = [1, 2, 3, 4, 5, 6] # выборка\n",
    "standard_deviation = np.std(x, ddof=1)\n",
    "print (standard_deviation)"
   ]
  },
  {
   "cell_type": "markdown",
   "id": "a6cdfe81",
   "metadata": {},
   "source": [
    "Если дисперсия известна заранее, можно применить метод `sqrt()` (от англ. square root, «квадратный корень») из библиотеки NumPy. Корень из дисперсии будет равен стандартному отклонению:"
   ]
  },
  {
   "cell_type": "code",
   "execution_count": 11,
   "id": "3e5e1f09",
   "metadata": {},
   "outputs": [
    {
     "name": "stdout",
     "output_type": "stream",
     "text": [
      "1.707825127659933\n"
     ]
    }
   ],
   "source": [
    "import numpy as np\n",
    "\n",
    "variance = 2.9166666666666665\n",
    "standard_deviation = np.sqrt(variance)\n",
    "print(standard_deviation)"
   ]
  },
  {
   "cell_type": "markdown",
   "id": "296ff265",
   "metadata": {},
   "source": [
    "# Теория вероятностей"
   ]
  },
  {
   "cell_type": "code",
   "execution_count": 2,
   "id": "3fdbe5cb",
   "metadata": {},
   "outputs": [
    {
     "name": "stdout",
     "output_type": "stream",
     "text": [
      "{2: 1, 3: 2, 4: 3, 5: 4, 6: 5, 7: 6, 8: 5, 9: 4, 10: 3, 11: 2, 12: 1}\n"
     ]
    }
   ],
   "source": [
    "import numpy as np\n",
    "spots = np.array([[2,3,4,5,6,7], # имя переменной spots по-английски значит «пятна»\n",
    "    [3,4,5,6,7,8], \n",
    "    [4,5,6,7,8,9], \n",
    "    [5,6,7,8,9,10], \n",
    "    [6,7,8,9,10,11],\n",
    "    [7,8,9,10,11,12]]) \n",
    "spot_counts = {}\n",
    "\n",
    "for i in range(0, 6):\n",
    "        for j in range(0, 6):\n",
    "                if spots[i][j] not in spot_counts.keys():\n",
    "                        spot_counts[spots[i][j]] = 1\n",
    "                else:\n",
    "                        spot_counts[spots[i][j]] += 1\n",
    "\n",
    "print(spot_counts) "
   ]
  },
  {
   "cell_type": "code",
   "execution_count": 3,
   "id": "56687163",
   "metadata": {
    "scrolled": true
   },
   "outputs": [
    {
     "name": "stdout",
     "output_type": "stream",
     "text": [
      "{2: 0.027777777777777776, 3: 0.05555555555555555, 4: 0.08333333333333333, 5: 0.1111111111111111, 6: 0.1388888888888889, 7: 0.16666666666666666, 8: 0.1388888888888889, 9: 0.1111111111111111, 10: 0.08333333333333333, 11: 0.05555555555555555, 12: 0.027777777777777776}\n"
     ]
    }
   ],
   "source": [
    "spot_probs={k:spot_counts[k]/36 for k in spot_counts}\n",
    "print(spot_probs) "
   ]
  },
  {
   "cell_type": "code",
   "execution_count": 4,
   "id": "1982a5b9",
   "metadata": {
    "scrolled": true
   },
   "outputs": [
    {
     "data": {
      "text/plain": [
       "<AxesSubplot:>"
      ]
     },
     "execution_count": 4,
     "metadata": {},
     "output_type": "execute_result"
    },
    {
     "data": {
      "image/png": "[encoded data removed]",
      "text/plain": [
       "<Figure size 432x288 with 1 Axes>"
      ]
     },
     "metadata": {
      "needs_background": "light"
     },
     "output_type": "display_data"
    }
   ],
   "source": [
    "import pandas as pd\n",
    "\n",
    "x = pd.Series([1, 2, 3, 4, 5, 6, 2, 4, 6, 8, 10, 12, 3, 6, 9, 12, 15, 18, 4, 8, 12, 16, 20, 24, 5, 10, 15, 20, 25, 30, 6, 12, 18, 24, 30, 36])\n",
    "x.hist(density=True, bins=36) "
   ]
  },
  {
   "cell_type": "markdown",
   "id": "4dcf8950",
   "metadata": {},
   "source": [
    "Аргумент *density* со значением *True* нужен для построения гистограммы плотности вероятностей. Количество корзин равно количеству значений — это значит, что по вертикальной оси будут вероятности для каждого значения."
   ]
  },
  {
   "cell_type": "markdown",
   "id": "82473bda",
   "metadata": {},
   "source": [
    "## Математическое ожидание"
   ]
  },
  {
   "cell_type": "code",
   "execution_count": 1,
   "id": "e4f23435",
   "metadata": {},
   "outputs": [
    {
     "name": "stdout",
     "output_type": "stream",
     "text": [
      "7.000000000000001\n"
     ]
    }
   ],
   "source": [
    "x_probs = {\n",
    "        '3': 0.1,\n",
    "        '4': 0.2,\n",
    "        '5' : 0.2,\n",
    "        '7' : 0.3,\n",
    "        '11' : 0.1,\n",
    "        '16' : 0.05,\n",
    "        '18': 0.05    \n",
    "}\n",
    "# E(X): для каждого элемента словаря вычисляем произведение вероятности и значения \n",
    "# случайной величины (целочисленное представление ключа словаря):\n",
    "expectation = sum([int(x_i)*x_probs[x_i] for x_i in x_probs]) \n",
    "print(expectation)"
   ]
  },
  {
   "cell_type": "code",
   "execution_count": 2,
   "id": "49b17202",
   "metadata": {},
   "outputs": [
    {
     "name": "stdout",
     "output_type": "stream",
     "text": [
      "15.899999999999991\n"
     ]
    }
   ],
   "source": [
    "\n",
    "x_probs = {\n",
    "    '3': 0.1,\n",
    "    '4': 0.2,\n",
    "    '5': 0.2,\n",
    "    '7': 0.3,\n",
    "    '11': 0.1,\n",
    "    '16': 0.05,\n",
    "    '18': 0.05\n",
    "}\n",
    "# E(X): для каждого элемента словаря вычисляем произведение вероятности и значения\n",
    "# случайной величины (целочисленное представление ключа словаря):\n",
    "expectation = sum([int(x_i) * x_probs[x_i] for x_i in x_probs])\n",
    "# (E(X))^2\n",
    "square_of_expectation = expectation ** 2\n",
    "# E(X^2)\n",
    "expectation_of_squares = sum(\n",
    "    [int(x_i) * int(x_i) * x_probs[x_i] for x_i in x_probs]\n",
    ")\n",
    "variance = expectation_of_squares - square_of_expectation\n",
    "print(variance)"
   ]
  },
  {
   "cell_type": "code",
   "execution_count": 5,
   "id": "19a13b49",
   "metadata": {
    "scrolled": true
   },
   "outputs": [
    {
     "data": {
      "text/plain": [
       "<BarContainer object of 6 artists>"
      ]
     },
     "execution_count": 5,
     "metadata": {},
     "output_type": "execute_result"
    },
    {
     "data": {
      "image/png": "[encoded data removed]",
      "text/plain": [
       "<Figure size 432x288 with 1 Axes>"
      ]
     },
     "metadata": {
      "needs_background": "light"
     },
     "output_type": "display_data"
    }
   ],
   "source": [
    "from matplotlib import pyplot as plt\n",
    "from math import factorial\n",
    "\n",
    "n = 5\n",
    "p = 0.5\n",
    "\n",
    "distr = []\n",
    "\n",
    "for k in range(0, n + 1):\n",
    "    choose = factorial(n) / (factorial(k) * factorial(n - k))\n",
    "    prob = choose * p ** k * (1 - p) ** (n - k)\n",
    "    distr.append(prob)\n",
    "\n",
    "plt.bar(range(0, n + 1), distr)"
   ]
  },
  {
   "cell_type": "code",
   "execution_count": 9,
   "id": "97b2750a",
   "metadata": {},
   "outputs": [
    {
     "name": "stdout",
     "output_type": "stream",
     "text": [
      "364.0\n"
     ]
    }
   ],
   "source": [
    "from math import factorial\n",
    "\n",
    "c = factorial(14) / (factorial(3) * factorial(11))\n",
    "print(c)"
   ]
  },
  {
   "cell_type": "code",
   "execution_count": 6,
   "id": "954ebfa2",
   "metadata": {
    "scrolled": true
   },
   "outputs": [
    {
     "data": {
      "text/plain": [
       "<BarContainer object of 26 artists>"
      ]
     },
     "execution_count": 6,
     "metadata": {},
     "output_type": "execute_result"
    },
    {
     "data": {
      "image/png": "[encoded data removed]",
      "text/plain": [
       "<Figure size 432x288 with 1 Axes>"
      ]
     },
     "metadata": {
      "needs_background": "light"
     },
     "output_type": "display_data"
    }
   ],
   "source": [
    "from matplotlib import pyplot as plt\n",
    "from math import factorial\n",
    "\n",
    "n = 25\n",
    "p = 0.5\n",
    "\n",
    "distr = []\n",
    "\n",
    "for k in range(0, n + 1):\n",
    "    choose = factorial(n) / (factorial(k) * factorial(n - k))\n",
    "    prob = choose * p ** k * (1 - p) ** (n - k)\n",
    "    distr.append(prob)\n",
    "\n",
    "plt.bar(range(0, n + 1), distr)"
   ]
  },
  {
   "cell_type": "code",
   "execution_count": 8,
   "id": "096b7fe9",
   "metadata": {
    "scrolled": true
   },
   "outputs": [
    {
     "data": {
      "text/plain": [
       "<BarContainer object of 31 artists>"
      ]
     },
     "execution_count": 8,
     "metadata": {},
     "output_type": "execute_result"
    },
    {
     "data": {
      "image/png": "[encoded data removed]",
      "text/plain": [
       "<Figure size 432x288 with 1 Axes>"
      ]
     },
     "metadata": {
      "needs_background": "light"
     },
     "output_type": "display_data"
    }
   ],
   "source": [
    "from matplotlib import pyplot as plt\n",
    "from math import factorial\n",
    "\n",
    "n = 30\n",
    "p = 0.07\n",
    "\n",
    "distr = []\n",
    "\n",
    "for k in range(0, n + 1):\n",
    "    choose = factorial(n) / (factorial(k) * factorial(n - k))\n",
    "    prob = choose * p ** k * (1 - p) ** (n - k)\n",
    "    distr.append(prob)\n",
    "\n",
    "plt.bar(range(0, n + 1), distr)"
   ]
  },
  {
   "cell_type": "markdown",
   "id": "56cd5441",
   "metadata": {},
   "source": [
    "## Нормальное распределение"
   ]
  },
  {
   "cell_type": "code",
   "execution_count": 10,
   "id": "e4791c1b",
   "metadata": {},
   "outputs": [
    {
     "name": "stdout",
     "output_type": "stream",
     "text": [
      "0.5\n"
     ]
    }
   ],
   "source": [
    "from scipy import stats as st\n",
    "\n",
    "# задаём нормальное распределение с математическим ожиданием 1000 \n",
    "# и стандартным отклонением 100\n",
    "distr = st.norm(1000, 100) \n",
    "\n",
    "x = 1000\n",
    "\n",
    "result = distr.cdf(x) # считаем вероятность получить значение x \n",
    "print(result)"
   ]
  },
  {
   "cell_type": "markdown",
   "id": "743a2d55",
   "metadata": {},
   "source": [
    "### найти вероятность попасть между значениями"
   ]
  },
  {
   "cell_type": "code",
   "execution_count": 11,
   "id": "73c0370e",
   "metadata": {},
   "outputs": [
    {
     "name": "stdout",
     "output_type": "stream",
     "text": [
      "0.6826894921370859\n"
     ]
    }
   ],
   "source": [
    "from scipy import stats as st\n",
    "\n",
    "distr = st.norm(1000, 100) \n",
    "\n",
    "x1 = 900\n",
    "x2 = 1100\n",
    "\n",
    "result = distr.cdf(x2) - distr.cdf(x1)\n",
    "print(result)#"
   ]
  },
  {
   "cell_type": "markdown",
   "id": "4a98404e",
   "metadata": {},
   "source": [
    "### значение по вероятности"
   ]
  },
  {
   "cell_type": "code",
   "execution_count": 12,
   "id": "d515e5f5",
   "metadata": {},
   "outputs": [
    {
     "name": "stdout",
     "output_type": "stream",
     "text": [
      "1099.999999971673\n"
     ]
    }
   ],
   "source": [
    "from scipy import stats as st\n",
    "\n",
    "distr = st.norm(1000, 100) \n",
    "\n",
    "p1 = 0.841344746\n",
    "\n",
    "result = distr.ppf(p1)\n",
    "print(result)"
   ]
  },
  {
   "cell_type": "markdown",
   "id": "a0c3855e",
   "metadata": {},
   "source": [
    "# Калькулятор"
   ]
  },
  {
   "cell_type": "code",
   "execution_count": 3,
   "id": "80886b66",
   "metadata": {},
   "outputs": [],
   "source": [
    "p=0.75\n",
    "q=1-p"
   ]
  },
  {
   "cell_type": "code",
   "execution_count": 4,
   "id": "bea84e94",
   "metadata": {},
   "outputs": [
    {
     "data": {
      "text/plain": [
       "0.0625"
      ]
     },
     "execution_count": 4,
     "metadata": {},
     "output_type": "execute_result"
    }
   ],
   "source": [
    "q*q"
   ]
  },
  {
   "cell_type": "code",
   "execution_count": null,
   "id": "a9342c9b",
   "metadata": {},
   "outputs": [],
   "source": []
  }
 ],
 "metadata": {
  "kernelspec": {
   "display_name": "Python 3 (ipykernel)",
   "language": "python",
   "name": "python3"
  },
  "language_info": {
   "codemirror_mode": {
    "name": "ipython",
    "version": 3
   },
   "file_extension": ".py",
   "mimetype": "text/x-python",
   "name": "python",
   "nbconvert_exporter": "python",
   "pygments_lexer": "ipython3",
   "version": "3.9.12"
  }
 },
 "nbformat": 4,
 "nbformat_minor": 5
}
