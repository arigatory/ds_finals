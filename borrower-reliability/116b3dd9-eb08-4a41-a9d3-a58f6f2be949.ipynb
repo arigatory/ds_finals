{
 "cells": [
  {
   "cell_type": "markdown",
   "id": "28d4228a",
   "metadata": {},
   "source": [
    "<div class=\"alert alert-success\">\n",
    "<b> Комментарий от ревьюера 2 ✔️</b>\n",
    "\n",
    "Привет еще раз. Оформление комментариев по работе сохраняется. Только обозначим, что это вторая итерация. \n",
    "\n",
    "</div>"
   ]
  },
  {
   "cell_type": "markdown",
   "id": "88d46844",
   "metadata": {},
   "source": [
    "<b>Комментарий от ревьюера</b>\n",
    "\n",
    "Привет! Меня зовут Ярослав Кальманов, я буду делать ревью твоего проекта. Давай будем общаться на «ты».\n",
    "\n",
    "Мои комментарии будут в ячейках \"Комментарий от ревьюера\".\n",
    "\n",
    "<div class=\"alert alert-danger\"> \n",
    "\n",
    "<b> Комментарий от ревьюера ❗</b>\n",
    "\n",
    "Красным цветом обозначены комментарии, на которые тебе нужно обратить внимание в первую очередь, чтобы я принял проект. \n",
    "</div>\n",
    "<div class=\"alert alert-warning\">\n",
    "\n",
    "<b> Комментарий от ревьюера ⚠️</b>\n",
    "\n",
    "Желтым цветом отмечено то, что ты можешь сделать немного по-другому. Ты можешь учесть эти комментарии при выполнении следующих проектов.\n",
    "</div>\n",
    "<div class=\"alert alert-success\">\n",
    "\n",
    "<b> Комментарий от ревьюера ✔️</b>\n",
    "\n",
    "Зелёным цветом обозначены твои удачные решения, которые ты без сомнения можешь применять в будущих проектах.  \n",
    "</div>\n",
    "\n",
    "Если ты вносишь изменения в проект по моим рекомендациям, указывай, пожалуйста, это в своих комментариях. Будет удобно, если обозначишь свои комментарии заметным цветом или поместишь \n",
    "\n",
    "<div class=\"alert alert-info\">\n",
    "    \n",
    "в такую ячейку\n",
    "</div>\n",
    "\n",
    "Давай при работе с проектом мы будем общаться с тобой в диалоге, поэтому не удаляй и не перемещай мои комментарии, это поможет мне сделать повторную  проверку проекта быстрее.\n",
    "___"
   ]
  },
  {
   "cell_type": "markdown",
   "id": "a917ba26",
   "metadata": {
    "deletable": false,
    "editable": false,
    "id": "c81daeeb"
   },
   "source": [
    "# Исследование надежности заемщиков\n"
   ]
  },
  {
   "cell_type": "markdown",
   "id": "531c9b26",
   "metadata": {
    "deletable": false,
    "editable": false,
    "id": "827c20bf"
   },
   "source": [
    "Во второй части проекта вы выполните шаги 3 и 4. Их вручную проверит ревьюер.\n",
    "Чтобы вам не пришлось писать код заново для шагов 1 и 2, мы добавили авторские решения в ячейки с кодом. \n",
    "\n"
   ]
  },
  {
   "cell_type": "markdown",
   "id": "cb3d8e7e",
   "metadata": {
    "deletable": false,
    "editable": false,
    "id": "744d7639"
   },
   "source": [
    "## Откройте таблицу и изучите общую информацию о данных"
   ]
  },
  {
   "cell_type": "markdown",
   "id": "35f323d4",
   "metadata": {
    "deletable": false,
    "editable": false,
    "id": "e7a14c31"
   },
   "source": [
    "**Задание 1. Импортируйте библиотеку pandas. Считайте данные из csv-файла в датафрейм и сохраните в переменную `data`. Путь к файлу:**\n",
    "\n",
    "`/datasets/data.csv`"
   ]
  },
  {
   "cell_type": "code",
   "execution_count": 1,
   "id": "e35f875b",
   "metadata": {
    "deletable": false,
    "id": "7bcf75c9"
   },
   "outputs": [],
   "source": [
    "import pandas as pd\n",
    "import seaborn as sns\n",
    "from matplotlib import pyplot as plt\n",
    "\n",
    "try:\n",
    "    data = pd.read_csv('/datasets/data.csv')\n",
    "except:\n",
    "    data = pd.read_csv('https://code.s3.yandex.net/datasets/data.csv')"
   ]
  },
  {
   "cell_type": "markdown",
   "id": "f283698b",
   "metadata": {
    "deletable": false,
    "editable": false,
    "id": "b8038fe3"
   },
   "source": [
    "**Задание 2. Выведите первые 20 строчек датафрейма `data` на экран.**"
   ]
  },
  {
   "cell_type": "code",
   "execution_count": 2,
   "id": "bb063849",
   "metadata": {
    "deletable": false,
    "id": "2a7cab99",
    "outputId": "1a8f3ef2-d323-4ec2-ddf7-89670b5944c4"
   },
   "outputs": [
    {
     "data": {
      "text/html": [
       "<div>\n",
       "<style scoped>\n",
       "    .dataframe tbody tr th:only-of-type {\n",
       "        vertical-align: middle;\n",
       "    }\n",
       "\n",
       "    .dataframe tbody tr th {\n",
       "        vertical-align: top;\n",
       "    }\n",
       "\n",
       "    .dataframe thead th {\n",
       "        text-align: right;\n",
       "    }\n",
       "</style>\n",
       "<table border=\"1\" class=\"dataframe\">\n",
       "  <thead>\n",
       "    <tr style=\"text-align: right;\">\n",
       "      <th></th>\n",
       "      <th>children</th>\n",
       "      <th>days_employed</th>\n",
       "      <th>dob_years</th>\n",
       "      <th>education</th>\n",
       "      <th>education_id</th>\n",
       "      <th>family_status</th>\n",
       "      <th>family_status_id</th>\n",
       "      <th>gender</th>\n",
       "      <th>income_type</th>\n",
       "      <th>debt</th>\n",
       "      <th>total_income</th>\n",
       "      <th>purpose</th>\n",
       "    </tr>\n",
       "  </thead>\n",
       "  <tbody>\n",
       "    <tr>\n",
       "      <th>0</th>\n",
       "      <td>1</td>\n",
       "      <td>-8437.673028</td>\n",
       "      <td>42</td>\n",
       "      <td>высшее</td>\n",
       "      <td>0</td>\n",
       "      <td>женат / замужем</td>\n",
       "      <td>0</td>\n",
       "      <td>F</td>\n",
       "      <td>сотрудник</td>\n",
       "      <td>0</td>\n",
       "      <td>253875.639453</td>\n",
       "      <td>покупка жилья</td>\n",
       "    </tr>\n",
       "    <tr>\n",
       "      <th>1</th>\n",
       "      <td>1</td>\n",
       "      <td>-4024.803754</td>\n",
       "      <td>36</td>\n",
       "      <td>среднее</td>\n",
       "      <td>1</td>\n",
       "      <td>женат / замужем</td>\n",
       "      <td>0</td>\n",
       "      <td>F</td>\n",
       "      <td>сотрудник</td>\n",
       "      <td>0</td>\n",
       "      <td>112080.014102</td>\n",
       "      <td>приобретение автомобиля</td>\n",
       "    </tr>\n",
       "    <tr>\n",
       "      <th>2</th>\n",
       "      <td>0</td>\n",
       "      <td>-5623.422610</td>\n",
       "      <td>33</td>\n",
       "      <td>Среднее</td>\n",
       "      <td>1</td>\n",
       "      <td>женат / замужем</td>\n",
       "      <td>0</td>\n",
       "      <td>M</td>\n",
       "      <td>сотрудник</td>\n",
       "      <td>0</td>\n",
       "      <td>145885.952297</td>\n",
       "      <td>покупка жилья</td>\n",
       "    </tr>\n",
       "    <tr>\n",
       "      <th>3</th>\n",
       "      <td>3</td>\n",
       "      <td>-4124.747207</td>\n",
       "      <td>32</td>\n",
       "      <td>среднее</td>\n",
       "      <td>1</td>\n",
       "      <td>женат / замужем</td>\n",
       "      <td>0</td>\n",
       "      <td>M</td>\n",
       "      <td>сотрудник</td>\n",
       "      <td>0</td>\n",
       "      <td>267628.550329</td>\n",
       "      <td>дополнительное образование</td>\n",
       "    </tr>\n",
       "    <tr>\n",
       "      <th>4</th>\n",
       "      <td>0</td>\n",
       "      <td>340266.072047</td>\n",
       "      <td>53</td>\n",
       "      <td>среднее</td>\n",
       "      <td>1</td>\n",
       "      <td>гражданский брак</td>\n",
       "      <td>1</td>\n",
       "      <td>F</td>\n",
       "      <td>пенсионер</td>\n",
       "      <td>0</td>\n",
       "      <td>158616.077870</td>\n",
       "      <td>сыграть свадьбу</td>\n",
       "    </tr>\n",
       "    <tr>\n",
       "      <th>5</th>\n",
       "      <td>0</td>\n",
       "      <td>-926.185831</td>\n",
       "      <td>27</td>\n",
       "      <td>высшее</td>\n",
       "      <td>0</td>\n",
       "      <td>гражданский брак</td>\n",
       "      <td>1</td>\n",
       "      <td>M</td>\n",
       "      <td>компаньон</td>\n",
       "      <td>0</td>\n",
       "      <td>255763.565419</td>\n",
       "      <td>покупка жилья</td>\n",
       "    </tr>\n",
       "    <tr>\n",
       "      <th>6</th>\n",
       "      <td>0</td>\n",
       "      <td>-2879.202052</td>\n",
       "      <td>43</td>\n",
       "      <td>высшее</td>\n",
       "      <td>0</td>\n",
       "      <td>женат / замужем</td>\n",
       "      <td>0</td>\n",
       "      <td>F</td>\n",
       "      <td>компаньон</td>\n",
       "      <td>0</td>\n",
       "      <td>240525.971920</td>\n",
       "      <td>операции с жильем</td>\n",
       "    </tr>\n",
       "    <tr>\n",
       "      <th>7</th>\n",
       "      <td>0</td>\n",
       "      <td>-152.779569</td>\n",
       "      <td>50</td>\n",
       "      <td>СРЕДНЕЕ</td>\n",
       "      <td>1</td>\n",
       "      <td>женат / замужем</td>\n",
       "      <td>0</td>\n",
       "      <td>M</td>\n",
       "      <td>сотрудник</td>\n",
       "      <td>0</td>\n",
       "      <td>135823.934197</td>\n",
       "      <td>образование</td>\n",
       "    </tr>\n",
       "    <tr>\n",
       "      <th>8</th>\n",
       "      <td>2</td>\n",
       "      <td>-6929.865299</td>\n",
       "      <td>35</td>\n",
       "      <td>ВЫСШЕЕ</td>\n",
       "      <td>0</td>\n",
       "      <td>гражданский брак</td>\n",
       "      <td>1</td>\n",
       "      <td>F</td>\n",
       "      <td>сотрудник</td>\n",
       "      <td>0</td>\n",
       "      <td>95856.832424</td>\n",
       "      <td>на проведение свадьбы</td>\n",
       "    </tr>\n",
       "    <tr>\n",
       "      <th>9</th>\n",
       "      <td>0</td>\n",
       "      <td>-2188.756445</td>\n",
       "      <td>41</td>\n",
       "      <td>среднее</td>\n",
       "      <td>1</td>\n",
       "      <td>женат / замужем</td>\n",
       "      <td>0</td>\n",
       "      <td>M</td>\n",
       "      <td>сотрудник</td>\n",
       "      <td>0</td>\n",
       "      <td>144425.938277</td>\n",
       "      <td>покупка жилья для семьи</td>\n",
       "    </tr>\n",
       "    <tr>\n",
       "      <th>10</th>\n",
       "      <td>2</td>\n",
       "      <td>-4171.483647</td>\n",
       "      <td>36</td>\n",
       "      <td>высшее</td>\n",
       "      <td>0</td>\n",
       "      <td>женат / замужем</td>\n",
       "      <td>0</td>\n",
       "      <td>M</td>\n",
       "      <td>компаньон</td>\n",
       "      <td>0</td>\n",
       "      <td>113943.491460</td>\n",
       "      <td>покупка недвижимости</td>\n",
       "    </tr>\n",
       "    <tr>\n",
       "      <th>11</th>\n",
       "      <td>0</td>\n",
       "      <td>-792.701887</td>\n",
       "      <td>40</td>\n",
       "      <td>среднее</td>\n",
       "      <td>1</td>\n",
       "      <td>женат / замужем</td>\n",
       "      <td>0</td>\n",
       "      <td>F</td>\n",
       "      <td>сотрудник</td>\n",
       "      <td>0</td>\n",
       "      <td>77069.234271</td>\n",
       "      <td>покупка коммерческой недвижимости</td>\n",
       "    </tr>\n",
       "    <tr>\n",
       "      <th>12</th>\n",
       "      <td>0</td>\n",
       "      <td>NaN</td>\n",
       "      <td>65</td>\n",
       "      <td>среднее</td>\n",
       "      <td>1</td>\n",
       "      <td>гражданский брак</td>\n",
       "      <td>1</td>\n",
       "      <td>M</td>\n",
       "      <td>пенсионер</td>\n",
       "      <td>0</td>\n",
       "      <td>NaN</td>\n",
       "      <td>сыграть свадьбу</td>\n",
       "    </tr>\n",
       "    <tr>\n",
       "      <th>13</th>\n",
       "      <td>0</td>\n",
       "      <td>-1846.641941</td>\n",
       "      <td>54</td>\n",
       "      <td>неоконченное высшее</td>\n",
       "      <td>2</td>\n",
       "      <td>женат / замужем</td>\n",
       "      <td>0</td>\n",
       "      <td>F</td>\n",
       "      <td>сотрудник</td>\n",
       "      <td>0</td>\n",
       "      <td>130458.228857</td>\n",
       "      <td>приобретение автомобиля</td>\n",
       "    </tr>\n",
       "    <tr>\n",
       "      <th>14</th>\n",
       "      <td>0</td>\n",
       "      <td>-1844.956182</td>\n",
       "      <td>56</td>\n",
       "      <td>высшее</td>\n",
       "      <td>0</td>\n",
       "      <td>гражданский брак</td>\n",
       "      <td>1</td>\n",
       "      <td>F</td>\n",
       "      <td>компаньон</td>\n",
       "      <td>1</td>\n",
       "      <td>165127.911772</td>\n",
       "      <td>покупка жилой недвижимости</td>\n",
       "    </tr>\n",
       "    <tr>\n",
       "      <th>15</th>\n",
       "      <td>1</td>\n",
       "      <td>-972.364419</td>\n",
       "      <td>26</td>\n",
       "      <td>среднее</td>\n",
       "      <td>1</td>\n",
       "      <td>женат / замужем</td>\n",
       "      <td>0</td>\n",
       "      <td>F</td>\n",
       "      <td>сотрудник</td>\n",
       "      <td>0</td>\n",
       "      <td>116820.904450</td>\n",
       "      <td>строительство собственной недвижимости</td>\n",
       "    </tr>\n",
       "    <tr>\n",
       "      <th>16</th>\n",
       "      <td>0</td>\n",
       "      <td>-1719.934226</td>\n",
       "      <td>35</td>\n",
       "      <td>среднее</td>\n",
       "      <td>1</td>\n",
       "      <td>женат / замужем</td>\n",
       "      <td>0</td>\n",
       "      <td>F</td>\n",
       "      <td>сотрудник</td>\n",
       "      <td>0</td>\n",
       "      <td>289202.704229</td>\n",
       "      <td>недвижимость</td>\n",
       "    </tr>\n",
       "    <tr>\n",
       "      <th>17</th>\n",
       "      <td>0</td>\n",
       "      <td>-2369.999720</td>\n",
       "      <td>33</td>\n",
       "      <td>высшее</td>\n",
       "      <td>0</td>\n",
       "      <td>гражданский брак</td>\n",
       "      <td>1</td>\n",
       "      <td>M</td>\n",
       "      <td>сотрудник</td>\n",
       "      <td>0</td>\n",
       "      <td>90410.586745</td>\n",
       "      <td>строительство недвижимости</td>\n",
       "    </tr>\n",
       "    <tr>\n",
       "      <th>18</th>\n",
       "      <td>0</td>\n",
       "      <td>400281.136913</td>\n",
       "      <td>53</td>\n",
       "      <td>среднее</td>\n",
       "      <td>1</td>\n",
       "      <td>вдовец / вдова</td>\n",
       "      <td>2</td>\n",
       "      <td>F</td>\n",
       "      <td>пенсионер</td>\n",
       "      <td>0</td>\n",
       "      <td>56823.777243</td>\n",
       "      <td>на покупку подержанного автомобиля</td>\n",
       "    </tr>\n",
       "    <tr>\n",
       "      <th>19</th>\n",
       "      <td>0</td>\n",
       "      <td>-10038.818549</td>\n",
       "      <td>48</td>\n",
       "      <td>СРЕДНЕЕ</td>\n",
       "      <td>1</td>\n",
       "      <td>в разводе</td>\n",
       "      <td>3</td>\n",
       "      <td>F</td>\n",
       "      <td>сотрудник</td>\n",
       "      <td>0</td>\n",
       "      <td>242831.107982</td>\n",
       "      <td>на покупку своего автомобиля</td>\n",
       "    </tr>\n",
       "  </tbody>\n",
       "</table>\n",
       "</div>"
      ],
      "text/plain": [
       "    children  days_employed  dob_years            education  education_id  \\\n",
       "0          1   -8437.673028         42               высшее             0   \n",
       "1          1   -4024.803754         36              среднее             1   \n",
       "2          0   -5623.422610         33              Среднее             1   \n",
       "3          3   -4124.747207         32              среднее             1   \n",
       "4          0  340266.072047         53              среднее             1   \n",
       "5          0    -926.185831         27               высшее             0   \n",
       "6          0   -2879.202052         43               высшее             0   \n",
       "7          0    -152.779569         50              СРЕДНЕЕ             1   \n",
       "8          2   -6929.865299         35               ВЫСШЕЕ             0   \n",
       "9          0   -2188.756445         41              среднее             1   \n",
       "10         2   -4171.483647         36               высшее             0   \n",
       "11         0    -792.701887         40              среднее             1   \n",
       "12         0            NaN         65              среднее             1   \n",
       "13         0   -1846.641941         54  неоконченное высшее             2   \n",
       "14         0   -1844.956182         56               высшее             0   \n",
       "15         1    -972.364419         26              среднее             1   \n",
       "16         0   -1719.934226         35              среднее             1   \n",
       "17         0   -2369.999720         33               высшее             0   \n",
       "18         0  400281.136913         53              среднее             1   \n",
       "19         0  -10038.818549         48              СРЕДНЕЕ             1   \n",
       "\n",
       "       family_status  family_status_id gender income_type  debt  \\\n",
       "0    женат / замужем                 0      F   сотрудник     0   \n",
       "1    женат / замужем                 0      F   сотрудник     0   \n",
       "2    женат / замужем                 0      M   сотрудник     0   \n",
       "3    женат / замужем                 0      M   сотрудник     0   \n",
       "4   гражданский брак                 1      F   пенсионер     0   \n",
       "5   гражданский брак                 1      M   компаньон     0   \n",
       "6    женат / замужем                 0      F   компаньон     0   \n",
       "7    женат / замужем                 0      M   сотрудник     0   \n",
       "8   гражданский брак                 1      F   сотрудник     0   \n",
       "9    женат / замужем                 0      M   сотрудник     0   \n",
       "10   женат / замужем                 0      M   компаньон     0   \n",
       "11   женат / замужем                 0      F   сотрудник     0   \n",
       "12  гражданский брак                 1      M   пенсионер     0   \n",
       "13   женат / замужем                 0      F   сотрудник     0   \n",
       "14  гражданский брак                 1      F   компаньон     1   \n",
       "15   женат / замужем                 0      F   сотрудник     0   \n",
       "16   женат / замужем                 0      F   сотрудник     0   \n",
       "17  гражданский брак                 1      M   сотрудник     0   \n",
       "18    вдовец / вдова                 2      F   пенсионер     0   \n",
       "19         в разводе                 3      F   сотрудник     0   \n",
       "\n",
       "     total_income                                 purpose  \n",
       "0   253875.639453                           покупка жилья  \n",
       "1   112080.014102                 приобретение автомобиля  \n",
       "2   145885.952297                           покупка жилья  \n",
       "3   267628.550329              дополнительное образование  \n",
       "4   158616.077870                         сыграть свадьбу  \n",
       "5   255763.565419                           покупка жилья  \n",
       "6   240525.971920                       операции с жильем  \n",
       "7   135823.934197                             образование  \n",
       "8    95856.832424                   на проведение свадьбы  \n",
       "9   144425.938277                 покупка жилья для семьи  \n",
       "10  113943.491460                    покупка недвижимости  \n",
       "11   77069.234271       покупка коммерческой недвижимости  \n",
       "12            NaN                         сыграть свадьбу  \n",
       "13  130458.228857                 приобретение автомобиля  \n",
       "14  165127.911772              покупка жилой недвижимости  \n",
       "15  116820.904450  строительство собственной недвижимости  \n",
       "16  289202.704229                            недвижимость  \n",
       "17   90410.586745              строительство недвижимости  \n",
       "18   56823.777243      на покупку подержанного автомобиля  \n",
       "19  242831.107982            на покупку своего автомобиля  "
      ]
     },
     "execution_count": 2,
     "metadata": {},
     "output_type": "execute_result"
    }
   ],
   "source": [
    "data.head(20)"
   ]
  },
  {
   "cell_type": "markdown",
   "id": "2a8e8b6c",
   "metadata": {
    "deletable": false,
    "editable": false,
    "id": "1c12e233"
   },
   "source": [
    "**Задание 3. Выведите основную информацию о датафрейме с помощью метода `info()`.**"
   ]
  },
  {
   "cell_type": "code",
   "execution_count": 3,
   "id": "1db96471",
   "metadata": {
    "deletable": false,
    "id": "2b757bca",
    "outputId": "15376089-8dad-46c9-b520-c05248d43158"
   },
   "outputs": [
    {
     "name": "stdout",
     "output_type": "stream",
     "text": [
      "<class 'pandas.core.frame.DataFrame'>\n",
      "RangeIndex: 21525 entries, 0 to 21524\n",
      "Data columns (total 12 columns):\n",
      " #   Column            Non-Null Count  Dtype  \n",
      "---  ------            --------------  -----  \n",
      " 0   children          21525 non-null  int64  \n",
      " 1   days_employed     19351 non-null  float64\n",
      " 2   dob_years         21525 non-null  int64  \n",
      " 3   education         21525 non-null  object \n",
      " 4   education_id      21525 non-null  int64  \n",
      " 5   family_status     21525 non-null  object \n",
      " 6   family_status_id  21525 non-null  int64  \n",
      " 7   gender            21525 non-null  object \n",
      " 8   income_type       21525 non-null  object \n",
      " 9   debt              21525 non-null  int64  \n",
      " 10  total_income      19351 non-null  float64\n",
      " 11  purpose           21525 non-null  object \n",
      "dtypes: float64(2), int64(5), object(5)\n",
      "memory usage: 2.0+ MB\n"
     ]
    }
   ],
   "source": [
    "data.info()"
   ]
  },
  {
   "cell_type": "markdown",
   "id": "e50726c6",
   "metadata": {
    "deletable": false,
    "editable": false,
    "id": "333ec665"
   },
   "source": [
    "## Предобработка данных"
   ]
  },
  {
   "cell_type": "markdown",
   "id": "462efd7f",
   "metadata": {
    "deletable": false,
    "editable": false,
    "id": "02d92d53"
   },
   "source": [
    "### Удаление пропусков"
   ]
  },
  {
   "cell_type": "markdown",
   "id": "4a0d7124",
   "metadata": {
    "deletable": false,
    "editable": false,
    "id": "cd84967c"
   },
   "source": [
    "**Задание 4. Выведите количество пропущенных значений для каждого столбца. Используйте комбинацию двух методов.**"
   ]
  },
  {
   "cell_type": "code",
   "execution_count": 4,
   "id": "9427190e",
   "metadata": {
    "deletable": false,
    "id": "7f9b2309",
    "outputId": "81f4d817-781c-465c-ed15-91ce4446810d"
   },
   "outputs": [
    {
     "data": {
      "text/plain": [
       "children               0\n",
       "days_employed       2174\n",
       "dob_years              0\n",
       "education              0\n",
       "education_id           0\n",
       "family_status          0\n",
       "family_status_id       0\n",
       "gender                 0\n",
       "income_type            0\n",
       "debt                   0\n",
       "total_income        2174\n",
       "purpose                0\n",
       "dtype: int64"
      ]
     },
     "execution_count": 4,
     "metadata": {},
     "output_type": "execute_result"
    }
   ],
   "source": [
    "data.isna().sum()"
   ]
  },
  {
   "cell_type": "markdown",
   "id": "82008d55",
   "metadata": {
    "deletable": false,
    "editable": false,
    "id": "db86e27b"
   },
   "source": [
    "**Задание 5. В двух столбцах есть пропущенные значения. Один из них — `days_employed`. Пропуски в этом столбце вы обработаете на следующем этапе. Другой столбец с пропущенными значениями — `total_income` — хранит данные о доходах. На сумму дохода сильнее всего влияет тип занятости, поэтому заполнить пропуски в этом столбце нужно медианным значением по каждому типу из столбца `income_type`. Например, у человека с типом занятости `сотрудник` пропуск в столбце `total_income` должен быть заполнен медианным доходом среди всех записей с тем же типом.**"
   ]
  },
  {
   "cell_type": "code",
   "execution_count": 5,
   "id": "95bc679b",
   "metadata": {
    "deletable": false,
    "id": "42006a93"
   },
   "outputs": [],
   "source": [
    "for t in data['income_type'].unique():\n",
    "    data.loc[(data['income_type'] == t) & (data['total_income'].isna()), 'total_income'] = \\\n",
    "    data.loc[(data['income_type'] == t), 'total_income'].median()"
   ]
  },
  {
   "cell_type": "markdown",
   "id": "6fa0465b",
   "metadata": {
    "deletable": false,
    "editable": false,
    "id": "89da5ece"
   },
   "source": [
    "### Обработка аномальных значений"
   ]
  },
  {
   "cell_type": "markdown",
   "id": "99db5671",
   "metadata": {
    "deletable": false,
    "editable": false,
    "id": "57964554"
   },
   "source": [
    "**Задание 6. В данных могут встречаться артефакты (аномалии) — значения, которые не отражают действительность и появились по какой-то ошибке. таким артефактом будет отрицательное количество дней трудового стажа в столбце `days_employed`. Для реальных данных это нормально. Обработайте значения в этом столбце: замените все отрицательные значения положительными с помощью метода `abs()`.**"
   ]
  },
  {
   "cell_type": "code",
   "execution_count": 6,
   "id": "bbddfe18",
   "metadata": {
    "deletable": false,
    "id": "f6f055bf"
   },
   "outputs": [],
   "source": [
    "data['days_employed'] = data['days_employed'].abs()"
   ]
  },
  {
   "cell_type": "markdown",
   "id": "38ba3315",
   "metadata": {
    "deletable": false,
    "editable": false,
    "id": "6107dd2f"
   },
   "source": [
    "**Задание 7. Для каждого типа занятости выведите медианное значение трудового стажа `days_employed` в днях.**"
   ]
  },
  {
   "cell_type": "code",
   "execution_count": 7,
   "id": "50b20c08",
   "metadata": {
    "deletable": false,
    "id": "85a5faf6",
    "outputId": "801ef80e-522b-4668-f34e-565af7432bcf"
   },
   "outputs": [
    {
     "data": {
      "text/plain": [
       "income_type\n",
       "безработный        366413.652744\n",
       "в декрете            3296.759962\n",
       "госслужащий          2689.368353\n",
       "компаньон            1547.382223\n",
       "пенсионер          365213.306266\n",
       "предприниматель       520.848083\n",
       "сотрудник            1574.202821\n",
       "студент               578.751554\n",
       "Name: days_employed, dtype: float64"
      ]
     },
     "execution_count": 7,
     "metadata": {},
     "output_type": "execute_result"
    }
   ],
   "source": [
    "data.groupby('income_type')['days_employed'].agg('median')"
   ]
  },
  {
   "cell_type": "markdown",
   "id": "92a517d9",
   "metadata": {
    "deletable": false,
    "editable": false,
    "id": "38d1a030"
   },
   "source": [
    "У двух типов (безработные и пенсионеры) получатся аномально большие значения. Исправить такие значения сложно, поэтому оставьте их как есть. Тем более этот столбец не понадобится вам для исследования."
   ]
  },
  {
   "cell_type": "markdown",
   "id": "4613e2bf",
   "metadata": {
    "deletable": false,
    "editable": false,
    "id": "d8a9f147"
   },
   "source": [
    "**Задание 8. Выведите перечень уникальных значений столбца `children`.**"
   ]
  },
  {
   "cell_type": "code",
   "execution_count": 8,
   "id": "b026d24f",
   "metadata": {
    "deletable": false,
    "id": "ef5056eb",
    "outputId": "6975b15c-7f95-4697-d16d-a0c79b657b03"
   },
   "outputs": [
    {
     "data": {
      "text/plain": [
       "array([ 1,  0,  3,  2, -1,  4, 20,  5])"
      ]
     },
     "execution_count": 8,
     "metadata": {},
     "output_type": "execute_result"
    }
   ],
   "source": [
    "data['children'].unique()"
   ]
  },
  {
   "cell_type": "markdown",
   "id": "249e5bfa",
   "metadata": {
    "deletable": false,
    "editable": false,
    "id": "40b9ebf2"
   },
   "source": [
    "**Задание 9. В столбце `children` есть два аномальных значения. Удалите строки, в которых встречаются такие аномальные значения из датафрейма `data`.**"
   ]
  },
  {
   "cell_type": "code",
   "execution_count": 9,
   "id": "7ebdec23",
   "metadata": {
    "deletable": false,
    "id": "3ff9801d"
   },
   "outputs": [],
   "source": [
    "data = data[(data['children'] != -1) & (data['children'] != 20)]"
   ]
  },
  {
   "cell_type": "markdown",
   "id": "14682b35",
   "metadata": {
    "deletable": false,
    "editable": false,
    "id": "bbc4d0ce"
   },
   "source": [
    "**Задание 10. Ещё раз выведите перечень уникальных значений столбца `children`, чтобы убедиться, что артефакты удалены.**"
   ]
  },
  {
   "cell_type": "code",
   "execution_count": 10,
   "id": "0a70014d",
   "metadata": {
    "deletable": false,
    "id": "ad4fa8b7",
    "outputId": "b2097101-d49d-44d9-901b-32a65c9463d1"
   },
   "outputs": [
    {
     "data": {
      "text/plain": [
       "array([1, 0, 3, 2, 4, 5])"
      ]
     },
     "execution_count": 10,
     "metadata": {},
     "output_type": "execute_result"
    }
   ],
   "source": [
    "data['children'].unique()"
   ]
  },
  {
   "cell_type": "markdown",
   "id": "87d0329e",
   "metadata": {
    "deletable": false,
    "editable": false,
    "id": "75440b63"
   },
   "source": [
    "### Удаление пропусков (продолжение)"
   ]
  },
  {
   "cell_type": "markdown",
   "id": "839482f0",
   "metadata": {
    "deletable": false,
    "editable": false,
    "id": "f4ea573f"
   },
   "source": [
    "**Задание 11. Заполните пропуски в столбце `days_employed` медианными значениями по каждого типа занятости `income_type`.**"
   ]
  },
  {
   "cell_type": "code",
   "execution_count": 11,
   "id": "714f3aeb",
   "metadata": {
    "deletable": false,
    "id": "af6b1a7e"
   },
   "outputs": [],
   "source": [
    "for t in data['income_type'].unique():\n",
    "    data.loc[(data['income_type'] == t) & (data['days_employed'].isna()), 'days_employed'] = \\\n",
    "    data.loc[(data['income_type'] == t), 'days_employed'].median()"
   ]
  },
  {
   "cell_type": "markdown",
   "id": "5b28f573",
   "metadata": {
    "deletable": false,
    "editable": false,
    "id": "2753f40d"
   },
   "source": [
    "**Задание 12. Убедитесь, что все пропуски заполнены. Проверьте себя и ещё раз выведите количество пропущенных значений для каждого столбца с помощью двух методов.**"
   ]
  },
  {
   "cell_type": "code",
   "execution_count": 12,
   "id": "ef357456",
   "metadata": {
    "deletable": false,
    "id": "55f78bc2",
    "outputId": "8da1e4e1-358e-4e87-98c9-f261bce0a7b2"
   },
   "outputs": [
    {
     "data": {
      "text/plain": [
       "children            0\n",
       "days_employed       0\n",
       "dob_years           0\n",
       "education           0\n",
       "education_id        0\n",
       "family_status       0\n",
       "family_status_id    0\n",
       "gender              0\n",
       "income_type         0\n",
       "debt                0\n",
       "total_income        0\n",
       "purpose             0\n",
       "dtype: int64"
      ]
     },
     "execution_count": 12,
     "metadata": {},
     "output_type": "execute_result"
    }
   ],
   "source": [
    "data.isna().sum()"
   ]
  },
  {
   "cell_type": "markdown",
   "id": "7bf218b0",
   "metadata": {
    "deletable": false,
    "editable": false,
    "id": "ddc81e43"
   },
   "source": [
    "### Изменение типов данных"
   ]
  },
  {
   "cell_type": "markdown",
   "id": "4f95b850",
   "metadata": {
    "deletable": false,
    "editable": false,
    "id": "42d19d24"
   },
   "source": [
    "**Задание 13. Замените вещественный тип данных в столбце `total_income` на целочисленный с помощью метода `astype()`.**"
   ]
  },
  {
   "cell_type": "code",
   "execution_count": 13,
   "id": "cbeafbcf",
   "metadata": {
    "deletable": false,
    "id": "920b65ad"
   },
   "outputs": [],
   "source": [
    "data['total_income'] = data['total_income'].astype(int)"
   ]
  },
  {
   "cell_type": "markdown",
   "id": "5cfa55ea",
   "metadata": {
    "deletable": false,
    "editable": false,
    "id": "80c420ba"
   },
   "source": [
    "### Обработка дубликатов"
   ]
  },
  {
   "cell_type": "markdown",
   "id": "41148a6b",
   "metadata": {
    "deletable": false,
    "editable": false
   },
   "source": [
    "**Задание 14. Обработайте неявные дубликаты в столбце `education`. В этом столбце есть одни и те же значения, но записанные по-разному: с использованием заглавных и строчных букв. Приведите их к нижнему регистру. Проверьте остальные столбцы.**"
   ]
  },
  {
   "cell_type": "code",
   "execution_count": 14,
   "id": "4c9bcdd7",
   "metadata": {
    "deletable": false
   },
   "outputs": [],
   "source": [
    "data['education'] = data['education'].str.lower()"
   ]
  },
  {
   "cell_type": "markdown",
   "id": "c3fcd553",
   "metadata": {
    "deletable": false,
    "editable": false,
    "id": "dc587695"
   },
   "source": [
    "**Задание 15. Выведите на экран количество строк-дубликатов в данных. Если такие строки присутствуют, удалите их.**"
   ]
  },
  {
   "cell_type": "code",
   "execution_count": 15,
   "id": "25ae37ff",
   "metadata": {
    "deletable": false,
    "id": "3ee445e4",
    "outputId": "9684deba-1934-42d1-99e1-cda61740f822"
   },
   "outputs": [
    {
     "data": {
      "text/plain": [
       "71"
      ]
     },
     "execution_count": 15,
     "metadata": {},
     "output_type": "execute_result"
    }
   ],
   "source": [
    "data.duplicated().sum()"
   ]
  },
  {
   "cell_type": "code",
   "execution_count": 16,
   "id": "17438eca",
   "metadata": {
    "deletable": false,
    "id": "8575fe05"
   },
   "outputs": [],
   "source": [
    "data = data.drop_duplicates()"
   ]
  },
  {
   "cell_type": "markdown",
   "id": "34a59b65",
   "metadata": {
    "deletable": false,
    "editable": false,
    "id": "9904cf55"
   },
   "source": [
    "### Категоризация данных"
   ]
  },
  {
   "cell_type": "markdown",
   "id": "06d25c18",
   "metadata": {
    "deletable": false,
    "editable": false,
    "id": "72fcc8a2"
   },
   "source": [
    "**Задание 16. На основании диапазонов, указанных ниже, создайте в датафрейме `data` столбец `total_income_category` с категориями:**\n",
    "\n",
    "- 0–30000 — `'E'`;\n",
    "- 30001–50000 — `'D'`;\n",
    "- 50001–200000 — `'C'`;\n",
    "- 200001–1000000 — `'B'`;\n",
    "- 1000001 и выше — `'A'`.\n",
    "\n",
    "\n",
    "**Например, кредитополучателю с доходом 25000 нужно назначить категорию `'E'`, а клиенту, получающему 235000, — `'B'`. Используйте собственную функцию с именем `categorize_income()` и метод `apply()`.**"
   ]
  },
  {
   "cell_type": "code",
   "execution_count": 17,
   "id": "f6014ae1",
   "metadata": {
    "deletable": false,
    "id": "e1771346"
   },
   "outputs": [],
   "source": [
    "def categorize_income(income):\n",
    "    try:\n",
    "        if 0 <= income <= 30000:\n",
    "            return 'E'\n",
    "        elif 30001 <= income <= 50000:\n",
    "            return 'D'\n",
    "        elif 50001 <= income <= 200000:\n",
    "            return 'C'\n",
    "        elif 200001 <= income <= 1000000:\n",
    "            return 'B'\n",
    "        elif income >= 1000001:\n",
    "            return 'A'\n",
    "    except:\n",
    "        pass"
   ]
  },
  {
   "cell_type": "code",
   "execution_count": 18,
   "id": "938819c3",
   "metadata": {
    "deletable": false,
    "id": "d5f3586d"
   },
   "outputs": [],
   "source": [
    "data['total_income_category'] = data['total_income'].apply(categorize_income)"
   ]
  },
  {
   "cell_type": "markdown",
   "id": "ce97f3d9",
   "metadata": {
    "deletable": false,
    "editable": false,
    "id": "dde49b5c"
   },
   "source": [
    "**Задание 17. Выведите на экран перечень уникальных целей взятия кредита из столбца `purpose`.**"
   ]
  },
  {
   "cell_type": "code",
   "execution_count": 19,
   "id": "69ee2fae",
   "metadata": {
    "deletable": false,
    "id": "f67ce9b3",
    "outputId": "673c12d9-7d7e-4ae0-9812-c622c89dd244"
   },
   "outputs": [
    {
     "data": {
      "text/plain": [
       "array(['покупка жилья', 'приобретение автомобиля',\n",
       "       'дополнительное образование', 'сыграть свадьбу',\n",
       "       'операции с жильем', 'образование', 'на проведение свадьбы',\n",
       "       'покупка жилья для семьи', 'покупка недвижимости',\n",
       "       'покупка коммерческой недвижимости', 'покупка жилой недвижимости',\n",
       "       'строительство собственной недвижимости', 'недвижимость',\n",
       "       'строительство недвижимости', 'на покупку подержанного автомобиля',\n",
       "       'на покупку своего автомобиля',\n",
       "       'операции с коммерческой недвижимостью',\n",
       "       'строительство жилой недвижимости', 'жилье',\n",
       "       'операции со своей недвижимостью', 'автомобили',\n",
       "       'заняться образованием', 'сделка с подержанным автомобилем',\n",
       "       'получение образования', 'автомобиль', 'свадьба',\n",
       "       'получение дополнительного образования', 'покупка своего жилья',\n",
       "       'операции с недвижимостью', 'получение высшего образования',\n",
       "       'свой автомобиль', 'сделка с автомобилем',\n",
       "       'профильное образование', 'высшее образование',\n",
       "       'покупка жилья для сдачи', 'на покупку автомобиля', 'ремонт жилью',\n",
       "       'заняться высшим образованием'], dtype=object)"
      ]
     },
     "execution_count": 19,
     "metadata": {},
     "output_type": "execute_result"
    }
   ],
   "source": [
    "data['purpose'].unique()"
   ]
  },
  {
   "cell_type": "markdown",
   "id": "2d416dbd",
   "metadata": {
    "deletable": false,
    "editable": false,
    "id": "85d0aef0"
   },
   "source": [
    "**Задание 18. Создайте функцию, которая на основании данных из столбца `purpose` сформирует новый столбец `purpose_category`, в который войдут следующие категории:**\n",
    "\n",
    "- `'операции с автомобилем'`,\n",
    "- `'операции с недвижимостью'`,\n",
    "- `'проведение свадьбы'`,\n",
    "- `'получение образования'`.\n",
    "\n",
    "**Например, если в столбце `purpose` находится подстрока `'на покупку автомобиля'`, то в столбце `purpose_category` должна появиться строка `'операции с автомобилем'`.**\n",
    "\n",
    "**Используйте собственную функцию с именем `categorize_purpose()` и метод `apply()`. Изучите данные в столбце `purpose` и определите, какие подстроки помогут вам правильно определить категорию.**"
   ]
  },
  {
   "cell_type": "code",
   "execution_count": 20,
   "id": "b877178c",
   "metadata": {
    "deletable": false,
    "id": "e149fab4"
   },
   "outputs": [],
   "source": [
    "def categorize_purpose(row):\n",
    "    try:\n",
    "        if 'автом' in row:\n",
    "            return 'операции с автомобилем'\n",
    "        elif 'жил' in row or 'недвиж' in row:\n",
    "            return 'операции с недвижимостью'\n",
    "        elif 'свад' in row:\n",
    "            return 'проведение свадьбы'\n",
    "        elif 'образов' in row:\n",
    "            return 'получение образования'\n",
    "    except:\n",
    "        return 'нет категории'"
   ]
  },
  {
   "cell_type": "code",
   "execution_count": 21,
   "id": "17130a54",
   "metadata": {
    "deletable": false,
    "id": "bf36e69b"
   },
   "outputs": [],
   "source": [
    "data['purpose_category'] = data['purpose'].apply(categorize_purpose)"
   ]
  },
  {
   "cell_type": "markdown",
   "id": "08e0a1af",
   "metadata": {
    "deletable": false,
    "editable": false,
    "id": "09b242bf"
   },
   "source": [
    "### Шаг 3. Исследуйте данные и ответьте на вопросы"
   ]
  },
  {
   "cell_type": "markdown",
   "id": "f58124a1",
   "metadata": {
    "deletable": false,
    "editable": false,
    "id": "c5d66278"
   },
   "source": [
    "#### 3.1 Есть ли зависимость между количеством детей и возвратом кредита в срок?"
   ]
  },
  {
   "cell_type": "markdown",
   "id": "6a8278e2",
   "metadata": {
    "deletable": false,
    "id": "2cacfc4a"
   },
   "source": [
    "# Ваш код будет здесь. Вы можете создавать новые ячейки.\n"
   ]
  },
  {
   "cell_type": "code",
   "execution_count": 22,
   "id": "1c451866",
   "metadata": {},
   "outputs": [
    {
     "data": {
      "text/html": [
       "<div>\n",
       "<style scoped>\n",
       "    .dataframe tbody tr th:only-of-type {\n",
       "        vertical-align: middle;\n",
       "    }\n",
       "\n",
       "    .dataframe tbody tr th {\n",
       "        vertical-align: top;\n",
       "    }\n",
       "\n",
       "    .dataframe thead th {\n",
       "        text-align: right;\n",
       "    }\n",
       "</style>\n",
       "<table border=\"1\" class=\"dataframe\">\n",
       "  <thead>\n",
       "    <tr style=\"text-align: right;\">\n",
       "      <th></th>\n",
       "      <th>children</th>\n",
       "      <th>debt</th>\n",
       "    </tr>\n",
       "  </thead>\n",
       "  <tbody>\n",
       "    <tr>\n",
       "      <th>0</th>\n",
       "      <td>0</td>\n",
       "      <td>7.543822</td>\n",
       "    </tr>\n",
       "    <tr>\n",
       "      <th>1</th>\n",
       "      <td>1</td>\n",
       "      <td>9.234609</td>\n",
       "    </tr>\n",
       "    <tr>\n",
       "      <th>2</th>\n",
       "      <td>2</td>\n",
       "      <td>9.454191</td>\n",
       "    </tr>\n",
       "    <tr>\n",
       "      <th>3</th>\n",
       "      <td>3</td>\n",
       "      <td>8.181818</td>\n",
       "    </tr>\n",
       "    <tr>\n",
       "      <th>4</th>\n",
       "      <td>4</td>\n",
       "      <td>9.756098</td>\n",
       "    </tr>\n",
       "    <tr>\n",
       "      <th>5</th>\n",
       "      <td>5</td>\n",
       "      <td>0.000000</td>\n",
       "    </tr>\n",
       "  </tbody>\n",
       "</table>\n",
       "</div>"
      ],
      "text/plain": [
       "   children      debt\n",
       "0         0  7.543822\n",
       "1         1  9.234609\n",
       "2         2  9.454191\n",
       "3         3  8.181818\n",
       "4         4  9.756098\n",
       "5         5  0.000000"
      ]
     },
     "execution_count": 22,
     "metadata": {},
     "output_type": "execute_result"
    }
   ],
   "source": [
    "debt_percent_by_children = data.groupby('children')['debt'].sum() / data.groupby('children')['debt'].count()* 100\n",
    "debt_percent_by_children = debt_percent_by_children.reset_index()\n",
    "debt_percent_by_children"
   ]
  },
  {
   "cell_type": "markdown",
   "id": "1c179051",
   "metadata": {},
   "source": [
    "<div class=\"alert alert-warning\">\n",
    "    \n",
    "<b> Комментарий от ревьюера ⚠️</b>\n",
    "    \n",
    "Все библиотеки лучше импортировать в начале файла. Об этом говорится в [стилевом гайде по питону](https://www.python.org/dev/peps/pep-0008/#imports)\n",
    "    \n",
    "    Imports are always put at the top of the file, just after any module comments and docstrings, and before module globals and constants.\n",
    "</div>"
   ]
  },
  {
   "cell_type": "markdown",
   "id": "5255d976",
   "metadata": {},
   "source": [
    "<div class=\"alert alert-info\">\n",
    "    \n",
    "перенес импорт наверх\n",
    "</div>"
   ]
  },
  {
   "cell_type": "markdown",
   "id": "5256a056",
   "metadata": {},
   "source": [
    "<div class=\"alert alert-success\">\n",
    "    \n",
    "<b> Комментарий от ревьюера 2 ✔️</b>\n",
    "\n",
    "👍\n",
    "\n",
    "</div>"
   ]
  },
  {
   "cell_type": "code",
   "execution_count": 23,
   "id": "371f24c0",
   "metadata": {
    "scrolled": false
   },
   "outputs": [
    {
     "data": {
      "text/plain": [
       "[Text(0.5, 0, 'количество детей'), Text(0, 0.5, 'процент задержек выплат')]"
      ]
     },
     "execution_count": 23,
     "metadata": {},
     "output_type": "execute_result"
    },
    {
     "data": {
      "image/png": "[encoded data removed]",
      "text/plain": [
       "<Figure size 432x288 with 1 Axes>"
      ]
     },
     "metadata": {
      "needs_background": "light"
     },
     "output_type": "display_data"
    }
   ],
   "source": [
    "sns.barplot(data=debt_percent_by_children, x='children', y='debt').set(xlabel=\"количество детей\", ylabel=\"процент задержек выплат\")"
   ]
  },
  {
   "cell_type": "markdown",
   "id": "4c08f4ef",
   "metadata": {
    "deletable": false,
    "id": "3a6b99ec"
   },
   "source": [
    "**Вывод: Видим, что без детей задерживают платеж чуть меньше в процентном соотношении от общего числа кредитов, взятых конкретной категорией. С 5 детьми выплачивают всегда в срок** "
   ]
  },
  {
   "cell_type": "markdown",
   "id": "de8d255e",
   "metadata": {},
   "source": [
    "<div class=\"alert alert-danger\">\n",
    "    \n",
    "<b> Комментарий от ревьюера ❗</b>\n",
    "    \n",
    "Здорово, что посмотрел на вероятность задолженности в группах, но давай еще посмотрим на размеры групп. Обрати внимание, что для маленьких групп результаты анализа могут быть не репрезентативны.\n",
    "    \n",
    "Это касается всех вопросов про влияние признаков на задолженность\n",
    "</div>\n"
   ]
  },
  {
   "cell_type": "code",
   "execution_count": 24,
   "id": "576fc372",
   "metadata": {},
   "outputs": [
    {
     "data": {
      "text/plain": [
       "children\n",
       "0    14091\n",
       "1     4808\n",
       "2     2052\n",
       "3      330\n",
       "4       41\n",
       "5        9\n",
       "Name: debt, dtype: int64"
      ]
     },
     "execution_count": 24,
     "metadata": {},
     "output_type": "execute_result"
    }
   ],
   "source": [
    "debt_children_count = data.groupby('children')['debt'].count()\n",
    "debt_children_count"
   ]
  },
  {
   "cell_type": "markdown",
   "id": "7cdb99ae",
   "metadata": {},
   "source": [
    "<div class=\"alert alert-info\">\n",
    "Кажется, что действительно людей с 5 детьми мало, но будем рассматривать, например группы, которые составляют хотя бы 5 % от общего числа\n",
    "</div>"
   ]
  },
  {
   "cell_type": "code",
   "execution_count": 25,
   "id": "ffbadf95",
   "metadata": {
    "scrolled": true
   },
   "outputs": [
    {
     "data": {
      "text/plain": [
       "[Text(0.5, 0, 'количество детей'), Text(0, 0.5, 'процент задержек выплат')]"
      ]
     },
     "execution_count": 25,
     "metadata": {},
     "output_type": "execute_result"
    },
    {
     "data": {
      "image/png": "[encoded data removed]",
      "text/plain": [
       "<Figure size 432x288 with 1 Axes>"
      ]
     },
     "metadata": {
      "needs_background": "light"
     },
     "output_type": "display_data"
    }
   ],
   "source": [
    "debt_percent_by_children = debt_percent_by_children[debt_percent_by_children['children'] < 3]\n",
    "debt_percent_by_children\n",
    "sns.barplot(data=debt_percent_by_children, x='children', y='debt').set(xlabel=\"количество детей\", ylabel=\"процент задержек выплат\")"
   ]
  },
  {
   "cell_type": "markdown",
   "id": "a479e47c",
   "metadata": {},
   "source": [
    "<div class=\"alert alert-info\">\n",
    "Видим, что с детьми люди чаще задерживают выплаты по кредитам\n",
    "</div>"
   ]
  },
  {
   "cell_type": "markdown",
   "id": "d1eff444",
   "metadata": {},
   "source": [
    "<div class=\"alert alert-success\">\n",
    "    \n",
    "<b> Комментарий от ревьюера 2 ✔️</b>\n",
    "\n",
    "Ты прав, здорово, что дополнил исследование.\n",
    "</div>"
   ]
  },
  {
   "cell_type": "markdown",
   "id": "10498e8c",
   "metadata": {
    "deletable": false,
    "editable": false,
    "id": "97be82ca"
   },
   "source": [
    "#### 3.2 Есть ли зависимость между семейным положением и возвратом кредита в срок?"
   ]
  },
  {
   "cell_type": "code",
   "execution_count": 26,
   "id": "8f3b9cc8",
   "metadata": {
    "deletable": false,
    "id": "dc3f7ee8",
    "scrolled": true
   },
   "outputs": [
    {
     "data": {
      "text/html": [
       "<div>\n",
       "<style scoped>\n",
       "    .dataframe tbody tr th:only-of-type {\n",
       "        vertical-align: middle;\n",
       "    }\n",
       "\n",
       "    .dataframe tbody tr th {\n",
       "        vertical-align: top;\n",
       "    }\n",
       "\n",
       "    .dataframe thead th {\n",
       "        text-align: right;\n",
       "    }\n",
       "</style>\n",
       "<table border=\"1\" class=\"dataframe\">\n",
       "  <thead>\n",
       "    <tr style=\"text-align: right;\">\n",
       "      <th></th>\n",
       "      <th>family_status</th>\n",
       "      <th>debt</th>\n",
       "    </tr>\n",
       "  </thead>\n",
       "  <tbody>\n",
       "    <tr>\n",
       "      <th>0</th>\n",
       "      <td>Не женат / не замужем</td>\n",
       "      <td>9.763948</td>\n",
       "    </tr>\n",
       "    <tr>\n",
       "      <th>1</th>\n",
       "      <td>в разводе</td>\n",
       "      <td>7.064760</td>\n",
       "    </tr>\n",
       "    <tr>\n",
       "      <th>2</th>\n",
       "      <td>вдовец / вдова</td>\n",
       "      <td>6.624606</td>\n",
       "    </tr>\n",
       "    <tr>\n",
       "      <th>3</th>\n",
       "      <td>гражданский брак</td>\n",
       "      <td>9.313014</td>\n",
       "    </tr>\n",
       "    <tr>\n",
       "      <th>4</th>\n",
       "      <td>женат / замужем</td>\n",
       "      <td>7.560558</td>\n",
       "    </tr>\n",
       "  </tbody>\n",
       "</table>\n",
       "</div>"
      ],
      "text/plain": [
       "           family_status      debt\n",
       "0  Не женат / не замужем  9.763948\n",
       "1              в разводе  7.064760\n",
       "2         вдовец / вдова  6.624606\n",
       "3       гражданский брак  9.313014\n",
       "4        женат / замужем  7.560558"
      ]
     },
     "execution_count": 26,
     "metadata": {},
     "output_type": "execute_result"
    }
   ],
   "source": [
    "debt_percent_by_status = data.groupby('family_status')['debt'].sum() / data.groupby('family_status')['debt'].count()* 100\n",
    "debt_percent_by_status = debt_percent_by_status.reset_index()\n",
    "debt_percent_by_status"
   ]
  },
  {
   "cell_type": "code",
   "execution_count": 27,
   "id": "756efb56",
   "metadata": {},
   "outputs": [
    {
     "data": {
      "text/plain": [
       "[Text(0.5, 0, 'семейный статус'), Text(0, 0.5, 'процент задержек выплат')]"
      ]
     },
     "execution_count": 27,
     "metadata": {},
     "output_type": "execute_result"
    },
    {
     "data": {
      "image/png": "[encoded data removed]",
      "text/plain": [
       "<Figure size 1080x576 with 1 Axes>"
      ]
     },
     "metadata": {
      "needs_background": "light"
     },
     "output_type": "display_data"
    }
   ],
   "source": [
    "plt.figure(figsize=(15,8))\n",
    "\n",
    "sns.barplot(data=debt_percent_by_status, x='family_status', y='debt').set(xlabel=\"семейный статус\", ylabel=\"процент задержек выплат\")"
   ]
  },
  {
   "cell_type": "markdown",
   "id": "1c658959",
   "metadata": {
    "deletable": false,
    "id": "1cef7837"
   },
   "source": [
    "**Вывод: неженатые люди и те, кто состоит в гражданском браке, задерживают выплаты чаще, чем женатые и те, кто в разводе. (Я пытался, но не получилось растянуть график по ширине)** "
   ]
  },
  {
   "cell_type": "markdown",
   "id": "82765085",
   "metadata": {},
   "source": [
    "<div class=\"alert alert-success\">\n",
    "    \n",
    "<b> Комментарий от ревьюера ✔️</b>\n",
    "    \n",
    "> не получилось растянуть график по ширине\n",
    "    \n",
    "Посмотри [тут](https://stackoverflow.com/questions/31594549/how-to-change-the-figure-size-of-a-seaborn-axes-or-figure-level-plot). Мне кажется, самый простой способ - добавить `plt.figure(figsize=(..))`\n",
    "</div>"
   ]
  },
  {
   "cell_type": "markdown",
   "id": "a856d078",
   "metadata": {},
   "source": [
    "<div class=\"alert alert-info\">\n",
    "спасибо!\n",
    "</div>"
   ]
  },
  {
   "cell_type": "markdown",
   "id": "8be83fa1",
   "metadata": {
    "deletable": false,
    "editable": false,
    "id": "1e8b2fca"
   },
   "source": [
    "#### 3.3 Есть ли зависимость между уровнем дохода и возвратом кредита в срок?"
   ]
  },
  {
   "cell_type": "code",
   "execution_count": 28,
   "id": "1757a77e",
   "metadata": {
    "deletable": false,
    "id": "cd7e3720"
   },
   "outputs": [
    {
     "data": {
      "text/html": [
       "<div>\n",
       "<style scoped>\n",
       "    .dataframe tbody tr th:only-of-type {\n",
       "        vertical-align: middle;\n",
       "    }\n",
       "\n",
       "    .dataframe tbody tr th {\n",
       "        vertical-align: top;\n",
       "    }\n",
       "\n",
       "    .dataframe thead th {\n",
       "        text-align: right;\n",
       "    }\n",
       "</style>\n",
       "<table border=\"1\" class=\"dataframe\">\n",
       "  <thead>\n",
       "    <tr style=\"text-align: right;\">\n",
       "      <th></th>\n",
       "      <th>total_income_category</th>\n",
       "      <th>debt</th>\n",
       "    </tr>\n",
       "  </thead>\n",
       "  <tbody>\n",
       "    <tr>\n",
       "      <th>0</th>\n",
       "      <td>A</td>\n",
       "      <td>8.000000</td>\n",
       "    </tr>\n",
       "    <tr>\n",
       "      <th>1</th>\n",
       "      <td>B</td>\n",
       "      <td>7.060231</td>\n",
       "    </tr>\n",
       "    <tr>\n",
       "      <th>2</th>\n",
       "      <td>C</td>\n",
       "      <td>8.498210</td>\n",
       "    </tr>\n",
       "    <tr>\n",
       "      <th>3</th>\n",
       "      <td>D</td>\n",
       "      <td>6.017192</td>\n",
       "    </tr>\n",
       "    <tr>\n",
       "      <th>4</th>\n",
       "      <td>E</td>\n",
       "      <td>9.090909</td>\n",
       "    </tr>\n",
       "  </tbody>\n",
       "</table>\n",
       "</div>"
      ],
      "text/plain": [
       "  total_income_category      debt\n",
       "0                     A  8.000000\n",
       "1                     B  7.060231\n",
       "2                     C  8.498210\n",
       "3                     D  6.017192\n",
       "4                     E  9.090909"
      ]
     },
     "execution_count": 28,
     "metadata": {},
     "output_type": "execute_result"
    }
   ],
   "source": [
    "debt_percent_by_income = data.groupby('total_income_category')['debt'].sum() / data.groupby('total_income_category')['debt'].count()* 100\n",
    "debt_percent_by_income = debt_percent_by_income.reset_index()\n",
    "debt_percent_by_income"
   ]
  },
  {
   "cell_type": "markdown",
   "id": "22277d89",
   "metadata": {},
   "source": [
    "<div class=\"alert alert-warning\">\n",
    "    \n",
    "<b> Комментарий от ревьюера ⚠️</b>\n",
    "    \n",
    "Было бы здорово добавить описание групп в таблицу. Буквенные обозначения удобно использовать при работе с данными, но они не очень информативны. И думаю, не стоит учитывать результаты для групп A, D, E из-за маленького количества клиентов.\n",
    "</div>"
   ]
  },
  {
   "cell_type": "markdown",
   "id": "cbb4891c",
   "metadata": {},
   "source": [
    "<div class=\"alert alert-info\">\n",
    "Посмотрим количество в каждой группе и оставим только те группы, где много представителей\n",
    "</div>"
   ]
  },
  {
   "cell_type": "code",
   "execution_count": 29,
   "id": "9a0e225d",
   "metadata": {},
   "outputs": [
    {
     "data": {
      "text/plain": [
       "total_income_category\n",
       "A       25\n",
       "B     5014\n",
       "C    15921\n",
       "D      349\n",
       "E       22\n",
       "Name: debt, dtype: int64"
      ]
     },
     "execution_count": 29,
     "metadata": {},
     "output_type": "execute_result"
    }
   ],
   "source": [
    "total_income_category_count = data.groupby('total_income_category')['debt'].count()\n",
    "total_income_category_count"
   ]
  },
  {
   "cell_type": "code",
   "execution_count": 30,
   "id": "2b24cd4e",
   "metadata": {},
   "outputs": [
    {
     "name": "stderr",
     "output_type": "stream",
     "text": [
      "/opt/conda/lib/python3.9/site-packages/pandas/core/indexing.py:1720: SettingWithCopyWarning: \n",
      "A value is trying to be set on a copy of a slice from a DataFrame.\n",
      "Try using .loc[row_indexer,col_indexer] = value instead\n",
      "\n",
      "See the caveats in the documentation: https://pandas.pydata.org/pandas-docs/stable/user_guide/indexing.html#returning-a-view-versus-a-copy\n",
      "  self._setitem_single_column(loc, value, pi)\n"
     ]
    }
   ],
   "source": [
    "debt_percent_by_income = debt_percent_by_income[debt_percent_by_income['total_income_category'].isin(['B', 'C'])]\n",
    "debt_percent_by_income.loc[debt_percent_by_income['total_income_category']=='B', 'total_income_category'] = '200 001 – 1 000 000'\n",
    "debt_percent_by_income.loc[debt_percent_by_income['total_income_category']=='C', 'total_income_category'] = '50 001 – 200 000'"
   ]
  },
  {
   "cell_type": "code",
   "execution_count": 31,
   "id": "f639d6b6",
   "metadata": {},
   "outputs": [
    {
     "data": {
      "text/plain": [
       "[Text(0.5, 0, 'диапазон дохода'), Text(0, 0.5, 'процент задержек выплат')]"
      ]
     },
     "execution_count": 31,
     "metadata": {},
     "output_type": "execute_result"
    },
    {
     "data": {
      "image/png": "[encoded data removed]",
      "text/plain": [
       "<Figure size 432x288 with 1 Axes>"
      ]
     },
     "metadata": {
      "needs_background": "light"
     },
     "output_type": "display_data"
    }
   ],
   "source": [
    "sns.barplot(data=debt_percent_by_income, x='total_income_category', y='debt').set(xlabel=\"диапазон дохода\", ylabel=\"процент задержек выплат\")"
   ]
  },
  {
   "cell_type": "markdown",
   "id": "dd974587",
   "metadata": {
    "deletable": false,
    "id": "e8593def"
   },
   "source": [
    "**Вывод: Люди с большим доходом (от 200к) задерживают выплаты реже, чем те, у кого доход меньше** "
   ]
  },
  {
   "cell_type": "markdown",
   "id": "b95735a3",
   "metadata": {},
   "source": [
    "<div class=\"alert alert-success\">\n",
    "    \n",
    "<b> Комментарий от ревьюера 2 ✔️</b>\n",
    "\n",
    "Все верно\n",
    "\n",
    "</div>"
   ]
  },
  {
   "cell_type": "markdown",
   "id": "a5638153",
   "metadata": {
    "deletable": false,
    "editable": false,
    "id": "99ecbd1f"
   },
   "source": [
    "#### 3.4 Как разные цели кредита влияют на его возврат в срок?"
   ]
  },
  {
   "cell_type": "code",
   "execution_count": 32,
   "id": "47a15939",
   "metadata": {
    "deletable": false,
    "id": "2b687290",
    "scrolled": false
   },
   "outputs": [
    {
     "data": {
      "text/html": [
       "<div>\n",
       "<style scoped>\n",
       "    .dataframe tbody tr th:only-of-type {\n",
       "        vertical-align: middle;\n",
       "    }\n",
       "\n",
       "    .dataframe tbody tr th {\n",
       "        vertical-align: top;\n",
       "    }\n",
       "\n",
       "    .dataframe thead th {\n",
       "        text-align: right;\n",
       "    }\n",
       "</style>\n",
       "<table border=\"1\" class=\"dataframe\">\n",
       "  <thead>\n",
       "    <tr style=\"text-align: right;\">\n",
       "      <th></th>\n",
       "      <th>purpose_category</th>\n",
       "      <th>debt</th>\n",
       "    </tr>\n",
       "  </thead>\n",
       "  <tbody>\n",
       "    <tr>\n",
       "      <th>0</th>\n",
       "      <td>операции с автомобилем</td>\n",
       "      <td>9.347978</td>\n",
       "    </tr>\n",
       "    <tr>\n",
       "      <th>1</th>\n",
       "      <td>операции с недвижимостью</td>\n",
       "      <td>7.255139</td>\n",
       "    </tr>\n",
       "    <tr>\n",
       "      <th>2</th>\n",
       "      <td>получение образования</td>\n",
       "      <td>9.252758</td>\n",
       "    </tr>\n",
       "    <tr>\n",
       "      <th>3</th>\n",
       "      <td>проведение свадьбы</td>\n",
       "      <td>7.911803</td>\n",
       "    </tr>\n",
       "  </tbody>\n",
       "</table>\n",
       "</div>"
      ],
      "text/plain": [
       "           purpose_category      debt\n",
       "0    операции с автомобилем  9.347978\n",
       "1  операции с недвижимостью  7.255139\n",
       "2     получение образования  9.252758\n",
       "3        проведение свадьбы  7.911803"
      ]
     },
     "execution_count": 32,
     "metadata": {},
     "output_type": "execute_result"
    }
   ],
   "source": [
    "debt_percent_by_purpose = data.groupby('purpose_category')['debt'].sum() / data.groupby('purpose_category')['debt'].count()* 100\n",
    "debt_percent_by_purpose = debt_percent_by_purpose.reset_index()\n",
    "debt_percent_by_purpose"
   ]
  },
  {
   "cell_type": "code",
   "execution_count": 33,
   "id": "3d6b37fb",
   "metadata": {},
   "outputs": [
    {
     "data": {
      "text/plain": [
       "[Text(0.5, 0, 'цель кредита'), Text(0, 0.5, 'процент задержек выплат')]"
      ]
     },
     "execution_count": 33,
     "metadata": {},
     "output_type": "execute_result"
    },
    {
     "data": {
      "image/png": "[encoded data removed]",
      "text/plain": [
       "<Figure size 1080x576 with 1 Axes>"
      ]
     },
     "metadata": {
      "needs_background": "light"
     },
     "output_type": "display_data"
    }
   ],
   "source": [
    "plt.figure(figsize=(15,8))\n",
    "\n",
    "sns.barplot(data=debt_percent_by_purpose, x='purpose_category', y='debt').set(xlabel=\"цель кредита\", ylabel=\"процент задержек выплат\")"
   ]
  },
  {
   "cell_type": "markdown",
   "id": "1d0f0cbf",
   "metadata": {
    "deletable": false,
    "id": "b4bb2ce6"
   },
   "source": [
    "**Вывод: задерживают кредит чаще те, кто берет его для покупки автомобиля или оплаты образования** "
   ]
  },
  {
   "cell_type": "markdown",
   "id": "d75d0501",
   "metadata": {
    "deletable": false,
    "editable": false,
    "id": "09c3ac4c"
   },
   "source": [
    "#### 3.5 Приведите возможные причины появления пропусков в исходных данных."
   ]
  },
  {
   "cell_type": "markdown",
   "id": "f4328ac2",
   "metadata": {
    "deletable": false,
    "id": "9da2ceda"
   },
   "source": [
    "*Ответ: могут быть не все данные заполнены человеком, могут быть ошибки распозонавания при автоматизированной загружке данных, ошибки системы валидации, опечатки* "
   ]
  },
  {
   "cell_type": "markdown",
   "id": "71beb0cb",
   "metadata": {},
   "source": [
    "<div class=\"alert alert-success\">\n",
    "    \n",
    "<b> Комментарий от ревьюера ✔️</b>\n",
    "    \n",
    "Ты прав, все это может привести к появлению пропусков\n",
    "</div>\n"
   ]
  },
  {
   "cell_type": "markdown",
   "id": "ed31146f",
   "metadata": {
    "deletable": false,
    "editable": false,
    "id": "7b0487d6"
   },
   "source": [
    "#### 3.6 Объясните, почему заполнить пропуски медианным значением — лучшее решение для количественных переменных."
   ]
  },
  {
   "cell_type": "markdown",
   "id": "75fede06",
   "metadata": {
    "deletable": false,
    "id": "7ecf2b8e"
   },
   "source": [
    "*Ответ: В выборке присутствуют выдающиеся значения (очень большие зарплаты), поэтому лучше использовать медиану.* "
   ]
  },
  {
   "cell_type": "markdown",
   "id": "b6f6003d",
   "metadata": {},
   "source": [
    "<div class=\"alert alert-success\">\n",
    "    \n",
    "<b> Комментарий от ревьюера ✔️</b>\n",
    "    \n",
    "Действительно, медиана не зависит от выбросов\n",
    "</div>"
   ]
  },
  {
   "cell_type": "markdown",
   "id": "a3e5e2c9",
   "metadata": {
    "deletable": false,
    "editable": false,
    "id": "6db5255a"
   },
   "source": [
    "### Шаг 4: общий вывод."
   ]
  },
  {
   "cell_type": "markdown",
   "id": "a45f2a9d",
   "metadata": {
    "deletable": false,
    "id": "bad65432"
   },
   "source": [
    "Напишите ваш общий вывод.\n",
    "***Больше всего на возвращаемость кредита в срок влияет семейный статус.***"
   ]
  },
  {
   "cell_type": "markdown",
   "id": "c9705d02",
   "metadata": {},
   "source": [
    "<div class=\"alert alert-warning\">\n",
    "    \n",
    "<b> Комментарий от ревьюера ⚠️</b>\n",
    "    \n",
    "Здорово, что отметил наиболее важный признак!\n",
    "    \n",
    "Еще в общий вывод можно добавить краткое описание работы, отметить интересные особенности и ответить на основной вопрос исследования.\n",
    "</div>"
   ]
  },
  {
   "cell_type": "markdown",
   "id": "b5e5dc14",
   "metadata": {},
   "source": [
    "<div class=\"alert alert-info\">\n",
    "    <b> Основной вопрос: Влияет ли семейное положение и количество детей клиента на факт погашения кредита в срок?</b>\n",
    "    <br>\n",
    "    Да, влияет. С одной стороны те, кто состоял или состоит в браке, задерживают выплаты по кредитам реже. С другой стороны, люди с 1-2 детьми задерживают выплату по кредиту чаще, чем те, у кого детей нет.  \n",
    "</div>"
   ]
  },
  {
   "cell_type": "markdown",
   "id": "94050d41",
   "metadata": {},
   "source": [
    "<div class=\"alert alert-success\">\n",
    "    \n",
    "<b> Комментарий от ревьюера 2 ✔️</b>\n",
    "\n",
    "Замечательно!\n",
    "</div>"
   ]
  },
  {
   "cell_type": "markdown",
   "id": "e0b6343e",
   "metadata": {},
   "source": [
    "**Спасибо за проверку!**"
   ]
  },
  {
   "cell_type": "markdown",
   "id": "f2cbb7b9",
   "metadata": {},
   "source": [
    "<div class=\"alert alert-success\">\n",
    "    \n",
    "<b> Комментарий от ревьюера ✔️</b>\n",
    "    \n",
    "Спасибо за твою работу! Ты хорошо справился с вопросами про пропуски.\n",
    "\n",
    "Осталось немного доработать проект:\n",
    "\n",
    "- дополнить анализ данных и проверить актуальность всех выводов.\n",
    " \n",
    "Задавай вопросы к моим комментариям, если есть. Жду твои исправления:)\n",
    "</div>"
   ]
  },
  {
   "cell_type": "markdown",
   "id": "83295a5a",
   "metadata": {},
   "source": [
    "<div class=\"alert alert-info\">\n",
    "    <b> Ярослав, спасибо тебе за замечания и подсказку как увеличить размер графика, все получилось 😄 </b>\n",
    "</div>"
   ]
  },
  {
   "cell_type": "markdown",
   "id": "3661e474",
   "metadata": {},
   "source": [
    "<div class=\"alert alert-success\">\n",
    "<b> Комментарий от ревьюера 2 ✔️</b>\n",
    "\n",
    "Спасибо, что учел мои комментарии. Надеюсь, эта работа была полезна для тебя. Я принимаю проект и желаю удачи в прохождении курса!\n",
    "\n",
    "</div>"
   ]
  }
 ],
 "metadata": {
  "ExecuteTimeLog": [
   {
    "duration": 550,
    "start_time": "2022-09-14T08:11:59.609Z"
   },
   {
    "duration": 27,
    "start_time": "2022-09-14T08:12:07.845Z"
   },
   {
    "duration": 17,
    "start_time": "2022-09-14T08:12:09.416Z"
   },
   {
    "duration": 10,
    "start_time": "2022-09-14T08:12:11.786Z"
   },
   {
    "duration": 35,
    "start_time": "2022-09-14T08:13:04.469Z"
   },
   {
    "duration": 4,
    "start_time": "2022-09-14T08:13:26.118Z"
   },
   {
    "duration": 8,
    "start_time": "2022-09-14T08:13:31.137Z"
   },
   {
    "duration": 4,
    "start_time": "2022-09-14T08:13:33.603Z"
   },
   {
    "duration": 6,
    "start_time": "2022-09-14T08:13:34.596Z"
   },
   {
    "duration": 4,
    "start_time": "2022-09-14T08:13:35.421Z"
   },
   {
    "duration": 35,
    "start_time": "2022-09-14T08:13:37.069Z"
   },
   {
    "duration": 10,
    "start_time": "2022-09-14T08:13:38.427Z"
   },
   {
    "duration": 4,
    "start_time": "2022-09-14T08:13:40.036Z"
   },
   {
    "duration": 13,
    "start_time": "2022-09-14T08:13:40.581Z"
   },
   {
    "duration": 21,
    "start_time": "2022-09-14T08:13:41.000Z"
   },
   {
    "duration": 18,
    "start_time": "2022-09-14T08:13:41.515Z"
   },
   {
    "duration": 4,
    "start_time": "2022-09-14T08:13:42.727Z"
   },
   {
    "duration": 11,
    "start_time": "2022-09-14T08:13:50.561Z"
   },
   {
    "duration": 7,
    "start_time": "2022-09-14T08:13:54.536Z"
   },
   {
    "duration": 4,
    "start_time": "2022-09-14T08:13:55.619Z"
   },
   {
    "duration": 9,
    "start_time": "2022-09-14T08:14:04.611Z"
   },
   {
    "duration": 25,
    "start_time": "2022-09-14T08:15:06.570Z"
   },
   {
    "duration": 993,
    "start_time": "2022-09-14T08:30:28.014Z"
   },
   {
    "duration": 3,
    "start_time": "2022-09-14T08:32:37.466Z"
   },
   {
    "duration": 25,
    "start_time": "2022-09-14T08:34:15.391Z"
   },
   {
    "duration": 107,
    "start_time": "2022-09-14T08:45:03.160Z"
   },
   {
    "duration": 23,
    "start_time": "2022-09-14T08:45:08.350Z"
   },
   {
    "duration": 84,
    "start_time": "2022-09-14T09:01:40.939Z"
   },
   {
    "duration": 113,
    "start_time": "2022-09-14T09:01:58.499Z"
   },
   {
    "duration": 9,
    "start_time": "2022-09-14T09:02:08.260Z"
   },
   {
    "duration": 7,
    "start_time": "2022-09-14T09:02:24.432Z"
   },
   {
    "duration": 6,
    "start_time": "2022-09-14T09:02:34.864Z"
   },
   {
    "duration": 9,
    "start_time": "2022-09-14T09:02:47.250Z"
   },
   {
    "duration": 6,
    "start_time": "2022-09-14T09:02:53.674Z"
   },
   {
    "duration": 7,
    "start_time": "2022-09-14T09:03:52.980Z"
   },
   {
    "duration": 6,
    "start_time": "2022-09-14T09:03:59.063Z"
   },
   {
    "duration": 27,
    "start_time": "2022-09-14T09:04:19.767Z"
   },
   {
    "duration": 8,
    "start_time": "2022-09-14T09:05:36.703Z"
   },
   {
    "duration": 9,
    "start_time": "2022-09-14T09:05:53.181Z"
   },
   {
    "duration": 12,
    "start_time": "2022-09-14T09:06:07.747Z"
   },
   {
    "duration": 7,
    "start_time": "2022-09-14T09:06:16.608Z"
   },
   {
    "duration": 6,
    "start_time": "2022-09-14T09:06:26.914Z"
   },
   {
    "duration": 5,
    "start_time": "2022-09-14T09:06:41.471Z"
   },
   {
    "duration": 6,
    "start_time": "2022-09-14T09:08:54.488Z"
   },
   {
    "duration": 9,
    "start_time": "2022-09-14T09:08:59.768Z"
   },
   {
    "duration": 12,
    "start_time": "2022-09-14T09:09:11.028Z"
   },
   {
    "duration": 13,
    "start_time": "2022-09-14T09:12:46.169Z"
   },
   {
    "duration": 93,
    "start_time": "2022-09-14T09:12:49.947Z"
   },
   {
    "duration": 146,
    "start_time": "2022-09-14T09:12:58.975Z"
   },
   {
    "duration": 20,
    "start_time": "2022-09-14T09:13:05.299Z"
   },
   {
    "duration": 20,
    "start_time": "2022-09-14T09:13:13.991Z"
   },
   {
    "duration": 10,
    "start_time": "2022-09-14T09:13:19.395Z"
   },
   {
    "duration": 11,
    "start_time": "2022-09-14T09:13:28.862Z"
   },
   {
    "duration": 4,
    "start_time": "2022-09-14T09:13:32.507Z"
   },
   {
    "duration": 5,
    "start_time": "2022-09-14T09:13:37.795Z"
   },
   {
    "duration": 7,
    "start_time": "2022-09-14T09:13:40.835Z"
   },
   {
    "duration": 4,
    "start_time": "2022-09-14T09:13:44.602Z"
   },
   {
    "duration": 5,
    "start_time": "2022-09-14T09:13:51.426Z"
   },
   {
    "duration": 9,
    "start_time": "2022-09-14T09:13:56.693Z"
   },
   {
    "duration": 5,
    "start_time": "2022-09-14T09:14:01.529Z"
   },
   {
    "duration": 4,
    "start_time": "2022-09-14T09:15:03.221Z"
   },
   {
    "duration": 6,
    "start_time": "2022-09-14T09:15:09.441Z"
   },
   {
    "duration": 4,
    "start_time": "2022-09-14T09:15:15.075Z"
   },
   {
    "duration": 5,
    "start_time": "2022-09-14T09:15:22.541Z"
   },
   {
    "duration": 18,
    "start_time": "2022-09-14T09:15:40.089Z"
   },
   {
    "duration": 9,
    "start_time": "2022-09-14T09:16:23.192Z"
   },
   {
    "duration": 3,
    "start_time": "2022-09-14T09:16:26.549Z"
   },
   {
    "duration": 14,
    "start_time": "2022-09-14T09:16:26.748Z"
   },
   {
    "duration": 6,
    "start_time": "2022-09-14T09:16:39.100Z"
   },
   {
    "duration": 2,
    "start_time": "2022-09-14T09:16:43.345Z"
   },
   {
    "duration": 5,
    "start_time": "2022-09-14T09:16:50.073Z"
   },
   {
    "duration": 5,
    "start_time": "2022-09-14T09:16:58.232Z"
   },
   {
    "duration": 4,
    "start_time": "2022-09-14T09:17:01.113Z"
   },
   {
    "duration": 5,
    "start_time": "2022-09-14T09:17:10.526Z"
   },
   {
    "duration": 115,
    "start_time": "2022-09-14T09:19:37.708Z"
   },
   {
    "duration": 4,
    "start_time": "2022-09-14T09:21:09.417Z"
   },
   {
    "duration": 15,
    "start_time": "2022-09-14T09:21:30.131Z"
   },
   {
    "duration": 213,
    "start_time": "2022-09-14T09:22:03.492Z"
   },
   {
    "duration": 139,
    "start_time": "2022-09-14T09:22:59.781Z"
   },
   {
    "duration": 122,
    "start_time": "2022-09-14T09:23:19.150Z"
   },
   {
    "duration": 128,
    "start_time": "2022-09-14T09:25:53.830Z"
   },
   {
    "duration": 139,
    "start_time": "2022-09-14T09:26:06.384Z"
   },
   {
    "duration": 133,
    "start_time": "2022-09-14T09:26:11.493Z"
   },
   {
    "duration": 148,
    "start_time": "2022-09-14T09:26:41.118Z"
   },
   {
    "duration": 11,
    "start_time": "2022-09-14T09:29:49.809Z"
   },
   {
    "duration": 143,
    "start_time": "2022-09-14T09:29:50.214Z"
   },
   {
    "duration": 13,
    "start_time": "2022-09-14T09:30:49.449Z"
   },
   {
    "duration": 11,
    "start_time": "2022-09-14T09:32:04.600Z"
   },
   {
    "duration": 148,
    "start_time": "2022-09-14T09:32:54.016Z"
   },
   {
    "duration": 150,
    "start_time": "2022-09-14T09:33:03.151Z"
   },
   {
    "duration": 370,
    "start_time": "2022-09-14T09:33:13.759Z"
   },
   {
    "duration": 149,
    "start_time": "2022-09-14T09:35:17.580Z"
   },
   {
    "duration": 127,
    "start_time": "2022-09-14T09:35:35.848Z"
   },
   {
    "duration": 137,
    "start_time": "2022-09-14T09:36:45.645Z"
   },
   {
    "duration": 126,
    "start_time": "2022-09-14T09:37:20.500Z"
   },
   {
    "duration": 130,
    "start_time": "2022-09-14T09:39:27.853Z"
   },
   {
    "duration": 141,
    "start_time": "2022-09-14T09:47:11.745Z"
   },
   {
    "duration": 3,
    "start_time": "2022-09-14T09:47:14.984Z"
   },
   {
    "duration": 125,
    "start_time": "2022-09-14T09:47:37.031Z"
   },
   {
    "duration": 5,
    "start_time": "2022-09-14T09:48:08.093Z"
   },
   {
    "duration": 11,
    "start_time": "2022-09-14T09:48:51.379Z"
   },
   {
    "duration": 13,
    "start_time": "2022-09-14T09:48:59.180Z"
   },
   {
    "duration": 14,
    "start_time": "2022-09-14T09:49:24.107Z"
   },
   {
    "duration": 18,
    "start_time": "2022-09-14T09:51:55.466Z"
   },
   {
    "duration": 7,
    "start_time": "2022-09-14T09:52:18.865Z"
   },
   {
    "duration": 11,
    "start_time": "2022-09-14T09:52:33.079Z"
   },
   {
    "duration": 8,
    "start_time": "2022-09-14T09:52:34.149Z"
   },
   {
    "duration": 143,
    "start_time": "2022-09-14T09:53:00.024Z"
   },
   {
    "duration": 8,
    "start_time": "2022-09-14T09:53:16.938Z"
   },
   {
    "duration": 139,
    "start_time": "2022-09-14T09:54:52.217Z"
   },
   {
    "duration": 130,
    "start_time": "2022-09-14T09:55:47.145Z"
   },
   {
    "duration": 152,
    "start_time": "2022-09-14T09:59:43.929Z"
   },
   {
    "duration": 124,
    "start_time": "2022-09-14T09:59:55.296Z"
   },
   {
    "duration": 143,
    "start_time": "2022-09-14T10:00:13.000Z"
   },
   {
    "duration": 9,
    "start_time": "2022-09-14T10:00:45.139Z"
   },
   {
    "duration": 144,
    "start_time": "2022-09-14T10:00:46.754Z"
   },
   {
    "duration": 151,
    "start_time": "2022-09-14T10:00:56.059Z"
   },
   {
    "duration": 10,
    "start_time": "2022-09-14T10:01:02.501Z"
   },
   {
    "duration": 11,
    "start_time": "2022-09-14T10:01:03.947Z"
   },
   {
    "duration": 141,
    "start_time": "2022-09-14T10:01:07.161Z"
   },
   {
    "duration": 134,
    "start_time": "2022-09-14T10:01:25.028Z"
   },
   {
    "duration": 176,
    "start_time": "2022-09-14T10:01:30.277Z"
   },
   {
    "duration": 435,
    "start_time": "2022-09-14T10:01:39.510Z"
   },
   {
    "duration": 302,
    "start_time": "2022-09-14T10:01:48.592Z"
   },
   {
    "duration": 456,
    "start_time": "2022-09-14T10:01:54.676Z"
   },
   {
    "duration": 723,
    "start_time": "2022-09-14T10:01:59.982Z"
   },
   {
    "duration": 901,
    "start_time": "2022-09-14T10:04:54.262Z"
   },
   {
    "duration": 426,
    "start_time": "2022-09-14T10:05:03.340Z"
   },
   {
    "duration": 264,
    "start_time": "2022-09-14T10:05:08.981Z"
   },
   {
    "duration": 449,
    "start_time": "2022-09-14T10:05:16.857Z"
   },
   {
    "duration": 429,
    "start_time": "2022-09-14T10:05:24.230Z"
   },
   {
    "duration": 445,
    "start_time": "2022-09-14T10:06:12.235Z"
   },
   {
    "duration": 462,
    "start_time": "2022-09-14T10:06:16.724Z"
   },
   {
    "duration": 7,
    "start_time": "2022-09-14T10:06:24.244Z"
   },
   {
    "duration": 5,
    "start_time": "2022-09-14T10:06:24.614Z"
   },
   {
    "duration": 10,
    "start_time": "2022-09-14T10:06:24.772Z"
   },
   {
    "duration": 13,
    "start_time": "2022-09-14T10:06:25.479Z"
   },
   {
    "duration": 438,
    "start_time": "2022-09-14T10:06:25.860Z"
   },
   {
    "duration": 12,
    "start_time": "2022-09-14T10:06:27.437Z"
   },
   {
    "duration": 9,
    "start_time": "2022-09-14T10:06:27.619Z"
   },
   {
    "duration": 454,
    "start_time": "2022-09-14T10:06:27.811Z"
   },
   {
    "duration": 11,
    "start_time": "2022-09-14T10:08:45.840Z"
   },
   {
    "duration": 584,
    "start_time": "2022-09-14T10:09:07.885Z"
   },
   {
    "duration": 36,
    "start_time": "2022-09-14T10:09:08.472Z"
   },
   {
    "duration": 31,
    "start_time": "2022-09-14T10:09:08.510Z"
   },
   {
    "duration": 14,
    "start_time": "2022-09-14T10:09:08.543Z"
   },
   {
    "duration": 62,
    "start_time": "2022-09-14T10:09:08.561Z"
   },
   {
    "duration": 5,
    "start_time": "2022-09-14T10:09:08.625Z"
   },
   {
    "duration": 27,
    "start_time": "2022-09-14T10:09:08.636Z"
   },
   {
    "duration": 6,
    "start_time": "2022-09-14T10:09:08.666Z"
   },
   {
    "duration": 17,
    "start_time": "2022-09-14T10:09:08.674Z"
   },
   {
    "duration": 5,
    "start_time": "2022-09-14T10:09:08.693Z"
   },
   {
    "duration": 55,
    "start_time": "2022-09-14T10:09:08.700Z"
   },
   {
    "duration": 15,
    "start_time": "2022-09-14T10:09:08.756Z"
   },
   {
    "duration": 5,
    "start_time": "2022-09-14T10:09:08.773Z"
   },
   {
    "duration": 40,
    "start_time": "2022-09-14T10:09:08.783Z"
   },
   {
    "duration": 37,
    "start_time": "2022-09-14T10:09:08.826Z"
   },
   {
    "duration": 26,
    "start_time": "2022-09-14T10:09:08.865Z"
   },
   {
    "duration": 33,
    "start_time": "2022-09-14T10:09:08.893Z"
   },
   {
    "duration": 28,
    "start_time": "2022-09-14T10:09:08.928Z"
   },
   {
    "duration": 51,
    "start_time": "2022-09-14T10:09:08.960Z"
   },
   {
    "duration": 13,
    "start_time": "2022-09-14T10:09:09.013Z"
   },
   {
    "duration": 39,
    "start_time": "2022-09-14T10:09:09.028Z"
   },
   {
    "duration": 831,
    "start_time": "2022-09-14T10:09:09.070Z"
   },
   {
    "duration": 169,
    "start_time": "2022-09-14T10:09:09.903Z"
   },
   {
    "duration": 15,
    "start_time": "2022-09-14T10:09:10.073Z"
   },
   {
    "duration": 13,
    "start_time": "2022-09-14T10:09:10.090Z"
   },
   {
    "duration": 173,
    "start_time": "2022-09-14T10:09:10.120Z"
   },
   {
    "duration": 8,
    "start_time": "2022-09-14T10:09:10.295Z"
   },
   {
    "duration": 16,
    "start_time": "2022-09-14T10:09:10.305Z"
   },
   {
    "duration": 6,
    "start_time": "2022-09-14T10:09:10.324Z"
   },
   {
    "duration": 19,
    "start_time": "2022-09-14T10:24:00.093Z"
   },
   {
    "duration": 27,
    "start_time": "2022-09-14T10:24:34.656Z"
   },
   {
    "duration": 194,
    "start_time": "2022-09-14T10:25:06.191Z"
   },
   {
    "duration": 16,
    "start_time": "2022-09-14T10:25:22.444Z"
   },
   {
    "duration": 17,
    "start_time": "2022-09-14T10:25:57.713Z"
   },
   {
    "duration": 21,
    "start_time": "2022-09-14T10:26:20.192Z"
   },
   {
    "duration": 19,
    "start_time": "2022-09-14T10:26:24.438Z"
   },
   {
    "duration": 28,
    "start_time": "2022-09-14T10:26:48.742Z"
   },
   {
    "duration": 1090,
    "start_time": "2022-09-14T10:26:56.488Z"
   },
   {
    "duration": 8,
    "start_time": "2022-09-14T10:27:03.514Z"
   },
   {
    "duration": 19,
    "start_time": "2022-09-14T10:27:34.708Z"
   },
   {
    "duration": 19,
    "start_time": "2022-09-14T10:28:07.405Z"
   },
   {
    "duration": 19,
    "start_time": "2022-09-14T10:28:36.969Z"
   },
   {
    "duration": 154,
    "start_time": "2022-09-14T10:28:42.641Z"
   },
   {
    "duration": 7,
    "start_time": "2022-09-14T10:28:55.019Z"
   },
   {
    "duration": 22,
    "start_time": "2022-09-14T10:29:58.490Z"
   },
   {
    "duration": 27,
    "start_time": "2022-09-14T10:30:36.017Z"
   },
   {
    "duration": 20,
    "start_time": "2022-09-14T10:30:56.043Z"
   },
   {
    "duration": 26,
    "start_time": "2022-09-14T10:31:23.220Z"
   },
   {
    "duration": 18,
    "start_time": "2022-09-14T10:31:36.557Z"
   },
   {
    "duration": 128,
    "start_time": "2022-09-14T10:32:19.875Z"
   },
   {
    "duration": 23,
    "start_time": "2022-09-14T10:39:52.933Z"
   },
   {
    "duration": 9,
    "start_time": "2022-09-14T10:43:03.062Z"
   },
   {
    "duration": 15,
    "start_time": "2022-09-14T10:43:08.048Z"
   },
   {
    "duration": 154,
    "start_time": "2022-09-14T10:43:49.112Z"
   },
   {
    "duration": 12,
    "start_time": "2022-09-14T10:43:57.596Z"
   },
   {
    "duration": 11,
    "start_time": "2022-09-14T10:44:09.455Z"
   },
   {
    "duration": 18,
    "start_time": "2022-09-14T10:44:15.969Z"
   },
   {
    "duration": 145,
    "start_time": "2022-09-14T10:44:23.980Z"
   },
   {
    "duration": 15,
    "start_time": "2022-09-14T10:45:27.867Z"
   },
   {
    "duration": 128,
    "start_time": "2022-09-14T10:45:29.232Z"
   },
   {
    "duration": 24,
    "start_time": "2022-09-14T10:46:34.664Z"
   },
   {
    "duration": 182,
    "start_time": "2022-09-14T10:46:39.225Z"
   },
   {
    "duration": 143,
    "start_time": "2022-09-14T10:48:19.392Z"
   },
   {
    "duration": 74,
    "start_time": "2022-09-14T10:48:49.307Z"
   },
   {
    "duration": 17,
    "start_time": "2022-09-14T10:48:49.631Z"
   },
   {
    "duration": 18,
    "start_time": "2022-09-14T10:48:49.939Z"
   },
   {
    "duration": 12,
    "start_time": "2022-09-14T10:48:50.571Z"
   },
   {
    "duration": 118,
    "start_time": "2022-09-14T10:48:50.922Z"
   },
   {
    "duration": 4,
    "start_time": "2022-09-14T10:48:51.415Z"
   },
   {
    "duration": 10,
    "start_time": "2022-09-14T10:48:51.739Z"
   },
   {
    "duration": 6,
    "start_time": "2022-09-14T10:48:52.216Z"
   },
   {
    "duration": 8,
    "start_time": "2022-09-14T10:48:52.889Z"
   },
   {
    "duration": 6,
    "start_time": "2022-09-14T10:48:52.956Z"
   },
   {
    "duration": 35,
    "start_time": "2022-09-14T10:48:53.059Z"
   },
   {
    "duration": 10,
    "start_time": "2022-09-14T10:48:53.129Z"
   },
   {
    "duration": 5,
    "start_time": "2022-09-14T10:48:53.228Z"
   },
   {
    "duration": 11,
    "start_time": "2022-09-14T10:48:53.319Z"
   },
   {
    "duration": 21,
    "start_time": "2022-09-14T10:48:53.386Z"
   },
   {
    "duration": 19,
    "start_time": "2022-09-14T10:48:53.416Z"
   },
   {
    "duration": 4,
    "start_time": "2022-09-14T10:48:53.518Z"
   },
   {
    "duration": 16,
    "start_time": "2022-09-14T10:48:53.553Z"
   },
   {
    "duration": 7,
    "start_time": "2022-09-14T10:48:53.612Z"
   },
   {
    "duration": 5,
    "start_time": "2022-09-14T10:48:53.687Z"
   },
   {
    "duration": 10,
    "start_time": "2022-09-14T10:48:53.717Z"
   },
   {
    "duration": 13,
    "start_time": "2022-09-14T10:48:53.846Z"
   },
   {
    "duration": 148,
    "start_time": "2022-09-14T10:48:53.917Z"
   },
   {
    "duration": 15,
    "start_time": "2022-09-14T10:48:54.068Z"
   },
   {
    "duration": 170,
    "start_time": "2022-09-14T10:48:54.085Z"
   },
   {
    "duration": 15,
    "start_time": "2022-09-14T10:48:54.258Z"
   },
   {
    "duration": 154,
    "start_time": "2022-09-14T10:48:54.275Z"
   },
   {
    "duration": 17,
    "start_time": "2022-09-14T10:48:54.431Z"
   },
   {
    "duration": 162,
    "start_time": "2022-09-14T10:48:54.450Z"
   },
   {
    "duration": 423,
    "start_time": "2022-09-14T11:43:58.344Z"
   },
   {
    "duration": 20,
    "start_time": "2022-09-14T11:43:58.768Z"
   },
   {
    "duration": 14,
    "start_time": "2022-09-14T11:43:58.789Z"
   },
   {
    "duration": 8,
    "start_time": "2022-09-14T11:43:58.804Z"
   },
   {
    "duration": 33,
    "start_time": "2022-09-14T11:43:58.814Z"
   },
   {
    "duration": 2,
    "start_time": "2022-09-14T11:43:58.849Z"
   },
   {
    "duration": 8,
    "start_time": "2022-09-14T11:43:58.853Z"
   },
   {
    "duration": 3,
    "start_time": "2022-09-14T11:43:58.863Z"
   },
   {
    "duration": 18,
    "start_time": "2022-09-14T11:43:58.867Z"
   },
   {
    "duration": 22,
    "start_time": "2022-09-14T11:43:58.888Z"
   },
   {
    "duration": 30,
    "start_time": "2022-09-14T11:43:58.911Z"
   },
   {
    "duration": 9,
    "start_time": "2022-09-14T11:43:58.943Z"
   },
   {
    "duration": 7,
    "start_time": "2022-09-14T11:43:58.953Z"
   },
   {
    "duration": 16,
    "start_time": "2022-09-14T11:43:58.961Z"
   },
   {
    "duration": 45,
    "start_time": "2022-09-14T11:43:58.978Z"
   },
   {
    "duration": 16,
    "start_time": "2022-09-14T11:43:59.025Z"
   },
   {
    "duration": 3,
    "start_time": "2022-09-14T11:43:59.042Z"
   },
   {
    "duration": 11,
    "start_time": "2022-09-14T11:43:59.047Z"
   },
   {
    "duration": 5,
    "start_time": "2022-09-14T11:43:59.060Z"
   },
   {
    "duration": 3,
    "start_time": "2022-09-14T11:43:59.066Z"
   },
   {
    "duration": 41,
    "start_time": "2022-09-14T11:43:59.070Z"
   },
   {
    "duration": 709,
    "start_time": "2022-09-14T11:43:59.113Z"
   },
   {
    "duration": 136,
    "start_time": "2022-09-14T11:43:59.823Z"
   },
   {
    "duration": 16,
    "start_time": "2022-09-14T11:43:59.961Z"
   },
   {
    "duration": 138,
    "start_time": "2022-09-14T11:43:59.978Z"
   },
   {
    "duration": 13,
    "start_time": "2022-09-14T11:44:00.117Z"
   },
   {
    "duration": 130,
    "start_time": "2022-09-14T11:44:00.131Z"
   },
   {
    "duration": 13,
    "start_time": "2022-09-14T11:44:00.265Z"
   },
   {
    "duration": 118,
    "start_time": "2022-09-14T11:44:00.280Z"
   },
   {
    "duration": 664,
    "start_time": "2022-09-14T17:55:00.215Z"
   },
   {
    "duration": 944,
    "start_time": "2022-09-14T17:55:48.824Z"
   },
   {
    "duration": 21,
    "start_time": "2022-09-14T17:55:51.240Z"
   },
   {
    "duration": 13,
    "start_time": "2022-09-14T17:55:51.612Z"
   },
   {
    "duration": 9,
    "start_time": "2022-09-14T17:55:52.245Z"
   },
   {
    "duration": 29,
    "start_time": "2022-09-14T17:55:52.647Z"
   },
   {
    "duration": 4,
    "start_time": "2022-09-14T17:55:53.219Z"
   },
   {
    "duration": 7,
    "start_time": "2022-09-14T17:55:53.548Z"
   },
   {
    "duration": 4,
    "start_time": "2022-09-14T17:55:54.032Z"
   },
   {
    "duration": 6,
    "start_time": "2022-09-14T17:55:54.346Z"
   },
   {
    "duration": 5,
    "start_time": "2022-09-14T17:55:54.659Z"
   },
   {
    "duration": 31,
    "start_time": "2022-09-14T17:55:55.153Z"
   },
   {
    "duration": 9,
    "start_time": "2022-09-14T17:55:55.472Z"
   },
   {
    "duration": 4,
    "start_time": "2022-09-14T17:55:55.968Z"
   },
   {
    "duration": 11,
    "start_time": "2022-09-14T17:55:56.489Z"
   },
   {
    "duration": 19,
    "start_time": "2022-09-14T17:55:56.814Z"
   },
   {
    "duration": 17,
    "start_time": "2022-09-14T17:55:56.999Z"
   },
   {
    "duration": 3,
    "start_time": "2022-09-14T17:55:57.521Z"
   },
   {
    "duration": 10,
    "start_time": "2022-09-14T17:55:57.698Z"
   },
   {
    "duration": 6,
    "start_time": "2022-09-14T17:55:58.359Z"
   },
   {
    "duration": 3,
    "start_time": "2022-09-14T17:55:58.830Z"
   },
   {
    "duration": 8,
    "start_time": "2022-09-14T17:55:59.329Z"
   },
   {
    "duration": 10,
    "start_time": "2022-09-14T17:56:01.419Z"
   },
   {
    "duration": 119,
    "start_time": "2022-09-14T17:56:04.275Z"
   },
   {
    "duration": 74,
    "start_time": "2022-09-14T17:56:39.562Z"
   },
   {
    "duration": 13,
    "start_time": "2022-09-14T17:56:40.391Z"
   },
   {
    "duration": 13,
    "start_time": "2022-09-14T17:56:40.736Z"
   },
   {
    "duration": 9,
    "start_time": "2022-09-14T17:56:41.429Z"
   },
   {
    "duration": 35,
    "start_time": "2022-09-14T17:56:41.782Z"
   },
   {
    "duration": 4,
    "start_time": "2022-09-14T17:56:42.346Z"
   },
   {
    "duration": 7,
    "start_time": "2022-09-14T17:56:42.744Z"
   },
   {
    "duration": 3,
    "start_time": "2022-09-14T17:56:43.532Z"
   },
   {
    "duration": 6,
    "start_time": "2022-09-14T17:56:43.940Z"
   },
   {
    "duration": 4,
    "start_time": "2022-09-14T17:56:44.329Z"
   },
   {
    "duration": 30,
    "start_time": "2022-09-14T17:56:44.881Z"
   },
   {
    "duration": 8,
    "start_time": "2022-09-14T17:56:45.243Z"
   },
   {
    "duration": 4,
    "start_time": "2022-09-14T17:56:45.808Z"
   },
   {
    "duration": 10,
    "start_time": "2022-09-14T17:56:46.375Z"
   },
   {
    "duration": 17,
    "start_time": "2022-09-14T17:56:46.723Z"
   },
   {
    "duration": 19,
    "start_time": "2022-09-14T17:56:46.910Z"
   },
   {
    "duration": 3,
    "start_time": "2022-09-14T17:56:47.533Z"
   },
   {
    "duration": 10,
    "start_time": "2022-09-14T17:56:48.143Z"
   },
   {
    "duration": 5,
    "start_time": "2022-09-14T17:56:48.533Z"
   },
   {
    "duration": 3,
    "start_time": "2022-09-14T17:56:48.901Z"
   },
   {
    "duration": 8,
    "start_time": "2022-09-14T17:56:49.099Z"
   },
   {
    "duration": 11,
    "start_time": "2022-09-14T17:56:49.930Z"
   },
   {
    "duration": 107,
    "start_time": "2022-09-14T17:56:50.953Z"
   },
   {
    "duration": 5,
    "start_time": "2022-09-14T17:58:02.557Z"
   },
   {
    "duration": 6,
    "start_time": "2022-09-14T17:59:08.291Z"
   },
   {
    "duration": 6,
    "start_time": "2022-09-14T18:02:11.727Z"
   },
   {
    "duration": 4,
    "start_time": "2022-09-14T18:03:51.601Z"
   },
   {
    "duration": 5,
    "start_time": "2022-09-14T18:03:58.874Z"
   },
   {
    "duration": 104,
    "start_time": "2022-09-14T18:06:43.907Z"
   },
   {
    "duration": 9,
    "start_time": "2022-09-14T18:06:50.037Z"
   },
   {
    "duration": 8,
    "start_time": "2022-09-14T18:06:53.583Z"
   },
   {
    "duration": 5,
    "start_time": "2022-09-14T18:07:20.568Z"
   },
   {
    "duration": 9,
    "start_time": "2022-09-14T18:07:40.204Z"
   },
   {
    "duration": 7,
    "start_time": "2022-09-14T18:07:52.355Z"
   },
   {
    "duration": 4,
    "start_time": "2022-09-14T18:07:56.324Z"
   },
   {
    "duration": 163,
    "start_time": "2022-09-14T18:09:26.242Z"
   },
   {
    "duration": 9,
    "start_time": "2022-09-14T18:09:32.956Z"
   },
   {
    "duration": 4,
    "start_time": "2022-09-14T18:09:43.273Z"
   },
   {
    "duration": 8,
    "start_time": "2022-09-14T18:09:48.994Z"
   },
   {
    "duration": 89,
    "start_time": "2022-09-14T18:10:01.128Z"
   },
   {
    "duration": 8,
    "start_time": "2022-09-14T18:12:52.655Z"
   },
   {
    "duration": 92,
    "start_time": "2022-09-14T18:13:01.274Z"
   },
   {
    "duration": 13,
    "start_time": "2022-09-14T18:13:03.382Z"
   },
   {
    "duration": 181,
    "start_time": "2022-09-14T18:13:04.605Z"
   },
   {
    "duration": 80,
    "start_time": "2022-09-14T18:13:44.675Z"
   },
   {
    "duration": 146,
    "start_time": "2022-09-14T18:15:09.747Z"
   },
   {
    "duration": 141,
    "start_time": "2022-09-14T18:15:15.852Z"
   },
   {
    "duration": 81,
    "start_time": "2022-09-14T18:15:31.157Z"
   },
   {
    "duration": 13,
    "start_time": "2022-09-14T18:15:32.017Z"
   },
   {
    "duration": 13,
    "start_time": "2022-09-14T18:15:32.372Z"
   },
   {
    "duration": 8,
    "start_time": "2022-09-14T18:15:33.078Z"
   },
   {
    "duration": 33,
    "start_time": "2022-09-14T18:15:33.483Z"
   },
   {
    "duration": 5,
    "start_time": "2022-09-14T18:15:34.043Z"
   },
   {
    "duration": 9,
    "start_time": "2022-09-14T18:15:34.361Z"
   },
   {
    "duration": 4,
    "start_time": "2022-09-14T18:15:34.952Z"
   },
   {
    "duration": 5,
    "start_time": "2022-09-14T18:15:35.225Z"
   },
   {
    "duration": 4,
    "start_time": "2022-09-14T18:15:35.462Z"
   },
   {
    "duration": 31,
    "start_time": "2022-09-14T18:15:36.043Z"
   },
   {
    "duration": 9,
    "start_time": "2022-09-14T18:15:36.107Z"
   },
   {
    "duration": 4,
    "start_time": "2022-09-14T18:15:36.198Z"
   },
   {
    "duration": 9,
    "start_time": "2022-09-14T18:15:36.308Z"
   },
   {
    "duration": 18,
    "start_time": "2022-09-14T18:15:36.369Z"
   },
   {
    "duration": 16,
    "start_time": "2022-09-14T18:15:36.405Z"
   },
   {
    "duration": 3,
    "start_time": "2022-09-14T18:15:36.494Z"
   },
   {
    "duration": 9,
    "start_time": "2022-09-14T18:15:36.526Z"
   },
   {
    "duration": 6,
    "start_time": "2022-09-14T18:15:36.604Z"
   },
   {
    "duration": 3,
    "start_time": "2022-09-14T18:15:36.667Z"
   },
   {
    "duration": 8,
    "start_time": "2022-09-14T18:15:36.696Z"
   },
   {
    "duration": 10,
    "start_time": "2022-09-14T18:15:36.823Z"
   },
   {
    "duration": 110,
    "start_time": "2022-09-14T18:15:36.928Z"
   },
   {
    "duration": 5,
    "start_time": "2022-09-14T18:15:37.040Z"
   },
   {
    "duration": 90,
    "start_time": "2022-09-14T18:15:37.106Z"
   },
   {
    "duration": 14,
    "start_time": "2022-09-14T18:15:41.472Z"
   },
   {
    "duration": 110,
    "start_time": "2022-09-14T18:15:42.067Z"
   },
   {
    "duration": 141,
    "start_time": "2022-09-14T18:15:52.547Z"
   },
   {
    "duration": 146,
    "start_time": "2022-09-14T18:16:16.905Z"
   },
   {
    "duration": 54,
    "start_time": "2022-09-14T18:16:51.199Z"
   },
   {
    "duration": 12,
    "start_time": "2022-09-14T18:17:21.700Z"
   },
   {
    "duration": 52,
    "start_time": "2022-09-14T18:19:06.988Z"
   },
   {
    "duration": 3,
    "start_time": "2022-09-14T18:19:25.162Z"
   },
   {
    "duration": 6,
    "start_time": "2022-09-14T18:20:15.831Z"
   },
   {
    "duration": 9,
    "start_time": "2022-09-14T18:21:02.656Z"
   },
   {
    "duration": 4,
    "start_time": "2022-09-14T18:23:43.368Z"
   },
   {
    "duration": 101,
    "start_time": "2022-09-14T18:23:46.592Z"
   },
   {
    "duration": 5,
    "start_time": "2022-09-14T18:26:46.872Z"
   },
   {
    "duration": 14,
    "start_time": "2022-09-14T18:26:47.509Z"
   },
   {
    "duration": 7,
    "start_time": "2022-09-14T18:27:44.514Z"
   },
   {
    "duration": 14,
    "start_time": "2022-09-14T18:27:45.498Z"
   },
   {
    "duration": 14,
    "start_time": "2022-09-14T18:27:50.462Z"
   },
   {
    "duration": 7,
    "start_time": "2022-09-14T18:27:51.512Z"
   },
   {
    "duration": 5,
    "start_time": "2022-09-14T18:27:51.929Z"
   },
   {
    "duration": 5,
    "start_time": "2022-09-14T18:30:15.052Z"
   },
   {
    "duration": 104,
    "start_time": "2022-09-14T18:30:17.160Z"
   },
   {
    "duration": 13,
    "start_time": "2022-09-14T18:31:18.496Z"
   },
   {
    "duration": 102,
    "start_time": "2022-09-14T18:31:22.818Z"
   },
   {
    "duration": 140,
    "start_time": "2022-09-14T18:31:36.845Z"
   },
   {
    "duration": 51,
    "start_time": "2022-09-14T18:35:01.365Z"
   },
   {
    "duration": 57,
    "start_time": "2022-09-14T18:35:10.529Z"
   },
   {
    "duration": 61,
    "start_time": "2022-09-14T18:41:22.172Z"
   },
   {
    "duration": 76,
    "start_time": "2022-09-14T18:43:19.729Z"
   },
   {
    "duration": 14,
    "start_time": "2022-09-14T18:43:19.807Z"
   },
   {
    "duration": 20,
    "start_time": "2022-09-14T18:43:19.872Z"
   },
   {
    "duration": 13,
    "start_time": "2022-09-14T18:43:19.992Z"
   },
   {
    "duration": 47,
    "start_time": "2022-09-14T18:43:20.070Z"
   },
   {
    "duration": 3,
    "start_time": "2022-09-14T18:43:20.166Z"
   },
   {
    "duration": 8,
    "start_time": "2022-09-14T18:43:20.218Z"
   },
   {
    "duration": 4,
    "start_time": "2022-09-14T18:43:20.328Z"
   },
   {
    "duration": 5,
    "start_time": "2022-09-14T18:43:20.404Z"
   },
   {
    "duration": 4,
    "start_time": "2022-09-14T18:43:20.463Z"
   },
   {
    "duration": 45,
    "start_time": "2022-09-14T18:43:20.555Z"
   },
   {
    "duration": 10,
    "start_time": "2022-09-14T18:43:20.615Z"
   },
   {
    "duration": 4,
    "start_time": "2022-09-14T18:43:20.728Z"
   },
   {
    "duration": 10,
    "start_time": "2022-09-14T18:43:20.816Z"
   },
   {
    "duration": 18,
    "start_time": "2022-09-14T18:43:20.899Z"
   },
   {
    "duration": 17,
    "start_time": "2022-09-14T18:43:20.923Z"
   },
   {
    "duration": 3,
    "start_time": "2022-09-14T18:43:21.014Z"
   },
   {
    "duration": 9,
    "start_time": "2022-09-14T18:43:21.060Z"
   },
   {
    "duration": 6,
    "start_time": "2022-09-14T18:43:21.133Z"
   },
   {
    "duration": 4,
    "start_time": "2022-09-14T18:43:21.190Z"
   },
   {
    "duration": 13,
    "start_time": "2022-09-14T18:43:21.213Z"
   },
   {
    "duration": 11,
    "start_time": "2022-09-14T18:43:21.359Z"
   },
   {
    "duration": 111,
    "start_time": "2022-09-14T18:43:21.444Z"
   },
   {
    "duration": 6,
    "start_time": "2022-09-14T18:43:21.557Z"
   },
   {
    "duration": 92,
    "start_time": "2022-09-14T18:43:21.633Z"
   },
   {
    "duration": 12,
    "start_time": "2022-09-14T18:43:21.727Z"
   },
   {
    "duration": 155,
    "start_time": "2022-09-14T18:43:21.743Z"
   },
   {
    "duration": 12,
    "start_time": "2022-09-14T18:43:21.907Z"
   },
   {
    "duration": 6,
    "start_time": "2022-09-14T18:43:22.002Z"
   },
   {
    "duration": 6,
    "start_time": "2022-09-14T18:43:22.066Z"
   },
   {
    "duration": 98,
    "start_time": "2022-09-14T18:43:22.088Z"
   },
   {
    "duration": 25,
    "start_time": "2022-09-14T18:43:22.188Z"
   },
   {
    "duration": 157,
    "start_time": "2022-09-14T18:43:22.214Z"
   },
   {
    "duration": 1025,
    "start_time": "2022-09-15T06:57:38.633Z"
   },
   {
    "duration": 17,
    "start_time": "2022-09-15T06:57:39.659Z"
   },
   {
    "duration": 12,
    "start_time": "2022-09-15T06:57:39.678Z"
   },
   {
    "duration": 8,
    "start_time": "2022-09-15T06:57:39.692Z"
   },
   {
    "duration": 29,
    "start_time": "2022-09-15T06:57:39.701Z"
   },
   {
    "duration": 3,
    "start_time": "2022-09-15T06:57:39.732Z"
   },
   {
    "duration": 20,
    "start_time": "2022-09-15T06:57:39.736Z"
   },
   {
    "duration": 7,
    "start_time": "2022-09-15T06:57:39.758Z"
   },
   {
    "duration": 10,
    "start_time": "2022-09-15T06:57:39.767Z"
   },
   {
    "duration": 9,
    "start_time": "2022-09-15T06:57:39.780Z"
   },
   {
    "duration": 36,
    "start_time": "2022-09-15T06:57:39.790Z"
   },
   {
    "duration": 8,
    "start_time": "2022-09-15T06:57:39.827Z"
   },
   {
    "duration": 13,
    "start_time": "2022-09-15T06:57:39.836Z"
   },
   {
    "duration": 18,
    "start_time": "2022-09-15T06:57:39.850Z"
   },
   {
    "duration": 21,
    "start_time": "2022-09-15T06:57:39.870Z"
   },
   {
    "duration": 17,
    "start_time": "2022-09-15T06:57:39.893Z"
   },
   {
    "duration": 4,
    "start_time": "2022-09-15T06:57:39.911Z"
   },
   {
    "duration": 19,
    "start_time": "2022-09-15T06:57:39.917Z"
   },
   {
    "duration": 10,
    "start_time": "2022-09-15T06:57:39.937Z"
   },
   {
    "duration": 3,
    "start_time": "2022-09-15T06:57:39.949Z"
   },
   {
    "duration": 8,
    "start_time": "2022-09-15T06:57:39.954Z"
   },
   {
    "duration": 10,
    "start_time": "2022-09-15T06:57:39.963Z"
   },
   {
    "duration": 134,
    "start_time": "2022-09-15T06:57:39.975Z"
   },
   {
    "duration": 5,
    "start_time": "2022-09-15T06:57:40.110Z"
   },
   {
    "duration": 107,
    "start_time": "2022-09-15T06:57:40.117Z"
   },
   {
    "duration": 13,
    "start_time": "2022-09-15T06:57:40.225Z"
   },
   {
    "duration": 157,
    "start_time": "2022-09-15T06:57:40.239Z"
   },
   {
    "duration": 11,
    "start_time": "2022-09-15T06:57:40.399Z"
   },
   {
    "duration": 17,
    "start_time": "2022-09-15T06:57:40.412Z"
   },
   {
    "duration": 6,
    "start_time": "2022-09-15T06:57:40.431Z"
   },
   {
    "duration": 113,
    "start_time": "2022-09-15T06:57:40.439Z"
   },
   {
    "duration": 13,
    "start_time": "2022-09-15T06:57:40.554Z"
   },
   {
    "duration": 148,
    "start_time": "2022-09-15T06:57:40.569Z"
   }
  ],
  "colab": {
   "name": "dpp_template_part2.ipynb",
   "provenance": []
  },
  "kernelspec": {
   "display_name": "Python 3 (ipykernel)",
   "language": "python",
   "name": "python3"
  },
  "language_info": {
   "codemirror_mode": {
    "name": "ipython",
    "version": 3
   },
   "file_extension": ".py",
   "mimetype": "text/x-python",
   "name": "python",
   "nbconvert_exporter": "python",
   "pygments_lexer": "ipython3",
   "version": "3.9.5"
  },
  "toc": {
   "base_numbering": 1,
   "nav_menu": {},
   "number_sections": true,
   "sideBar": true,
   "skip_h1_title": true,
   "title_cell": "Table of Contents",
   "title_sidebar": "Contents",
   "toc_cell": false,
   "toc_position": {},
   "toc_section_display": true,
   "toc_window_display": false
  }
 },
 "nbformat": 4,
 "nbformat_minor": 5
}
